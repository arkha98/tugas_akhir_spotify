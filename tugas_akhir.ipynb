{
 "cells": [
  {
   "cell_type": "code",
   "execution_count": 173,
   "id": "10249130",
   "metadata": {},
   "outputs": [],
   "source": [
    "import pandas as pd\n",
    "import numpy as np\n",
    "import matplotlib.pyplot as plt\n",
    "import matplotlib.image as img\n",
    "from sklearn.preprocessing import StandardScaler, MinMaxScaler\n",
    "from sklearn.cluster import KMeans\n",
    "from sklearn.metrics import silhouette_score\n",
    "from sklearn.decomposition import PCA\n",
    "from sklearn import svm\n",
    "from collections import Counter"
   ]
  },
  {
   "cell_type": "code",
   "execution_count": null,
   "id": "6cdc55e7",
   "metadata": {},
   "outputs": [],
   "source": [
    "# fungsi membantu\n",
    "def isNaN(value) :\n",
    "    try:\n",
    "        import math\n",
    "        return math.isnan(float(value))\n",
    "    except:\n",
    "        return False"
   ]
  },
  {
   "cell_type": "markdown",
   "id": "ddc357a1",
   "metadata": {},
   "source": [
    "<h2>Penjelasan Atribut</h2>\n",
    "\n",
    "<table>\n",
    "  <tr>\n",
    "    <th>Num</th>\n",
    "    <th>Attribute Name</th>\n",
    "    <th>Description</th>\n",
    "  </tr>\n",
    "  <tr>\n",
    "    <td>1</td>\n",
    "    <td>title</td>\n",
    "    <td>Title</td>\n",
    "  </tr>\n",
    "  <tr>\n",
    "    <td>2</td>\n",
    "    <td>artist</td>\n",
    "    <td>Artist</td>\n",
    "  </tr>\n",
    "  <tr>\n",
    "    <td>3</td>\n",
    "    <td>genre</td>\n",
    "    <td>Genre of the song</td>\n",
    "  </tr>\n",
    "  <tr>\n",
    "    <td>4</td>\n",
    "    <td>year</td>\n",
    "    <td>Year of the song (due to re-releases, the year might not correspond to the release year of the original song)</td>\n",
    "  </tr>\n",
    "  <tr>\n",
    "    <td>5</td>\n",
    "    <td>bpm</td>\n",
    "    <td>Beats per minute</td>\n",
    "  </tr>\n",
    "  <tr>\n",
    "    <td>6</td>\n",
    "    <td>nrgy</td>\n",
    "    <td>Energy of a song, the higher the value the more energetic the song is</td>\n",
    "  </tr>\n",
    "  <tr>\n",
    "    <td>7</td>\n",
    "    <td>dnce</td>\n",
    "    <td>The higher the value, the easier it is to dance to this song.</td>\n",
    "  </tr>\n",
    "  <tr>\n",
    "    <td>8</td>\n",
    "    <td>dB</td>\n",
    "    <td>The higher the value, the louder the song</td>\n",
    "  </tr>\n",
    "  <tr>\n",
    "    <td>9</td>\n",
    "    <td>live</td>\n",
    "    <td>The higher the value, the more likely the song is a live recording.</td>\n",
    "  </tr>\n",
    "  <tr>\n",
    "    <td>10</td>\n",
    "    <td>val</td>\n",
    "    <td>The higher the value, the more positive the mood for the song.</td></tr>\n",
    "  <tr>\n",
    "    <td>11</td>\n",
    "    <td>dur</td>\n",
    "    <td>The duration of the song</td>\n",
    "  </tr>\n",
    "  <tr>\n",
    "    <td>12</td>\n",
    "    <td>acous</td>\n",
    "    <td>The higher the value the more acoustic the song is.</td>\n",
    "  </tr>\n",
    "  <tr>\n",
    "    <td>13</td>\n",
    "    <td>spch</td>\n",
    "    <td>The higher the value the more spoken words the song contains.</td>\n",
    "  </tr>\n",
    "  <tr>\n",
    "    <td>14</td>\n",
    "    <td>popularity</td>\n",
    "    <td>The higher the value the more popular the song is.</td>\n",
    "  </tr>\n",
    "  <tr>\n",
    "    <td>15</td>\n",
    "    <td>has_win_award</td>\n",
    "    <td>Boolean value to indicate if the song has won an award or not. Value of 1 if the song has already won one or more awards otherwise 0 if the song hasn’t won any awards.</td>\n",
    "  </tr>\n",
    "</table>"
   ]
  },
  {
   "cell_type": "markdown",
   "id": "85ebfd68",
   "metadata": {},
   "source": [
    "load semua csv"
   ]
  },
  {
   "cell_type": "code",
   "execution_count": null,
   "id": "07afebf8",
   "metadata": {},
   "outputs": [],
   "source": [
    "df_1950 = pd.read_csv(\"1950.csv\")\n",
    "df_1960 = pd.read_csv(\"1960.csv\")\n",
    "df_1970 = pd.read_csv(\"1970.csv\")\n",
    "df_1980 = pd.read_csv(\"1980.csv\")\n",
    "df_1990 = pd.read_csv(\"1990.csv\")\n",
    "df_2000 = pd.read_csv(\"2000.csv\")\n",
    "df_2010 = pd.read_csv(\"2010.csv\")\n",
    "df_top10 = pd.read_csv(\"top10s.csv\")"
   ]
  },
  {
   "cell_type": "code",
   "execution_count": 183,
   "id": "dd6c8d38",
   "metadata": {},
   "outputs": [
    {
     "data": {
      "text/plain": [
       "'title,artist,genre,year,bpm,nrgy,dnce,dB,live,val,dur,acous,spch,popularity,has_win_award\\nPut Your Head On My Shoulder,Paul Anka,adult standards,2000,116,34,55,-9,10,47,155,75,3,72,False\\nWhatever Will Be Will Be (Que Sera Sera) (with Frank DeVol & His Orchestra) - Single Version,Doris Day,adult standards,1948,177,34,42,-11,72,78,123,86,4,62,False\\nEverybody Loves Somebody,Dean Martin,adult standards,2013,81,49,26,-9,34,40,162,81,4,61,False\\nTake Good Care Of My Baby - 1990 Remastered,Bobby Vee,adult standards,2011,82,43,49,-12,12,66,151,70,6,60,False\\nA Teenager In Love,Dion & The Belmonts,adult standards,1959,79,38,56,-9,13,62,158,67,3,60,False\\nShe\\'s Got You - Single Version,Patsy Cline,adult standards,1962,182,14,39,-18,11,57,182,94,4,57,False\\nPuppy Love - Remix,Paul Anka,adult standards,2000,102,41,29,-10,27,54,164,66,3,56,False\\nTravelin\\' Man - Remastered,Ricky Nelson,adult standards,1991,123,36,74,-12,12,86,143,67,3,55,False\\nMr. Blue,The Fleetwoods,adult standards,1993,97,9,37,-17,11,21,145,93,4,55,False\\nItsy Bitsy Teenie Weenie Yellow Polka Dot Bikini,Brian Hyland,adult standards,1961,123,43,81,-12,2,96,144,55,9,54,False\\nLonesome Town - 1990 Digital Remaster,Ricky Nelson,adult standards,1990,78,10,51,-18,10,30,136,86,3,54,False\\n16 Candles,Johnny Maestro,brill building pop,1993,114,31,60,-11,9,60,175,73,3,53,False\\nIf I Give My Heart to You (with The Mellomen) - 78rpm Version,Doris Day,adult standards,1945,77,6,50,-16,10,33,169,97,5,52,False\\nSh-Boom - Single Version,The Chords,doo-wop,2007,137,47,67,-9,27,91,144,85,5,52,False\\nSh-Boom (Life Could Be A Dream),The Crew Cuts,doo-wop,2006,130,27,67,-11,23,56,168,85,9,51,False\\nIt\\'s All In The Game,Tommy Edwards,deep adult standards,1994,105,28,38,-14,31,65,159,4,3,49,False\\nYou Mean Everything to Me,Neil Sedaka,adult standards,1959,72,43,37,-8,13,68,158,52,3,48,False\\nApril Love,Pat Boone,adult standards,1962,91,17,39,-15,8,50,161,83,3,48,False\\nSurf City - Remastered 1990/Stereo Remix,Jan & Dean,brill building pop,1990,148,65,47,-14,34,94,163,60,3,48,False\\nI\\'ve Grown Accustomed To Her Face - Remastered/1998,Dean Martin,adult standards,1960,79,12,57,-16,11,34,163,79,6,47,False\\nRubber Ball,Bobby Vee,adult standards,1961,143,43,42,-10,18,77,144,69,4,47,False\\nChicago - Remastered,Frank Sinatra,adult standards,1958,148,46,51,-10,40,79,134,61,7,47,False\\nBut Not For Me,Ella Fitzgerald,adult standards,1959,80,22,18,-17,10,16,214,92,4,45,False\\nIn The Still Of The Night,The Five Satins,brill building pop,2010,110,32,44,-10,11,20,184,88,4,44,False\\nOnly Because,The Platters,adult standards,1957,73,28,55,-10,9,47,174,85,3,44,False\\nChe La Luna,Louis Prima,adult standards,1973,127,64,68,-12,21,99,152,30,6,44,False\\nMy Happiness,Connie Francis,adult standards,1996,107,31,45,-8,13,28,150,75,3,44,False\\nBrown Eyed Handsome Man,Buddy Holly,adult standards,1963,95,97,59,-7,9,86,125,4,9,43,False\\nPoetry In Motion,Johnny Tillotson,adult standards,2011,135,71,49,-7,10,90,154,40,3,41,False\\nTo The Aisle,The Five Satins,brill building pop,2008,195,27,32,-10,10,55,166,91,4,41,False\\nTulips From Amsterdam,Max Bygraves,british comedy,2000,93,45,56,-7,15,70,135,49,3,41,False\\nIf I Give My Heart To You,The Teddy Bears,,2011,113,29,49,-10,12,29,118,86,3,40,False\\nThe Lady Is A Tramp,Mel Torme & the Mel-Tones,,2016,138,60,41,-8,41,54,170,81,6,40,False\\nLet\\'s Fall in Love,James Darren,adult standards,2014,128,29,51,-11,8,58,128,78,4,39,False\\nRunaround,The Fleetwoods,adult standards,2011,79,14,37,-15,12,36,154,95,4,39,False\\nA Thousand Miles Away,The Temprees,classic soul,1984,75,26,48,-15,28,30,199,39,3,39,False\\nWalkin’ My Baby Back Home,Dean Martin,adult standards,2007,127,17,72,-13,7,78,175,98,7,39,False\\nOutside My Window,The Fleetwoods,adult standards,1993,106,16,59,-18,11,47,129,88,3,39,False\\nI Love My Girl,The Hilltoppers,deep adult standards,2011,123,45,74,-10,10,96,106,88,4,38,False\\nEddie My Love,The Chordettes,adult standards,2012,108,14,57,-12,13,39,135,82,3,38,False\\nLet There Be You,The Five Keys,doo-wop,1989,92,11,36,-15,20,23,154,97,3,38,False\\nRaindrops,Roy Orbison,adult standards,1961,103,44,59,-10,5,90,113,52,3,38,False\\nUnchained Melody,The Teddy Bears,,2011,114,44,53,-8,13,47,139,49,3,37,False\\nIt All Depends on You,Craig Douglas,brill building pop,1993,147,32,53,-10,17,73,127,87,7,37,False\\nA Tear Fell,Teresa Brewer,adult standards,1995,86,16,42,-16,18,46,156,92,5,37,False\\nAin\\'t Got No Home,\"Clarence \"\"Frogman\"\" Henry\",louisiana blues,2013,84,33,66,-16,9,53,143,69,9,36,False\\nCarolina in the Morning,Craig Douglas,brill building pop,2011,81,20,35,-13,9,43,213,87,3,36,False\\nGigi,Billy Eckstine,adult standards,1958,81,12,21,-17,12,19,155,93,3,35,False\\nWhat Do You Want,Adam Faith,brill building pop,1989,147,37,55,-9,24,85,98,84,4,35,False\\nYou Belong to My Heart,Timi Yuro,adult standards,2013,108,39,46,-10,16,50,126,82,3,35,False\\nSomeone Elses Roses,Joan Regan,,2019,100,14,29,-10,15,32,143,89,3,34,False\\nMore,Jimmy Young,deep adult standards,2007,126,31,36,-11,25,29,146,77,3,34,False\\nDo You Wanna Dance,Bobby Freeman,doo-wop,2013,167,50,55,-15,15,96,149,89,6,33,False\\nMy September Love,David Whitfield,deep adult standards,2000,137,21,24,-17,20,14,166,65,3,33,False\\nSeven Days,Anne Shelton,british dance band,2016,90,27,53,-8,27,72,149,89,3,33,False\\nMarianne,The Hilltoppers,deep adult standards,2019,106,55,71,-8,19,82,137,73,4,33,False\\nSea Of Love,Marty Wilde,brill building pop,2010,84,39,45,-9,13,39,144,91,3,32,False\\nNo Other Love,Bob Sharples & His Music,,2014,97,31,37,-10,27,10,171,69,3,31,False\\nHot Diggity,Stargazers,,2001,109,64,88,-9,60,96,134,61,11,31,False\\nKisses Sweeter Than Wine,Frankie Vaughan,merseybeat,2010,87,46,57,-9,18,86,138,61,5,31,False\\nAre You Really Mine,Jimmy Rodgers,yodeling,2014,102,19,69,-17,13,56,148,77,3,31,False\\nButterfingers,Tommy Steele,classic uk pop,2000,75,14,52,-14,14,26,135,70,3,30,False\\nCome Softly To Me,Frankie Vaughan,merseybeat,2010,131,34,57,-14,35,89,142,82,3,30,False\\nNinety-Nine Ways,Tab Hunter,deep adult standards,2000,125,33,59,-10,9,68,108,87,3,30,False\\nOnly Sixteen - 2004 Remaster,Craig Douglas,brill building pop,2008,114,55,65,-10,36,59,136,63,4,29,False\\nLittle Things Means A Lot,Jayne Mansfield,,2008,109,29,70,-15,16,63,172,36,4,29,False\\nDrinks On The House,Green Martini Keys,,2016,97,16,57,-16,11,15,181,100,5,28,False\\nPachuko Hop,Ike Carpenter Orchestra,,2006,83,53,48,-9,34,80,135,59,3,28,False\\nCollette,Billy Fury,adult standards,1982,155,44,55,-10,10,73,112,82,4,27,False\\nHappy Days And Lonely Nights,Suzi Miller And Johnson Brothers,,2012,142,38,65,-8,13,69,146,43,3,27,False\\nStairway Of Love,Terry Dene,,2015,93,62,62,-7,25,86,120,55,4,27,False\\nI\\'ve Waited So Long,Anthony Newley,,2012,137,36,27,-15,25,28,165,64,4,26,False\\nHeld for Questioning,Rusty Draper,deep adult standards,1953,109,65,70,-2,14,85,146,79,3,26,False\\nHere Comes The Sun - Remastered 2009,The Beatles,british invasion,1969,129,54,56,-10,18,39,186,3,3,82,True\\nCome Together - Remastered 2009,The Beatles,british invasion,1969,165,38,53,-12,9,19,260,3,4,79,False\\nSweet Caroline,Neil Diamond,adult standards,1969,63,13,53,-16,24,58,204,61,3,78,False\\nYesterday - Remastered 2009,The Beatles,british invasion,1965,97,18,33,-12,9,32,126,88,3,78,False\\nCan\\'t Help Falling in Love,Elvis Presley,adult standards,1961,100,29,40,-14,11,34,182,94,3,78,False\\nFly Me To The Moon (In Other Words),Frank Sinatra,adult standards,1962,119,26,67,-14,6,37,147,45,5,76,False\\nI Want To Hold Your Hand - Remastered 2015,The Beatles,british invasion,2000,131,72,49,-6,31,87,146,39,5,74,False\\nWhite Room,Cream,album rock,1968,110,58,55,-13,4,46,298,19,3,73,False\\nBuild Me Up Buttercup,The Foundations,brill building pop,1968,134,51,66,-7,28,85,178,31,3,72,False\\nMy Way,Frank Sinatra,adult standards,1969,75,38,40,-7,12,23,277,70,3,72,False\\nSurfin\\' U.S.A. - Remastered,The Beach Boys,baroque pop,1963,159,85,55,-6,11,97,149,66,4,71,False\\nPinball Wizard,The Who,album rock,1969,124,72,54,-9,26,47,181,2,4,69,False\\nL-O-V-E,Nat King Cole,adult standards,1992,78,37,43,-8,8,66,155,68,8,68,False\\nPlease Mr. Postman,The Marvelettes,brill building pop,1961,122,78,79,-5,18,97,148,73,3,68,False\\nHey Jude - Remastered 2009,The Beatles,british invasion,1973,145,55,40,-10,9,67,431,3,3,67,False\\nBack In The U.S.S.R. - Remastered 2009,The Beatles,british invasion,1968,142,97,48,-7,6,49,163,7,9,66,False\\nSuite: Judy Blue Eyes - Remastered,Crosby Stills & Nash,album rock,1969,154,36,45,-13,20,30,444,47,4,66,False\\nWaterloo Sunset - Mono Mix,The Kinks,album rock,1967,108,69,51,-7,17,42,194,16,2,65,False\\nBaby I Need Your Loving,Four Tops,adult standards,1965,121,69,63,-6,19,65,166,44,4,63,False\\nHeart Full of Soul,The Yardbirds,album rock,2002,141,67,49,-10,5,70,148,23,4,62,False\\nGloria - Stereo Version,Them,blues rock,2015,129,70,64,-10,10,72,157,40,5,62,False\\nIt Takes Two,Marvin Gaye,classic soul,1966,151,48,52,-11,8,81,178,21,5,62,False\\nThis Will Be Our Year,The Zombies,art rock,1968,98,42,54,-7,19,54,128,63,3,61,False\\nHey! Baby - Remastered,Bruce Channel,rock-and-roll,2017,64,62,52,-6,27,64,144,36,4,60,False\\nComment te dire adieu - It Hurts to Say Goodbye,Françoise Hardy,chanson,2005,124,45,73,-12,11,84,146,20,6,59,False\\nRhythm of the Rain,The Cascades,adult standards,1963,117,66,66,-8,14,67,146,63,4,59,False\\nWhat Becomes Of The Brokenhearted,Jimmy Ruffin,brill building pop,1989,99,42,72,-13,57,60,176,62,3,59,False\\nFriday On My Mind,The Easybeats,australian rock,1965,95,99,37,-1,9,51,163,38,8,59,False\\nToday,Jefferson Airplane,art rock,1967,90,31,51,-14,13,29,178,70,3,59,False\\nAlways See Your Face,Love,art rock,1969,110,58,57,-13,6,92,209,38,3,58,False\\nAstral Weeks - 1999 Remaster,Van Morrison,classic rock,1968,81,35,45,-15,14,61,426,54,3,58,False\\nBoth Sides Now,Joni Mitchell,canadian folk,1969,97,16,62,-15,14,33,275,91,3,58,False\\nTous les garçons et les filles - Slow,Françoise Hardy,chanson,1962,108,37,74,-10,14,89,188,81,3,57,False\\n\"Ferry Cross the Mersey - Stereo, 1997 Remaster\",Gerry & The Pacemakers,adult standards,1997,105,29,40,-11,12,61,144,55,3,56,False\\nNeedles and Pins - Mono,The Searchers,adult standards,1964,124,95,56,-7,6,89,131,5,4,56,False\\nLittle Bit Of Rain,Karen Dalton,alternative country,1969,174,6,43,-22,10,36,157,93,4,56,False\\nYoung Girl,Gary Puckett & The Union Gap,adult standards,1968,119,54,41,-8,51,45,194,65,3,56,False\\nLeaving Trunk,Taj Mahal,acoustic blues,1968,174,50,54,-11,17,95,290,20,5,55,False\\nDream A Little Dream Of Me,Ella Fitzgerald,adult standards,1963,72,7,28,-24,11,22,246,93,8,54,False\\nThe Old Man\\'s Back Again (Dedicated To The Neo-Stalinist Regime),Scott Walker,art pop,1969,91,45,42,-16,16,78,221,58,4,54,False\\nPictures of Matchstick Men - Mono Version,Status Quo,album rock,1968,173,60,24,-4,5,42,191,7,3,54,False\\nNo Sugar Tonight / New Mother Nature,The Guess Who,album rock,2000,101,83,51,-9,31,52,294,56,4,54,False\\nI\\'m Gonna Make You Love Me,Diana Ross & The Supremes,classic girl group,1968,98,39,64,-12,26,43,187,39,4,54,False\\nSilence Is Golden,The Tremeloes,adult standards,1997,112,56,44,-7,24,58,191,6,3,53,False\\nCan\\'t Take My Eyes Off You,Frankie Valli,adult standards,2017,124,78,58,-7,8,56,204,51,6,53,False\\nYou Ain\\'t Goin\\' Nowhere,The Byrds,art rock,1968,132,43,51,-14,76,70,153,11,4,53,False\\nEverybody Knows This Is Nowhere - 2009 Remaster,Neil Young,album rock,1969,158,64,52,-9,42,85,149,2,3,52,False\\nEverybody Needs Somebody To Love - Long Version,The Rolling Stones,album rock,1965,178,73,53,-8,11,80,303,26,7,52,False\\nThe Sun Ain\\'t Gonna Shine Anymore,The Walker Brothers,brill building pop,1998,111,68,38,-7,24,43,195,22,4,52,False\\nWhat the World Needs Now Is Love,Dionne Warwick,adult standards,2016,112,36,57,-10,14,40,190,92,4,51,False\\nEverlasting Love,Love Affair,bubblegum pop,2012,121,60,50,-10,49,81,182,26,4,51,False\\nItchycoo Park (Mono Version) - 2012 Remaster,Small Faces,art rock,1967,127,56,61,-10,12,56,167,58,7,51,False\\nHere Comes the Night,Them,blues rock,2015,99,58,64,-9,16,96,167,44,3,50,False\\nSurf City,Jan & Dean,brill building pop,2010,148,81,53,-13,23,96,147,50,3,50,False\\nCrying,Roy Orbison,adult standards,2017,97,47,23,-6,32,21,179,57,3,49,False\\nYou\\'ll Never Walk Alone,Gerry & The Pacemakers,adult standards,2017,114,43,45,-6,22,29,160,42,3,49,False\\nEverybody Loves Somebody,Dean Martin,adult standards,2014,119,41,50,-12,35,46,164,86,4,49,False\\nSpanish Eyes,Al Martino,adult standards,1977,109,49,51,-9,9,49,167,36,3,49,False\\nI Walk on Guilded Splinters,Dr. John,blues,1968,90,29,65,-19,9,71,466,56,8,48,False\\nGoin\\' Back,The Byrds,art rock,1968,116,45,50,-10,12,55,206,36,3,47,False\\nIsfahan,Duke Ellington,adult standards,1967,173,7,25,-14,10,9,246,98,3,47,False\\nHot Burrito #1,The Flying Burrito Brothers,alternative country,1969,157,43,40,-13,17,35,217,1,3,46,False\\nOver Under Sideways Down - The Mono Album,The Yardbirds,album rock,1966,97,86,53,-11,31,39,143,29,8,46,False\\nHoney,Bobby Goldsboro,adult standards,2008,93,35,50,-10,24,53,241,30,3,46,False\\nEverybody\\'s Talkin\\',Fred Neil,american folk revival,1998,120,30,67,-13,15,57,165,52,3,46,False\\nShe\\'d Rather Be With Me,The Turtles,brill building pop,1967,124,78,49,-11,15,94,142,27,3,46,False\\nIndian Reservation (The Lament of the Cherokee Reservation Indian),Paul Revere & The Raiders,brill building pop,1971,132,39,64,-13,9,21,172,28,8,46,False\\nLocomotive,Thelonious Monk,bebop,1967,112,44,67,-11,13,70,400,78,4,46,False\\nRag Doll,Frankie Valli & The Four Seasons,adult standards,2003,121,53,50,-8,7,61,182,76,4,45,False\\nTelstar,The Tornados,british invasion,1962,146,75,20,-7,38,63,195,0,4,45,False\\nSo Much In Love,The Tymes,beach music,1963,76,49,55,-10,45,44,140,79,3,45,False\\nThis Eve of Parting,John Hartford,appalachian folk,2018,115,46,56,-12,21,34,153,18,3,44,False\\nTrouble Every Day,Frank Zappa,album rock,1966,121,78,31,-13,90,48,350,51,8,44,False\\nNo Time,The Guess Who,album rock,1971,128,48,48,-14,5,12,219,8,6,44,False\\nThe Game Of Love,Wayne Fontana & The Mindbenders,british invasion,1964,109,83,57,-4,19,96,127,9,3,43,False\\nRingo,Lorne Greene,cowboy western,1964,111,52,56,-13,22,65,214,86,31,43,False\\nBlack Christ of the Andes (St. Martin de Porres),Mary Lou Williams,bebop,1964,89,7,20,-20,13,6,400,98,3,42,False\\nSheila,Tommy Roe,adult standards,1962,136,57,42,-9,6,48,127,28,11,42,False\\nWalkin\\' Back to Happiness,Helen Shapiro,adult standards,2017,97,67,65,-9,17,83,150,66,8,42,False\\nBarabajagal (with Jeff Beck Group),Donovan,art rock,1969,100,57,67,-17,8,68,200,10,7,42,False\\nOn The Sunny Side Of The Ocean,John Fahey,drone folk,1965,116,73,48,-10,16,48,193,81,3,41,False\\nCa\\' the Yowes,Shirley & Dolly Collins,british folk,2008,80,7,32,-10,27,32,208,76,3,41,False\\nMr. Soul,Buffalo Springfield,blues rock,1969,135,55,67,-13,4,96,172,10,3,41,False\\nMy Spiritual Indian,Eddie Palmieri,boogaloo,1969,121,92,48,-6,7,50,400,58,8,41,False\\nMyself When I Am Real,Charles Mingus,avant-garde jazz,1963,81,19,32,-17,8,10,456,99,4,41,False\\nThis Diamond Ring,Gary Lewis & The Playboys,adult standards,2011,133,61,63,-11,14,78,137,33,3,41,False\\nCry Like a Baby,The Box Tops,brill building pop,1968,133,47,67,-12,50,77,152,34,3,40,False\\nRed Rubber Ball,The Cyrkle,brill building pop,2002,92,52,61,-10,9,79,139,43,3,39,False\\nLovely Sky Boat,Alice Coltrane,afropop,1968,119,43,34,-17,19,44,411,45,5,38,False\\nThe Ballad of Bonnie & Clyde,Georgie Fame,british blues,1968,107,47,71,-10,25,74,190,71,9,38,False\\nA World Without Love,Peter And Gordon,brill building pop,2017,130,66,51,-10,11,75,161,23,6,37,False\\nDon\\'t Break The Heart That Loves You,Connie Francis,adult standards,1996,73,41,39,-6,20,20,182,82,3,37,False\\nLive Wire,The Meters,afrobeat,1969,114,77,68,-12,17,96,160,27,4,36,False\\nLaugh Laugh,The Beau Brummels,brill building pop,2006,129,68,49,-9,10,75,177,30,5,30,False\\nPeppermint Twist Pt.1,Joey Dee,australian talent show,2019,199,73,42,-11,73,72,122,37,14,30,False\\nBohemian Rhapsody - 2011 Mix,Queen,glam rock,1975,71,40,41,-10,30,22,354,27,5,84,True\\nHighway to Hell,AC/DC,album rock,1979,116,91,57,-5,16,42,208,6,13,83,False\\nDon\\'t Stop Me Now - 2011 Mix,Queen,glam rock,1978,156,87,56,-5,78,61,209,5,17,82,True\\nRocket Man (I Think It\\'s Going To Be A Long Long Time),Elton John,glam rock,1972,137,53,60,-9,9,34,282,43,3,81,True\\nWe Will Rock You - Remastered,Queen,glam rock,1977,81,50,69,-7,26,48,122,68,12,79,False\\nLet It Be - Remastered 2009,The Beatles,british invasion,1970,143,40,44,-8,11,41,243,63,3,79,False\\nMr. Blue Sky,Electric Light Orchestra,album rock,1977,178,34,39,-10,25,48,303,65,3,79,False\\nTiny Dancer,Elton John,glam rock,1971,145,43,41,-11,15,28,377,38,3,79,False\\nDreams - 2004 Remaster,Fleetwood Mac,album rock,1977,120,49,83,-10,13,79,258,6,3,79,False\\nI Was Made For Lovin\\' You,KISS,album rock,1979,128,85,77,-6,7,87,271,21,4,78,False\\nImmigrant Song - Remaster,Led Zeppelin,album rock,1970,113,93,56,-10,35,62,146,1,6,77,False\\nImagine - Remastered,John Lennon,album rock,1971,76,26,55,-12,9,17,188,91,3,77,False\\nHow Deep Is Your Love,Bee Gees,adult standards,1979,105,36,63,-9,13,67,245,11,3,77,False\\nWe Are The Champions - Remastered 2011,Queen,glam rock,1977,64,46,27,-7,12,18,179,38,3,76,False\\nDon\\'t Go Breaking My Heart,Elton John,glam rock,1975,131,84,73,-9,6,78,275,15,3,75,False\\nSomebody To Love - 2011 Mix,Queen,glam rock,1976,109,70,41,-7,23,33,296,19,6,75,False\\nRock And Roll All Nite,KISS,album rock,1975,145,93,65,-6,5,90,169,5,10,75,False\\nListen to the Music,The Doobie Brothers,album rock,1972,106,60,65,-13,7,91,227,22,3,75,False\\nTake It Easy - 2013 Remaster,Eagles,album rock,1972,139,67,57,-10,13,74,212,34,3,75,False\\nSmoke On The Water - Remastered 2012,Deep Purple,album rock,1972,114,68,60,-9,11,81,341,13,3,75,False\\nGimme! Gimme! Gimme! (A Man After Midnight),ABBA,europop,1979,120,49,75,-10,16,54,293,2,4,74,False\\nLove Of My Life - Remastered 2011,Queen,glam rock,1975,154,18,33,-12,12,26,217,93,3,74,False\\nFather And Son,Yusuf / Cat Stevens,british folk,1970,136,33,50,-11,10,40,221,59,3,74,False\\nRebel Rebel - 2016 Remaster,David Bowie,album rock,1974,126,69,64,-16,28,46,275,21,5,74,False\\nYou\\'re The One That I Want - From â€œGreaseâ€\\x9d,John Travolta,hollywood,1978,107,61,76,-11,10,82,170,28,6,74,False\\nThe Boys Are Back In Town,Thin Lizzy,album rock,1976,81,71,45,-10,21,77,267,23,5,74,False\\nBrandy (You\\'re a Fine Girl),Looking Glass,soft rock,1972,125,63,72,-11,13,83,187,40,6,73,False\\nStarman - 2012 Remaster,David Bowie,album rock,1972,100,45,49,-10,54,55,254,17,3,73,False\\nMamma Mia,ABBA,europop,1975,138,75,75,-7,47,83,213,30,3,72,False\\nLife in the Fast Lane - 2013 Remaster,Eagles,album rock,1976,110,76,67,-7,5,88,286,10,7,72,False\\nRock with You - Single Version,Michael Jackson,pop,1979,114,54,81,-13,16,85,221,18,4,72,False\\nAnother Brick In The Wall Pt. 2 - 2011 Remastered Version,Pink Floyd,album rock,1979,104,39,69,-16,25,72,239,8,4,72,False\\nYMCA - Original Version 1978,Village People,disco,1978,127,97,72,-5,12,73,287,6,14,71,False\\nTake Me Home Country Roads,John Denver,adult standards,1971,82,40,46,-9,12,63,190,76,3,70,False\\nReelin\\' In The Years,Steely Dan,album rock,1972,135,76,52,-10,11,71,275,12,4,70,False\\nMandy,Barry Manilow,adult standards,1974,104,46,31,-9,14,32,213,42,3,69,False\\nEverything I Own,Bread,adult standards,1972,79,34,37,-13,10,45,187,74,3,69,False\\nSailing,Rod Stewart,adult standards,1975,129,37,43,-10,32,19,278,37,3,68,False\\nDetroit Rock City,KISS,album rock,1978,91,90,55,-7,29,46,216,4,7,68,False\\nLet Your Love Flow,The Bellamy Brothers,country,1976,109,55,68,-15,14,95,199,6,3,68,False\\nYou Ain\\'t Seen Nothing Yet,Bachman-Turner Overdrive,album rock,1974,118,44,48,-15,22,76,235,0,4,68,False\\nAre You Ready For Love? - Remastered,Elton John,glam rock,2017,117,75,80,-5,11,75,212,25,3,67,False\\nGuilty (feat. Barry Gibb),Barbra Streisand,adult standards,1980,151,43,63,-16,11,95,264,23,4,67,False\\nFat Bottomed Girls - 2011 Remaster,Queen,glam rock,1978,89,68,33,-8,34,42,256,3,5,67,False\\nLove Really Hurts Without You,Billy Ocean,dance rock,2016,141,90,52,-4,10,96,179,0,3,66,False\\nYour Song,Elton John,glam rock,1990,128,33,55,-11,11,30,241,78,3,66,False\\nHere You Come Again,Dolly Parton,classic country pop,1977,106,51,53,-9,4,56,179,65,4,66,False\\nMove On Up,Curtis Mayfield,chicago soul,1970,139,97,54,-6,12,93,166,42,9,66,False\\nWaterloo,ABBA,europop,1974,148,95,45,-5,9,65,169,40,5,66,False\\nA Song for You,Donny Hathaway,chicago soul,1971,88,22,32,-13,25,7,326,82,4,65,False\\n\"Evergreen (Love Theme from, \"\"A Star Is Born\"\")\",Barbra Streisand,adult standards,1976,114,30,34,-11,9,19,185,93,3,65,False\\nDancing Queen,ABBA,europop,2008,101,93,51,-4,56,68,231,17,5,65,False\\nCan\\'t You See,The Marshall Tucker Band,album rock,1973,164,71,41,-5,11,58,365,28,3,65,False\\nWon\\'t Get Fooled Again - Original Album Version,The Who,album rock,1971,135,92,69,-6,8,23,511,30,6,65,False\\nBennie And The Jets - Remastered 2014,Elton John,glam rock,1973,133,67,67,-8,50,78,323,26,5,65,False\\nSunny,Boney M.,disco,1976,122,87,65,-6,13,80,242,9,11,64,False\\nIt\\'s A Shame,The Spinners,classic soul,1970,199,64,37,-12,12,71,190,9,6,64,False\\nVoulez-Vous,ABBA,europop,1979,127,77,71,-7,17,90,309,15,4,63,False\\nGoodbye Yellow Brick Road - Remastered 2014,Elton John,glam rock,1973,121,47,56,-8,15,40,193,45,3,63,False\\nSince You Been Gone,Rainbow,album rock,1997,121,60,73,-10,60,94,198,37,4,63,False\\nSorry Seems To Be The Hardest Word,Elton John,glam rock,1976,118,22,37,-13,20,11,229,83,3,62,False\\nYou To Me Are Everything,The Real Thing,brit funk,1999,102,91,64,-8,8,82,210,23,10,62,False\\nPlease Mr. Postman,Carpenters,adult standards,1975,133,55,66,-12,24,96,173,14,3,62,False\\nStumblin\\' In - 2017 Remaster,Suzi Quatro,classic uk pop,1978,129,72,76,-11,35,92,240,13,3,61,False\\nLady Writer,Dire Straits,album rock,1979,148,81,63,-9,7,96,225,10,3,61,False\\nKnowing Me Knowing You,ABBA,europop,1976,107,73,55,-7,24,91,242,4,3,61,False\\nOphelia - Remastered 2000,The Band,album rock,1975,92,68,83,-7,33,95,213,68,3,61,False\\nI Will Survive - Extended Version,Gloria Gaynor,disco,2019,116,85,76,-5,27,59,197,6,5,61,False\\nSweet Virginia,The Rolling Stones,album rock,1972,107,74,48,-5,26,56,267,50,4,60,False\\nThe Way We Were,Barbra Streisand,adult standards,1974,138,32,26,-12,13,17,211,89,3,60,False\\nSeptember Earth, Wind & Fire,disco,2014,126,83,69,-7,25,98,215,17,3,60,False\\nDoctor Doctor - 2007 Remaster,UFO,album rock,1974,143,80,30,-7,50,56,252,0,5,60,False\\nAin\\'t No Mountain High Enough,Diana Ross,adult standards,2017,99,79,39,-5,38,38,215,19,4,60,False\\nBaby Come Back,Player,soft rock,2007,157,57,65,-11,12,56,214,5,11,59,False\\nBoulder to Birmingham - Remastered,Emmylou Harris,country rock,1975,126,32,48,-11,10,31,213,78,3,59,False\\nS.O.S.,ABBA,europop,1975,125,71,42,-6,29,58,202,25,3,59,False\\nNow That We Found Love,The O\\'Jays,classic soul,1973,114,65,72,-8,27,96,281,25,4,59,False\\nFire on the Mountain,The Marshall Tucker Band,album rock,1975,102,83,51,-6,16,57,236,11,4,58,False\\nLost in Music,Sister Sledge,dance pop,1979,114,84,76,-8,10,85,287,5,3,58,False\\nYou Make Me Feel Like Dancing,Leo Sayer,adult standards,1976,96,73,73,-5,11,71,221,8,5,57,False\\nThe Boss,Diana Ross,adult standards,1979,124,91,64,-4,21,83,241,24,5,57,False\\nCome and Get Your Love,Redbone,native american,2003,106,79,67,-6,8,85,300,13,5,56,False\\nMoviestar,Harpo,classic uk pop,1976,119,79,55,-8,33,71,202,29,3,56,False\\nEasy Livin\\',Uriah Heep,album rock,1972,161,84,26,-7,28,46,157,0,10,56,False\\nThree Times A Lady,Commodores,adult standards,2008,151,13,37,-17,14,20,215,94,3,56,False\\nLiving Next Door to Alice,Smokie,classic uk pop,1975,126,40,59,-15,25,78,208,11,4,56,False\\nDancing In The Moonlight,King Harvest,soft rock,1973,136,72,65,-5,41,68,178,68,4,56,False\\nYou Are Everything,Diana Ross,adult standards,1973,150,53,52,-10,14,50,190,3,5,56,False\\nI Want You,Marvin Gaye,classic soul,1976,101,79,52,-10,24,74,274,85,3,56,False\\nLove Comes To Everyone - 2004 Mix,George Harrison,album rock,1979,107,68,72,-9,5,51,276,7,4,55,False\\nRock Your Baby,George McCrae,disco,2001,104,77,59,-11,7,95,201,31,4,55,False\\nThe Shape I\\'m In - Remastered 2000,The Band,album rock,1970,128,67,72,-8,30,96,241,24,4,54,False\\nMidnight Train to Georgia - Short Version,Gladys Knight & The Pips,adult standards,1973,177,42,44,-10,19,39,199,7,8,53,False\\nDaddy Cool,Boney M.,disco,1994,125,63,75,-12,23,96,206,25,4,53,False\\nSad Eyes - Remastered,Robert John,soft rock,2002,107,46,43,-7,13,69,253,60,3,53,False\\nI Feel Love - Edit,Donna Summer,dance pop,2018,126,91,66,-9,8,94,227,3,4,52,False\\nJust Got Paid,ZZ Top,album rock,1972,100,69,57,-11,12,63,267,29,4,52,False\\nKiller Queen - 2011 Mix,Queen,glam rock,1974,117,65,54,-6,13,61,180,39,5,51,False\\nI\\'d Really Love to See You Tonight - 2012 Collection Remaster,England Dan,adult standards,2012,119,77,58,-5,17,67,158,20,3,50,False\\nI Got Lucky,Elvis Presley,adult standards,1971,93,39,73,-12,20,96,116,84,4,49,False\\nBaretta\\'s Theme,Sammy Davis Jr.,adult standards,2002,105,91,64,-8,28,69,146,35,6,48,False\\nOne of These Days,Emmylou Harris,country rock,1975,125,39,66,-9,12,68,184,45,3,46,False\\nMy Heart Belongs to Me,Barbra Streisand,adult standards,1977,139,21,27,-16,18,30,201,74,3,44,False\\nTelegram Sam,T. Rex,album rock,1972,123,94,52,-4,9,44,226,2,12,40,False\\nLivin\\' On A Prayer,Bon Jovi,glam metal,1986,123,89,53,-4,29,80,249,8,3,83,False\\nAfrica,TOTO,album rock,1982,93,37,67,-18,5,73,296,26,3,83,True\\nAnother One Bites The Dust - Remastered 2011,Queen,glam rock,1980,110,53,93,-6,16,75,215,11,16,82,True\\nBreak My Stride,Matthew Wilder,new wave pop,1983,110,59,92,-11,9,83,184,20,6,81,True\\nI Wanna Dance with Somebody (Who Loves Me),Whitney Houston,dance pop,1987,119,82,71,-9,9,87,291,21,5,80,True\\nSummer Of \\'69,Bryan Adams,album rock,1984,139,83,51,-6,7,77,216,2,4,80,True\\nYou Give Love A Bad Name,Bon Jovi,glam metal,1986,123,96,54,-3,34,81,223,7,5,80,True\\nEverybody Wants To Rule The World,Tears For Fears,dance rock,1985,112,80,65,-12,10,54,251,35,5,80,True\\nI\\'m Still Standing,Elton John,glam rock,1983,177,90,50,-7,14,77,183,36,18,79,False\\nLast Christmas,Wham!,dance rock,2019,108,58,74,-9,18,94,265,19,3,78,False\\nUptown Girl,Billy Joel,album rock,1983,129,94,70,-3,60,79,198,7,5,77,False\\nRadio Ga Ga - 2011 Mix,Queen,glam rock,1984,112,50,74,-8,19,66,348,18,4,76,False\\nHeaven,Bryan Adams,album rock,1984,140,59,38,-7,12,34,243,5,3,76,False\\n9 to 5,Dolly Parton,classic country pop,1980,105,78,55,-6,63,81,162,42,5,76,False\\nEye of the Tiger,Survivor,album rock,1985,109,60,82,-9,9,55,246,13,3,76,False\\nRight Here Waiting,Richard Marx,mellow gold,1989,178,25,40,-14,10,13,264,80,3,75,False\\nListen to Your Heart,Roxette,europop,1988,86,58,54,-5,11,34,328,11,3,75,False\\nBorn in the U.S.A.,Bruce Springsteen,classic rock,1984,122,95,40,-6,10,58,279,0,6,75,False\\nPour Some Sugar On Me - Remastered 2017,Def Leppard,album rock,1987,85,95,27,-5,28,57,267,0,10,74,False\\nAgainst All Odds (Take a Look at Me Now) - 2016 Remaster,Phil Collins,mellow gold,2016,116,50,58,-7,13,11,206,20,3,74,False\\nManiac,Michael Sembello,hi-nrg,1983,159,53,62,-12,4,84,245,9,7,73,False\\nHungry Eyes,Eric Carmen,adult standards,1997,110,55,71,-9,12,55,251,1,3,73,False\\nPanama - 2015 Remaster,Van Halen,album rock,1984,141,98,53,-5,7,46,210,0,11,73,False\\nForever Young,Alphaville,dance rock,1984,137,48,49,-9,24,33,227,42,3,73,False\\nI Love Rock \\'N Roll,Joan Jett & The Blackhearts,glam punk,1981,94,72,54,-5,66,90,175,33,4,72,False\\nSacrifice,Elton John,glam rock,1989,113,42,76,-13,4,49,304,2,3,72,False\\nMaterial Girl,Madonna,dance pop,2009,137,88,74,-3,10,98,240,33,3,72,False\\nThe Winner Takes It All,ABBA,europop,1980,126,79,45,-7,9,52,295,57,4,72,False\\nSmalltown Boy,Bronski Beat,dance rock,1984,135,58,69,-11,12,94,302,29,3,71,False\\nThe Best - Edit,Tina Turner,disco,1991,104,83,68,-6,21,82,250,1,3,71,False\\n(I Just) Died In Your Arms,Cutting Crew,album rock,1986,125,73,63,-11,6,51,280,2,4,71,False\\nBrothers In Arms,Dire Straits,album rock,1985,79,30,41,-14,18,14,424,53,3,71,False\\nGlory of Love,Peter Cetera,adult standards,1986,145,59,52,-8,31,31,258,8,3,71,False\\nSuper Trouper,ABBA,europop,1980,118,63,76,-8,20,96,253,46,3,70,False\\nFlashdance...What a Feeling - Radio Edit,Irene Cara,dance rock,1983,122,65,57,-7,9,40,237,1,3,70,False\\nEvery Time You Go Away - Radio Edit,Paul Young,album rock,1991,164,72,57,-9,22,84,267,19,4,70,False\\nSelf Control,Laura Branigan,dance rock,1984,107,69,81,-12,16,78,246,22,3,70,False\\nSay You Say Me,Lionel Richie,adult standards,1986,128,41,64,-11,8,26,241,36,3,70,False\\nHeaven Is a Place on Earth,Belinda Carlisle,dance pop,2013,123,85,64,-8,5,79,247,2,3,70,False\\nI Want To Break Free - Remastered 2011,Queen,glam rock,1984,109,41,88,-11,12,78,199,8,4,70,False\\nArthur\\'s Theme (Best That You Can Do),Christopher Cross,adult standards,1981,137,52,53,-11,18,52,234,17,4,70,False\\nCarrie,Europe,album rock,1986,137,49,46,-7,36,14,272,11,3,70,False\\nWe Are The World,U.S.A. For Africa,,1985,73,45,53,-15,7,29,427,19,4,69,False\\nStuck On You,Lionel Richie,adult standards,1983,132,32,51,-16,9,25,192,62,3,69,False\\nHurts So Good,John Mellencamp,album rock,1982,125,74,79,-5,11,97,219,4,4,69,False\\nHow Am I Supposed to Live Without You,Michael Bolton,adult standards,1989,140,44,54,-12,11,23,256,19,3,69,False\\nHysteria,Def Leppard,album rock,1987,107,85,66,-6,20,66,355,3,3,68,False\\nNikita,Elton John,glam rock,1985,87,66,63,-9,7,75,343,12,3,68,False\\nDancing With Myself,Billy Idol,album rock,1985,177,70,51,-11,30,91,360,2,8,68,False\\nI\\'ll Be Over You,TOTO,album rock,1986,82,28,52,-18,26,41,230,6,3,68,False\\nKids In America,Kim Wilde,dance pop,1981,160,78,56,-4,12,31,206,10,5,68,False\\nSt. Elmos Fire (Man in Motion),John Parr,album rock,1985,111,60,61,-11,22,47,252,15,3,68,False\\nOne More Night - 2016 Remaster,Phil Collins,mellow gold,1985,136,44,53,-9,10,34,289,79,3,68,False\\nCome On Eileen,Dexys Midnight Runners,bow pop,2009,107,87,41,-4,8,82,206,20,9,68,False\\nWhere Do Broken Hearts Go,Whitney Houston,dance pop,1987,62,39,46,-12,7,25,278,63,3,67,False\\nBrother Louie,Modern Talking,eurodance,1986,109,84,78,-9,14,83,223,40,5,67,False\\nRunning Up That Hill (A Deal With God),Kate Bush,art pop,1985,108,55,63,-13,6,20,299,72,6,67,False\\nEnd Of The Line,Traveling Wilburys,album rock,1988,167,84,58,-7,6,93,210,16,5,67,False\\nEvery Breath You Take,The Police,album rock,2017,117,48,82,-9,8,72,252,56,3,67,False\\n\"Up Where We Belong - From \"\"An Officer And A Gentleman\"\"\",Joe Cocker,album rock,2000,140,31,63,-12,7,24,233,61,3,67,False\\nWoman in Love,Barbra Streisand,adult standards,1980,170,28,47,-16,13,33,232,25,3,67,False\\nCheri Cheri Lady,Modern Talking,eurodance,1985,114,62,68,-14,35,85,226,46,3,66,False\\nHigher Love - Single Version,Steve Winwood,album rock,2007,99,89,70,-7,50,92,252,6,4,66,False\\nThat\\'s What Friends Are For,Dionne Warwick,adult standards,1985,120,24,68,-16,7,17,256,51,3,66,False\\nGloria,Laura Branigan,dance rock,1995,131,87,78,-4,15,88,295,14,3,66,False\\nSlave To Love,Bryan Ferry,album rock,1985,148,82,66,-6,5,79,266,18,3,66,False\\nNow And Forever,Richard Marx,mellow gold,1994,78,26,44,-11,11,17,215,66,3,65,False\\nBig in Japan,Alphaville,dance rock,1984,98,41,75,-15,34,24,286,7,4,65,False\\nOnly You,Yazoo,dance rock,1982,106,31,75,-17,8,85,194,33,4,65,False\\nValerie,Steve Winwood,album rock,1982,116,53,72,-11,8,73,247,57,3,65,False\\nBlue Monday \\'88,New Order,alternative rock,1994,130,89,68,-8,6,95,245,0,4,65,False\\nGold,Spandau Ballet,dance rock,2000,143,74,71,-8,10,64,231,26,4,65,False\\nNothing\\'s Gonna Change My Love For You,Glenn Medeiros,soft rock,1986,142,43,45,-13,6,39,232,57,4,64,False\\nSledgehammer,Peter Gabriel,album rock,1986,96,69,66,-5,4,42,314,2,3,64,False\\nRhythm Of The Night,DeBarge,disco,1985,115,76,71,-12,8,96,229,8,5,64,False\\nJessie\\'s Girl,Rick Springfield,album rock,1981,132,59,72,-14,10,85,194,33,5,64,False\\nIt\\'s Raining Men,The Weather Girls,disco,1996,136,93,68,-6,70,61,211,32,12,64,False\\nSunshine Reggae,Laid Back,classic danish pop,2008,168,79,70,-6,8,93,258,10,4,64,False\\nWonderful Life,Black,dance rock,1987,106,52,72,-12,21,82,288,71,3,64,False\\nThe Riddle,Nik Kershaw,dance rock,1984,102,66,58,-8,14,90,235,12,3,63,False\\nPapa Don\\'t Preach,Madonna,dance pop,1986,122,91,81,-9,2,97,345,31,4,63,False\\nDidn\\'t We Almost Have It All,Whitney Houston,dance pop,1987,131,49,54,-10,14,34,305,42,3,63,False\\nAll Right,Christopher Cross,adult standards,1983,133,65,71,-5,23,50,254,17,4,63,False\\nBiggest Part of Me,Ambrosia,adult standards,1980,153,72,50,-8,35,88,324,24,5,63,False\\nSave a Prayer - 2009 Remaster,Duran Duran,dance rock,1982,114,71,57,-9,16,67,333,35,3,62,False\\nBaby Come To Me,Patti Austin,adult standards,1981,90,50,63,-12,14,70,215,55,8,62,False\\nFame - Rerecorded,Irene Cara,dance rock,2018,131,80,71,-7,8,94,319,7,3,62,False\\nHard Habit to Break - 2006 Remaster,Chicago,adult standards,1984,81,61,58,-6,17,40,284,45,3,61,False\\nRock You Like a Hurricane,Scorpions,album rock,2017,124,83,58,-6,32,67,254,0,4,61,False\\nWhen the Children Cry,White Lion,album rock,1987,130,24,49,-14,7,38,259,67,3,61,False\\nIs This Love - 2017 Remaster,Whitesnake,album rock,1987,180,79,33,-7,12,53,285,11,4,60,False\\nI Knew You Were Waiting (For Me),George Michael,new wave pop,1986,108,68,73,-11,31,68,242,27,4,60,False\\nYou Keep Me Hangin On,Kim Wilde,dance pop,1986,123,68,69,-12,14,71,255,8,3,60,False\\nDancing with Tears in My Eyes,Ultravox,art rock,1984,144,91,59,-8,60,93,244,15,4,59,False\\nIn The Army Now,Status Quo,album rock,2002,105,73,68,-8,14,94,281,11,2,59,False\\nHere I Go Again - 2017 Remaster,Whitesnake,album rock,1987,90,85,38,-6,9,27,276,15,4,58,False\\nHoliday,Madonna,dance pop,1983,118,70,81,-9,5,73,232,3,5,58,False\\nI Think We\\'re Alone Now,Tiffany,new wave pop,2008,130,89,65,-5,9,70,227,0,4,58,False\\n\"Crockett\\'s Theme - From \"\"Miami Vice II\"\" Soundtrack\",Jan Hammer,jazz fusion,1991,191,39,41,-17,10,40,215,42,3,58,False\\nCold as Ice - 2008 Remaster,Foreigner,album rock,2008,131,71,55,-5,14,51,200,6,3,57,False\\nZulu Nation Throw Down,Afrika Bambaataa,bronx hip hop,2015,108,95,85,-4,10,91,433,76,19,50,False\\nIt\\'s Only Love - 2008 Remaster,Simply Red,british soul,2008,92,88,67,-5,4,75,299,51,4,50,False\\nLucky Star,Madonna,dance pop,1983,117,81,80,-5,22,93,338,20,4,46,False\\nRomeo - 2014 Remaster,Donna Summer,dance pop,1996,141,85,85,-8,11,96,199,3,4,43,False\\nNo Scrubs,TLC,atl hip hop,1999,93,68,74,-4,7,59,214,3,10,79,False\\nI Want It That Way,Backstreet Boys,boy band,2001,99,70,69,-6,16,48,214,22,3,76,False\\nIt Wasn\\'t Me,Shaggy,dance pop,2000,95,61,85,-5,31,65,228,6,7,76,False\\n\"Because You Loved Me (Theme from \"\"Up Close and Personal\"\")\",CÃ©line Dion,canadian pop,1996,120,47,61,-10,10,18,274,31,3,74,False\\nBig Poppa - 2005 Remaster,The Notorious B.I.G.,east coast hip hop,1994,84,58,78,-7,14,76,253,43,27,74,False\\nI Got 5 On It,Luniz,g funk,1995,174,71,60,-8,13,58,254,21,36,73,False\\nBoom Boom Boom Boom!!,Vengaboys,bubblegum dance,2000,138,89,80,-7,3,97,202,1,4,73,False\\nEverybody (Backstreet\\'s Back) - Radio Edit,Backstreet Boys,boy band,1997,108,85,73,-4,27,61,225,4,4,73,False\\nBed Of Roses,Bon Jovi,glam metal,1992,165,60,31,-6,21,16,394,10,3,73,False\\nDon\\'t Look Back in Anger - Remastered,Oasis,britpop,1995,163,94,33,-3,15,33,290,7,6,73,False\\nAlways Be My Baby,Mariah Carey,dance pop,1995,79,53,65,-8,25,49,258,46,4,73,False\\nAngels,Robbie Williams,dance pop,1997,150,59,43,-6,10,24,265,16,3,73,False\\nReturn of the Mack,Mark Morrison,british soul,1996,95,83,72,-5,16,61,213,1,11,72,False\\nPony,Ginuwine,dance pop,1999,142,61,75,-9,12,97,252,0,9,72,False\\nFreed From Desire,Gala,eurodance,2007,129,86,70,-4,10,64,213,59,5,71,False\\nBetter Off Alone,Alice DJ,europop,2000,137,82,67,-9,29,76,218,0,6,71,False\\nHero,Mariah Carey,dance pop,1993,120,38,50,-9,12,18,258,74,3,71,False\\nEnd Of The Road,Boyz II Men,boy band,1991,150,43,64,-9,6,53,351,7,2,71,False\\nI\\'ll Be Missing You (feat. 112),Diddy,dance pop,2004,110,48,86,-9,59,93,302,5,6,71,False\\nForgot About Dre,Dr. Dre,g funk,1999,134,74,92,-1,16,62,222,8,8,71,False\\nFantasy,Mariah Carey,dance pop,1995,102,73,67,-8,12,80,243,14,4,70,False\\nSandstorm,Darude,eurodance,2000,136,97,53,-8,8,59,225,14,5,70,False\\nWho Am I (What\\'s My Name)?,Snoop Dogg,g funk,1993,97,83,69,-4,52,69,246,0,5,70,False\\nMr. Vain - Original Radio Edit,Culture Beat,bubblegum dance,1993,133,100,70,-8,12,39,257,7,4,69,False\\nSpending My Time,Roxette,europop,1991,171,57,42,-5,13,22,276,24,3,69,False\\nLet\\'s Get Loud,Jennifer Lopez,dance pop,1999,131,94,82,-5,35,91,239,14,6,69,False\\nThe Rhythm of the Night,Corona,bubblegum dance,1994,128,81,69,-12,10,80,264,0,3,69,False\\nThe Power of Love,CÃ©line Dion,canadian pop,1993,140,52,55,-9,24,25,342,36,3,68,False\\nNarcotic - Radio Edit,Liquido,german alternative rock,1998,102,61,62,-7,9,45,236,0,2,68,False\\nMiami,Will Smith,hip hop,1997,108,53,88,-6,4,89,198,3,15,68,False\\nHypnotize - 2007 Remaster,The Notorious B.I.G.,east coast hip hop,2007,94,69,90,-4,29,63,230,18,28,68,False\\n3AM,Matchbox Twenty,neo mellow,1996,108,67,52,-9,12,54,226,1,3,68,False\\nHigh,Lighthouse Family,europop,1997,102,63,66,-9,13,59,308,11,3,68,False\\nL\\'Amour Toujours,Gigi D\\'Agostino,eurodance,2011,139,73,62,-8,36,81,239,3,3,67,False\\n\"Rhythm Is A Dancer - 7\"\" Edit\",SNAP!,diva house,1992,124,75,79,-11,14,71,226,27,4,67,False\\nSay My Name,Destiny\\'s Child,dance pop,1999,67,68,52,-4,13,75,271,27,16,67,False\\nHeal the World,Michael Jackson,pop,1991,81,49,53,-8,10,10,384,54,5,67,False\\nThe Boy Is Mine,Brandy,dance pop,1998,93,71,70,-7,32,76,295,54,4,66,False\\nWeak,SWV,dance pop,1992,128,53,69,-11,7,57,292,11,4,66,False\\nWalking in Memphis,Cher,dance pop,1995,129,68,70,-7,17,53,235,59,3,66,False\\nAngel of Mine - Radio Mix,Monica,dance pop,1998,90,56,59,-7,22,21,250,0,2,66,False\\nPicture Of You,Boyzone,boy band,1997,117,92,76,-6,37,88,206,10,4,65,False\\n\"Beauty and the Beast - from the Soundtrack \"\"Beauty and the Beast\"\"\",CÃ©line Dion,canadian pop,1992,77,40,46,-10,13,12,249,64,3,65,False\\nRun To You,Bryan Adams,album rock,1984,127,81,56,-6,29,64,233,1,3,65,False\\nNo Matter What,Boyzone,boy band,1998,93,42,70,-9,14,53,274,19,2,65,False\\nBlue (Da Ba Dee) - Gabry Ponte Ice Pop Radio,Eiffel 65,bubblegum dance,1998,128,97,82,-11,39,77,284,26,6,64,False\\nDreams,Gabrielle,british soul,1993,99,47,75,-14,22,57,223,17,4,64,False\\nFading Like a Flower (Every Time You Leave),Roxette,europop,1991,105,67,61,-6,22,32,231,20,3,64,False\\nIt\\'s Not Right But It\\'s Okay,Whitney Houston,dance pop,1998,128,80,81,-7,7,53,292,16,10,64,False\\nStay Another Day,East 17,boy band,1994,128,49,52,-8,19,44,267,58,3,63,False\\nA Whole New World (Aladdin\\'s Theme),Peabo Bryson,adult standards,1993,108,32,52,-10,14,13,243,63,3,63,False\\nEncore Une Fois - Future Breeze Edit,Sash!,bubblegum dance,1997,133,93,66,-7,19,84,221,1,4,62,False\\nIncomplete,Sisqo,dance pop,1999,119,44,75,-8,14,27,274,28,8,62,False\\nSweet Dreams,La Bouche,bubblegum dance,2007,134,96,66,-6,9,83,205,8,5,62,False\\nJuicy - 2007 Remaster,The Notorious B.I.G.,east coast hip hop,2007,96,82,87,-5,15,79,301,48,26,62,False\\nMysterious Girl - Radio Edit,Peter Andre,europop,2004,172,82,66,-6,30,86,217,14,21,62,False\\nIt\\'s Gonna Be Me,*NSYNC,boy band,2000,165,87,64,-5,6,88,191,5,8,62,False\\nI Have Nothing - Film Version,Whitney Houston,dance pop,2017,153,45,49,-9,9,17,296,76,3,61,False\\nI Promised Myself,Nick Kamen,,1990,128,80,58,-12,3,69,241,0,3,61,False\\nYou,Ten Sharp,,1991,174,90,41,-8,19,67,273,43,3,61,False\\nRelight My Fire (feat. Lulu),Take That,boy band,1993,123,94,65,-7,10,93,252,4,5,61,False\\nGet A Way,Maxx,bubblegum dance,1994,133,86,85,-10,5,60,227,3,4,60,False\\nMore And More - Single Version,Captain Hollywood Project,bubblegum dance,1993,126,85,66,-12,9,71,254,23,3,60,False\\nFree - Mood II Swing Radio Edit,Ultra NatÃ©,deep house,1997,125,92,76,-6,4,74,233,0,4,60,False\\n\"Circle of Life - From \"\"The Lion King\"\"/Soundtrack Version\",Elton John,glam rock,1994,161,39,30,-15,11,14,292,26,3,59,False\\nPlease Don\\'t Go,Double You,eurodance,1992,120,84,71,-12,3,49,200,6,4,59,False\\nPiu bella cosa,Eros Ramazzotti,italian pop,2014,110,79,67,-5,11,62,265,8,3,58,False\\nWhen the Heartache Is Over,Tina Turner,disco,1999,115,77,69,-6,7,43,224,1,3,58,False\\nBailando,Paradisio,bubblegum dance,1997,133,94,65,-9,12,84,229,8,4,58,False\\nLet There Be Love - 2002 Digital Remaster,Simple Minds,art rock,1991,88,88,49,-6,13,60,309,8,4,57,False\\nI Will Always Love You - Film Version,Whitney Houston,dance pop,2017,133,28,34,-10,10,12,275,61,4,57,False\\nI\\'ll Be There,Mariah Carey,dance pop,1998,82,51,41,-10,93,30,264,70,3,56,False\\nDon\\'t Stop,ATB,german dance,1999,134,94,71,-5,32,57,221,15,4,56,False\\nDas Boot,U96,bubble trance,1992,123,88,64,-8,25,33,314,1,7,56,False\\nHold On My Heart - 2007 Digital Remaster,Genesis,album rock,1991,172,36,46,-13,7,27,278,61,3,56,False\\nReal Real Gone,Van Morrison,classic rock,1990,142,85,70,-7,19,95,221,38,3,56,False\\nKing Of My Castle - Roy Malone\\'s King Mix,Wamdue Project,disco house,2009,125,54,87,-9,6,76,299,4,8,55,False\\nBe With You,Enrique Iglesias,dance pop,1999,122,87,68,-5,5,54,219,4,3,55,False\\nAin\\'t That Just the Way,Lutricia McNeal,,1996,174,65,74,-9,19,77,215,6,22,55,False\\nHave You Ever - Radio Edit,Brandy,dance pop,2005,134,48,68,-7,30,23,215,60,4,54,False\\nGangsta\\'s Paradise,Coolio,g funk,1995,80,63,64,-6,40,42,242,4,5,54,False\\nShow Me Love,Robin S,disco house,2017,120,72,82,-6,8,56,254,1,13,53,False\\nWhen I Look Into Your Eyes,Firehouse,album rock,2010,147,61,39,-8,16,25,240,0,3,53,False\\nInsomnia - Radio Edit,Faithless,big beat,2010,127,92,71,-9,37,53,216,6,4,50,False\\nIf You Ever,East 17,boy band,1996,140,68,58,-9,31,57,255,18,3,48,False\\nPump Up The Jam,Technotronic,eurodance,2019,125,84,89,-9,5,72,320,1,7,46,False\\nDoin\\' It,LL Cool J,east coast hip hop,1996,95,53,81,-12,12,62,294,34,19,46,False\\nPlease Forgive Me,Bryan Adams,album rock,2005,67,46,53,-7,10,15,356,50,3,43,False\\nIn the End,Linkin Park,alternative metal,2000,105,86,56,-6,21,40,217,1,6,83,True\\nThe Scientist,Coldplay,permanent wave,2002,146,44,56,-7,11,21,310,73,2,83,True\\nNumb,Linkin Park,alternative metal,2003,110,86,50,-4,64,24,186,0,4,81,True\\nFix You,Coldplay,permanent wave,2005,138,42,21,-9,11,12,296,16,3,81,True\\nUmbrella,Rihanna,barbadian pop,2008,174,83,58,-5,4,57,276,1,13,80,False\\nStronger,Kanye West,chicago rap,2007,104,72,62,-8,41,49,312,1,15,80,True\\nThe Real Slim Shady,Eminem,detroit hip hop,2000,105,66,95,-4,5,76,284,3,6,80,True\\nLow (feat. T-Pain),Flo Rida,dance pop,2008,128,61,92,-6,14,30,231,9,8,79,False\\nAmerican Boy,Estelle,r&b,2008,118,73,73,-3,7,51,285,17,33,79,False\\nYeah! (feat. Lil Jon & Ludacris),Usher,atl hip hop,2004,105,79,89,-5,4,58,250,2,11,79,False\\nHall of Fame,The Script,celtic rock,2012,85,87,42,-4,12,63,203,7,6,78,False\\nParty In The U.S.A.,Miley Cyrus,dance pop,2009,96,70,65,-5,9,47,202,0,4,78,False\\nCandy Shop,50 Cent,east coast hip hop,2005,125,57,61,-8,38,76,209,3,47,78,False\\nFireflies,Owl City,pop,2009,180,66,51,-7,12,46,228,3,4,78,False\\nDynamite,Taio Cruz,dance pop,2010,120,78,75,-4,4,82,203,0,9,77,False\\nSo Sick,Ne-Yo,dance pop,2006,93,57,45,-8,19,58,207,25,31,77,False\\nTake A Bow,Rihanna,barbadian pop,2008,82,47,70,-8,9,57,229,25,7,77,False\\nDilemma,Nelly,dance pop,2002,168,55,73,-8,20,61,289,23,14,77,False\\nI Gotta Feeling,The Black Eyed Peas,dance pop,2009,128,77,74,-6,51,61,289,9,3,77,False\\nHalo,BeyoncÃ©,dance pop,2008,80,72,51,-6,6,47,262,27,6,77,False\\nIn Da Club,50 Cent,east coast hip hop,2003,90,71,90,-3,7,78,193,26,37,77,False\\nJust the Way You Are,Bruno Mars,pop,2010,109,84,64,-5,9,43,221,2,4,77,False\\nCrank That (Soulja Boy),Soulja Boy,atl hip hop,2007,140,74,74,-2,5,80,222,52,8,76,False\\nGasolina,Daddy Yankee,latin,2004,96,80,86,-6,8,75,193,33,6,76,False\\nLet Me Love You,Mario,dance pop,2004,95,58,66,-9,12,56,257,24,9,76,False\\nDon\\'t Stop The Music,Rihanna,barbadian pop,2008,123,67,84,-6,5,54,267,3,6,76,False\\n\"Lose Yourself - From \"\"8 Mile\"\" Soundtrack\",Eminem,detroit hip hop,2004,171,74,69,-5,34,6,322,1,26,76,False\\nI Knew You Were Trouble.,Taylor Swift,dance pop,2012,77,47,62,-7,3,68,220,0,4,75,False\\nTemperature,Sean Paul,dance pop,2005,125,60,95,-5,7,82,219,11,7,75,False\\nEmpire State of Mind (Part II) Broken Down,Alicia Keys,hip pop,2009,93,37,48,-8,12,14,216,74,3,75,False\\nWhere Is The Love?,The Black Eyed Peas,dance pop,2003,94,69,84,-3,13,83,273,10,18,75,False\\nReplay,Iyaz,dance pop,2009,91,75,71,-6,17,20,182,17,7,74,False\\nLive Your Life (feat. Rihanna),T.I.,atl hip hop,2008,160,86,38,-3,21,48,339,7,26,74,False\\nGrenade,Bruno Mars,pop,2010,110,56,71,-7,12,23,223,15,6,74,False\\nLast Friday Night (T.G.I.F.),Katy Perry,dance pop,2012,126,82,65,-4,67,77,231,0,4,74,False\\nWomanizer,Britney Spears,dance pop,2009,139,70,72,-5,9,24,224,7,6,74,False\\nYou Found Me,The Fray,modern rock,2009,152,80,34,-5,14,40,242,2,4,74,False\\nOne Tow Step (feat. Missy Elliot),Ciara,dance pop,2004,113,51,94,-11,4,84,204,4,16,74,False\\nSmack That,Akon,dance pop,2006,119,74,94,-5,9,93,212,32,5,73,False\\nAlors on danse,Stromae,belgian pop,2010,120,59,79,-9,7,71,206,10,8,73,False\\nNo Air (feat. Chris Brown),Jordin Sparks,dance pop,2007,160,76,47,-5,6,33,264,5,20,73,False\\nWe Are Never Ever Getting Back Together,Taylor Swift,dance pop,2012,86,68,63,-6,12,75,193,1,9,73,False\\nLove Story,Taylor Swift,dance pop,2008,119,74,62,-4,8,31,236,13,3,73,False\\nPon de Replay,Rihanna,barbadian pop,2005,99,64,78,-8,10,50,247,0,16,73,False\\nA Milli,Lil Wayne,hip hop,2008,151,70,67,-9,19,77,222,4,28,73,False\\nU Remind Me,Usher,atl hip hop,2001,94,63,66,-5,25,73,267,19,8,73,False\\nRight Round,Flo Rida,dance pop,2009,125,67,72,-7,23,71,205,1,6,72,False\\nBecause Of You,Ne-Yo,dance pop,2007,110,54,81,-6,10,83,267,53,4,72,False\\nCall on Me - Radio Mix,Eric Prydz,big room,2004,126,84,60,-7,84,45,171,0,38,72,False\\nOnly Girl (In The World),Rihanna,barbadian pop,2010,126,72,79,-4,7,61,235,13,4,72,False\\nWhat\\'s Luv? (feat. Ja-Rule & Ashanti),Fat Joe,bronx hip hop,2001,94,71,84,-5,11,92,267,2,6,72,False\\nPump It,The Black Eyed Peas,dance pop,2005,154,93,65,-3,75,74,213,1,18,72,False\\nBreak Your Heart,Taio Cruz,dance pop,2010,122,93,61,-4,9,57,202,3,3,71,False\\nNumb / Encore,JAY-Z,east coast hip hop,2004,107,80,69,-4,55,80,205,6,16,71,False\\nHate That I Love You,Rihanna,barbadian pop,2008,94,73,64,-5,10,73,219,32,9,71,False\\nLollipop,Lil Wayne,hip hop,2008,148,43,83,-9,14,45,299,6,8,71,False\\nRockstar,Nickelback,alternative metal,2005,144,91,62,-3,34,69,252,5,4,71,False\\nI Wanna Love You,Akon,dance pop,2006,100,45,87,-9,31,35,247,4,4,70,False\\nCrush,David Archuleta,dance pop,2008,162,66,57,-5,7,49,214,1,3,70,False\\nApologize,Timbaland,dance pop,2007,118,60,66,-6,10,8,184,4,3,70,False\\n7 Days,Craig David,british soul,2001,83,81,66,-7,10,89,235,23,5,70,False\\nBroken Strings,James Morrison,neo mellow,2008,112,72,57,-5,8,32,250,1,3,70,False\\nBleeding Love,Leona Lewis,british soul,2007,104,65,64,-6,15,20,263,19,4,70,False\\nIn My Head,Jason Derulo,dance pop,2010,110,75,76,-4,35,85,199,3,3,69,False\\nRidin\\',Chamillionaire,dirty south rap,2005,143,80,79,-5,30,84,303,19,10,69,False\\nHot N Cold,Katy Perry,dance pop,2008,132,84,71,-4,7,86,220,0,4,69,False\\nBreakeven,The Script,celtic rock,2008,94,70,63,-5,8,49,261,14,2,68,False\\nSnap Yo Fingers,Youngbloodz,atl hip hop,2006,82,76,84,-5,29,63,274,1,23,68,False\\nBoom Boom Pow,The Black Eyed Peas,dance pop,2009,130,86,87,-6,13,40,251,13,7,68,False\\nLady - Hear Me Tonight,Modjo,disco house,2001,126,81,72,-6,6,87,307,1,4,68,False\\nSuperstar,Jamelia,europop,2003,110,65,80,-7,4,82,215,5,4,67,False\\nLove Lockdown,Kanye West,chicago rap,2008,120,52,76,-8,11,11,270,5,3,67,False\\nThe Tide Is High - Radio Mix,Atomic Kitten,bubblegum dance,2003,103,69,78,-3,3,64,205,2,3,66,False\\nRelease Me,Agnes,dance pop,2009,128,92,62,-3,11,72,256,1,3,65,False\\nAbout You Now,Sugababes,bubblegum dance,2007,82,70,58,-6,49,59,212,0,4,65,False\\nPjanoo - Radio Edit,Eric Prydz,big room,2008,126,87,60,-5,11,84,157,0,3,65,False\\nLet It Rock,Kevin Rudolf,dance pop,2008,113,78,61,-4,7,44,231,0,4,65,False\\nEverytime We Touch - Radio Edit,Cascada,bubblegum dance,2011,142,98,64,-5,37,49,199,0,6,64,False\\nLean Back,Terror Squad,bronx hip hop,2004,127,92,80,-3,7,70,247,11,47,64,False\\nTiK ToK,Kesha,dance pop,2014,120,67,75,-7,28,63,200,6,12,63,False\\nAll Rise,Blue,boy band,2001,98,74,72,-3,17,93,224,12,3,63,False\\nFergalicious,Fergie,dance pop,2006,129,58,91,-8,13,83,292,6,32,63,False\\nSomething,Lasgo,belgian dance,2001,140,98,64,-7,11,38,221,3,4,63,False\\nWhen Love Takes Over (feat. Kelly Rowland),David Guetta,dance pop,2009,130,86,66,-5,20,50,189,1,3,63,False\\nAnyone Of Us (Stupid Mistake),Gareth Gates,europop,2002,107,72,70,-6,8,65,228,28,3,61,False\\nTeardrops On My Guitar - Radio Single Remix,Taylor Swift,dance pop,2006,100,42,62,-7,12,29,203,29,2,61,False\\nThank God I Found You,Mariah Carey,dance pop,1999,130,53,47,-6,11,15,257,59,3,61,False\\nSexy Bitch (feat. Akon) - Extended,David Guetta,dance pop,2009,130,30,96,-6,8,80,312,2,13,60,False\\nCooler Than Me - Single Mix,Mike Posner,dance pop,2010,130,82,75,-5,69,65,213,15,6,60,False\\nBump Bump Bump,B2K,boy band,2003,96,68,84,-6,5,89,283,10,21,60,False\\nBeautiful Girls,Sean Kingston,dance pop,2014,118,64,54,-7,24,75,242,14,9,60,False\\nI Know You Want Me (Calle Ocho),Pitbull,dance pop,2009,127,74,82,-6,24,80,237,1,14,60,False\\nLeave The World Behind - Radio Edit,Axwell,big room,2009,128,85,53,-8,32,28,162,0,5,58,False\\nDÃ©senchantÃ©e - Radio Edit,Kate Ryan,belgian pop,2008,140,94,52,-5,23,29,221,17,7,57,False\\nMoving too fast - Radio Edit,Artful Dodger,uk garage,2012,127,51,84,-11,3,52,238,9,5,57,False\\nI Know What You Want (feat. Flipmode Squad),Busta Rhymes,east coast hip hop,2002,86,75,56,-4,64,49,324,1,32,56,False\\nKnock You Down,Keri Hilson,dance pop,2009,155,88,59,-5,17,65,326,1,16,56,False\\nDragostea Din Tei - Italian Version,O-Zone,bubblegum dance,2010,130,89,67,-6,10,80,215,4,3,44,False\\nWhat A Girl Wants - Eddie Arroyo Dance Radio Edit,Christina Aguilera,dance pop,1999,130,92,75,-7,7,66,244,1,3,40,False\\nImpossible - Main,Shontelle,barbadian pop,2019,90,57,59,-5,11,51,226,44,4,32,False\\nbad guy,Billie Eilish,electropop,2019,135,43,70,-11,10,56,194,33,38,94,False\\n7 rings,Ariana Grande,dance pop,2019,140,32,78,-11,9,33,179,59,33,90,True\\nOld Town Road - Remix,Lil Nas X,country rap,2019,136,62,88,-6,11,64,157,5,10,89,True\\nSeÃ±orita,Shawn Mendes,canadian pop,2019,117,55,76,-6,8,75,191,4,3,88,True\\nrockstar (feat. 21 Savage),Post Malone,dfw rap,2018,160,52,59,-6,13,13,218,12,7,88,True\\nSAD!,XXXTENTACION,emo rap,2018,75,61,74,-5,12,47,167,26,14,87,True\\nSunflower - Spider-Man: Into the Spider-Verse,Post Malone,dfw rap,2019,90,52,76,-4,7,93,158,53,6,86,True\\nGod\\'s Plan,Drake,canadian hip hop,2018,77,45,75,-9,55,36,199,3,11,85,True\\nOne Kiss (with Dua Lipa),Calvin Harris,dance pop,2018,124,86,79,-3,8,59,215,4,11,85,True\\nThunder,Imagine Dragons,modern rock,2017,168,82,61,-5,15,29,187,1,4,85,True\\nI Fall Apart,Post Malone,dfw rap,2016,144,54,56,-5,20,29,223,7,4,84,True\\nHUMBLE.,Kendrick Lamar,conscious hip hop,2017,150,62,91,-7,10,42,177,0,10,84,True\\nStarboy,The Weeknd,canadian contemporary r&b,2016,186,59,68,-7,14,49,230,14,28,84,True\\nFRIENDS,Marshmello,brostep,2018,95,88,63,-2,13,53,203,21,5,83,False\\nPsycho (feat. Ty Dolla $ign),Post Malone,dfw rap,2018,140,56,75,-8,11,46,221,55,11,83,True\\nCongratulations,Post Malone,dfw rap,2016,123,80,63,-4,25,49,220,22,4,83,True\\nIn My Feelings,Drake,canadian hip hop,2018,91,63,84,-6,40,35,218,6,13,83,True\\nThe Hills,The Weeknd,canadian contemporary r&b,2015,113,56,58,-7,14,14,242,7,5,83,True\\nno tears left to cry,Ariana Grande,dance pop,2018,122,71,70,-6,29,35,206,4,6,83,True\\nDancing On My Own,Calum Scott,pop,2018,113,17,68,-9,10,24,260,84,3,83,True\\nNew Rules,Dua Lipa,dance pop,2017,116,70,76,-6,15,61,209,0,7,83,True\\nTreat You Better,Shawn Mendes,canadian pop,2017,83,82,44,-4,11,75,188,11,34,83,True\\nSomething Just Like This,The Chainsmokers,electropop,2017,103,64,62,-7,16,45,247,5,3,83,True\\nHappier,Ed Sheeran,pop,2017,90,39,52,-7,14,24,208,54,3,82,True\\nAttention,Charlie Puth,dance pop,2018,100,61,78,-5,13,80,209,11,5,82,True\\nIDGAF,Dua Lipa,dance pop,2017,97,54,84,-6,8,51,218,4,9,82,True\\nThere\\'s Nothing Holdin\\' Me Back,Shawn Mendes,canadian pop,2017,122,81,87,-4,8,97,199,38,6,82,True\\nScared to Be Lonely,Martin Garrix,big room,2017,138,54,58,-8,26,20,221,9,6,81,True\\nWhatever It Takes,Imagine Dragons,modern rock,2017,135,66,67,-5,12,56,201,4,3,81,True\\nLet Me Love You,DJ Snake,electronic trap,2016,100,72,65,-5,14,16,206,9,3,81,True\\ni hate u i love u (feat. olivia o\\'brien),gnash,pop,2016,93,28,49,-13,10,18,251,69,30,81,True\\nSilence,Marshmello,brostep,2017,142,76,52,-3,17,29,181,26,9,80,False\\nThe Nights,Avicii,big room,2014,126,84,53,-5,25,65,177,2,4,80,True\\nWithout You (feat. Sandro Cavazza),Avicii,big room,2017,134,86,66,-5,5,30,182,0,4,80,True\\nIn the Name of Love,Martin Garrix,big room,2016,134,52,50,-6,45,17,196,11,4,80,True\\nFaded,Alan Walker,electro house,2018,180,63,47,-5,11,16,212,3,5,80,True\\nStory of My Life,One Direction,boy band,2013,121,66,60,-6,12,29,245,23,5,80,True\\nSolo (feat. Demi Lovato),Clean Bandit,dance pop,2018,105,64,74,-5,35,56,223,4,4,79,False\\nLove Lies (with Normani),Khalid,alternative r&b,2018,144,65,71,-6,13,34,202,10,4,79,False\\nLittle Do You Know,Alex & Sierra,neo mellow,2014,146,29,50,-9,19,37,185,75,3,79,False\\nMercy,Shawn Mendes,canadian pop,2017,148,66,56,-5,11,36,209,13,8,79,False\\nExchange,Bryson Tiller,pop,2015,160,43,53,-11,14,27,195,11,19,79,False\\nOne Last Time,Ariana Grande,dance pop,2014,125,59,63,-5,10,10,197,9,3,79,False\\nDJ Got Us Fallin\\' In Love (feat. Pitbull),Usher,atl hip hop,2010,120,86,66,-3,8,65,221,3,11,78,False\\nGive Me Everything,Pitbull,dance pop,2011,129,94,67,-3,30,53,252,19,16,78,False\\nWaiting For Love,Avicii,big room,2015,128,74,58,-4,20,61,231,31,5,78,False\\nStay,Zedd,complextro,2017,102,62,69,-5,12,54,210,25,6,78,False\\nIt Ain\\'t Me (with Selena Gomez),Kygo,edm,2017,100,53,64,-7,9,52,221,12,7,78,False\\nPayphone,Maroon 5,pop,2012,110,75,74,-5,29,55,231,2,4,78,False\\nPILLOWTALK,ZAYN,dance pop,2016,125,70,58,-4,9,44,203,12,5,78,False\\nAll I Want,Kodaline,irish pop,2013,86,41,21,-10,8,16,306,17,4,78,False\\nYoungblood,5 Seconds of Summer,boy band,2018,120,85,60,-5,12,15,203,2,46,77,False\\nSymphony (feat. Zara Larsson),Clean Bandit,dance pop,2017,123,63,71,-5,14,46,212,26,6,77,False\\nUnsteady,X Ambassadors,indie poptimism,2015,117,67,39,-6,12,20,194,18,6,77,False\\nClassic,MKTO,dance pop,2012,102,79,72,-5,16,76,175,4,12,77,False\\nTime of Our Lives,Pitbull,dance pop,2014,124,80,72,-6,69,72,229,9,6,77,False\\nPlease Don\\'t Go,Joel Adams,australian pop,2015,84,77,51,-5,29,24,211,1,6,76,False\\nWhen You Love Someone,James TW,neo mellow,2019,126,45,68,-6,5,35,217,26,3,76,False\\nI Dont Wanna Live Forever (Fifty Shades Darker),ZAYN,dance pop,2016,118,45,74,-8,33,9,245,6,6,76,False\\nPerfect Strangers,Jonas Blue,dance pop,2018,118,86,73,-4,21,70,197,39,5,76,False\\nFriends (with BloodPopÂ®),Justin Bieber,canadian pop,2017,105,73,74,-5,30,62,189,0,4,75,False\\nSeptember Song,JP Cooper,dance pop,2017,96,62,61,-7,9,37,220,5,4,75,False\\nNever Forget You,Zara Larsson,dance pop,2017,146,73,58,-6,27,28,213,0,5,75,False\\nSay You Won\\'t Let Go,James Arthur,pop,2016,99,56,40,-7,9,48,211,69,5,75,False\\nAirplanes (feat. Hayley Williams),B.o.B,atl hip hop,2010,93,87,66,-4,4,38,180,11,12,75,False\\nWhistle,Flo Rida,dance pop,2012,104,94,75,-6,29,74,225,2,5,75,False\\nDo It Again,Pia Mia,dance pop,2015,96,56,71,-7,9,41,208,3,5,74,False\\nParis,The Chainsmokers,electropop,2017,100,64,65,-7,9,25,222,2,3,74,False\\nAll My Friends (feat. Tinashe & Chance the Rapper),Snakehips,dance pop,2015,95,52,69,-6,11,18,230,12,13,74,False\\nSlide (feat. Frank Ocean & Migos),Calvin Harris,dance pop,2017,104,80,74,-3,25,51,231,50,5,74,False\\nNo Promises (feat. Demi Lovato),Cheat Codes,dance pop,2017,113,67,74,-5,11,60,224,6,13,73,False\\nThe Ocean (feat. Shy Martin),Mike Perry,big room,2016,90,57,63,-6,10,19,183,2,3,73,False\\nCapsize,FRENSHIP,electropop,2016,93,71,68,-6,69,36,238,4,3,72,False\\nAs Long As You Love Me,Justin Bieber,canadian pop,2012,140,87,57,-3,36,61,229,8,10,72,False\\nPretty Girl - Cheat Codes X CADE Remix,Maggie Lindemann,dance pop,2017,121,87,70,-5,10,73,194,15,3,71,False\\n2U (feat. Justin Bieber),David Guetta,dance pop,2017,145,65,55,-6,23,56,195,22,6,71,False\\nStrip That Down (feat. Quavo),Liam Payne,dance pop,2019,106,50,87,-5,8,55,202,20,5,71,False\\nWildest Dreams,Taylor Swift,dance pop,2014,140,66,55,-7,11,47,220,7,7,71,False\\nSun Is Shining,Axwell /\\\\ Ingrosso,big room,2017,132,76,47,-3,7,38,255,9,5,71,False\\nSolo Dance,Martin Jensen,big room,2016,115,85,75,-2,20,40,175,5,5,70,False\\nAlone,Alan Walker,electro house,2016,97,93,68,-3,12,16,161,19,5,70,False\\nYou Don\\'t Know Me (feat. RAYE),Jax Jones,dance pop,2019,124,67,88,-6,32,67,213,16,14,70,False\\nCan\\'t Hold Us (feat. Ray Dalton),Macklemore & Ryan Lewis,dance pop,2012,146,93,63,-4,10,88,258,3,8,70,False\\nHurts So Good,Astrid S,dance pop,2016,120,63,67,-5,9,42,209,8,5,69,False\\nFive More Hours - Deorro x Chris Brown,Deorro,big room,2017,128,88,70,-3,82,50,212,3,22,69,False\\nShe Looks So Perfect,5 Seconds of Summer,boy band,2014,160,95,49,-4,33,44,202,0,13,69,False\\nWhere Them Girls At (feat. Nicki Minaj & Flo Rida),David Guetta,dance pop,2012,130,88,67,-3,26,55,195,6,4,69,False\\nMama,Jonas Blue,dance pop,2017,104,79,74,-4,5,54,184,10,4,68,False\\nDon\\'t Leave,Snakehips,dance pop,2017,122,70,66,-3,26,34,215,22,8,68,False\\nDrag Me Down,One Direction,boy band,2015,138,71,72,-6,5,61,192,10,4,68,False\\nThe One That Got Away,Katy Perry,dance pop,2010,134,80,69,-4,16,88,227,0,4,66,False\\nShed a Light,Robin Schulz,dance pop,2016,122,79,48,-5,26,58,191,11,10,65,False\\nSex,Cheat Codes,dance pop,2016,105,69,60,-6,13,19,228,0,16,60,False\\nCall on Me - Ryan Riback Remix,Starley,aussietronica,2016,105,84,67,-4,16,72,222,6,4,58,False\\nStereo Hearts (feat. Adam Levine),Gym Class Heroes,dance pop,2011,90,80,65,-3,27,80,211,3,10,56,False\\nDynamite,Taio Cruz,dance pop,2011,120,79,76,-4,3,87,203,0,8,56,False\\nBreak Your Heart,Taio Cruz,dance pop,2011,122,89,67,-5,24,68,185,0,3,54,False\\nSummer Air,ItaloBrothers,dance pop,2017,102,75,76,-4,8,49,184,6,7,43,False\\nAll I Wanna Do,Martin Jensen,big room,2016,112,79,73,-4,7,56,194,16,7,32,False\\n\"Hey, Soul Sister\",Train,neo mellow,2010,97,89,67,-4,8,80,217,19,4,83,True\\nLove The Way You Lie,Eminem,detroit hip hop,2010,87,93,75,-5,52,64,263,24,23,82,True\\nTiK ToK,Kesha,dance pop,2010,120,84,76,-3,29,71,200,10,14,80,False\\nBad Romance,Lady Gaga,dance pop,2010,119,92,70,-4,8,71,295,0,4,79,False\\nJust the Way You Are,Bruno Mars,pop,2010,109,84,64,-5,9,43,221,2,4,78,False\\nBaby,Justin Bieber,canadian pop,2010,65,86,73,-5,11,54,214,4,14,77,False\\nSecrets,OneRepublic,dance pop,2010,148,76,52,-6,12,38,225,7,4,77,False\\nEmpire State of Mind (Part II) Broken Down,Alicia Keys,hip pop,2010,93,37,48,-8,12,14,216,74,3,76,False\\nOnly Girl (In The World),Rihanna,barbadian pop,2010,126,72,79,-4,7,61,235,13,4,73,False\\nClub Can\\'t Handle Me (feat. David Guetta),Flo Rida,dance pop,2010,128,87,62,-4,6,47,235,3,3,73,False\\nMarry You,Bruno Mars,pop,2010,145,83,62,-5,10,48,230,33,4,73,False\\nCooler Than Me - Single Mix,Mike Posner,dance pop,2010,130,82,77,-5,70,63,213,18,5,73,False\\nTelephone,Lady Gaga,dance pop,2010,122,83,83,-6,11,71,221,1,4,73,False\\nLike A G6,Far East Movement,dance pop,2010,125,84,44,-8,12,78,217,1,45,72,False\\nOMG (feat. will.i.am),Usher,atl hip hop,2010,130,75,78,-6,36,33,269,20,3,72,False\\nEenie Meenie,Sean Kingston,dance pop,2010,121,61,72,-4,11,83,202,5,3,71,False\\nThe Time (Dirty Bit),The Black Eyed Peas,dance pop,2010,128,81,82,-8,60,44,308,7,7,70,False\\nAlejandro,Lady Gaga,dance pop,2010,99,80,63,-7,36,37,274,0,5,69,False\\nYour Love Is My Drug,Kesha,dance pop,2010,120,61,83,-4,9,76,187,1,10,69,False\\nMeet Me Halfway,The Black Eyed Peas,dance pop,2010,130,63,80,-7,32,40,284,0,7,68,False\\nWhataya Want from Me,Adam Lambert,australian pop,2010,186,68,44,-5,6,45,227,1,5,66,False\\nTake It Off,Kesha,dance pop,2010,125,68,73,-5,9,74,215,0,3,66,False\\nMisery,Maroon 5,pop,2010,103,81,70,-5,22,73,216,0,4,65,False\\nAll The Right Moves,OneRepublic,dance pop,2010,146,95,53,-4,28,65,238,26,5,65,False\\nAnimal,Neon Trees,indie pop,2010,148,83,48,-6,38,74,212,0,4,65,False\\nNaturally,Selena Gomez & The Scene,dance pop,2010,133,90,61,-5,5,88,203,2,5,64,False\\nI Like It,Enrique Iglesias,dance pop,2010,129,94,65,-3,6,73,231,2,9,63,False\\nTeenage Dream,Katy Perry,dance pop,2010,120,80,72,-5,13,59,228,2,4,63,False\\nCalifornia Gurls,Katy Perry,dance pop,2010,125,75,79,-4,18,40,235,0,5,62,False\\n3,Britney Spears,dance pop,2010,135,71,70,-2,14,79,213,5,5,62,False\\nMy First Kiss - feat. Ke$ha,3OH!3,dance pop,2010,138,89,68,-4,36,83,192,1,8,62,False\\nBlah Blah Blah (feat. 3OH!3),Kesha,dance pop,2010,120,84,75,-3,42,52,172,8,12,62,False\\nImma Be,The Black Eyed Peas,dance pop,2010,92,52,60,-7,31,41,258,18,37,62,False\\nTry Sleeping with a Broken Heart,Alicia Keys,hip pop,2010,111,82,50,-5,13,55,249,16,11,62,False\\nSexy Bitch (feat. Akon),David Guetta,dance pop,2010,130,63,81,-5,13,80,196,8,5,61,False\\nBound To You - Burlesque Original Motion Picture Soundtrack,Christina Aguilera,dance pop,2010,164,41,29,-5,13,7,264,83,3,61,False\\nIf I Had You,Adam Lambert,australian pop,2010,131,91,65,-4,37,79,228,1,11,59,False\\nRock That Body,The Black Eyed Peas,dance pop,2010,125,91,72,-6,43,84,269,2,10,59,False\\nDog Days Are Over,Florence + The Machine,art pop,2010,150,81,50,-5,12,26,253,3,9,58,False\\nSomething\\'s Got A Hold On Me - Burlesque Original Motion Picture Soundtrack,Christina Aguilera,dance pop,2010,150,85,51,-4,12,72,185,47,27,58,False\\nDoesn\\'t Mean Anything,Alicia Keys,hip pop,2010,104,41,71,-7,10,10,273,4,3,57,False\\nHard,Rihanna,barbadian pop,2010,182,75,31,-4,65,16,251,1,11,57,False\\nLoca,Shakira,colombian pop,2010,112,87,80,-4,9,85,193,19,7,56,False\\nYou Lost Me,Christina Aguilera,dance pop,2010,43,39,23,-6,14,7,257,85,4,56,False\\nNot Myself Tonight,Christina Aguilera,dance pop,2010,120,81,76,-5,56,54,186,0,4,55,False\\nWritten in the Stars (feat. Eric Turner),Tinie Tempah,dance pop,2010,91,95,64,-4,18,57,220,6,7,52,False\\nDJ Got Us Fallin\\' In Love (feat. Pitbull),Usher,atl hip hop,2010,120,86,66,-3,8,65,221,3,11,52,False\\nCastle Walls (feat. Christina Aguilera),T.I.,atl hip hop,2010,80,86,45,-5,26,58,329,7,39,49,False\\nBreak Your Heart,Taio Cruz,dance pop,2010,122,90,67,-5,8,63,186,0,3,33,False\\nHello,Martin Solveig,big room,2010,128,98,67,-3,10,45,191,1,3,0,False\\nA Thousand Years,Christina Perri,dance pop,2011,139,41,42,-7,11,16,285,31,3,81,True\\nSomeone Like You,Adele,british soul,2011,135,33,56,-8,10,28,285,89,3,80,True\\nGive Me Everything,Pitbull,dance pop,2011,129,94,67,-3,30,53,252,19,16,79,False\\nJust the Way You Are,Bruno Mars,pop,2011,109,84,64,-5,9,43,221,2,4,78,False\\nRolling in the Deep,Adele,british soul,2011,105,76,73,-5,5,52,228,13,3,76,False\\nRun the World (Girls),Beyoncé,dance pop,2011,127,90,73,-4,37,76,236,0,14,76,False\\nMoves Like Jagger - Studio Recording From The Voice Performance,Maroon 5,pop,2011,128,76,72,-4,32,62,201,1,5,76,False\\nLove On Top,Beyoncé,dance pop,2011,94,75,65,-5,60,65,267,8,9,76,False\\nGrenade,Bruno Mars,pop,2011,110,56,71,-7,12,23,223,15,6,75,False\\nTonight Tonight,Hot Chelle Rae,dance pop,2011,100,78,69,-5,16,81,200,8,12,75,False\\nWhat the Hell,Avril Lavigne,canadian pop,2011,150,93,58,-4,14,88,221,0,5,74,False\\nBorn This Way,Lady Gaga,dance pop,2011,124,83,59,-5,33,49,260,0,16,73,False\\nMonster,Kanye West,chicago rap,2011,125,69,63,-6,67,10,379,0,20,73,False\\nMarry You,Bruno Mars,pop,2011,145,83,62,-5,10,48,230,33,4,73,False\\nBest Thing I Never Had,Beyoncé,dance pop,2011,99,65,55,-4,9,30,254,14,3,73,False\\nParty Rock Anthem,LMFAO,dance pop,2011,130,74,75,-4,27,35,262,2,16,72,False\\nWe R Who We R,Kesha,dance pop,2011,120,82,74,-5,12,65,205,1,4,72,False\\nPrice Tag,Jessie J,australian pop,2011,175,83,64,-4,27,68,223,3,18,72,False\\nGood Life,OneRepublic,dance pop,2011,95,69,63,-8,13,65,253,8,5,72,False\\nJust Can’t Get Enough,The Black Eyed Peas,dance pop,2011,94,63,66,-9,11,26,219,19,18,71,False\\nOn The Floor,Jennifer Lopez,dance pop,2011,130,78,73,-5,7,57,285,11,5,69,False\\nWhat\\'s My Name?,Rihanna,barbadian pop,2011,100,79,69,-3,8,58,263,23,7,69,False\\nYeah 3x,Chris Brown,dance pop,2011,130,88,71,-3,9,70,242,0,4,69,False\\nWithout You (feat. Usher),David Guetta,dance pop,2011,128,61,61,-4,16,40,208,23,3,68,False\\nSexy And I Know It,LMFAO,dance pop,2011,130,86,71,-4,19,80,199,10,32,67,False\\nThe Edge Of Glory,Lady Gaga,dance pop,2011,128,77,58,-6,11,36,321,0,4,67,False\\nE.T.,Katy Perry,dance pop,2011,152,87,62,-5,37,76,230,2,18,66,False\\nTill the World Ends,Britney Spears,dance pop,2011,132,71,69,-6,20,45,238,2,7,65,False\\nI Wanna Go,Britney Spears,dance pop,2011,130,55,70,-7,33,79,210,0,4,64,False\\nBlow,Kesha,dance pop,2011,120,73,75,-4,7,81,220,0,4,64,False\\nYou And I,Lady Gaga,dance pop,2011,127,70,52,-5,9,52,307,9,5,64,False\\nJudas,Lady Gaga,dance pop,2011,131,93,66,-4,27,53,249,0,7,63,False\\nTonight (I\\'m Fuckin\\' You),Enrique Iglesias,dance pop,2011,126,89,65,-4,12,32,232,3,5,63,False\\nPlease Don\\'t Go,Mike Posner,dance pop,2011,120,88,70,-4,13,66,197,0,3,63,False\\nWe Found Love,Rihanna,barbadian pop,2011,128,77,73,-4,11,60,215,3,4,61,False\\nMarry The Night,Lady Gaga,dance pop,2011,131,88,61,-4,46,38,265,0,6,61,False\\n1+1,Beyoncé,dance pop,2011,63,38,30,-7,7,26,274,38,3,60,False\\nHold It Against Me,Britney Spears,dance pop,2011,133,72,65,-5,24,39,229,1,4,59,False\\nI\\'m Into You,Jennifer Lopez,dance pop,2011,84,75,59,-4,8,70,200,2,14,59,False\\nPapi,Jennifer Lopez,dance pop,2011,120,81,71,-5,37,89,223,13,6,58,False\\nCheers (Drink To That),Rihanna,barbadian pop,2011,80,91,58,-4,29,73,262,2,4,58,False\\nS&M Remix,Rihanna,barbadian pop,2011,128,81,82,-3,5,89,257,5,5,54,False\\nWritten in the Stars (feat. Eric Turner),Tinie Tempah,dance pop,2011,91,95,64,-4,18,57,220,6,7,52,False\\nJar of Hearts,Christina Perri,dance pop,2011,75,35,35,-6,12,9,247,73,3,50,False\\nCastle Walls (feat. Christina Aguilera),T.I.,atl hip hop,2011,80,86,45,-5,26,58,329,7,39,49,False\\nTurning Page,Sleeping At Last,acoustic pop,2011,125,38,30,-8,11,19,255,91,3,46,False\\nSuper Bass,Nicki Minaj,dance pop,2011,127,74,77,-7,40,59,201,6,23,38,False\\nRaise Your Glass,P!nk,dance pop,2011,122,64,68,-7,12,56,208,0,12,38,False\\nInvading My Mind,Jennifer Lopez,dance pop,2011,129,88,73,-4,32,69,201,2,7,31,False\\nMoment 4 Life - Album Version (Edited),Nicki Minaj,dance pop,2011,130,88,50,-4,22,37,279,39,38,28,False\\nLast Friday Night (T.G.I.F.),Katy Perry,dance pop,2011,126,81,65,-4,67,72,231,0,4,27,False\\nFirework,Katy Perry,dance pop,2011,124,83,64,-5,11,65,228,14,5,25,False\\nMuny - Album Version (Edited),Nicki Minaj,dance pop,2011,98,72,80,-5,19,53,227,56,33,7,False\\nTitanium (feat. Sia),David Guetta,dance pop,2012,126,79,60,-4,13,30,245,7,10,80,True\\nLocked Out of Heaven,Bruno Mars,pop,2012,144,70,73,-4,31,87,233,5,4,79,False\\nParadise,Coldplay,permanent wave,2012,140,59,45,-7,8,20,279,5,3,79,False\\nPayphone,Maroon 5,pop,2012,110,75,74,-5,29,55,231,2,4,79,False\\nWhat Makes You Beautiful,One Direction,boy band,2012,125,79,73,-2,6,89,200,1,7,78,False\\nI Knew You Were Trouble.,Taylor Swift,pop,2012,77,47,62,-7,3,68,220,0,4,77,False\\nCall Me Maybe,Carly Rae Jepsen,canadian pop,2012,120,58,78,-7,11,66,193,1,4,76,False\\nLove You Like A Love Song,Selena Gomez & The Scene,dance pop,2012,117,68,86,-4,7,92,188,8,5,76,False\\nSet Fire to the Rain,Adele,british soul,2012,108,68,61,-4,13,47,242,0,3,76,False\\nWe Are Never Ever Getting Back Together,Taylor Swift,pop,2012,86,68,63,-6,12,75,193,1,9,75,False\\nStronger (What Doesn\\'t Kill You),Kelly Clarkson,dance pop,2012,116,94,56,-4,11,68,222,5,5,74,False\\nTry,P!nk,dance pop,2012,104,63,67,-7,9,55,248,0,3,74,False\\nStarships,Nicki Minaj,dance pop,2012,125,72,75,-2,25,75,211,14,8,73,False\\nOne More Night,Maroon 5,pop,2012,93,82,72,-3,8,62,220,6,3,73,False\\nGood Time,Owl City,pop,2012,126,87,56,-4,37,68,206,2,14,73,False\\nGlad You Came,The Wanted,boy band,2012,127,85,72,-4,11,45,198,3,6,72,False\\nBeauty And A Beat,Justin Bieber,canadian pop,2012,128,84,60,-5,7,53,228,0,6,72,False\\nInternational Love,Pitbull,dance pop,2012,120,86,67,-3,34,65,227,1,5,72,False\\nSome Nights,fun.,baroque pop,2012,108,74,67,-7,9,39,277,2,5,72,False\\nBoyfriend,Justin Bieber,canadian pop,2012,97,55,72,-6,13,33,171,4,5,71,False\\nPart Of Me,Katy Perry,dance pop,2012,130,92,68,-5,7,77,216,0,4,71,False\\nDomino,Jessie J,australian pop,2012,127,55,76,-5,4,78,232,1,3,69,False\\nWhere Have You Been,Rihanna,barbadian pop,2012,128,85,72,-6,22,44,243,0,9,68,False\\nWide Awake,Katy Perry,dance pop,2012,160,68,51,-5,39,57,221,7,4,68,False\\nThe One That Got Away,Katy Perry,dance pop,2012,134,80,69,-4,16,88,227,0,4,67,False\\nDance Again,Jennifer Lopez,dance pop,2012,128,86,79,-5,10,71,237,2,7,66,False\\nTurn Up the Music,Chris Brown,dance pop,2012,130,84,59,-6,16,64,228,0,10,65,False\\nLights - Single Version,Ellie Goulding,dance pop,2012,120,80,68,-6,13,78,211,3,4,65,False\\nWe Are Young (feat. Janelle Monáe),fun.,baroque pop,2012,184,64,38,-6,8,74,251,2,8,63,False\\nDiamonds,Rihanna,barbadian pop,2012,92,71,56,-5,11,39,225,0,5,61,False\\nDon\\'t Stop the Party (feat. TJR),Pitbull,dance pop,2012,127,96,72,-4,38,95,206,1,9,59,False\\nYou Da One,Rihanna,barbadian pop,2012,127,72,70,-5,13,86,200,50,4,57,False\\nStereo Hearts (feat. Adam Levine),Gym Class Heroes,dance pop,2012,90,80,65,-3,27,80,211,3,10,54,False\\nIt Will Rain,Bruno Mars,pop,2012,150,84,58,-7,8,48,258,34,5,38,False\\nBlow Me (One Last Kiss),P!nk,dance pop,2012,114,92,60,-3,25,75,256,0,4,0,False\\nUnderneath the Tree,Kelly Clarkson,dance pop,2013,160,81,51,-5,21,69,230,0,5,88,True\\nWake Me Up,Avicii,big room,2013,124,78,53,-6,16,64,247,0,5,85,True\\nStory of My Life,One Direction,boy band,2013,121,66,60,-6,12,29,245,23,5,81,True\\nJust Give Me a Reason (feat. Nate Ruess),P!nk,dance pop,2013,95,55,78,-7,13,44,243,35,5,81,True\\nHall of Fame,The Script,celtic rock,2013,85,87,42,-4,12,63,203,7,6,80,True\\nRoar,Katy Perry,dance pop,2013,180,77,55,-5,35,46,224,0,4,78,False\\nWe Can\\'t Stop,Miley Cyrus,dance pop,2013,80,62,61,-6,37,48,231,1,3,78,False\\nDon\\'t You Worry Child - Radio Edit,Swedish House Mafia,big room,2013,129,84,61,-3,12,44,213,11,5,78,False\\nGet Lucky (feat. Pharrell Williams & Nile Rodgers) - Radio Edit,Daft Punk,electro,2013,116,81,79,-9,10,86,248,4,4,77,False\\nWrecking Ball,Miley Cyrus,dance pop,2013,120,42,53,-6,11,35,221,41,3,77,False\\nImpossible,James Arthur,pop,2013,170,70,38,-5,11,30,209,14,9,77,False\\nBlurred Lines,Robin Thicke,dance pop,2013,120,60,85,-5,8,84,264,0,4,76,False\\nHeart Attack,Demi Lovato,dance pop,2013,174,79,50,-5,24,50,211,7,10,76,False\\nWe Are Never Ever Getting Back Together,Taylor Swift,pop,2013,86,68,63,-6,12,75,193,1,9,75,False\\nDie Young,Kesha,dance pop,2013,128,70,71,-5,22,80,212,0,5,75,False\\nClarity,Zedd,complextro,2013,128,78,51,-3,7,18,271,4,7,75,False\\nSummertime Sadness (Lana Del Rey Vs. Cedric Gervais) - Cedric Gervais Remix,Lana Del Rey,art pop,2013,126,81,57,-6,13,11,215,2,6,74,False\\nUnder Control,Calvin Harris,dance pop,2013,126,92,54,-3,12,51,184,13,8,74,False\\nEverybody Talks,Neon Trees,indie pop,2013,155,92,47,-4,31,73,177,0,6,74,False\\n\"Hold On, We\\'re Going Home\",Drake,canadian hip hop,2013,100,41,77,-7,7,29,228,0,10,73,False\\nBest Song Ever,One Direction,boy band,2013,118,88,65,-3,8,49,200,2,5,73,False\\nKiss You,One Direction,boy band,2013,90,93,63,-3,32,91,183,2,6,73,False\\nSweet Nothing (feat. Florence Welch),Calvin Harris,dance pop,2013,128,93,57,-4,6,58,213,20,11,72,False\\nLose Yourself to Dance,Daft Punk,electro,2013,100,66,83,-8,8,67,354,8,6,72,False\\nWork Bitch,Britney Spears,dance pop,2013,128,82,63,-7,7,85,248,16,16,71,False\\nBrave,Sara Bareilles,acoustic pop,2013,185,84,55,-4,4,76,221,1,5,71,False\\nCan\\'t Hold Us (feat. Ray Dalton),Macklemore & Ryan Lewis,dance pop,2013,146,93,63,-4,10,88,258,3,8,70,False\\nFeel This Moment (feat. Christina Aguilera),Pitbull,dance pop,2013,136,76,67,-4,34,54,230,4,16,70,False\\nBeneath Your Beautiful,Labrinth,pop,2013,84,52,56,-6,10,23,272,23,4,70,False\\nLet Me Love You (Until You Learn To Love Yourself),Ne-Yo,dance pop,2013,125,68,66,-7,37,25,252,25,4,70,False\\nThrift Shop (feat. Wanz),Macklemore & Ryan Lewis,dance pop,2013,95,53,78,-7,5,66,236,6,29,69,False\\nIf I Lose Myself - Alesso vs OneRepublic,OneRepublic,dance pop,2013,126,75,52,-6,14,16,215,26,4,69,False\\nThe Way,Ariana Grande,dance pop,2013,82,88,65,-3,8,86,227,29,11,68,False\\nSuit & Tie,Justin Timberlake,dance pop,2013,102,60,80,-4,16,36,326,10,22,68,False\\n#thatPOWER,will.i.am,dance pop,2013,128,61,80,-6,7,40,280,0,6,68,False\\nI Love It (feat. Charli XCX),Icona Pop,candy pop,2013,126,91,71,-3,15,82,157,1,3,67,False\\nPlay Hard (feat. Ne-Yo & Akon) - New Edit,David Guetta,dance pop,2013,130,87,72,-3,66,68,209,4,4,67,False\\nDaylight,Maroon 5,pop,2013,120,67,66,-5,26,37,225,0,3,66,False\\nLove Somebody,Maroon 5,pop,2013,120,78,68,-6,12,40,230,13,4,65,False\\nA Little Party Never Killed Nobody (All We Got),Fergie,dance pop,2013,130,62,76,-6,9,52,241,1,18,65,False\\nMove,Little Mix,dance pop,2013,121,74,85,-5,55,77,224,0,9,63,False\\nWalks Like Rihanna,The Wanted,boy band,2013,126,82,56,-3,10,43,202,1,6,62,False\\nRock N Roll,Avril Lavigne,canadian pop,2013,184,96,47,-3,34,67,207,1,13,61,False\\nHeartbreaker,Justin Bieber,canadian pop,2013,105,52,56,-7,34,58,263,14,10,61,False\\nMirrors - Radio Edit,Justin Timberlake,dance pop,2013,77,60,58,-6,43,65,277,14,5,60,False\\nNext To Me,Emeli Sandé,dance pop,2013,95,80,67,-5,11,35,197,9,4,60,False\\nMade In The USA,Demi Lovato,dance pop,2013,87,86,58,-4,32,59,196,0,4,60,False\\nClown,Emeli Sandé,dance pop,2013,130,23,45,-8,11,23,221,92,4,60,False\\nGirl On Fire (feat. Nicki Minaj) - Inferno Version,Alicia Keys,hip pop,2013,93,81,55,-6,15,34,271,9,31,59,False\\nTKO,Justin Timberlake,dance pop,2013,138,68,61,-7,43,49,424,1,24,58,False\\nCome & Get It,Selena Gomez,dance pop,2013,80,79,55,-4,10,58,232,1,5,57,False\\nLive It Up,Jennifer Lopez,dance pop,2013,128,73,69,-5,33,65,244,1,17,57,False\\nWe Own The Night,The Wanted,boy band,2013,104,94,55,-4,23,56,206,1,13,56,False\\nAtlas - From “The Hunger Games: Catching Fire” Soundtrack,Coldplay,permanent wave,2013,136,45,28,-8,11,11,236,63,3,55,False\\nWhat About Love,Austin Mahone,dance pop,2013,100,78,63,-7,4,28,203,0,4,54,False\\nTake Back the Night,Justin Timberlake,dance pop,2013,107,66,59,-5,64,33,353,4,16,54,False\\nApplause,Lady Gaga,dance pop,2013,140,78,67,-4,11,73,212,3,5,52,False\\nAnything Could Happen,Ellie Goulding,dance pop,2013,103,78,70,-4,14,38,286,43,3,52,False\\nFinally Found You,Enrique Iglesias,dance pop,2013,128,88,62,-5,35,66,221,1,10,52,False\\nPom Poms,Jonas Brothers,boy band,2013,148,98,68,-2,28,90,198,7,9,52,False\\n#Beautiful,Mariah Carey,dance pop,2013,107,76,68,-5,31,45,200,29,4,51,False\\nHow Ya Doin\\'? (feat. Missy Elliott),Little Mix,dance pop,2013,201,95,36,-3,37,51,211,9,48,50,False\\nCrazy Kids (feat. will.i.am),Kesha,dance pop,2013,128,75,72,-4,13,50,229,4,4,46,False\\n\"Ooh La La (from \"\"The Smurfs 2\"\")\",Britney Spears,dance pop,2013,128,57,69,-5,11,73,257,2,5,45,False\\nPeople Like Us,Kelly Clarkson,dance pop,2013,128,79,60,-5,36,61,259,4,4,45,False\\nOverdose,Ciara,dance pop,2013,107,70,77,-6,6,79,227,1,3,43,False\\nRight Now - Dyro Radio Edit,Rihanna,barbadian pop,2013,130,74,53,-6,24,45,186,0,4,42,False\\nGive It 2 U,Robin Thicke,dance pop,2013,127,83,67,-4,16,58,230,10,7,41,False\\nFoolish Games,Jewel,alaska indie,2013,132,34,51,-11,12,7,250,23,3,36,False\\nOutta Nowhere (feat. Danny Mercer),Pitbull,dance pop,2013,95,84,71,-4,21,66,207,16,3,35,False\\nFreak,Kelly Rowland,atl hip hop,2013,104,78,65,-5,12,45,274,13,6,28,False\\nAll of Me,John Legend,neo mellow,2014,120,26,42,-7,13,33,270,92,3,86,True\\nStay With Me,Sam Smith,pop,2014,84,42,42,-6,11,18,173,59,4,85,True\\nSummer,Calvin Harris,dance pop,2014,128,86,60,-4,14,74,223,2,3,80,True\\n\"Happy - From \"\"Despicable Me 2\"\"\",Pharrell Williams,dance pop,2014,160,82,65,-5,9,96,233,22,18,79,False\\nRude,MAGIC!,pop,2014,144,76,77,-5,31,93,225,4,4,79,False\\nShake It Off,Taylor Swift,pop,2014,160,80,65,-5,33,94,219,6,17,78,False\\nDark Horse,Katy Perry,dance pop,2014,132,59,65,-6,17,35,216,0,5,78,False\\nHey Brother,Avicii,big room,2014,125,78,55,-5,8,46,255,3,4,78,False\\nMaps,Maroon 5,pop,2014,120,71,74,-6,6,88,190,2,3,78,False\\nTreasure,Bruno Mars,pop,2014,116,69,87,-5,32,94,179,4,4,77,False\\nLet Her Go,Passenger,folk-pop,2014,75,54,51,-7,10,24,253,39,6,77,False\\nProblem,Ariana Grande,dance pop,2014,103,81,66,-5,16,63,194,2,15,75,False\\nPompeii,Bastille,metropopolis,2014,127,72,68,-6,27,57,214,8,4,73,False\\nTeam,Lorde,art pop,2014,100,58,69,-7,31,42,193,17,9,73,False\\nLove Me Again,John Newman,pop,2014,126,89,50,-5,10,21,240,0,4,73,False\\nLatch,Disclosure,house,2014,122,73,50,-5,9,52,256,2,17,72,False\\nAdore You,Miley Cyrus,dance pop,2014,120,66,58,-5,11,20,279,11,3,72,False\\nLove Never Felt So Good,Michael Jackson,pop,2014,118,72,78,-6,7,71,246,13,4,71,False\\nBurn,Ellie Goulding,dance pop,2014,87,78,56,-5,11,33,231,31,4,71,False\\nShe Looks So Perfect,5 Seconds of Summer,boy band,2014,160,95,49,-4,33,44,202,0,13,71,False\\nFancy,Iggy Azalea,australian hip hop,2014,95,72,91,-4,5,38,200,9,7,70,False\\nTalk Dirty (feat. 2 Chainz),Jason Derulo,dance pop,2014,100,65,76,-7,31,76,178,3,23,68,False\\nGorilla,Bruno Mars,pop,2014,140,54,72,-7,10,64,244,45,4,68,False\\nhuman,Christina Perri,dance pop,2014,144,49,44,-6,11,25,251,13,4,68,False\\nYoung Girls,Bruno Mars,pop,2014,126,75,56,-5,21,50,229,46,3,67,False\\nWiggle (feat. Snoop Dogg),Jason Derulo,dance pop,2014,82,62,70,-7,16,72,193,8,25,67,False\\nLove Runs Out,OneRepublic,dance pop,2014,120,93,72,-4,8,74,225,17,6,66,False\\nThis Is How We Do,Katy Perry,dance pop,2014,96,64,69,-6,15,80,204,2,5,66,False\\nMmm Yeah (feat. Pitbull),Austin Mahone,dance pop,2014,126,92,71,-4,27,98,232,0,4,65,False\\nA Little Party Never Killed Nobody (All We Got),Fergie,dance pop,2014,130,62,76,-6,9,52,241,1,18,65,False\\n#SELFIE,The Chainsmokers,electropop,2014,128,92,79,-3,8,66,184,1,25,65,False\\nPartition,Beyoncé,dance pop,2014,186,44,41,-12,31,17,319,3,29,65,False\\nBirthday,Katy Perry,dance pop,2014,126,67,72,-5,11,84,215,9,7,65,False\\nG.U.Y.,Lady Gaga,dance pop,2014,110,92,62,-3,12,57,233,1,4,65,False\\nStay The Night - Featuring Hayley Williams Of Paramore,Zedd,complextro,2014,128,74,60,-3,9,46,217,11,4,64,False\\n\"Let It Go - From \"\"Frozen / Single Version\",Demi Lovato,dance pop,2014,140,66,50,-6,27,25,226,3,4,63,False\\nWings,Birdy,neo mellow,2014,83,71,47,-5,16,22,252,8,3,62,False\\nCan\\'t Remember to Forget You (feat. Rihanna),Shakira,colombian pop,2014,138,81,69,-4,14,82,207,12,7,62,False\\nShot Me Down (feat. Skylar Grey) - Radio Edit,David Guetta,dance pop,2014,192,77,35,-4,12,4,191,6,5,61,False\\nSay Something,A Great Big World,neo mellow,2014,138,15,45,-9,9,9,229,87,3,61,False\\nA Sky Full of Stars,Coldplay,permanent wave,2014,125,68,55,-6,21,16,268,1,3,60,False\\nCome Get It Bae,Pharrell Williams,dance pop,2014,120,80,93,-6,10,90,202,27,8,59,False\\nChandelier,Sia,australian dance,2014,174,78,29,-3,7,62,216,2,7,56,False\\nXO,Beyoncé,dance pop,2014,170,79,47,-9,31,21,216,17,26,56,False\\nWe Are One (Ole Ola) [The Official 2014 FIFA World Cup Song],Pitbull,dance pop,2014,125,94,60,-4,10,55,222,0,7,56,False\\nNot About Angels,Birdy,neo mellow,2014,116,14,41,-10,9,23,190,97,4,56,False\\nDrunk in Love,Beyoncé,dance pop,2014,140,62,59,-7,18,40,323,1,5,52,False\\nAnaconda,Nicki Minaj,dance pop,2014,130,60,96,-6,21,65,260,7,18,50,False\\nBoom Clap - From the Motion Picture Das Schicksal ist ein mieser Verräter,Charli XCX,candy pop,2014,92,81,68,-4,34,64,169,7,6,50,False\\nLa La La (Brasil 2014) (feat. Carlinhos Brown),Shakira,colombian pop,2014,128,82,80,-5,35,61,198,18,4,50,False\\nTee Shirt - Soundtrack Version,Birdy,neo mellow,2014,76,34,68,-9,9,56,160,84,3,49,False\\nWords as Weapons,Birdy,neo mellow,2014,120,35,53,-9,14,19,239,28,3,44,False\\nYou\\'re Mine (Eternal),Mariah Carey,dance pop,2014,149,58,63,-7,38,56,224,28,7,38,False\\nSheezus,Lily Allen,dance pop,2014,130,50,78,-7,11,39,235,15,4,37,False\\nCannonball,Lea Michele,hollywood,2014,92,82,56,-3,19,57,215,2,5,37,False\\nIt\\'s On Again - Main Soundtrack,Alicia Keys,hip pop,2014,110,54,64,-9,25,53,230,10,11,30,False\\nI Luh Ya Papi,Jennifer Lopez,dance pop,2014,96,73,74,-6,12,59,207,45,42,28,False\\nNot a Bad Thing,Justin Timberlake,dance pop,2014,86,73,59,-6,38,46,266,27,6,0,False\\nThinking out Loud,Ed Sheeran,pop,2015,79,45,78,-6,18,59,282,47,3,84,True\\nI\\'m Not The Only One,Sam Smith,pop,2015,82,49,68,-6,8,49,239,53,4,84,True\\nThe Hills,The Weeknd,canadian contemporary r&b,2015,113,56,58,-7,14,14,242,7,5,84,True\\nLove Yourself,Justin Bieber,canadian pop,2015,100,38,61,-10,28,52,234,84,44,83,True\\nUptown Funk,Mark Ronson,dance pop,2015,115,61,86,-7,3,93,270,1,8,82,True\\nTake Me To Church,Hozier,irish singer-songwriter,2015,129,66,57,-5,12,44,242,63,5,81,True\\nSugar,Maroon 5,pop,2015,120,79,75,-7,9,88,235,6,3,81,True\\nSorry,Justin Bieber,canadian pop,2015,100,76,65,-4,30,41,201,8,5,81,True\\nFourFiveSeconds,Rihanna,barbadian pop,2015,206,27,58,-6,13,35,188,88,5,80,True\\n\"Love Me Like You Do - From \"\"Fifty Shades Of Grey\"\"\",Ellie Goulding,dance pop,2015,190,61,26,-7,13,28,253,25,5,79,False\\n\"Earned It (Fifty Shades Of Grey) - From The \"\"Fifty Shades Of Grey\"\" Soundtrack\",The Weeknd,canadian contemporary r&b,2015,120,38,66,-6,10,44,252,39,3,79,False\\nWhat Do You Mean?,Justin Bieber,canadian pop,2015,125,57,85,-8,8,79,206,59,10,79,False\\nStitches,Shawn Mendes,canadian pop,2015,150,75,75,-7,5,76,207,2,7,78,False\\nWant to Want Me,Jason Derulo,dance pop,2015,114,68,78,-6,11,66,208,1,6,77,False\\nMy House,Flo Rida,dance pop,2015,94,70,69,-5,13,74,192,2,5,77,False\\nWaves - Robin Schulz Radio Edit,Mr. Probz,tropical house,2015,120,51,83,-9,8,45,208,1,4,77,False\\nNight Changes,One Direction,boy band,2015,120,52,67,-8,12,37,227,86,4,77,False\\nHow Deep Is Your Love,Calvin Harris,dance pop,2015,122,87,74,-4,39,34,213,4,7,77,False\\nNever Forget You,Zara Larsson,dance pop,2015,146,73,58,-6,27,28,213,0,5,77,False\\nLove Me Harder,Ariana Grande,dance pop,2015,99,71,47,-4,8,24,236,1,3,76,False\\nAnimals,Maroon 5,pop,2015,190,74,28,-6,59,33,231,0,9,76,False\\nBlame,Calvin Harris,dance pop,2015,128,86,41,-4,34,35,213,3,8,76,False\\nWorth It,Fifth Harmony,dance pop,2015,100,77,88,-4,12,59,225,6,9,75,False\\nBreak Free,Ariana Grande,dance pop,2015,130,70,69,-5,20,28,215,1,5,75,False\\nDon\\'t,Ed Sheeran,pop,2015,95,61,81,-7,64,85,220,1,7,74,False\\nElastic Heart,Sia,australian dance,2015,130,79,42,-5,15,50,257,1,5,73,False\\nRather Be (feat. Jess Glynne),Clean Bandit,dance pop,2015,121,59,80,-7,19,55,228,16,4,73,False\\nHello,Adele,british soul,2015,158,45,48,-6,9,29,295,34,3,73,False\\nDear Future Husband,Meghan Trainor,dance pop,2015,79,78,66,-5,32,83,184,38,19,72,False\\n43776,Beyoncé,dance pop,2015,136,71,75,-5,13,56,214,1,13,72,False\\nThe Heart Wants What It Wants,Selena Gomez,dance pop,2015,83,79,62,-5,14,62,227,5,4,72,False\\n\"Hey Mama (feat. Nicki Minaj, Bebe Rexha & Afrojack)\",David Guetta,dance pop,2015,86,73,60,-4,33,53,193,24,15,72,False\\nGenie In a Bottle,Christina Aguilera,dance pop,2015,176,80,63,-7,14,91,218,21,16,72,False\\nCompany,Justin Bieber,canadian pop,2015,95,80,59,-5,8,43,208,13,6,72,False\\nSing,Ed Sheeran,pop,2015,120,67,82,-4,6,94,235,30,5,71,False\\nJealous - Remix,Nick Jonas,dance pop,2015,93,71,68,-4,44,45,222,1,8,70,False\\nReally Don\\'t Care,Demi Lovato,dance pop,2015,121,73,71,-4,19,85,202,12,9,70,False\\n\"Downtown (feat. Melle Mel, Grandmaster Caz, Kool Moe Dee & Eric Nally)\",Macklemore & Ryan Lewis,dance pop,2015,110,61,83,-4,29,71,293,9,7,70,False\\nOnly Love Can Hurt Like This,Paloma Faith,british soul,2015,91,89,57,-5,33,31,233,10,8,69,False\\nHeartbeat Song,Kelly Clarkson,dance pop,2015,149,80,49,-4,6,48,199,1,5,69,False\\nUp,Olly Murs,dance pop,2015,115,85,69,-5,10,64,224,2,3,69,False\\nTrumpets,Jason Derulo,dance pop,2015,82,70,63,-5,10,64,217,56,24,69,False\\nRunnin\\' (Lose It All),Naughty Boy,tropical house,2015,139,85,32,-6,48,8,213,1,8,69,False\\nSame Old Love,Selena Gomez,dance pop,2015,98,59,67,-4,21,44,229,2,3,69,False\\nI Want You To Know,Zedd,complextro,2015,130,85,58,-3,14,37,240,1,6,68,False\\nLips Are Movin,Meghan Trainor,dance pop,2015,139,83,78,-5,11,95,183,5,5,68,False\\nI\\'ll Show You,Justin Bieber,canadian pop,2015,192,61,36,-7,18,8,200,5,10,68,False\\nHere,Alessia Cara,canadian contemporary r&b,2015,120,82,38,-4,8,33,199,8,10,68,False\\nI Lived,OneRepublic,dance pop,2015,120,85,59,-5,27,34,235,7,4,67,False\\nFireball (feat. John Ryan),Pitbull,dance pop,2015,123,94,69,-5,5,79,235,9,6,67,False\\nEasy Love,Sigala,dance pop,2015,124,94,68,-4,12,65,230,18,6,67,False\\nThe Feeling,Justin Bieber,canadian pop,2015,127,81,53,-6,10,21,245,8,6,67,False\\nI Really Like You,Carly Rae Jepsen,canadian pop,2015,122,81,62,-5,22,60,205,1,4,66,False\\nBO$$,Fifth Harmony,dance pop,2015,103,87,81,-5,5,74,171,1,11,66,False\\nSugar,Maroon 5,pop,2015,120,79,75,-7,9,88,235,6,3,66,False\\nFocus,Ariana Grande,dance pop,2015,100,88,67,-6,44,79,211,27,24,66,False\\nAll About That Bass,Meghan Trainor,dance pop,2015,134,88,81,-4,11,96,189,5,5,65,False\\nOn My Mind,Ellie Goulding,dance pop,2015,155,71,70,-7,9,74,213,26,5,65,False\\nLove Me Like You,Little Mix,dance pop,2015,106,67,79,-4,28,85,198,21,4,65,False\\nBroken Arrows,Avicii,big room,2015,116,67,63,-7,10,29,233,5,5,65,False\\nBooty,Jennifer Lopez,dance pop,2015,129,95,71,-4,26,40,210,0,5,64,False\\nWhat Do You Mean? - Acoustic,Justin Bieber,canadian pop,2015,125,36,77,-11,10,76,204,79,4,64,False\\nMark My Words,Justin Bieber,canadian pop,2015,114,26,38,-9,17,52,134,88,3,63,False\\nLay It All on Me,Rudimental,dance pop,2015,123,75,67,-7,19,48,242,14,4,62,False\\nAmerican Oxygen,Rihanna,barbadian pop,2015,78,75,39,-6,33,48,320,5,9,61,False\\nBang Bang,Jessie J,australian pop,2015,150,75,71,-4,38,73,199,27,9,61,False\\nReality - Radio Edit,Lost Frequencies,belgian edm,2015,122,70,71,-8,7,60,159,2,3,61,False\\nAlive,Sia,australian dance,2015,100,76,51,-4,11,44,264,25,5,61,False\\nSugar (feat. Francesco Yates),Robin Schulz,dance pop,2015,123,82,64,-5,16,64,219,2,6,60,False\\nBeen You,Justin Bieber,canadian pop,2015,113,78,74,-6,32,86,199,2,7,60,False\\nPrayer in C - Robin Schulz Radio Edit,Lilly Wood and The Prick,french indie pop,2015,123,89,76,-5,62,78,189,2,3,58,False\\nSee You Again (feat. Charlie Puth),Wiz Khalifa,hip hop,2015,80,48,69,-8,6,28,230,37,8,56,False\\nHeroes (we could be),Alesso,big room,2015,126,75,52,-4,24,35,210,4,6,56,False\\n\"Feel The Light - From The \"\"Home\"\" Soundtrack\",Jennifer Lopez,dance pop,2015,156,60,47,-6,9,4,292,33,5,55,False\\nPerfect,One Direction,boy band,2015,100,82,65,-5,12,40,230,6,8,55,False\\nGhosttown,Madonna,dance pop,2015,79,55,54,-7,12,9,250,4,4,54,False\\nBang My Head (feat. Sia & Fetty Wap),David Guetta,dance pop,2015,108,87,60,-4,10,59,193,5,8,54,False\\nBloodstream,Ed Sheeran,pop,2015,89,59,48,-6,6,27,309,20,5,52,False\\nLiving For Love,Madonna,dance pop,2015,123,79,67,-5,25,39,219,4,9,52,False\\nBaby Don\\'t Lie,Gwen Stefani,dance pop,2015,100,55,69,-5,10,26,203,1,3,52,False\\nDon\\'t Be so Hard on Yourself,Jess Glynne,dance pop,2015,120,82,57,-3,16,66,211,6,3,52,False\\nSteal My Girl,One Direction,boy band,2015,77,76,47,-6,14,52,227,0,4,51,False\\n\"Celebrate (From the Original Motion Picture \"\"Penguins of Madagascar\"\")\",Pitbull,dance pop,2015,127,85,68,-3,6,93,193,1,6,50,False\\nWe Are Here,Alicia Keys,hip pop,2015,93,67,64,-6,8,8,285,43,4,49,False\\nSt Jude,Florence + The Machine,art pop,2015,117,43,26,-11,11,9,225,75,3,47,False\\nYesterday (feat. Bebe Rexha),David Guetta,dance pop,2015,128,78,57,-4,33,28,243,2,3,46,False\\nTime of Our Lives,Pitbull,dance pop,2015,124,80,72,-6,69,72,229,9,6,45,False\\nSparks,Hilary Duff,dance pop,2015,122,88,85,-5,10,79,186,4,6,44,False\\nMr. Put It Down,Ricky Martin,dance pop,2015,128,78,80,-6,4,83,196,1,18,42,False\\nLegendary Lovers,Katy Perry,dance pop,2015,126,84,62,-5,8,39,224,2,8,41,False\\nSpark The Fire,Gwen Stefani,dance pop,2015,120,80,88,-4,20,54,202,8,6,39,False\\nRun Run Run,Kelly Clarkson,dance pop,2015,112,37,28,-7,11,8,273,45,4,36,False\\nLet Me Be Your Lover,Enrique Iglesias,dance pop,2015,112,90,72,-4,6,88,238,1,13,34,False\\nDangerous,Jennifer Hudson,dance pop,2015,109,53,90,-5,8,65,255,0,5,18,False\\nL.A.LOVE (la la),Fergie,dance pop,2015,202,39,48,-8,26,27,193,2,9,0,False\\nThe Hills,The Weeknd,canadian contemporary r&b,2016,113,56,58,-7,14,14,242,7,5,84,True\\nLove Yourself,Justin Bieber,canadian pop,2016,100,38,61,-10,28,52,234,84,44,83,True\\nCake By The Ocean,DNCE,dance pop,2016,119,75,77,-5,4,90,219,15,5,81,True\\nDon\\'t Let Me Down,The Chainsmokers,electropop,2016,160,87,53,-5,14,42,208,16,17,81,True\\nIn the Name of Love,Martin Garrix,big room,2016,134,52,50,-6,45,17,196,11,4,81,True\\nInto You,Ariana Grande,dance pop,2016,108,73,62,-6,14,37,244,2,11,80,True\\nThis Is What You Came For,Calvin Harris,dance pop,2016,124,93,63,-3,15,47,222,20,3,80,True\\nMillion Reasons,Lady Gaga,dance pop,2016,130,42,67,-8,11,15,205,49,4,80,True\\nNeeded Me,Rihanna,barbadian pop,2016,111,31,67,-8,8,30,192,11,24,80,True\\n7 Years,Lukas Graham,danish pop,2016,120,47,77,-6,39,34,237,29,5,80,True\\n\"CAN\\'T STOP THE FEELING! (Original Song from DreamWorks Animation\\'s \"\"TROLLS\"\")\",Justin Timberlake,dance pop,2016,113,83,67,-6,19,70,236,1,7,79,False\\nWork from Home (feat. Ty Dolla $ign),Fifth Harmony,dance pop,2016,105,59,80,-6,6,59,214,10,4,79,False\\nScars To Your Beautiful,Alessia Cara,canadian contemporary r&b,2016,97,74,57,-6,11,45,230,3,13,79,False\\nLike I\\'m Gonna Lose You (feat. John Legend),Meghan Trainor,dance pop,2016,108,53,63,-7,18,42,225,40,4,79,False\\nWork,Rihanna,barbadian pop,2016,92,53,73,-6,9,56,219,8,9,78,False\\nStitches,Shawn Mendes,canadian pop,2016,150,75,75,-7,5,76,207,2,7,78,False\\n\"Me, Myself & I\",G-Eazy,hip hop,2016,112,67,76,-7,16,38,251,2,10,78,False\\nI Took A Pill In Ibiza - Seeb Remix,Mike Posner,dance pop,2016,102,71,66,-7,8,69,198,4,11,78,False\\nDangerous Woman,Ariana Grande,dance pop,2016,134,60,66,-5,36,29,236,5,4,78,False\\nStarving,Hailee Steinfeld,dance pop,2016,100,62,73,-4,11,51,182,38,6,78,False\\nShout Out to My Ex,Little Mix,dance pop,2016,126,75,77,-4,11,80,246,2,9,77,False\\nElectric Love,BØRNS,electropop,2016,120,80,61,-8,26,52,218,1,5,76,False\\nConfident,Demi Lovato,dance pop,2016,130,75,59,-6,9,34,206,0,7,75,False\\nToo Good,Drake,canadian hip hop,2016,118,65,79,-8,10,39,263,5,10,74,False\\nRoses,The Chainsmokers,electropop,2016,100,80,71,-7,31,34,227,4,6,74,False\\nCold Water (feat. Justin Bieber & MØ),Major Lazer,dance pop,2016,93,80,61,-5,16,50,185,7,4,73,False\\nMe Too,Meghan Trainor,dance pop,2016,124,69,93,-6,48,84,181,10,10,73,False\\nLight It Up (feat. Nyla & Fuse ODG) [Remix],Major Lazer,dance pop,2016,108,88,75,-4,23,75,166,4,7,73,False\\nAin\\'t Your Mama,Jennifer Lopez,dance pop,2016,120,68,76,-6,7,82,218,5,23,72,False\\nClose,Nick Jonas,dance pop,2016,124,62,65,-5,14,40,234,25,8,72,False\\nToothbrush,DNCE,dance pop,2016,105,79,55,-6,47,82,232,12,13,72,False\\nAll We Know,The Chainsmokers,electropop,2016,90,59,66,-9,12,30,194,10,3,72,False\\nFinal Song,MØ,dance pop,2016,105,67,70,-6,8,25,236,1,3,72,False\\nCompany,Justin Bieber,canadian pop,2016,95,80,59,-5,8,43,208,13,6,72,False\\nHands To Myself,Selena Gomez,dance pop,2016,111,50,81,-7,34,47,201,1,12,71,False\\nAll I Ask,Adele,british soul,2016,142,28,59,-5,15,34,272,88,3,71,False\\n\"Just Like Fire (From the Original Motion Picture \"\"Alice Through The Looking Glass\"\")\",P!nk,dance pop,2016,163,70,63,-6,11,50,215,1,15,71,False\\nNO,Meghan Trainor,dance pop,2016,92,80,56,-4,74,65,214,1,22,70,False\\nKill Em With Kindness,Selena Gomez,dance pop,2016,120,88,76,-5,10,40,218,1,4,70,False\\nCool Girl,Tove Lo,dance pop,2016,102,69,67,-7,8,20,199,31,11,69,False\\nRunnin\\' (Lose It All),Naughty Boy,tropical house,2016,139,85,32,-6,48,8,213,1,8,69,False\\nHere,Alessia Cara,canadian contemporary r&b,2016,120,82,38,-4,8,33,199,8,10,68,False\\nPerfect Illusion,Lady Gaga,dance pop,2016,125,86,61,-5,36,66,182,0,4,67,False\\nPILLOWTALK,ZAYN,dance pop,2016,125,70,59,-4,9,43,204,10,5,66,False\\nOut Of The Woods,Taylor Swift,pop,2016,92,84,55,-7,34,34,236,0,4,66,False\\nRise,Katy Perry,dance pop,2016,101,64,55,-6,11,44,203,5,5,66,False\\nWherever I Go,OneRepublic,dance pop,2016,100,69,55,-6,27,35,170,9,4,66,False\\nBody Say,Demi Lovato,dance pop,2016,87,74,63,-5,28,26,194,0,4,65,False\\nDon\\'t Be A Fool,Shawn Mendes,canadian pop,2016,175,34,47,-6,10,27,216,60,4,65,False\\nLIKE I WOULD,ZAYN,dance pop,2016,113,83,56,-6,26,23,192,2,11,65,False\\nCheap Thrills,Sia,australian dance,2016,90,80,59,-5,8,73,225,6,22,64,False\\nI Got You,Bebe Rexha,dance pop,2016,98,89,61,-5,9,32,192,5,5,64,False\\nRun Away With Me,Carly Rae Jepsen,canadian pop,2016,119,72,56,-6,5,25,251,1,5,63,False\\nCruel (feat. ZAYN),Snakehips,dance pop,2016,110,88,60,-4,16,32,228,2,12,63,False\\nSend My Love (To Your New Lover),Adele,british soul,2016,164,52,69,-8,17,56,223,4,10,61,False\\nWTF (Where They From),Missy Elliott,dance pop,2016,120,82,93,-3,6,56,193,2,20,58,False\\nDesire,Years & Years,dance pop,2016,126,78,71,-5,30,64,203,30,6,58,False\\nWhen We Were Young,Adele,british soul,2016,144,59,38,-6,9,27,291,35,5,58,False\\nI Know What You Did Last Summer,Shawn Mendes,canadian pop,2016,114,77,68,-5,16,72,224,11,10,57,False\\nWish That You Were Here - From “Miss Peregrine’s Home for Peculiar Children” Original Motion Picture,Florence + The Machine,art pop,2016,94,57,37,-6,13,12,403,72,3,57,False\\nHurts,Emeli Sandé,dance pop,2016,106,64,58,-8,15,18,238,2,3,57,False\\nChange,Christina Aguilera,dance pop,2016,82,54,62,-6,13,20,187,68,8,54,False\\nMake Me... (feat. G-Eazy),Britney Spears,dance pop,2016,123,70,70,-7,22,58,231,16,10,53,False\\nKeeping Your Head Up,Birdy,neo mellow,2016,122,78,60,-5,19,53,208,16,5,52,False\\nTrue Colors,Zedd,complextro,2016,126,79,57,-3,10,49,225,40,4,51,False\\nMake Me Like You,Gwen Stefani,dance pop,2016,118,71,74,-5,13,80,217,4,5,50,False\\nChampagne Problems,Nick Jonas,dance pop,2016,108,78,73,-5,9,64,193,0,13,50,False\\nBlown,DNCE,dance pop,2016,130,95,63,-5,10,73,197,0,4,48,False\\nStart,John Legend,neo mellow,2016,110,4,52,-15,9,26,310,99,4,47,False\\nPep Rally,Missy Elliott,dance pop,2016,90,75,83,-4,20,32,263,22,12,47,False\\nHigher,Carly Rae Jepsen,canadian pop,2016,114,87,65,-5,37,44,234,1,6,46,False\\nInvitation,Britney Spears,dance pop,2016,112,65,37,-7,9,16,200,3,11,44,False\\nOne Call Away (feat. Tyga) - Remix,Charlie Puth,dance pop,2016,91,69,75,-5,13,52,192,26,4,41,False\\nBeautiful Birds (feat. Birdy),Passenger,folk-pop,2016,86,17,39,-13,11,14,214,91,3,36,False\\nLittle Lies,Hilary Duff,dance pop,2016,124,76,57,-6,4,40,204,0,6,36,False\\nDo You Wanna Come Over?,Britney Spears,dance pop,2016,121,70,75,-6,11,45,203,1,7,34,False\\nBURNITUP!,Janet Jackson,dance pop,2016,123,71,83,-7,31,83,250,5,18,31,False\\nPicky - Remix,Joey Montana,latin,2016,186,81,70,-3,37,69,225,9,7,29,False\\nBehind Your Back,Nelly Furtado,canadian latin,2016,98,47,80,-10,7,69,228,25,4,18,False\\nMillion Years Ago,Adele,british soul,2016,0,0,0,-60,0,0,227,0,0,0,False\\nShape of You,Ed Sheeran,pop,2017,96,65,83,-3,9,93,234,58,8,87,True\\nCloser,The Chainsmokers,electropop,2017,95,52,75,-6,11,66,245,41,3,86,True\\nStarboy,The Weeknd,canadian contemporary r&b,2017,186,59,68,-7,14,49,230,14,28,85,True\\nTreat You Better,Shawn Mendes,canadian pop,2017,83,82,44,-4,11,75,188,11,34,84,True\\nThat\\'s What I Like,Bruno Mars,pop,2017,134,56,85,-5,9,86,207,1,4,83,True\\nLet Me Love You,DJ Snake,electronic trap,2017,100,72,65,-5,14,16,206,9,3,82,True\\nI Feel It Coming,The Weeknd,canadian contemporary r&b,2017,93,82,77,-6,7,59,269,43,12,81,True\\nMercy,Shawn Mendes,canadian pop,2017,148,66,56,-5,11,36,209,13,8,81,True\\nSide To Side,Ariana Grande,dance pop,2017,159,74,65,-6,24,61,226,5,23,80,True\\nStay,Zedd,complextro,2017,102,62,69,-5,12,54,210,25,6,80,True\\nIt Ain\\'t Me (with Selena Gomez),Kygo,edm,2017,100,53,64,-7,9,52,221,12,7,79,False\\nMalibu,Miley Cyrus,dance pop,2017,140,78,57,-6,8,34,232,8,6,78,False\\nSomething Just Like This,The Chainsmokers,electropop,2017,103,65,61,-7,17,51,248,3,4,78,False\\nRockabye (feat. Sean Paul & Anne-Marie),Clean Bandit,dance pop,2017,102,76,72,-4,18,74,251,41,5,78,False\\nI Don’t Wanna Live Forever (Fifty Shades Darker),ZAYN,dance pop,2017,118,45,74,-8,33,9,245,6,6,78,False\\nMy Way,Calvin Harris,dance pop,2017,120,91,82,-3,16,54,219,9,4,78,False\\n\"I\\'m the One (feat. Justin Bieber, Quavo, Chance the Rapper & Lil Wayne)\",DJ Khaled,dance pop,2017,81,67,61,-4,17,81,289,6,4,77,False\\nPraying,Kesha,dance pop,2017,73,39,58,-7,11,32,230,49,3,77,False\\nDespacito - Remix,Luis Fonsi,latin,2017,178,82,65,-4,10,82,229,23,17,76,False\\nThe Greatest,Sia,australian dance,2017,192,73,67,-6,6,73,210,1,27,76,False\\nThere for You,Martin Garrix,big room,2017,106,64,61,-8,12,13,222,12,6,76,False\\nParis,The Chainsmokers,electropop,2017,100,64,65,-7,9,25,222,2,3,76,False\\nCrying in the Club,Camila Cabello,dance pop,2017,85,62,33,-6,16,60,216,33,38,75,False\\nMama,Jonas Blue,dance pop,2017,104,79,74,-4,5,57,184,10,4,75,False\\nSlide (feat. Frank Ocean & Migos),Calvin Harris,dance pop,2017,104,80,74,-3,25,51,231,50,5,75,False\\nSwish Swish,Katy Perry,dance pop,2017,120,71,84,-5,10,57,243,2,4,73,False\\nChained To The Rhythm,Katy Perry,dance pop,2017,190,80,45,-5,20,47,238,8,17,72,False\\nCold (feat. Future),Maroon 5,pop,2017,100,72,69,-6,5,41,234,14,11,72,False\\nLove,Lana Del Rey,art pop,2017,99,37,53,-11,11,23,273,49,3,72,False\\nReggaetón Lento (Remix),CNCO,boy band,2017,94,91,53,-3,10,62,189,15,9,71,False\\nAll I Ask,Adele,british soul,2017,142,28,59,-5,15,34,272,88,3,71,False\\nFirst Time,Kygo,edm,2017,90,59,63,-7,10,68,194,20,11,71,False\\nThe Cure,Lady Gaga,dance pop,2017,100,51,70,-5,9,52,211,8,3,71,False\\n\"How Far I\\'ll Go - From \"\"Moana\"\"\",Alessia Cara,canadian contemporary r&b,2017,181,54,31,-10,7,16,176,16,35,71,False\\nBodak Yellow,Cardi B,pop,2017,125,72,93,-6,35,46,224,7,11,70,False\\nRich Love (with Seeb),OneRepublic,dance pop,2017,105,87,40,-4,36,47,201,17,31,70,False\\nTired,Alan Walker,electro house,2017,124,88,69,-4,15,49,192,4,6,70,False\\nCame Here for Love,Sigala,dance pop,2017,125,87,71,-3,12,72,203,3,4,70,False\\n24K Magic,Bruno Mars,pop,2017,107,80,82,-4,15,63,226,3,8,69,False\\nStrip That Down (feat. Quavo),Liam Payne,dance pop,2017,106,50,87,-5,8,55,202,20,5,69,False\\nCut To The Feeling,Carly Rae Jepsen,canadian pop,2017,115,91,71,-3,30,65,208,1,6,69,False\\nOK - Spotify Version,Robin Schulz,dance pop,2017,122,81,65,-6,13,58,189,12,6,69,False\\nBon appétit,Katy Perry,dance pop,2017,106,79,80,-6,22,52,228,13,6,68,False\\nSummer Bummer (feat. A$AP Rocky & Playboi Carti),Lana Del Rey,art pop,2017,135,57,76,-9,20,14,261,2,13,67,False\\nGet Low (with Liam Payne),Zedd,complextro,2017,108,93,72,-4,5,54,205,3,5,66,False\\nKissing Strangers,DNCE,dance pop,2017,120,74,77,-6,9,86,202,5,4,66,False\\nSlow Hands,Niall Horan,dance pop,2017,86,42,74,-7,6,85,188,1,5,64,False\\nYounger Now,Miley Cyrus,dance pop,2017,122,87,55,-5,14,33,249,0,6,62,False\\nBody Moves,DNCE,dance pop,2017,102,69,65,-5,4,86,236,0,4,62,False\\nReality (feat. Janieck Devy) - Radio Edit,Lost Frequencies,belgian edm,2017,122,64,73,-7,8,53,158,2,4,59,False\\nAngel,Fifth Harmony,dance pop,2017,124,53,74,-6,35,13,189,0,4,59,False\\nTouch (feat. Kid Ink),Little Mix,dance pop,2017,102,75,64,-4,49,53,203,4,11,59,False\\nWe Don\\'t Talk Anymore - DROELOE Remix,Charlie Puth,dance pop,2017,100,82,70,-5,45,67,218,49,22,59,False\\nLove Incredible (feat. Camila Cabello),Cashmere Cat,downtempo,2017,167,50,37,-9,20,21,180,6,12,59,False\\nNo Vacancy (with Sebastián Yatra),OneRepublic,dance pop,2017,100,76,69,-4,14,59,223,8,4,57,False\\nRich Boy,Galantis,big room,2017,110,90,74,-2,8,65,184,7,5,55,False\\nLust for Life (with The Weeknd),Lana Del Rey,art pop,2017,100,67,51,-9,36,27,264,58,6,54,False\\nGreenlight (feat. Flo Rida & LunchMoney Lewis),Pitbull,dance pop,2017,115,83,70,-6,36,63,245,28,27,54,False\\nInfluence,Tove Lo,dance pop,2017,105,59,77,-10,11,33,225,10,5,54,False\\nRemember I Told You,Nick Jonas,dance pop,2017,113,53,68,-6,4,84,202,14,28,53,False\\nMessin\\' Around,Pitbull,dance pop,2017,158,81,57,-5,4,78,223,2,5,51,False\\nWater Under the Bridge,Adele,british soul,2017,95,84,60,-7,11,47,240,2,7,49,False\\nFree Me,Sia,australian dance,2017,87,46,27,-4,14,21,286,85,3,44,False\\nKissing Strangers - Remix,DNCE,dance pop,2017,120,77,76,-6,8,81,202,8,5,43,False\\nA L I E N S,Coldplay,permanent wave,2017,148,88,43,-5,21,25,282,0,4,41,False\\nOne Kiss (with Dua Lipa),Calvin Harris,dance pop,2018,124,86,79,-3,8,59,215,4,11,86,True\\nHavana (feat. Young Thug),Camila Cabello,dance pop,2018,105,52,77,-4,13,39,217,18,3,85,True\\nI Like It,Cardi B,pop,2018,136,73,82,-4,37,65,253,10,13,85,True\\nNew Rules,Dua Lipa,dance pop,2018,116,70,76,-6,15,61,209,0,7,84,True\\nThere\\'s Nothing Holdin\\' Me Back,Shawn Mendes,canadian pop,2018,122,81,87,-4,8,97,199,38,6,84,True\\nno tears left to cry,Ariana Grande,dance pop,2018,122,71,70,-6,29,35,206,4,6,84,True\\nIDGAF,Dua Lipa,dance pop,2018,97,54,84,-6,8,51,218,4,9,84,True\\nIn My Blood,Shawn Mendes,canadian pop,2018,140,71,62,-7,13,49,211,6,7,83,True\\nWolves,Selena Gomez,dance pop,2018,125,80,72,-5,20,31,198,12,4,83,False\\nDusk Till Dawn - Radio Edit,ZAYN,dance pop,2018,180,44,26,-7,11,10,239,10,4,83,True\\nAttention,Charlie Puth,dance pop,2018,100,61,78,-5,13,80,209,11,5,83,True\\nElectricity (with Dua Lipa),Silk City,edm,2018,118,67,59,-6,34,51,238,1,5,82,False\\nLove On The Brain,Rihanna,barbadian pop,2018,172,64,51,-5,8,38,224,7,5,82,True\\n\"Let Me Go (with Alesso, Florida Georgia Line & watt)\",Hailee Steinfeld,dance pop,2018,103,71,66,-4,8,74,175,3,5,82,True\\nSilence,Marshmello,brostep,2018,142,76,52,-3,17,29,181,26,9,82,True\\nSorry Not Sorry,Demi Lovato,dance pop,2018,144,64,71,-7,26,89,204,2,23,81,True\\nShallow - Radio Edit,Lady Gaga,dance pop,2018,96,33,57,-7,9,28,217,42,3,80,True\\nThese Days,Rudimental,dance pop,2018,92,81,65,-4,17,55,211,19,5,80,False\\nWhat Lovers Do (feat. SZA),Maroon 5,pop,2018,110,60,80,-5,10,42,200,8,6,79,False\\nFinesse - Remix; feat. Cardi B,Bruno Mars,pop,2018,105,86,70,-5,2,93,217,2,10,78,False\\nPerfect Duet (Ed Sheeran & Beyoncé),Ed Sheeran,pop,2018,95,30,59,-7,12,36,260,78,3,78,False\\nBad At Love,Halsey,dance pop,2018,118,75,68,-4,9,61,181,6,3,78,False\\nHim & I (with Halsey),G-Eazy,hip hop,2018,88,73,59,-6,31,19,269,5,9,78,False\\nFriends (with BloodPop®),Justin Bieber,canadian pop,2018,105,73,74,-5,30,62,189,0,4,77,False\\nWild Thoughts (feat. Rihanna & Bryson Tiller),DJ Khaled,dance pop,2018,98,67,67,-3,12,63,204,3,7,76,False\\nMy My My!,Troye Sivan,dance pop,2018,103,46,70,-8,5,48,205,0,8,76,False\\nCapital Letters,Hailee Steinfeld,dance pop,2018,100,81,66,-6,5,46,219,3,8,76,False\\nSick Boy,The Chainsmokers,electropop,2018,90,58,66,-8,12,45,193,11,5,76,False\\nTequila,Dan + Shay,contemporary country,2018,86,59,47,-6,13,50,196,3,3,76,False\\nLook What You Made Me Do,Taylor Swift,pop,2018,128,71,77,-6,13,51,212,20,12,75,False\\nYouth (feat. Khalid),Shawn Mendes,canadian pop,2018,100,60,53,-7,13,32,191,56,12,75,False\\nBad Liar,Selena Gomez,dance pop,2018,121,41,97,-6,8,73,215,19,7,75,False\\nAnywhere,Rita Ora,dance pop,2018,107,80,63,-4,10,32,215,4,6,74,False\\nSay Something,Justin Timberlake,dance pop,2018,97,63,71,-7,8,37,279,10,8,74,False\\nChun-Li,Nicki Minaj,dance pop,2018,129,73,69,-5,11,48,192,28,37,73,False\\nSign of the Times,Harry Styles,dance pop,2018,120,57,52,-5,11,21,341,3,3,72,False\\nFamiliar,Liam Payne,dance pop,2018,93,81,64,-5,8,91,197,2,33,72,False\\nLet Me,ZAYN,dance pop,2018,168,57,46,-6,10,19,185,24,5,72,False\\nSupernova,Ansel Elgort,dance pop,2018,140,62,77,-5,21,68,191,6,10,72,False\\nNervous,Shawn Mendes,canadian pop,2018,122,62,84,-7,13,74,164,4,8,71,False\\nFirst Time,Kygo,edm,2018,90,59,63,-7,10,68,194,20,11,71,False\\nEnd Game,Taylor Swift,pop,2018,159,59,65,-6,11,15,245,1,6,70,False\\nMi Gente (feat. Beyoncé),J Balvin,latin,2018,105,72,76,-6,23,47,210,2,8,68,False\\nLemon,N.E.R.D,hip hop,2018,95,73,92,-7,12,20,220,0,9,68,False\\nFor You (With Rita Ora),Liam Payne,dance pop,2018,113,80,54,-5,42,18,243,2,3,67,False\\nWant To,Dua Lipa,dance pop,2018,92,69,57,-5,6,32,212,8,12,67,False\\nWhat I Need (feat. Kehlani),Hayley Kiyoko,dance pop,2018,104,79,63,-4,16,41,220,5,6,67,False\\nWait,Maroon 5,pop,2018,126,60,66,-5,11,45,191,10,6,67,False\\nWhat About Us,P!nk,dance pop,2018,114,59,39,-6,9,19,272,3,6,66,False\\nKissing Strangers,DNCE,dance pop,2018,120,74,77,-6,9,86,202,5,4,66,False\\n2U (feat. Justin Bieber),David Guetta,dance pop,2018,145,61,53,-7,23,53,195,23,6,65,False\\nWalk On Water (feat. Beyoncé),Eminem,detroit hip hop,2018,82,44,48,-10,64,62,304,81,24,65,False\\nThis Town,Niall Horan,dance pop,2018,112,41,68,-8,12,20,233,70,3,64,False\\n\"Girls (feat. Cardi B, Bebe Rexha & Charli XCX)\",Rita Ora,dance pop,2018,94,69,73,-4,10,42,221,2,5,64,False\\nMOVE TO MIAMI,Enrique Iglesias,dance pop,2018,100,87,76,-4,7,90,169,3,5,64,False\\nMiss You (with Major Lazer & Tory Lanez),Cashmere Cat,downtempo,2018,100,64,75,-5,11,45,186,25,9,64,False\\nFilthy,Justin Timberlake,dance pop,2018,97,58,75,-6,25,65,294,4,14,62,False\\nNever Be the Same - Radio Edit,Camila Cabello,dance pop,2018,130,69,63,-4,12,25,227,16,9,57,False\\nFerrari,Bebe Rexha,dance pop,2018,77,48,58,-6,10,42,213,2,3,57,False\\nSupplies,Justin Timberlake,dance pop,2018,120,55,79,-7,13,23,226,1,5,57,False\\nBoom Boom,RedOne,moroccan pop,2018,110,76,75,-8,20,58,248,0,5,53,False\\n...Ready For It? - BloodPop® Remix,Taylor Swift,pop,2018,160,84,58,-5,10,50,190,13,22,52,False\\nDrip (feat. Migos),Cardi B,pop,2018,130,59,97,-8,8,27,264,5,26,45,False\\nTell Me You Love Me - NOTD Remix,Demi Lovato,dance pop,2018,102,77,58,-5,9,76,182,5,8,44,False\\nMemories,Maroon 5,pop,2019,91,32,76,-7,8,57,189,84,5,99,True\\nLose You To Love Me,Selena Gomez,dance pop,2019,102,34,51,-9,21,9,206,58,4,97,False\\nSomeone You Loved,Lewis Capaldi,pop,2019,110,41,50,-6,11,45,182,75,3,96,True\\nSeñorita,Shawn Mendes,canadian pop,2019,117,54,76,-6,9,75,191,4,3,95,True\\nHow Do You Sleep?,Sam Smith,pop,2019,111,68,48,-5,8,35,202,15,9,93,True\\nSouth of the Border (feat. Camila Cabello & Cardi B),Ed Sheeran,pop,2019,98,62,86,-6,9,67,204,15,8,92,True\\nTrampoline (with ZAYN),SHAED,electropop,2019,127,46,62,-6,14,50,184,56,3,92,True\\nHappier,Marshmello,brostep,2019,100,79,69,-3,17,67,214,19,5,90,True\\nTruth Hurts,Lizzo,escape room,2019,158,62,72,-3,12,41,173,11,11,90,True\\nGood as Hell (feat. Ariana Grande) - Remix,Lizzo,escape room,2019,96,89,67,-3,74,48,159,30,6,90,True\\nHigher Love,Kygo,edm,2019,104,68,69,-7,10,40,228,2,3,88,True\\nOnly Human,Jonas Brothers,boy band,2019,94,50,80,-6,6,87,183,11,7,87,True\\nBeautiful People (feat. Khalid),Ed Sheeran,pop,2019,93,65,64,-8,8,55,198,12,19,86,True\\nSucker,Jonas Brothers,boy band,2019,138,73,84,-5,11,95,181,4,6,86,True\\nDon\\'t Call Me Up,Mabel,dance pop,2019,99,88,67,-3,8,23,178,30,15,86,True\\nI Don\\'t Care (with Justin Bieber),Ed Sheeran,pop,2019,102,68,80,-5,9,84,220,9,4,85,True\\nTalk (feat. Disclosure),Khalid,alternative r&b,2019,136,40,90,-9,6,35,198,5,13,84,True\\nGiant (with Rag\\'n\\'Bone Man),Calvin Harris,dance pop,2019,122,89,81,-4,8,61,229,2,4,84,True\\nTakeaway,The Chainsmokers,electropop,2019,100,51,53,-8,10,35,210,13,3,83,True\\nAll Around The World (La La La),R3HAB,big room,2019,125,86,73,-5,11,52,148,48,3,82,True\\nGirls Like You (feat. Cardi B),Maroon 5,pop,2019,125,54,85,-7,13,45,236,57,5,81,True\\nCall You Mine,The Chainsmokers,electropop,2019,104,70,59,-6,34,52,218,20,3,81,True\\nNo Guidance (feat. Drake),Chris Brown,dance pop,2019,93,45,70,-7,16,14,261,12,15,81,False\\nAntisocial (with Travis Scott),Ed Sheeran,pop,2019,152,82,72,-5,36,91,162,13,5,78,False\\n\"Taki Taki (feat. Selena Gomez, Ozuna & Cardi B)\",DJ Snake,electronic trap,2019,96,80,84,-4,6,62,213,16,23,77,False\\nCon Calma - Remix,Daddy Yankee,latin,2019,94,87,74,-3,4,61,181,17,5,76,False\\nFind U Again (feat. Camila Cabello),Mark Ronson,dance pop,2019,104,66,61,-7,20,16,176,1,3,75,False\\nCross Me (feat. Chance the Rapper & PnB Rock),Ed Sheeran,pop,2019,95,79,75,-6,7,61,206,21,12,75,False\\n\"No Brainer (feat. Justin Bieber, Chance the Rapper & Quavo)\",DJ Khaled,dance pop,2019,136,76,53,-5,9,65,260,7,34,70,False\\nNothing Breaks Like a Heart (feat. Miley Cyrus),Mark Ronson,dance pop,2019,114,79,60,-6,42,24,217,1,7,69,False\\nKills You Slowly,The Chainsmokers,electropop,2019,150,44,70,-9,13,23,213,6,6,67,False\\n'"
      ]
     },
     "execution_count": 183,
     "metadata": {},
     "output_type": "execute_result"
    }
   ],
   "source": [
    "# Penggabungan seluruh data frame\n",
    "df_all = pd.concat(\\\n",
    "    [df_1950,df_1960\\\n",
    "        ,df_1970,df_1980\\\n",
    "        ,df_1990,df_2000\\\n",
    "        ,df_2010,df_top10],ignore_index=True, sort=False)\n",
    "# drop duplicate\n",
    "df_all = df_all.drop_duplicates()\n",
    "# drop all nan\n",
    "df_all_clear = df_all.dropna()\n",
    "# ubah data has_win_award dari float ke boolean\n",
    "df_all = df_all.astype({\"has_win_award\":bool})\n",
    "df_all_clear = df_all_clear.astype({\"has_win_award\":bool})\n",
    "\n",
    "df_all.to_csv(index=False)"
   ]
  },
  {
   "cell_type": "markdown",
   "id": "48c22057",
   "metadata": {},
   "source": [
    "Preprocessing"
   ]
  },
  {
   "cell_type": "code",
   "execution_count": null,
   "id": "d5b50987",
   "metadata": {},
   "outputs": [],
   "source": [
    "# ubah data has_win_award dari float ke boolean\n",
    "df_1950 = df_1950.astype({\"has_win_award\":bool})\n",
    "df_1960 = df_1960.astype({\"has_win_award\":bool})\n",
    "df_1970 = df_1970.astype({\"has_win_award\":bool})\n",
    "df_1980 = df_1980.astype({\"has_win_award\":bool})\n",
    "df_1990 = df_1990.astype({\"has_win_award\":bool})\n",
    "df_2000 = df_2000.astype({\"has_win_award\":bool})\n",
    "df_2010 = df_2010.astype({\"has_win_award\":bool})\n",
    "df_top10 = df_top10.astype({\"has_win_award\":bool})"
   ]
  },
  {
   "cell_type": "code",
   "execution_count": null,
   "id": "f6762d48",
   "metadata": {},
   "outputs": [],
   "source": [
    "# cek duplikasi\n",
    "print(sum(df_1950.duplicated()))\n",
    "print(sum(df_1960.duplicated()))\n",
    "print(sum(df_1970.duplicated()))\n",
    "print(sum(df_1980.duplicated()))\n",
    "print(sum(df_1990.duplicated()))\n",
    "print(sum(df_2000.duplicated()))\n",
    "print(sum(df_2010.duplicated()))\n",
    "print(sum(df_top10.duplicated()))"
   ]
  },
  {
   "cell_type": "code",
   "execution_count": null,
   "id": "f10bf644",
   "metadata": {},
   "outputs": [],
   "source": [
    "# cek null di kolom yang mana\n",
    "def cek_apakah_ada_null(data_frame):\n",
    "    cek = data_frame.isnull()\n",
    "    columns = list(cek.columns)\n",
    "    c_null = []\n",
    "    for i in columns:\n",
    "        if sum(cek[i]) != 0:\n",
    "            c_null.append(i)\n",
    "    return c_null"
   ]
  },
  {
   "cell_type": "code",
   "execution_count": null,
   "id": "9c607e5c",
   "metadata": {},
   "outputs": [],
   "source": [
    "print(cek_apakah_ada_null(df_1950))\n",
    "print(cek_apakah_ada_null(df_1960))\n",
    "print(cek_apakah_ada_null(df_1970))\n",
    "print(cek_apakah_ada_null(df_1980))\n",
    "print(cek_apakah_ada_null(df_1990))\n",
    "print(cek_apakah_ada_null(df_2000))\n",
    "print(cek_apakah_ada_null(df_2010))\n",
    "print(cek_apakah_ada_null(df_top10))"
   ]
  },
  {
   "cell_type": "markdown",
   "id": "38b07d33",
   "metadata": {},
   "source": [
    "Karena nilai null pada genre tidak mempengaruhi klaster maka tidak perlu dilakukan penambahan atau pengurangan. Jika dilakukan penambahan, belum tentu sesuai dengan genre musik sesungguhnya. Nilai genre hanya akan berpengaruh dalam visualisasi data."
   ]
  },
  {
   "cell_type": "code",
   "execution_count": null,
   "id": "30563be2",
   "metadata": {},
   "outputs": [],
   "source": [
    "# buat scaler\n",
    "def scaler_spotify(df, attribute_spotify):\n",
    "    sc = MinMaxScaler()\n",
    "    data_scaled = sc.fit_transform(df.loc[:,attribute_spotify])\n",
    "    return data_scaled\n",
    "\n",
    "def scaler_spotify_with_PCA(df, attribute_spotify):\n",
    "    sc = MinMaxScaler()\n",
    "    data_scaled = sc.fit_transform(df.loc[:,attribute_spotify])\n",
    "    pca = PCA(n_components=0.95)\n",
    "    pca.fit(data_scaled)\n",
    "    data_scaled = pca.transform(data_scaled)\n",
    "    return data_scaled"
   ]
  },
  {
   "cell_type": "markdown",
   "id": "651c21f5",
   "metadata": {},
   "source": [
    "Clustering"
   ]
  },
  {
   "cell_type": "code",
   "execution_count": null,
   "id": "cc868702",
   "metadata": {},
   "outputs": [],
   "source": [
    "# menggunakan clustering kmeans\n",
    "# mencari nilai optimal dari k\n",
    "def optimal_kmeans(scaled_data):\n",
    "    sil = []\n",
    "    k = range(2,25)\n",
    "    for i in k:\n",
    "        cluster_data = KMeans(n_clusters=i).fit(scaled_data)\n",
    "        sil.append(silhouette_score(scaled_data\\\n",
    "            ,cluster_data.labels_,metric='euclidean'))\n",
    "    plt.plot(k,sil, \"bx-\")\n",
    "    plt.xlabel(\"K\")\n",
    "    plt.ylabel(\"sil\")\n",
    "    plt.show()\n",
    "    return sil.index(max(sil))+2"
   ]
  },
  {
   "cell_type": "code",
   "execution_count": null,
   "id": "e6616c1c",
   "metadata": {},
   "outputs": [],
   "source": [
    "attribute_spotify = [\"bpm\",\"nrgy\",\"dnce\",\"dB\",\"live\",\"val\",\"dur\",\"acous\",\"spch\",\"popularity\",\"has_win_award\"]"
   ]
  },
  {
   "cell_type": "code",
   "execution_count": null,
   "id": "dd9d6920",
   "metadata": {},
   "outputs": [],
   "source": [
    "df_1950_std = scaler_spotify(df=df_1950\\\n",
    "    ,attribute_spotify=attribute_spotify)\n",
    "k = optimal_kmeans(df_1950_std)\n",
    "df_1950_cd = KMeans(n_clusters=k)\\\n",
    "    .fit_predict(df_1950_std)\n",
    "print(k)"
   ]
  },
  {
   "cell_type": "code",
   "execution_count": null,
   "id": "a4d11c22",
   "metadata": {},
   "outputs": [],
   "source": [
    "df_1960_std = scaler_spotify(df=df_1960\\\n",
    "    ,attribute_spotify=attribute_spotify)\n",
    "k = optimal_kmeans(df_1960_std)\n",
    "df_1960_cd = KMeans(n_clusters=k).fit_predict(df_1960_std)\n",
    "print(k)"
   ]
  },
  {
   "cell_type": "code",
   "execution_count": null,
   "id": "fe48f30c",
   "metadata": {},
   "outputs": [],
   "source": [
    "df_1970_std = scaler_spotify(df=df_1970\\\n",
    "    ,attribute_spotify=attribute_spotify)\n",
    "k = optimal_kmeans(df_1970_std)\n",
    "df_1970_cd = KMeans(n_clusters=k).fit_predict(df_1970_std)\n",
    "print(k)"
   ]
  },
  {
   "cell_type": "code",
   "execution_count": null,
   "id": "2683c57b",
   "metadata": {},
   "outputs": [],
   "source": [
    "df_1980_std = scaler_spotify(df=df_1980\\\n",
    "    ,attribute_spotify=attribute_spotify)\n",
    "k = optimal_kmeans(df_1980_std)\n",
    "df_1980_cd = KMeans(n_clusters=k).fit_predict(df_1980_std)\n",
    "print(k)"
   ]
  },
  {
   "cell_type": "code",
   "execution_count": null,
   "id": "28604e21",
   "metadata": {},
   "outputs": [],
   "source": [
    "df_1990_std = scaler_spotify(df=df_1990\\\n",
    "    ,attribute_spotify=attribute_spotify)\n",
    "k = optimal_kmeans(df_1990_std)\n",
    "df_1990_cd = KMeans(n_clusters=k).fit_predict(df_1990_std)\n",
    "print(k)"
   ]
  },
  {
   "cell_type": "code",
   "execution_count": null,
   "id": "9eb54b52",
   "metadata": {},
   "outputs": [],
   "source": [
    "df_2000_std = scaler_spotify(df=df_2000\\\n",
    "    ,attribute_spotify=attribute_spotify)\n",
    "k = optimal_kmeans(df_2000_std)\n",
    "df_2000_cd = KMeans(n_clusters=k).fit_predict(df_2000_std)\n",
    "print(k)"
   ]
  },
  {
   "cell_type": "code",
   "execution_count": null,
   "id": "0e325aeb",
   "metadata": {},
   "outputs": [],
   "source": [
    "df_2010_std = scaler_spotify(df=df_2010\\\n",
    "    ,attribute_spotify=attribute_spotify)\n",
    "k = optimal_kmeans(df_2010_std)\n",
    "df_2010_cd = KMeans(n_clusters=k).fit_predict(df_2010_std)\n",
    "print(k)"
   ]
  },
  {
   "cell_type": "code",
   "execution_count": null,
   "id": "d095f124",
   "metadata": {},
   "outputs": [],
   "source": [
    "df_top10_std = scaler_spotify(df=df_top10\\\n",
    "    ,attribute_spotify=attribute_spotify)\n",
    "k = optimal_kmeans(df_top10_std)\n",
    "df_top10_cd = KMeans(n_clusters=k).fit_predict(df_top10_std)\n",
    "print(k)"
   ]
  },
  {
   "cell_type": "code",
   "execution_count": null,
   "id": "f84b1ef9",
   "metadata": {},
   "outputs": [],
   "source": [
    "df_all_std = scaler_spotify(df=df_all\\\n",
    "    ,attribute_spotify=attribute_spotify)\n",
    "k = optimal_kmeans(df_all_std)\n",
    "df_all_cd = KMeans(n_clusters=k).fit_predict(df_all_std)\n",
    "print(k)"
   ]
  },
  {
   "cell_type": "markdown",
   "id": "c74cf4a4",
   "metadata": {},
   "source": [
    "Analisa"
   ]
  },
  {
   "cell_type": "markdown",
   "id": "4a521b50",
   "metadata": {},
   "source": [
    "Artis yang populer"
   ]
  },
  {
   "cell_type": "code",
   "execution_count": null,
   "id": "a7e392b1",
   "metadata": {},
   "outputs": [],
   "source": [
    "sum(df_top10.duplicated())"
   ]
  },
  {
   "cell_type": "code",
   "execution_count": 181,
   "id": "db1df95e",
   "metadata": {},
   "outputs": [
    {
     "name": "stdout",
     "output_type": "stream",
     "text": [
      "Total Artist : 589\n"
     ]
    }
   ],
   "source": [
    "artist_total = pd.unique(df_all.loc[:,'artist'])\n",
    "print(\"Total Artist : %d\" % (len(artist_total)))"
   ]
  },
  {
   "cell_type": "code",
   "execution_count": 182,
   "id": "e81dc669",
   "metadata": {},
   "outputs": [
    {
     "name": "stdout",
     "output_type": "stream",
     "text": [
      "Total Genre : 137\n"
     ]
    }
   ],
   "source": [
    "genre_total = pd.unique(df_all.loc[:,'genre'])\n",
    "print(\"Total Genre : %d\" % (len(genre_total)))"
   ]
  },
  {
   "cell_type": "code",
   "execution_count": null,
   "id": "082cdf0e",
   "metadata": {},
   "outputs": [],
   "source": [
    "df_all['artist'].value_counts()"
   ]
  },
  {
   "cell_type": "markdown",
   "id": "78b163ea",
   "metadata": {},
   "source": [
    "Artis yang paling populer dapat dihitung dari jumlah nilai lagu yang populer"
   ]
  },
  {
   "cell_type": "code",
   "execution_count": null,
   "id": "945bf001",
   "metadata": {},
   "outputs": [],
   "source": [
    "def dict_artist_popularity(df):\n",
    "    artist_popularity = dict()\n",
    "    for i in df.index:\n",
    "        artist = df['artist'][i]\n",
    "        popularity = df['popularity'][i]\n",
    "        artist_popularity[artist] = artist_popularity.setdefault(artist,0)\\\n",
    "            + popularity\n",
    "    return artist_popularity"
   ]
  },
  {
   "cell_type": "code",
   "execution_count": null,
   "id": "5b48b9da",
   "metadata": {},
   "outputs": [],
   "source": [
    "tmp = dict_artist_popularity(df_1950)\n",
    "# max(tmp, key=tmp.get)"
   ]
  },
  {
   "cell_type": "markdown",
   "id": "7ad27eff",
   "metadata": {},
   "source": [
    "Mencari genre lagu yang populer dapat menggunakan hal yang sama saat mencari artis yang paling populer"
   ]
  },
  {
   "cell_type": "code",
   "execution_count": null,
   "id": "f69d4ab8",
   "metadata": {},
   "outputs": [],
   "source": [
    "def dict_genre_popularity(df):\n",
    "    genre_popularity = dict()\n",
    "    for i in df.index:\n",
    "        genre = df['genre'][i]\n",
    "        popularity = df['popularity'][i]\n",
    "        genre_popularity[genre] = genre_popularity.setdefault(genre,0)\\\n",
    "            + popularity\n",
    "    return genre_popularity"
   ]
  },
  {
   "cell_type": "markdown",
   "id": "d5a7dfff",
   "metadata": {},
   "source": [
    "Untuk melakukan list genre musik dari artis dapat dilakukan dengan melakukan list setiap artis"
   ]
  },
  {
   "cell_type": "code",
   "execution_count": null,
   "id": "a9e93c04",
   "metadata": {},
   "outputs": [],
   "source": [
    "def dict_artist_genre(df):\n",
    "    artist_genre = dict()\n",
    "    for i in df.index:\n",
    "        artist = df['artist'][i]\n",
    "        genre = df['genre'][i]\n",
    "        if isNaN(genre):\n",
    "            artist_genre.setdefault(artist,set())\n",
    "            continue\n",
    "        artist_genre.setdefault(artist,set()).add(genre)\n",
    "    return artist_genre"
   ]
  },
  {
   "cell_type": "code",
   "execution_count": 165,
   "id": "2cfe4f32",
   "metadata": {},
   "outputs": [],
   "source": [
    "def dict_artist_music(df):\n",
    "    artist_music = dict()\n",
    "    for i in df.index:\n",
    "        artist = df['artist'][i]\n",
    "        music = df['title'][i]\n",
    "        if isNaN(music):\n",
    "            artist_music.setdefault(artist,set())\n",
    "            continue\n",
    "        artist_music.setdefault(artist,set()).add(music)\n",
    "    return artist_music"
   ]
  },
  {
   "cell_type": "code",
   "execution_count": 171,
   "id": "ca25580e",
   "metadata": {},
   "outputs": [
    {
     "data": {
      "text/html": [
       "<div>\n",
       "<style scoped>\n",
       "    .dataframe tbody tr th:only-of-type {\n",
       "        vertical-align: middle;\n",
       "    }\n",
       "\n",
       "    .dataframe tbody tr th {\n",
       "        vertical-align: top;\n",
       "    }\n",
       "\n",
       "    .dataframe thead th {\n",
       "        text-align: right;\n",
       "    }\n",
       "</style>\n",
       "<table border=\"1\" class=\"dataframe\">\n",
       "  <thead>\n",
       "    <tr style=\"text-align: right;\">\n",
       "      <th></th>\n",
       "      <th>title</th>\n",
       "      <th>artist</th>\n",
       "      <th>genre</th>\n",
       "      <th>year</th>\n",
       "      <th>bpm</th>\n",
       "      <th>nrgy</th>\n",
       "      <th>dnce</th>\n",
       "      <th>dB</th>\n",
       "      <th>live</th>\n",
       "      <th>val</th>\n",
       "      <th>dur</th>\n",
       "      <th>acous</th>\n",
       "      <th>spch</th>\n",
       "      <th>popularity</th>\n",
       "      <th>has_win_award</th>\n",
       "    </tr>\n",
       "  </thead>\n",
       "  <tbody>\n",
       "    <tr>\n",
       "      <th>494</th>\n",
       "      <td>I Knew You Were Trouble.</td>\n",
       "      <td>Taylor Swift</td>\n",
       "      <td>dance pop</td>\n",
       "      <td>2012</td>\n",
       "      <td>77</td>\n",
       "      <td>47</td>\n",
       "      <td>62</td>\n",
       "      <td>-7</td>\n",
       "      <td>3</td>\n",
       "      <td>68</td>\n",
       "      <td>220</td>\n",
       "      <td>0</td>\n",
       "      <td>4</td>\n",
       "      <td>75</td>\n",
       "      <td>False</td>\n",
       "    </tr>\n",
       "    <tr>\n",
       "      <th>508</th>\n",
       "      <td>We Are Never Ever Getting Back Together</td>\n",
       "      <td>Taylor Swift</td>\n",
       "      <td>dance pop</td>\n",
       "      <td>2012</td>\n",
       "      <td>86</td>\n",
       "      <td>68</td>\n",
       "      <td>63</td>\n",
       "      <td>-6</td>\n",
       "      <td>12</td>\n",
       "      <td>75</td>\n",
       "      <td>193</td>\n",
       "      <td>1</td>\n",
       "      <td>9</td>\n",
       "      <td>73</td>\n",
       "      <td>False</td>\n",
       "    </tr>\n",
       "    <tr>\n",
       "      <th>509</th>\n",
       "      <td>Love Story</td>\n",
       "      <td>Taylor Swift</td>\n",
       "      <td>dance pop</td>\n",
       "      <td>2008</td>\n",
       "      <td>119</td>\n",
       "      <td>74</td>\n",
       "      <td>62</td>\n",
       "      <td>-4</td>\n",
       "      <td>8</td>\n",
       "      <td>31</td>\n",
       "      <td>236</td>\n",
       "      <td>13</td>\n",
       "      <td>3</td>\n",
       "      <td>73</td>\n",
       "      <td>False</td>\n",
       "    </tr>\n",
       "    <tr>\n",
       "      <th>552</th>\n",
       "      <td>Teardrops On My Guitar - Radio Single Remix</td>\n",
       "      <td>Taylor Swift</td>\n",
       "      <td>dance pop</td>\n",
       "      <td>2006</td>\n",
       "      <td>100</td>\n",
       "      <td>42</td>\n",
       "      <td>62</td>\n",
       "      <td>-7</td>\n",
       "      <td>12</td>\n",
       "      <td>29</td>\n",
       "      <td>203</td>\n",
       "      <td>29</td>\n",
       "      <td>2</td>\n",
       "      <td>61</td>\n",
       "      <td>False</td>\n",
       "    </tr>\n",
       "    <tr>\n",
       "      <th>645</th>\n",
       "      <td>Wildest Dreams</td>\n",
       "      <td>Taylor Swift</td>\n",
       "      <td>dance pop</td>\n",
       "      <td>2014</td>\n",
       "      <td>140</td>\n",
       "      <td>66</td>\n",
       "      <td>55</td>\n",
       "      <td>-7</td>\n",
       "      <td>11</td>\n",
       "      <td>47</td>\n",
       "      <td>220</td>\n",
       "      <td>7</td>\n",
       "      <td>7</td>\n",
       "      <td>71</td>\n",
       "      <td>False</td>\n",
       "    </tr>\n",
       "    <tr>\n",
       "      <th>776</th>\n",
       "      <td>I Knew You Were Trouble.</td>\n",
       "      <td>Taylor Swift</td>\n",
       "      <td>pop</td>\n",
       "      <td>2012</td>\n",
       "      <td>77</td>\n",
       "      <td>47</td>\n",
       "      <td>62</td>\n",
       "      <td>-7</td>\n",
       "      <td>3</td>\n",
       "      <td>68</td>\n",
       "      <td>220</td>\n",
       "      <td>0</td>\n",
       "      <td>4</td>\n",
       "      <td>77</td>\n",
       "      <td>False</td>\n",
       "    </tr>\n",
       "    <tr>\n",
       "      <th>780</th>\n",
       "      <td>We Are Never Ever Getting Back Together</td>\n",
       "      <td>Taylor Swift</td>\n",
       "      <td>pop</td>\n",
       "      <td>2012</td>\n",
       "      <td>86</td>\n",
       "      <td>68</td>\n",
       "      <td>63</td>\n",
       "      <td>-6</td>\n",
       "      <td>12</td>\n",
       "      <td>75</td>\n",
       "      <td>193</td>\n",
       "      <td>1</td>\n",
       "      <td>9</td>\n",
       "      <td>75</td>\n",
       "      <td>False</td>\n",
       "    </tr>\n",
       "    <tr>\n",
       "      <th>819</th>\n",
       "      <td>We Are Never Ever Getting Back Together</td>\n",
       "      <td>Taylor Swift</td>\n",
       "      <td>pop</td>\n",
       "      <td>2013</td>\n",
       "      <td>86</td>\n",
       "      <td>68</td>\n",
       "      <td>63</td>\n",
       "      <td>-6</td>\n",
       "      <td>12</td>\n",
       "      <td>75</td>\n",
       "      <td>193</td>\n",
       "      <td>1</td>\n",
       "      <td>9</td>\n",
       "      <td>75</td>\n",
       "      <td>False</td>\n",
       "    </tr>\n",
       "    <tr>\n",
       "      <th>882</th>\n",
       "      <td>Shake It Off</td>\n",
       "      <td>Taylor Swift</td>\n",
       "      <td>pop</td>\n",
       "      <td>2014</td>\n",
       "      <td>160</td>\n",
       "      <td>80</td>\n",
       "      <td>65</td>\n",
       "      <td>-5</td>\n",
       "      <td>33</td>\n",
       "      <td>94</td>\n",
       "      <td>219</td>\n",
       "      <td>6</td>\n",
       "      <td>17</td>\n",
       "      <td>78</td>\n",
       "      <td>False</td>\n",
       "    </tr>\n",
       "    <tr>\n",
       "      <th>1074</th>\n",
       "      <td>Out Of The Woods</td>\n",
       "      <td>Taylor Swift</td>\n",
       "      <td>pop</td>\n",
       "      <td>2016</td>\n",
       "      <td>92</td>\n",
       "      <td>84</td>\n",
       "      <td>55</td>\n",
       "      <td>-7</td>\n",
       "      <td>34</td>\n",
       "      <td>34</td>\n",
       "      <td>236</td>\n",
       "      <td>0</td>\n",
       "      <td>4</td>\n",
       "      <td>66</td>\n",
       "      <td>False</td>\n",
       "    </tr>\n",
       "    <tr>\n",
       "      <th>1204</th>\n",
       "      <td>Look What You Made Me Do</td>\n",
       "      <td>Taylor Swift</td>\n",
       "      <td>pop</td>\n",
       "      <td>2018</td>\n",
       "      <td>128</td>\n",
       "      <td>71</td>\n",
       "      <td>77</td>\n",
       "      <td>-6</td>\n",
       "      <td>13</td>\n",
       "      <td>51</td>\n",
       "      <td>212</td>\n",
       "      <td>20</td>\n",
       "      <td>12</td>\n",
       "      <td>75</td>\n",
       "      <td>False</td>\n",
       "    </tr>\n",
       "    <tr>\n",
       "      <th>1216</th>\n",
       "      <td>End Game</td>\n",
       "      <td>Taylor Swift</td>\n",
       "      <td>pop</td>\n",
       "      <td>2018</td>\n",
       "      <td>159</td>\n",
       "      <td>59</td>\n",
       "      <td>65</td>\n",
       "      <td>-6</td>\n",
       "      <td>11</td>\n",
       "      <td>15</td>\n",
       "      <td>245</td>\n",
       "      <td>1</td>\n",
       "      <td>6</td>\n",
       "      <td>70</td>\n",
       "      <td>False</td>\n",
       "    </tr>\n",
       "    <tr>\n",
       "      <th>1236</th>\n",
       "      <td>...Ready For It? - BloodPop® Remix</td>\n",
       "      <td>Taylor Swift</td>\n",
       "      <td>pop</td>\n",
       "      <td>2018</td>\n",
       "      <td>160</td>\n",
       "      <td>84</td>\n",
       "      <td>58</td>\n",
       "      <td>-5</td>\n",
       "      <td>10</td>\n",
       "      <td>50</td>\n",
       "      <td>190</td>\n",
       "      <td>13</td>\n",
       "      <td>22</td>\n",
       "      <td>52</td>\n",
       "      <td>False</td>\n",
       "    </tr>\n",
       "  </tbody>\n",
       "</table>\n",
       "</div>"
      ],
      "text/plain": [
       "                                            title        artist      genre  \\\n",
       "494                      I Knew You Were Trouble.  Taylor Swift  dance pop   \n",
       "508       We Are Never Ever Getting Back Together  Taylor Swift  dance pop   \n",
       "509                                    Love Story  Taylor Swift  dance pop   \n",
       "552   Teardrops On My Guitar - Radio Single Remix  Taylor Swift  dance pop   \n",
       "645                                Wildest Dreams  Taylor Swift  dance pop   \n",
       "776                      I Knew You Were Trouble.  Taylor Swift        pop   \n",
       "780       We Are Never Ever Getting Back Together  Taylor Swift        pop   \n",
       "819       We Are Never Ever Getting Back Together  Taylor Swift        pop   \n",
       "882                                  Shake It Off  Taylor Swift        pop   \n",
       "1074                             Out Of The Woods  Taylor Swift        pop   \n",
       "1204                     Look What You Made Me Do  Taylor Swift        pop   \n",
       "1216                                     End Game  Taylor Swift        pop   \n",
       "1236           ...Ready For It? - BloodPop® Remix  Taylor Swift        pop   \n",
       "\n",
       "      year  bpm  nrgy  dnce  dB  live  val  dur  acous  spch  popularity  \\\n",
       "494   2012   77    47    62  -7     3   68  220      0     4          75   \n",
       "508   2012   86    68    63  -6    12   75  193      1     9          73   \n",
       "509   2008  119    74    62  -4     8   31  236     13     3          73   \n",
       "552   2006  100    42    62  -7    12   29  203     29     2          61   \n",
       "645   2014  140    66    55  -7    11   47  220      7     7          71   \n",
       "776   2012   77    47    62  -7     3   68  220      0     4          77   \n",
       "780   2012   86    68    63  -6    12   75  193      1     9          75   \n",
       "819   2013   86    68    63  -6    12   75  193      1     9          75   \n",
       "882   2014  160    80    65  -5    33   94  219      6    17          78   \n",
       "1074  2016   92    84    55  -7    34   34  236      0     4          66   \n",
       "1204  2018  128    71    77  -6    13   51  212     20    12          75   \n",
       "1216  2018  159    59    65  -6    11   15  245      1     6          70   \n",
       "1236  2018  160    84    58  -5    10   50  190     13    22          52   \n",
       "\n",
       "      has_win_award  \n",
       "494           False  \n",
       "508           False  \n",
       "509           False  \n",
       "552           False  \n",
       "645           False  \n",
       "776           False  \n",
       "780           False  \n",
       "819           False  \n",
       "882           False  \n",
       "1074          False  \n",
       "1204          False  \n",
       "1216          False  \n",
       "1236          False  "
      ]
     },
     "execution_count": 171,
     "metadata": {},
     "output_type": "execute_result"
    }
   ],
   "source": [
    "music = dict_artist_music(df_all)\n",
    "df_all.loc[df_all['artist'] == 'Taylor Swift']"
   ]
  },
  {
   "cell_type": "code",
   "execution_count": 170,
   "id": "090c9c48",
   "metadata": {},
   "outputs": [
    {
     "data": {
      "text/plain": [
       "{'Taylor Swift': {'dance pop', 'pop'}}"
      ]
     },
     "execution_count": 170,
     "metadata": {},
     "output_type": "execute_result"
    }
   ],
   "source": [
    "tmp_2 = dict_artist_genre(df_all)\n",
    "\n",
    "tmp_3 = dict()\n",
    "for i in tmp_2.keys():\n",
    "    tmp_3[i] = tmp_3.setdefault(i,0) + len(tmp_2[i])\n",
    "\n",
    "genre_max = max(tmp_3.values())\n",
    "list_of_artist = dict()\n",
    "for i in tmp_3.keys():\n",
    "    if tmp_3[i] == genre_max:\n",
    "        list_of_artist[i] = tmp_2[i]\n",
    "\n",
    "list_of_artist"
   ]
  },
  {
   "cell_type": "markdown",
   "id": "641ce641",
   "metadata": {},
   "source": [
    "Pengaruh durasi waktu dengan popularitas lagu"
   ]
  },
  {
   "cell_type": "code",
   "execution_count": null,
   "id": "75046915",
   "metadata": {},
   "outputs": [],
   "source": [
    "attribute_spotify_durration_popularity = [\"dur\",\"popularity\"]"
   ]
  },
  {
   "cell_type": "code",
   "execution_count": 180,
   "id": "c753d6bc",
   "metadata": {},
   "outputs": [
    {
     "ename": "TypeError",
     "evalue": "fit() missing 1 required positional argument: 'y'",
     "output_type": "error",
     "traceback": [
      "\u001b[0;31m---------------------------------------------------------------------------\u001b[0m",
      "\u001b[0;31mTypeError\u001b[0m                                 Traceback (most recent call last)",
      "\u001b[0;32m/tmp/ipykernel_283377/3935922765.py\u001b[0m in \u001b[0;36m<module>\u001b[0;34m\u001b[0m\n\u001b[1;32m      3\u001b[0m \u001b[0mduration\u001b[0m \u001b[0;34m=\u001b[0m \u001b[0mlist\u001b[0m\u001b[0;34m(\u001b[0m\u001b[0mdf_all\u001b[0m\u001b[0;34m[\u001b[0m\u001b[0;34m'dur'\u001b[0m\u001b[0;34m]\u001b[0m\u001b[0;34m)\u001b[0m\u001b[0;34m\u001b[0m\u001b[0;34m\u001b[0m\u001b[0m\n\u001b[1;32m      4\u001b[0m \u001b[0mpopularity\u001b[0m \u001b[0;34m=\u001b[0m \u001b[0mlist\u001b[0m\u001b[0;34m(\u001b[0m\u001b[0mdf_all\u001b[0m\u001b[0;34m[\u001b[0m\u001b[0;34m'popularity'\u001b[0m\u001b[0;34m]\u001b[0m\u001b[0;34m)\u001b[0m\u001b[0;34m\u001b[0m\u001b[0;34m\u001b[0m\u001b[0m\n\u001b[0;32m----> 5\u001b[0;31m \u001b[0msvm_train\u001b[0m\u001b[0;34m.\u001b[0m\u001b[0mfit\u001b[0m\u001b[0;34m(\u001b[0m\u001b[0;34m[\u001b[0m\u001b[0mduration\u001b[0m\u001b[0;34m,\u001b[0m \u001b[0mpopularity\u001b[0m\u001b[0;34m]\u001b[0m\u001b[0;34m)\u001b[0m\u001b[0;34m\u001b[0m\u001b[0;34m\u001b[0m\u001b[0m\n\u001b[0m",
      "\u001b[0;31mTypeError\u001b[0m: fit() missing 1 required positional argument: 'y'"
     ]
    }
   ],
   "source": [
    "# Menggunakan svm\n",
    "svm_train = svm.NuSVC(gamma='auto')\n",
    "duration = list(df_all['dur'])\n",
    "popularity = list(df_all['popularity'])\n",
    "svm_train.fit([duration, popularity])"
   ]
  }
 ],
 "metadata": {
  "kernelspec": {
   "display_name": "Python 3 (ipykernel)",
   "language": "python",
   "name": "python3"
  },
  "language_info": {
   "codemirror_mode": {
    "name": "ipython",
    "version": 3
   },
   "file_extension": ".py",
   "mimetype": "text/x-python",
   "name": "python",
   "nbconvert_exporter": "python",
   "pygments_lexer": "ipython3",
   "version": "3.9.7"
  }
 },
 "nbformat": 4,
 "nbformat_minor": 5
}
