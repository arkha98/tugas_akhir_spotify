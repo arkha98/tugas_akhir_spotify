{
 "cells": [
  {
   "cell_type": "code",
   "execution_count": null,
   "id": "10249130",
   "metadata": {},
   "outputs": [],
   "source": [
    "import pandas as pd\n",
    "import numpy as np\n",
    "import matplotlib.pyplot as plt\n",
    "import matplotlib.image as img\n",
    "from sklearn.preprocessing import StandardScaler, MinMaxScaler\n",
    "from sklearn.cluster import KMeans\n",
    "from sklearn.metrics import silhouette_score, classification_report, confusion_matrix\n",
    "from sklearn.decomposition import PCA\n",
    "from sklearn import svm\n",
    "from sklearn.linear_model import LinearRegression, LogisticRegression\n",
    "from sklearn.model_selection import train_test_split\n",
    "from sklearn.neighbors import KNeighborsClassifier\n",
    "from collections import Counter\n",
    "import seaborn as sns"
   ]
  },
  {
   "cell_type": "code",
   "execution_count": null,
   "id": "6cdc55e7",
   "metadata": {},
   "outputs": [],
   "source": [
    "# fungsi membantu\n",
    "def isNaN(value) :\n",
    "    try:\n",
    "        import math\n",
    "        return math.isnan(float(value))\n",
    "    except:\n",
    "        return False"
   ]
  },
  {
   "cell_type": "markdown",
   "id": "ddc357a1",
   "metadata": {},
   "source": [
    "<h2>Penjelasan Atribut</h2>\n",
    "\n",
    "<table>\n",
    "  <tr>\n",
    "    <th>Num</th>\n",
    "    <th>Attribute Name</th>\n",
    "    <th>Description</th>\n",
    "  </tr>\n",
    "  <tr>\n",
    "    <td>1</td>\n",
    "    <td>title</td>\n",
    "    <td>Title</td>\n",
    "  </tr>\n",
    "  <tr>\n",
    "    <td>2</td>\n",
    "    <td>artist</td>\n",
    "    <td>Artist</td>\n",
    "  </tr>\n",
    "  <tr>\n",
    "    <td>3</td>\n",
    "    <td>genre</td>\n",
    "    <td>Genre of the song</td>\n",
    "  </tr>\n",
    "  <tr>\n",
    "    <td>4</td>\n",
    "    <td>year</td>\n",
    "    <td>Year of the song (due to re-releases, the year might not correspond to the release year of the original song)</td>\n",
    "  </tr>\n",
    "  <tr>\n",
    "    <td>5</td>\n",
    "    <td>bpm</td>\n",
    "    <td>Beats per minute</td>\n",
    "  </tr>\n",
    "  <tr>\n",
    "    <td>6</td>\n",
    "    <td>nrgy</td>\n",
    "    <td>Energy of a song, the higher the value the more energetic the song is</td>\n",
    "  </tr>\n",
    "  <tr>\n",
    "    <td>7</td>\n",
    "    <td>dnce</td>\n",
    "    <td>The higher the value, the easier it is to dance to this song.</td>\n",
    "  </tr>\n",
    "  <tr>\n",
    "    <td>8</td>\n",
    "    <td>dB</td>\n",
    "    <td>The higher the value, the louder the song</td>\n",
    "  </tr>\n",
    "  <tr>\n",
    "    <td>9</td>\n",
    "    <td>live</td>\n",
    "    <td>The higher the value, the more likely the song is a live recording.</td>\n",
    "  </tr>\n",
    "  <tr>\n",
    "    <td>10</td>\n",
    "    <td>val</td>\n",
    "    <td>The higher the value, the more positive the mood for the song.</td></tr>\n",
    "  <tr>\n",
    "    <td>11</td>\n",
    "    <td>dur</td>\n",
    "    <td>The duration of the song</td>\n",
    "  </tr>\n",
    "  <tr>\n",
    "    <td>12</td>\n",
    "    <td>acous</td>\n",
    "    <td>The higher the value the more acoustic the song is.</td>\n",
    "  </tr>\n",
    "  <tr>\n",
    "    <td>13</td>\n",
    "    <td>spch</td>\n",
    "    <td>The higher the value the more spoken words the song contains.</td>\n",
    "  </tr>\n",
    "  <tr>\n",
    "    <td>14</td>\n",
    "    <td>popularity</td>\n",
    "    <td>The higher the value the more popular the song is.</td>\n",
    "  </tr>\n",
    "  <tr>\n",
    "    <td>15</td>\n",
    "    <td>has_win_award</td>\n",
    "    <td>Boolean value to indicate if the song has won an award or not. Value of 1 if the song has already won one or more awards otherwise 0 if the song hasn’t won any awards.</td>\n",
    "  </tr>\n",
    "</table>"
   ]
  },
  {
   "cell_type": "markdown",
   "id": "85ebfd68",
   "metadata": {},
   "source": [
    "load semua csv"
   ]
  },
  {
   "cell_type": "code",
   "execution_count": null,
   "id": "07afebf8",
   "metadata": {},
   "outputs": [],
   "source": [
    "df_1950 = pd.read_csv(\"1950.csv\")\n",
    "df_1960 = pd.read_csv(\"1960.csv\")\n",
    "df_1970 = pd.read_csv(\"1970.csv\")\n",
    "df_1980 = pd.read_csv(\"1980.csv\")\n",
    "df_1990 = pd.read_csv(\"1990.csv\")\n",
    "df_2000 = pd.read_csv(\"2000.csv\")\n",
    "df_2010 = pd.read_csv(\"2010.csv\")\n",
    "df_top10 = pd.read_csv(\"top10s.csv\")"
   ]
  },
  {
   "cell_type": "code",
   "execution_count": null,
   "id": "dd6c8d38",
   "metadata": {},
   "outputs": [],
   "source": [
    "# Penggabungan seluruh data frame\n",
    "df_all = pd.concat(\\\n",
    "    [df_1950,df_1960\\\n",
    "        ,df_1970,df_1980\\\n",
    "        ,df_1990,df_2000\\\n",
    "        ,df_2010,df_top10],ignore_index=True, sort=False)\n",
    "\n",
    "df_all.to_csv('all_sort_from_1950_to_top10.csv',index=False)\n",
    "\n",
    "# drop duplicate\n",
    "df_all = df_all.drop_duplicates()\n",
    "# drop all nan\n",
    "df_all_clear = df_all.dropna()\n",
    "# ubah data has_win_award dari float ke boolean\n",
    "df_all = df_all.astype({\"has_win_award\":bool})\n",
    "df_all_clear = df_all_clear.astype({\"has_win_award\":bool})\n",
    "\n",
    "df_all.to_csv('all_no_duplicates.csv',index=False)"
   ]
  },
  {
   "cell_type": "markdown",
   "id": "48c22057",
   "metadata": {},
   "source": [
    "Preprocessing"
   ]
  },
  {
   "cell_type": "code",
   "execution_count": null,
   "id": "5774e81b",
   "metadata": {},
   "outputs": [],
   "source": [
    "df_top10.info()"
   ]
  },
  {
   "cell_type": "code",
   "execution_count": null,
   "id": "d5b50987",
   "metadata": {},
   "outputs": [],
   "source": [
    "# ubah data has_win_award dari float ke boolean\n",
    "df_1950 = df_1950.astype({\"has_win_award\":bool})\n",
    "df_1960 = df_1960.astype({\"has_win_award\":bool})\n",
    "df_1970 = df_1970.astype({\"has_win_award\":bool})\n",
    "df_1980 = df_1980.astype({\"has_win_award\":bool})\n",
    "df_1990 = df_1990.astype({\"has_win_award\":bool})\n",
    "df_2000 = df_2000.astype({\"has_win_award\":bool})\n",
    "df_2010 = df_2010.astype({\"has_win_award\":bool})\n",
    "df_top10 = df_top10.astype({\"has_win_award\":bool})"
   ]
  },
  {
   "cell_type": "code",
   "execution_count": null,
   "id": "f6762d48",
   "metadata": {},
   "outputs": [],
   "source": [
    "# cek duplikasi\n",
    "print(sum(df_1950.duplicated()))\n",
    "print(sum(df_1960.duplicated()))\n",
    "print(sum(df_1970.duplicated()))\n",
    "print(sum(df_1980.duplicated()))\n",
    "print(sum(df_1990.duplicated()))\n",
    "print(sum(df_2000.duplicated()))\n",
    "print(sum(df_2010.duplicated()))\n",
    "print(sum(df_top10.duplicated()))"
   ]
  },
  {
   "cell_type": "code",
   "execution_count": null,
   "id": "f10bf644",
   "metadata": {},
   "outputs": [],
   "source": [
    "# cek null di kolom yang mana\n",
    "def cek_apakah_ada_null(data_frame):\n",
    "    cek = data_frame.isnull()\n",
    "    columns = list(cek.columns)\n",
    "    c_null = []\n",
    "    for i in columns:\n",
    "        if sum(cek[i]) != 0:\n",
    "            c_null.append(i)\n",
    "    return c_null"
   ]
  },
  {
   "cell_type": "code",
   "execution_count": null,
   "id": "9c607e5c",
   "metadata": {},
   "outputs": [],
   "source": [
    "print(cek_apakah_ada_null(df_1950))\n",
    "print(cek_apakah_ada_null(df_1960))\n",
    "print(cek_apakah_ada_null(df_1970))\n",
    "print(cek_apakah_ada_null(df_1980))\n",
    "print(cek_apakah_ada_null(df_1990))\n",
    "print(cek_apakah_ada_null(df_2000))\n",
    "print(cek_apakah_ada_null(df_2010))\n",
    "print(cek_apakah_ada_null(df_top10))"
   ]
  },
  {
   "cell_type": "code",
   "execution_count": null,
   "id": "38b07d33",
   "metadata": {},
   "outputs": [],
   "source": [
    "sns.heatmap(df_all.corr())"
   ]
  },
  {
   "cell_type": "code",
   "execution_count": null,
   "id": "5ac1bf1c",
   "metadata": {},
   "outputs": [],
   "source": [
    "sns.heatmap(df_1950.corr())"
   ]
  },
  {
   "cell_type": "code",
   "execution_count": null,
   "id": "97ae061d",
   "metadata": {},
   "outputs": [],
   "source": [
    "sns.heatmap(df_1960.corr())"
   ]
  },
  {
   "cell_type": "code",
   "execution_count": null,
   "id": "b1705c62",
   "metadata": {},
   "outputs": [],
   "source": [
    "sns.heatmap(df_1970.corr())"
   ]
  },
  {
   "cell_type": "code",
   "execution_count": null,
   "id": "fa3c1be5",
   "metadata": {},
   "outputs": [],
   "source": [
    "sns.heatmap(df_1980.corr())"
   ]
  },
  {
   "cell_type": "code",
   "execution_count": null,
   "id": "68eb9347",
   "metadata": {},
   "outputs": [],
   "source": [
    "sns.heatmap(df_1990.corr())"
   ]
  },
  {
   "cell_type": "code",
   "execution_count": null,
   "id": "0f783a13",
   "metadata": {},
   "outputs": [],
   "source": [
    "sns.heatmap(df_2000.corr())"
   ]
  },
  {
   "cell_type": "code",
   "execution_count": null,
   "id": "3fd7f4f7",
   "metadata": {},
   "outputs": [],
   "source": [
    "sns.heatmap(df_2010.corr())"
   ]
  },
  {
   "cell_type": "code",
   "execution_count": null,
   "id": "7a445581",
   "metadata": {},
   "outputs": [],
   "source": [
    "sns.heatmap(df_top10.corr())"
   ]
  },
  {
   "cell_type": "markdown",
   "id": "1be2ceca",
   "metadata": {},
   "source": [
    "Hanya energy, dB, dan acoustic saja yang dapat mendeskripsikan sebuah lagu\n"
   ]
  },
  {
   "cell_type": "code",
   "execution_count": null,
   "id": "c2a46c87",
   "metadata": {},
   "outputs": [],
   "source": [
    "attribute_spotify_high_corr = [\"nrgy\",\"dB\",\"acous\"]"
   ]
  },
  {
   "cell_type": "code",
   "execution_count": null,
   "id": "30563be2",
   "metadata": {},
   "outputs": [],
   "source": [
    "# buat scaler\n",
    "def scaler_spotify(df, attribute_spotify):\n",
    "    sc = MinMaxScaler()\n",
    "    data_scaled = sc.fit_transform(df.loc[:,attribute_spotify])\n",
    "    return data_scaled\n",
    "\n",
    "def scaler_spotify_with_PCA(df, attribute_spotify):\n",
    "    sc = MinMaxScaler()\n",
    "    data_scaled = sc.fit_transform(df.loc[:,attribute_spotify])\n",
    "    pca = PCA(n_components=0.95)\n",
    "    pca.fit(data_scaled)\n",
    "    data_scaled = pca.transform(data_scaled)\n",
    "    return data_scaled"
   ]
  },
  {
   "cell_type": "markdown",
   "id": "651c21f5",
   "metadata": {},
   "source": [
    "Clustering"
   ]
  },
  {
   "cell_type": "code",
   "execution_count": null,
   "id": "cc868702",
   "metadata": {},
   "outputs": [],
   "source": [
    "# menggunakan clustering kmeans\n",
    "# mencari nilai optimal dari k\n",
    "def optimal_kmeans(scaled_data):\n",
    "    sil = []\n",
    "    k = range(2,25)\n",
    "    for i in k:\n",
    "        cluster_data = KMeans(n_clusters=i)\\\n",
    "            .fit(scaled_data)\n",
    "        sil.append(silhouette_score(scaled_data\\\n",
    "            ,cluster_data.labels_,metric='euclidean'))\n",
    "    plt.plot(k,sil, \"bx-\")\n",
    "    plt.xlabel(\"K\")\n",
    "    plt.ylabel(\"sil\")\n",
    "    plt.show()\n",
    "    return sil.index(max(sil))+2"
   ]
  },
  {
   "cell_type": "code",
   "execution_count": null,
   "id": "e6616c1c",
   "metadata": {},
   "outputs": [],
   "source": [
    "attribute_spotify = [\"bpm\",\"nrgy\",\"dnce\",\"dB\",\"live\",\"val\",\"dur\",\"acous\",\"spch\",\"popularity\",\"has_win_award\"]"
   ]
  },
  {
   "cell_type": "code",
   "execution_count": null,
   "id": "dd9d6920",
   "metadata": {},
   "outputs": [],
   "source": [
    "df_1950_std = scaler_spotify(df_1950, attribute_spotify)\n",
    "k = optimal_kmeans(df_1950_std)\n",
    "df_1950_cd = KMeans(n_clusters=k)\\\n",
    "    .fit_predict(df_1950_std)\n",
    "df_1950_cluster = df_1950.copy()\n",
    "df_1950_cluster['cluster'] = df_1950_cd\n",
    "print(k)"
   ]
  },
  {
   "cell_type": "code",
   "execution_count": null,
   "id": "a4d11c22",
   "metadata": {},
   "outputs": [],
   "source": [
    "df_1960_std = scaler_spotify(df_1960, attribute_spotify)\n",
    "k = optimal_kmeans(df_1960_std)\n",
    "df_1960_cd = KMeans(n_clusters=k).fit_predict(df_1960_std)\n",
    "df_1960_cluster = df_1960.copy()\n",
    "df_1960_cluster['cluster'] = df_1960_cd\n",
    "print(k)"
   ]
  },
  {
   "cell_type": "code",
   "execution_count": null,
   "id": "fe48f30c",
   "metadata": {},
   "outputs": [],
   "source": [
    "df_1970_std = scaler_spotify(df_1970, attribute_spotify)\n",
    "k = optimal_kmeans(df_1970_std)\n",
    "df_1970_cd = KMeans(n_clusters=k).fit_predict(df_1970_std)\n",
    "df_1970_cluster = df_1970.copy()\n",
    "df_1970_cluster['cluster'] = df_1970_cd\n",
    "print(k)"
   ]
  },
  {
   "cell_type": "code",
   "execution_count": null,
   "id": "11389556",
   "metadata": {},
   "outputs": [],
   "source": []
  },
  {
   "cell_type": "code",
   "execution_count": null,
   "id": "2683c57b",
   "metadata": {},
   "outputs": [],
   "source": [
    "df_1980_std = scaler_spotify(df_1980, attribute_spotify)\n",
    "k = optimal_kmeans(df_1980_std)\n",
    "df_1980_cd = KMeans(n_clusters=k).fit_predict(df_1980_std)\n",
    "df_1980_cluster = df_1980.copy()\n",
    "df_1980_cluster['cluster'] = df_1980_cd\n",
    "print(k)"
   ]
  },
  {
   "cell_type": "code",
   "execution_count": null,
   "id": "28604e21",
   "metadata": {},
   "outputs": [],
   "source": [
    "df_1990_std = scaler_spotify(df_1990, attribute_spotify)\n",
    "k = optimal_kmeans(df_1990_std)\n",
    "df_1990_cd = KMeans(n_clusters=k).fit_predict(df_1990_std)\n",
    "df_1990_cluster = df_1990.copy()\n",
    "df_1990_cluster['cluster'] = df_1990_cd\n",
    "print(k)"
   ]
  },
  {
   "cell_type": "code",
   "execution_count": null,
   "id": "9eb54b52",
   "metadata": {},
   "outputs": [],
   "source": [
    "df_2000_std = scaler_spotify(df_2000, attribute_spotify)\n",
    "k = optimal_kmeans(df_2000_std)\n",
    "df_2000_cd = KMeans(n_clusters=k).fit_predict(df_2000_std)\n",
    "df_2000_cluster = df_2000.copy()\n",
    "df_2000_cluster['cluster'] = df_2000_cd\n",
    "print(k)"
   ]
  },
  {
   "cell_type": "code",
   "execution_count": null,
   "id": "0e325aeb",
   "metadata": {},
   "outputs": [],
   "source": [
    "df_2010_std = scaler_spotify(df_2010, attribute_spotify)\n",
    "k = optimal_kmeans(df_2010_std)\n",
    "df_2010_cd = KMeans(n_clusters=k).fit_predict(df_2010_std)\n",
    "df_2010_cluster = df_2010.copy()\n",
    "df_2010_cluster['cluster'] = df_2010_cd\n",
    "print(k)"
   ]
  },
  {
   "cell_type": "code",
   "execution_count": null,
   "id": "d095f124",
   "metadata": {},
   "outputs": [],
   "source": [
    "df_top10_std = scaler_spotify(df=df_top10\\\n",
    "    ,attribute_spotify=attribute_spotify_high_corr)\n",
    "k = optimal_kmeans(df_top10_std)\n",
    "df_top10_cd = KMeans(n_clusters=k).fit_predict(df_top10_std)\n",
    "df_top10_cluster = df_top10.copy()\n",
    "df_top10_cluster['cluster'] = df_top10_cd\n",
    "print(k)"
   ]
  },
  {
   "cell_type": "code",
   "execution_count": null,
   "id": "f84b1ef9",
   "metadata": {},
   "outputs": [],
   "source": [
    "df_all_std = scaler_spotify(df_all, attribute_spotify)\n",
    "k = optimal_kmeans(df_all_std)\n",
    "df_all_cd = KMeans(n_clusters=k).fit_predict(df_all_std)\n",
    "df_all_cluster = df_all.copy()\n",
    "df_all_cluster['cluster'] = df_all_cd\n",
    "print(k)"
   ]
  },
  {
   "cell_type": "markdown",
   "id": "c74cf4a4",
   "metadata": {},
   "source": [
    "Analisa"
   ]
  },
  {
   "cell_type": "markdown",
   "id": "4a521b50",
   "metadata": {},
   "source": [
    "Artis yang populer"
   ]
  },
  {
   "cell_type": "code",
   "execution_count": null,
   "id": "a7e392b1",
   "metadata": {},
   "outputs": [],
   "source": [
    "sum(df_top10.duplicated())"
   ]
  },
  {
   "cell_type": "code",
   "execution_count": null,
   "id": "db1df95e",
   "metadata": {},
   "outputs": [],
   "source": [
    "artist_total = pd.unique(df_all.loc[:,'artist'])\n",
    "print(\"Total Artist : %d\" % (len(artist_total)))"
   ]
  },
  {
   "cell_type": "code",
   "execution_count": null,
   "id": "e81dc669",
   "metadata": {},
   "outputs": [],
   "source": [
    "genre_total = pd.unique(df_all.loc[:,'genre'])\n",
    "print(\"Total Genre : %d\" % (len(genre_total)))"
   ]
  },
  {
   "cell_type": "code",
   "execution_count": null,
   "id": "082cdf0e",
   "metadata": {},
   "outputs": [],
   "source": [
    "df_all['artist'].value_counts()"
   ]
  },
  {
   "cell_type": "markdown",
   "id": "78b163ea",
   "metadata": {},
   "source": [
    "Artis yang paling populer dapat dihitung dari jumlah nilai lagu yang populer"
   ]
  },
  {
   "cell_type": "code",
   "execution_count": null,
   "id": "945bf001",
   "metadata": {},
   "outputs": [],
   "source": [
    "def dict_artist_popularity(df):\n",
    "    artist_popularity = dict()\n",
    "    for i in df.index:\n",
    "        artist = df['artist'][i]\n",
    "        popularity = df['popularity'][i]\n",
    "        artist_popularity[artist] = artist_popularity.setdefault(artist,0)\\\n",
    "            + popularity\n",
    "    return artist_popularity"
   ]
  },
  {
   "cell_type": "code",
   "execution_count": null,
   "id": "5b48b9da",
   "metadata": {},
   "outputs": [],
   "source": [
    "artis_populer = dict_artist_popularity(df_top10.loc[df_top10['year'] == 2010])\n",
    "max(artis_populer, key=artis_populer.get)"
   ]
  },
  {
   "cell_type": "markdown",
   "id": "7ad27eff",
   "metadata": {},
   "source": [
    "Mencari genre lagu yang populer dapat menggunakan hal yang sama saat mencari artis yang paling populer"
   ]
  },
  {
   "cell_type": "code",
   "execution_count": null,
   "id": "f69d4ab8",
   "metadata": {},
   "outputs": [],
   "source": [
    "def dict_genre_popularity(df):\n",
    "    genre_popularity = dict()\n",
    "    for i in df.index:\n",
    "        genre = df['genre'][i]\n",
    "        popularity = df['popularity'][i]\n",
    "        genre_popularity[genre] = genre_popularity.setdefault(genre,0)\\\n",
    "            + popularity\n",
    "    return genre_popularity"
   ]
  },
  {
   "cell_type": "code",
   "execution_count": null,
   "id": "06b6ee55",
   "metadata": {},
   "outputs": [],
   "source": [
    "genre_populer = dict_genre_popularity(df_top10[df_top10['year'] == 2010])\n",
    "max(genre_populer, key=genre_populer.get)"
   ]
  },
  {
   "cell_type": "markdown",
   "id": "d5a7dfff",
   "metadata": {},
   "source": [
    "Untuk melakukan list genre musik dari artis dapat dilakukan dengan melakukan list setiap artis"
   ]
  },
  {
   "cell_type": "code",
   "execution_count": null,
   "id": "a9e93c04",
   "metadata": {},
   "outputs": [],
   "source": [
    "def dict_artist_genre(df):\n",
    "    artist_genre = dict()\n",
    "    for i in df.index:\n",
    "        artist = df['artist'][i]\n",
    "        genre = df['genre'][i]\n",
    "        if isNaN(genre):\n",
    "            artist_genre.setdefault(artist,set())\n",
    "            continue\n",
    "        artist_genre.setdefault(artist,set()).add(genre)\n",
    "    return artist_genre"
   ]
  },
  {
   "cell_type": "code",
   "execution_count": null,
   "id": "2cfe4f32",
   "metadata": {},
   "outputs": [],
   "source": [
    "def dict_artist_music(df):\n",
    "    artist_music = dict()\n",
    "    for i in df.index:\n",
    "        artist = df['artist'][i]\n",
    "        music = df['title'][i]\n",
    "        if isNaN(music):\n",
    "            artist_music.setdefault(artist,set())\n",
    "            continue\n",
    "        artist_music.setdefault(artist,set()).add(music)\n",
    "    return artist_music"
   ]
  },
  {
   "cell_type": "code",
   "execution_count": null,
   "id": "28fcee52",
   "metadata": {},
   "outputs": [],
   "source": [
    "def dict_genre_music(df):\n",
    "    genre_music = dict()\n",
    "    for i in df.index:\n",
    "        genre = df['genre'][i]\n",
    "        music = df['title'][i]\n",
    "        if isNaN(music):\n",
    "            genre_music.setdefault(genre,set())\n",
    "            continue\n",
    "        genre_music.setdefault(genre,set()).add(music)\n",
    "    return genre_music"
   ]
  },
  {
   "cell_type": "code",
   "execution_count": null,
   "id": "090c9c48",
   "metadata": {},
   "outputs": [],
   "source": [
    "artist_genre = dict_artist_genre(df_all)\n",
    "\n",
    "for i in artist_genre.keys():\n",
    "    artist_genre[i] = len(artist_genre[i])\n",
    "\n",
    "genre_max = max(artist_genre.values())\n",
    "genre_max"
   ]
  },
  {
   "cell_type": "code",
   "execution_count": null,
   "id": "ca25580e",
   "metadata": {},
   "outputs": [],
   "source": [
    "music = dict_artist_music(df_all)\n",
    "df_all.loc[df_all['artist'] == 'Taylor Swift']"
   ]
  },
  {
   "cell_type": "markdown",
   "id": "641ce641",
   "metadata": {},
   "source": [
    "Pengaruh durasi waktu dengan popularitas lagu"
   ]
  },
  {
   "cell_type": "code",
   "execution_count": null,
   "id": "75046915",
   "metadata": {},
   "outputs": [],
   "source": [
    "attribute_spotify_durration_popularity = [\"dur\",\"popularity\"]"
   ]
  },
  {
   "cell_type": "code",
   "execution_count": null,
   "id": "c753d6bc",
   "metadata": {},
   "outputs": [],
   "source": [
    "df_durr_popularity = df_all.loc[:,attribute_spotify_durration_popularity]\n",
    "df_durr_popularity.corr()"
   ]
  },
  {
   "cell_type": "markdown",
   "id": "373f77dc",
   "metadata": {},
   "source": [
    "Klasifikasi Genre Lagu"
   ]
  },
  {
   "cell_type": "code",
   "execution_count": null,
   "id": "49a22685",
   "metadata": {},
   "outputs": [],
   "source": [
    "df_all_clear.head()"
   ]
  },
  {
   "cell_type": "code",
   "execution_count": null,
   "id": "349a4e18",
   "metadata": {},
   "outputs": [],
   "source": [
    "X = df_all_clear.loc[:,attribute_spotify_high_corr]\n",
    "y = df_all_clear['genre']\n",
    "X_train, X_test, y_train, y_test = train_test_split(X, y, test_size=0.20)\n",
    "\n",
    "X_train = scaler_spotify(X_train, attribute_spotify_high_corr)\n",
    "X_test = scaler_spotify(X_test, attribute_spotify_high_corr)"
   ]
  },
  {
   "cell_type": "code",
   "execution_count": null,
   "id": "54d359ea",
   "metadata": {},
   "outputs": [],
   "source": [
    "knn_genre = KNeighborsClassifier(n_neighbors=3)\n",
    "knn_genre.fit(X_train, y_train)\n",
    "\n",
    "y_pred = knn_genre.predict(X_test)\n",
    "\n",
    "print(confusion_matrix(y_test, y_pred))\n",
    "print(classification_report(y_test, y_pred))"
   ]
  },
  {
   "cell_type": "markdown",
   "id": "f0229406",
   "metadata": {},
   "source": [
    "Prediksi popularitas\n",
    "<br>\n",
    "Jika dilihat dari nilai korelasi yang dimiliki, maka fitur dnce, dB, dan acous miliki nilai yang tinggi"
   ]
  },
  {
   "cell_type": "code",
   "execution_count": null,
   "id": "1a74411b",
   "metadata": {},
   "outputs": [],
   "source": [
    "attribute_spotify_popularity = ['dnce','dB','acous']\n",
    "X = np.array(df_all.loc[:,attribute_spotify_popularity])\n",
    "y = np.array(df_all.loc[:,'popularity'])\n",
    "\n",
    "lr_popularity = LinearRegression().fit(X,y)"
   ]
  },
  {
   "cell_type": "code",
   "execution_count": null,
   "id": "9be8e520",
   "metadata": {},
   "outputs": [],
   "source": [
    "lr_popularity.score(X,y)"
   ]
  },
  {
   "cell_type": "code",
   "execution_count": null,
   "id": "4bdc739b",
   "metadata": {},
   "outputs": [],
   "source": [
    "lr_popularity.coef_"
   ]
  },
  {
   "cell_type": "code",
   "execution_count": null,
   "id": "ef6abbbf",
   "metadata": {},
   "outputs": [],
   "source": [
    "lr_popularity.intercept_"
   ]
  },
  {
   "cell_type": "code",
   "execution_count": null,
   "id": "1d665488",
   "metadata": {},
   "outputs": [],
   "source": [
    "label_0 = df_1980_cluster.loc[df_1980_cluster['cluster'] == 0]\n",
    "label_1 = df_1980_cluster.loc[df_1980_cluster['cluster'] == 1]\n",
    "label_2 = df_1980_cluster.loc[df_1980_cluster['cluster'] == 2]"
   ]
  },
  {
   "cell_type": "code",
   "execution_count": null,
   "id": "581d2109",
   "metadata": {},
   "outputs": [],
   "source": [
    "plt.scatter(label_0['nrgy'], label_0['acous'], color='red')\n",
    "plt.scatter(label_1['nrgy'], label_1['acous'], color='blue')\n",
    "plt.scatter(label_2['nrgy'], label_2['acous'], color='green')\n",
    "plt.show"
   ]
  }
 ],
 "metadata": {
  "kernelspec": {
   "display_name": "Python 3 (ipykernel)",
   "language": "python",
   "name": "python3"
  },
  "language_info": {
   "codemirror_mode": {
    "name": "ipython",
    "version": 3
   },
   "file_extension": ".py",
   "mimetype": "text/x-python",
   "name": "python",
   "nbconvert_exporter": "python",
   "pygments_lexer": "ipython3",
   "version": "3.9.7"
  }
 },
 "nbformat": 4,
 "nbformat_minor": 5
}
