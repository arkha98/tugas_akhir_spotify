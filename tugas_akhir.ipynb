{
 "cells": [
  {
   "cell_type": "code",
   "execution_count": 1,
   "id": "10249130",
   "metadata": {},
   "outputs": [],
   "source": [
    "import pandas as pd\n",
    "import numpy as np\n",
    "import matplotlib.pyplot as plt\n",
    "import matplotlib.image as img\n",
    "from sklearn.preprocessing import StandardScaler, MinMaxScaler\n",
    "from sklearn.cluster import KMeans\n",
    "from sklearn.metrics import silhouette_score, classification_report, confusion_matrix\n",
    "from sklearn.decomposition import PCA\n",
    "from sklearn import svm\n",
    "from sklearn.linear_model import LinearRegression, LogisticRegression\n",
    "from sklearn.model_selection import train_test_split\n",
    "from sklearn.neighbors import KNeighborsClassifier\n",
    "from collections import Counter\n",
    "import seaborn as sns"
   ]
  },
  {
   "cell_type": "code",
   "execution_count": 2,
   "id": "6cdc55e7",
   "metadata": {},
   "outputs": [],
   "source": [
    "# fungsi membantu\n",
    "def isNaN(value) :\n",
    "    try:\n",
    "        import math\n",
    "        return math.isnan(float(value))\n",
    "    except:\n",
    "        return False"
   ]
  },
  {
   "cell_type": "markdown",
   "id": "ddc357a1",
   "metadata": {},
   "source": [
    "<h2>Penjelasan Atribut</h2>\n",
    "\n",
    "<table>\n",
    "  <tr>\n",
    "    <th>Num</th>\n",
    "    <th>Attribute Name</th>\n",
    "    <th>Description</th>\n",
    "  </tr>\n",
    "  <tr>\n",
    "    <td>1</td>\n",
    "    <td>title</td>\n",
    "    <td>Title</td>\n",
    "  </tr>\n",
    "  <tr>\n",
    "    <td>2</td>\n",
    "    <td>artist</td>\n",
    "    <td>Artist</td>\n",
    "  </tr>\n",
    "  <tr>\n",
    "    <td>3</td>\n",
    "    <td>genre</td>\n",
    "    <td>Genre of the song</td>\n",
    "  </tr>\n",
    "  <tr>\n",
    "    <td>4</td>\n",
    "    <td>year</td>\n",
    "    <td>Year of the song (due to re-releases, the year might not correspond to the release year of the original song)</td>\n",
    "  </tr>\n",
    "  <tr>\n",
    "    <td>5</td>\n",
    "    <td>bpm</td>\n",
    "    <td>Beats per minute</td>\n",
    "  </tr>\n",
    "  <tr>\n",
    "    <td>6</td>\n",
    "    <td>nrgy</td>\n",
    "    <td>Energy of a song, the higher the value the more energetic the song is</td>\n",
    "  </tr>\n",
    "  <tr>\n",
    "    <td>7</td>\n",
    "    <td>dnce</td>\n",
    "    <td>The higher the value, the easier it is to dance to this song.</td>\n",
    "  </tr>\n",
    "  <tr>\n",
    "    <td>8</td>\n",
    "    <td>dB</td>\n",
    "    <td>The higher the value, the louder the song</td>\n",
    "  </tr>\n",
    "  <tr>\n",
    "    <td>9</td>\n",
    "    <td>live</td>\n",
    "    <td>The higher the value, the more likely the song is a live recording.</td>\n",
    "  </tr>\n",
    "  <tr>\n",
    "    <td>10</td>\n",
    "    <td>val</td>\n",
    "    <td>The higher the value, the more positive the mood for the song.</td></tr>\n",
    "  <tr>\n",
    "    <td>11</td>\n",
    "    <td>dur</td>\n",
    "    <td>The duration of the song</td>\n",
    "  </tr>\n",
    "  <tr>\n",
    "    <td>12</td>\n",
    "    <td>acous</td>\n",
    "    <td>The higher the value the more acoustic the song is.</td>\n",
    "  </tr>\n",
    "  <tr>\n",
    "    <td>13</td>\n",
    "    <td>spch</td>\n",
    "    <td>The higher the value the more spoken words the song contains.</td>\n",
    "  </tr>\n",
    "  <tr>\n",
    "    <td>14</td>\n",
    "    <td>popularity</td>\n",
    "    <td>The higher the value the more popular the song is.</td>\n",
    "  </tr>\n",
    "  <tr>\n",
    "    <td>15</td>\n",
    "    <td>has_win_award</td>\n",
    "    <td>Boolean value to indicate if the song has won an award or not. Value of 1 if the song has already won one or more awards otherwise 0 if the song hasn’t won any awards.</td>\n",
    "  </tr>\n",
    "</table>"
   ]
  },
  {
   "cell_type": "markdown",
   "id": "85ebfd68",
   "metadata": {},
   "source": [
    "load semua csv"
   ]
  },
  {
   "cell_type": "code",
   "execution_count": 3,
   "id": "07afebf8",
   "metadata": {},
   "outputs": [],
   "source": [
    "df_1950 = pd.read_csv(\"1950.csv\")\n",
    "df_1960 = pd.read_csv(\"1960.csv\")\n",
    "df_1970 = pd.read_csv(\"1970.csv\")\n",
    "df_1980 = pd.read_csv(\"1980.csv\")\n",
    "df_1990 = pd.read_csv(\"1990.csv\")\n",
    "df_2000 = pd.read_csv(\"2000.csv\")\n",
    "df_2010 = pd.read_csv(\"2010.csv\")\n",
    "df_top10 = pd.read_csv(\"top10s.csv\")\n",
    "df_all = pd.read_csv('all_no_duplicates.csv')"
   ]
  },
  {
   "cell_type": "code",
   "execution_count": null,
   "id": "dd6c8d38",
   "metadata": {},
   "outputs": [],
   "source": [
    "# Penggabungan seluruh data frame\n",
    "df_all = pd.concat(\\\n",
    "    [df_1950,df_1960\\\n",
    "        ,df_1970,df_1980\\\n",
    "        ,df_1990,df_2000\\\n",
    "        ,df_2010,df_top10],ignore_index=True, sort=False)\n",
    "\n",
    "df_all.to_csv('all_sort_from_1950_to_top10.csv',index=False)\n",
    "\n",
    "# drop duplicate\n",
    "df_all = df_all.drop_duplicates()\n",
    "# drop all nan\n",
    "df_all_clear = df_all.dropna()\n",
    "# ubah data has_win_award dari float ke boolean\n",
    "df_all = df_all.astype({\"has_win_award\":bool})\n",
    "df_all_clear = df_all_clear.astype({\"has_win_award\":bool})\n",
    "\n",
    "df_all.to_csv('all_no_duplicates.csv',index=False)"
   ]
  },
  {
   "cell_type": "markdown",
   "id": "48c22057",
   "metadata": {},
   "source": [
    "Preprocessing"
   ]
  },
  {
   "cell_type": "code",
   "execution_count": 22,
   "id": "3d9e9297",
   "metadata": {},
   "outputs": [],
   "source": [
    "def super_genre_helper(genre):\n",
    "    genre_dict = {'blues': ['blues','african blues','blues rock','blues shouter','british blues','canadian blues','chicago blues','classic female blues','contemporary r&b','country blues','delta blues','detroit blues','electric blues','gospel blues','hill country blues','hokum blues','jump blues','kansas city blues','louisiana blues','memphis blues','new orleans blues','piedmont blues','punk blues','rhythm and blues','doo-wop','soul blues','st. louis blues','swamp blues','texas blues','west coast blues','acoustic blues'],\n",
    "        'country': ['country','alternative country','cowpunk','americana','australian country','bakersfield sound','bluegrass','progressive bluegrass','reactionary bluegrass','country blues','country pop','country rap','country rock','cajun','cajun fiddle','christian country','close harmony','dansband','hokum','honky tonk','instrumental country','nashville sound','neotraditional country','new mexico music','outlaw country','progressive country','red dirt','rockabilly','hellbilly','psychobilly','sertanejo','tejano','texas country','traditional country music','truck-driving country','western (cowboy)','cowboy pop','new mexico','texas country','tejano','western swing','zydeco','cowboy western','contemporary country'],\n",
    "        'easy listening': ['easy listening','background music','elevator music (muzak)','barococo','beautiful music','chill-out','furniture music','light music','lounge music','middle of the road','new-age music'],\n",
    "        'electronic': ['electronic','ambient','ambient dub','dark ambient','ambient industrial','dungeon synth','isolationism','drone','illbient','new-age','andean new-age','neoclassical new-age','space music','reductionism','lowercase','onkyokei','bass music','footwork','future bass','kawaii future bass','jungle terror','uk bass','wave','hardwave','breakbeat','acid breaks','baltimore club','jersey club','philly club','big beat','breakbeat hardcore','4-beat','darkcore','hardcore breaks','broken beat','florida breaks','nu skool breaks','progressive breaks','psychedelic breakbeat','chill-out','downtempo','psybient','psydub','trip hop','trip rock','chopped and screwed','disco','afro/cosmic music','electro-disco','hi-nrg','eurobeat','eurodance','italo dance','italo disco','spacesynth','space disco','eurodisco','nu-disco','post-disco','boogie','city pop','disco edits','drum and bass','darkstep','drumfunk','drumstep','hardstep','intelligent drum and bass','atmospheric drum and bass','jazzstep','jump-up','liquid funk','neurofunk','sambass','techstep','dub','dub poetry','dubtronica','electroacoustic music','acousmatic music','electroacoustic improvisation','live electronics','musique concrète','soundscape','electronic rock','dance-rock','alternative dance','madchester','baggy','new rave','dance-punk','krautrock','new wave','cold wave','dark wave','neoclassical dark wave','neue deutsche todeskunst','ethereal wave','nu-gaze','minimal wave','neue deutsche welle','new romantic','sophisti-pop','synth-pop','dance-pop','disco polo','electroclash','electropop','hyperpop','indietronica','post-rock','space rock','synth-metal','electrogrind','electronicore','synth-punk','electronica','folktronica','jazztronica','laptronica','livetronica','progressive electronic','kosmische musik','ethnic electronica / regional edm','asian underground','african electronic dance music','afrobeats','azonto','coupé-décalé','kuduro','mahraganat','shangaan electro','budots','changa tuki','dancehall pop','funk carioca','funk ostentação','melodic funk','proibidão','rasteirinha','merenhouse','nortec','rabòday','rara tech','russ music','shamstep','tribal guarachero','worldbeat','manila sound','funk fusion genres','acid jazz','funktronica','synth-funk','jungle','ragga jungle','hardcore','bouncy techno','breakcore','raggacore','digital hardcore','doomcore','frenchcore','gabber','early hardcore','mainstream hardcore','happy hardcore','uk hardcore','industrial hardcore','j-core','lento violento','mákina','speedcore','extratone','flashcore','hypertone','splittercore','hardstyle','dubstyle','euphoric frenchcore','euphoric hardstyle','jumpstyle','rawstyle','trapstyle','hauntology','chillwave','hypnagogic pop','synthwave','darksynth','sovietwave','vaporwave','dreampunk','future funk','hardvapour','mallsoft','hip hop fusion genres','afroswing','alternative hip hop','hipster hop','cloud rap','crunk','crunkcore','snap music','electro','latin freestyle','emo rap','instrumental hip hop','lofi hip hop','miami bass','mumble rap','trap','afro trap','drill','uk drill','latin trap','phonk','trap (edm)','uk trap','house music','acid house','afro house','amapiano','gqom','kidandali','kwaito','ambient house','balearic beat','ballroom','bass house','blog house','brazilian bass','slap house','chicago hard house','chicago house','deep house','disco house','diva house','hardbag','electro house','big room house','complextro','dutch house','fidget house','melbourne bounce','electro swing','eurohouse','french house','funky house','future house','garage house','ghetto house','ghettotech','juke house','hip house','italo house','jazz house','latin house','melodic house','microhouse','moombahcore','moombahton','moombahsoul','new jersey sound','outsider house','progressive house','soulful house','tech house','tribal house','tropical house','uk hard house','hard nrg','pumping house','hardbass','scouse house','industrial / post-industrial','deconstructed club','electro-industrial','dark electro','aggrotech','electronic body music (ebm)','futurepop','new beat','industrial hip hop','industrial metal','cyber metal','neue deutsche härte','industrial rock','martial industrial','witch house','intelligent dance music (idm)',\"drill 'n' bass\",'glitch','glitch hop','neo soul','nightcore','noise music','danger music','harsh noise','harsh noise wall','japanoise','power electronics','death industrial','power noise','plunderphonics','sampledelia','techno','acid techno','ambient techno','birmingham sound','bleep techno','detroit techno','dub techno','hardtechno','free tekno','jungletek','raggatek','industrial techno','minimal techno','schaffel','toytown techno','tecno brega','trance music','acid trance','balearic trance','dream trance','eurotrance','hands up','goa trance','nitzhonot','hard trance','progressive trance','psychedelic trance','dark psytrance','full-on','minimal psytrance','progressive psytrance','suomisaundi','zenonesque','tech trance','uplifting trance','vocal trance','uk garage','2-step garage','bassline','breakstep','dubstep','brostep','post-dubstep','reggaestep','riddim','future garage','grime','grindie','speed garage','uk funky','funkstep','wonky','video game music','chiptune','bitpop','nintendocore','skweee','fm synthesis','sequencer music','afrobeat','german dance','big room','bubble trance','house','australian dance','belgian dance','belgian edm','aussietronica','brit funk','new wave pop','electronic trap','edm','metropopolis','bubblegum dance'],\n",
    "        'contemporary folk': ['contemporary folk','american folk revival','americana','anti-folk','british folk revival','celtic music','chalga','corrido','filk','folk rock','celtic rock','freak folk','indie folk','industrial folk','mariachi','ranchera','neofolk','progressive folk','protest song','psychedelic folk','singer-songwriter','nueva canción','skiffle','sung poetry','yodeling','canadian folk','appalachian folk','drone folk','british folk','irish singer-songwriter'],\n",
    "        'hip hop': ['hip hop','alternative hip hop','hipster hop','boom bap','bounce','british hip hop','road rap','chopped and screwed','chopper','cloud rap','comedy hip hop','crunk','crunkcore','country rap','east coast hip hop','emo rap','freestyle rap','g-funk','hardcore hip hop','dirty rap','gangsta rap','mafioso rap','horrorcore','memphis rap','hip hop soul','hyphy',\"jerkin'\",'industrial hip hop','instrumental hip hop','jazz rap','latin hip hop','chicano rap','lofi hip hop','miami bass','mumble rap','nerdcore','chap hop','new jack swing','political hip hop','conscious hip hop','pop rap','progressive rap','punk rap','ragga hip hop','rap opera','rap rock','rap metal','trap metal','rapcore','religious hip hop','christian hip hop','jewish hip hop','snap','southern hip hop','trap','drill','brooklyn drill','uk drill','latin trap','phonk','tread','turntablism','underground hip hop','west coast hip hop','bronx hip hop','g funk','dirty south rap','dfw rap','atl hip hop','chicago rap','australian hip hop','detroit hip hop','canadian hip hop'],\n",
    "        'jazz': ['jazz','acid jazz','afro-cuban jazz','alt-jazz','avant-garde jazz','bebop','boogie-woogie','bossa nova','brazilian jazz','british dance band','cape jazz','chamber jazz','continental jazz','cool jazz','crossover jazz','dixieland','ethno jazz','european free jazz','free funk','free improvisation','free jazz','gypsy jazz','hard bop','jazz blues','jazz-funk','jazz fusion','jazz rap','jazz rock','kansas city jazz','latin jazz','livetronica','m-base','mainstream jazz','modal jazz','neo-bop jazz','neo-swing','novelty ragtime','nu jazz','orchestral jazz','post-bop','progressive jazz','punk jazz','ragtime','samba-jazz','shibuya-kei','ska jazz','smooth jazz','soul jazz','straight-ahead jazz','stride jazz','swing','trad jazz','third stream','vocal jazz','west coast jazz'],\n",
    "        'pop': ['pop','adult album alternative','adult contemporary','ambient pop','arabic pop','art pop','baroque pop','bedroom pop','brill building','britpop','bubblegum pop','c-pop','cantopop','hokkien pop','mandopop','canción','canzone','chalga','chamber pop','chanson','christian pop','classic hits','classical crossover','country pop','cringe pop','dance-pop','disco polo','electropop','europop','austropop','eurobeat','french pop','italo dance','italo disco','laïkó','nederpop','neomelodic music','russian pop','fado','folk pop','hyperpop','indie pop','twee pop','indian pop','iranian pop','j-pop','city pop','shibuya-kei','jangle pop','jazz pop','k-pop','korean hip hop','korean rock',\"t'ong guitar\",'trot','latin ballad','latin pop','mexican pop','new romantic','oldies','operatic pop','opm','pinoy pop','pop rap','pop rock','pop punk','emo pop','neon pop','power pop','soft rock','surf pop','yacht rock','pop soul','progressive pop','psychedelic pop','rebetiko','schlager','sophisti-pop','space age pop','sunshine pop','swamp pop','synthpop','teen pop','traditional pop','turbo-folk','turkish pop','vispop','wonky pop','worldbeat','yé-yé','adult standards','brill building pop','deep adult standards','british comedy','classic uk pop','afropop','classic danish pop','neo mellow','barbadian pop','bow pop','moroccan pop','indie poptimism','danish pop','belgian pop','italian pop','irish pop','colombian pop','acoustic pop','candy pop','folk-pop','dance pop','canadian pop','australian pop','australian talent show','french indie pop'],\n",
    "        'r&b and soul': ['r&b and soul','alternative r&b','contemporary r&b','disco','freestyle','go-go','funk','deep funk','minneapolis sound','psychedelic funk','gospel music','new jack swing','post-disco','boogie','rhythm and blues','doo-wop','soul','blue-eyed soul','hip hop soul','neo soul','northern soul','psychedelic soul','southern soul','classic soul','beach music','boogaloo','canadian contemporary r&b','british soul','chicago soul','r&b','classic girl group','escape room','hip pop'],\n",
    "        'rock': ['rock','afro rock','alternative rock','alternative dance','britpop','post-britpop','dream pop','goth rock','shoegaze','blackgaze','grunge','post-grunge','indie rock','dunedin sound','math rock','post-punk revival','madchester','baggy','noise pop','sadcore','slowcore','beat','british invasion','freakbeat','nederbeat','blues rock','boogie rock','british rhythm and blues','chamber pop','christian rock','classic rock','comedy rock','country rock','dark cabaret','electronic rock','electronicore','new wave','cold wave','dark wave','ethereal wave','experimental rock','art rock','industrial rock','post-punk','dance-punk','gothic rock','no wave','noise rock','post-rock','post-metal','folk rock','british folk rock','celtic rock','medieval folk rock','funk rock','garage rock','glam rock','hard rock','heartland rock','instrumental rock','jazz fusion','jazz rock','latin rock','mangue bit','metal','paisley underground','desert rock','pop rock','jangle pop','power pop','soft rock','yacht rock','progressive rock','art rock','avant-prog','rock in opposition','canterbury scene','flamenco rock','krautrock','neo-progressive rock','new prog','post-progressive','space rock','symphonic rock','psychedelic rock','acid rock','neo-psychedelia','raga rock','pub rock (australia)','pub rock (united kingdom)','punk rock','rap rock','rapcore','reggae rock','rock and roll','rockabilly','rock opera','roots rock','southern rock','stoner rock','swamp rock','sufi rock','surf rock','tropical rock','visual kei','nagoya kei','wizard rock','worldbeat','world fusion','merseybeat','album rock','rock-and-roll','australian rock','dance rock','glam punk','german alternative rock','modern rock','mellow gold','permanent wave'],\n",
    "        'metal': ['metal','alternative metal','funk metal','nu metal','rap metal','avant-garde metal','black metal','blackened death metal','atmospheric black metal','blackgaze','melodic black metal','national socialist black metal','symphonic black metal','viking metal','war metal','christian metal','unblack metal','death metal',\"death 'n' roll\",'deathgrind','melodic death metal','technical death metal','doom metal','death-doom','drone metal','folk metal','celtic metal','medieval metal','pagan metal','glam metal','gothic metal','heavy metal','industrial metal','kawaii metal','latin metal','metalcore','deathcore','mathcore','melodic metalcore','neoclassical metal','neue deutsche härte','nintendocore','pirate metal','post-metal','power metal','progressive metal','djent','sludge metal','speed metal','symphonic metal','thrash metal','crossover thrash','groove metal'],\n",
    "        'punk': ['punk','anarcho punk','crust punk','d-beat','art punk','christian punk','deathrock','digital hardcore','folk punk','celtic punk','cowpunk','gypsy punk','garage punk','grindcore','crustgrind','goregrind','noisegrind','pornogrind','hardcore punk','crossover thrash','melodic hardcore','post-hardcore','emo','emo pop','screamo','powerviolence','street punk','thrashcore','horror punk','nazi punk','oi!','pop punk','easycore','neon pop','psychobilly','punk pathetique','riot grrrl','ska punk','skate punk']}\n",
    "    genre_list = ''\n",
    "    found = False\n",
    "    for k,v in genre_dict.items():\n",
    "        if genre in v:\n",
    "            if genre_list == '': genre_list+=k\n",
    "            else: genre_list += '|'+k\n",
    "            found = True\n",
    "    if not found: return genre\n",
    "    return genre_list\n",
    "\n",
    "def super_genre(df):\n",
    "    df_tmp = df.copy()\n",
    "    for i in df_tmp.index:\n",
    "        df_tmp.loc[i,'genre'] = super_genre_helper(df_tmp.iloc[i]['genre'])\n",
    "    return df_tmp\n",
    "\n",
    "genre_all = ['blues','country','easy listening','electronic','contemporary folk','hip hop','jazz','pop','r&b and soul','rock','metal','punk']"
   ]
  },
  {
   "cell_type": "code",
   "execution_count": 28,
   "id": "3cf2342e",
   "metadata": {},
   "outputs": [
    {
     "data": {
      "text/plain": [
       "array(['pop', 'blues|r&b and soul', nan, 'r&b and soul', 'blues', 'jazz',\n",
       "       'rock', 'contemporary folk', 'blues|rock', 'country', 'electronic',\n",
       "       'hollywood', 'pop|rock', 'electronic|r&b and soul',\n",
       "       'classic country pop', 'country|rock', 'native american', 'metal',\n",
       "       'jazz|rock', 'hip hop', 'boy band', 'contemporary folk|rock',\n",
       "       'latin', 'electronic|pop', 'country|hip hop', 'electronic|hip hop',\n",
       "       'alaska indie', 'canadian latin'], dtype=object)"
      ]
     },
     "execution_count": 28,
     "metadata": {},
     "output_type": "execute_result"
    }
   ],
   "source": [
    "df_all_super_genre = super_genre(df_all)\n",
    "df_all_super_genre.to_csv('all_super_genre.csv',index=False)\n",
    "df_all_super_genre['genre'].unique()"
   ]
  },
  {
   "cell_type": "code",
   "execution_count": null,
   "id": "dc0f3157",
   "metadata": {},
   "outputs": [],
   "source": []
  },
  {
   "cell_type": "code",
   "execution_count": null,
   "id": "d5b50987",
   "metadata": {},
   "outputs": [],
   "source": [
    "# ubah data has_win_award dari float ke boolean\n",
    "df_1950 = df_1950.astype({\"has_win_award\":bool})\n",
    "df_1960 = df_1960.astype({\"has_win_award\":bool})\n",
    "df_1970 = df_1970.astype({\"has_win_award\":bool})\n",
    "df_1980 = df_1980.astype({\"has_win_award\":bool})\n",
    "df_1990 = df_1990.astype({\"has_win_award\":bool})\n",
    "df_2000 = df_2000.astype({\"has_win_award\":bool})\n",
    "df_2010 = df_2010.astype({\"has_win_award\":bool})\n",
    "df_top10 = df_top10.astype({\"has_win_award\":bool})"
   ]
  },
  {
   "cell_type": "code",
   "execution_count": null,
   "id": "f6762d48",
   "metadata": {},
   "outputs": [],
   "source": [
    "# cek duplikasi\n",
    "print(sum(df_1950.duplicated()))\n",
    "print(sum(df_1960.duplicated()))\n",
    "print(sum(df_1970.duplicated()))\n",
    "print(sum(df_1980.duplicated()))\n",
    "print(sum(df_1990.duplicated()))\n",
    "print(sum(df_2000.duplicated()))\n",
    "print(sum(df_2010.duplicated()))\n",
    "print(sum(df_top10.duplicated()))"
   ]
  },
  {
   "cell_type": "code",
   "execution_count": null,
   "id": "f10bf644",
   "metadata": {},
   "outputs": [],
   "source": [
    "# cek null di kolom yang mana\n",
    "def cek_apakah_ada_null(data_frame):\n",
    "    cek = data_frame.isnull()\n",
    "    columns = list(cek.columns)\n",
    "    c_null = []\n",
    "    for i in columns:\n",
    "        if sum(cek[i]) != 0:\n",
    "            c_null.append(i)\n",
    "    return c_null"
   ]
  },
  {
   "cell_type": "code",
   "execution_count": null,
   "id": "9c607e5c",
   "metadata": {},
   "outputs": [],
   "source": [
    "print(cek_apakah_ada_null(df_1950))\n",
    "print(cek_apakah_ada_null(df_1960))\n",
    "print(cek_apakah_ada_null(df_1970))\n",
    "print(cek_apakah_ada_null(df_1980))\n",
    "print(cek_apakah_ada_null(df_1990))\n",
    "print(cek_apakah_ada_null(df_2000))\n",
    "print(cek_apakah_ada_null(df_2010))\n",
    "print(cek_apakah_ada_null(df_top10))"
   ]
  },
  {
   "cell_type": "code",
   "execution_count": null,
   "id": "38b07d33",
   "metadata": {},
   "outputs": [],
   "source": [
    "sns.heatmap(df_all.corr())"
   ]
  },
  {
   "cell_type": "code",
   "execution_count": null,
   "id": "5ac1bf1c",
   "metadata": {},
   "outputs": [],
   "source": [
    "sns.heatmap(df_1950.corr())"
   ]
  },
  {
   "cell_type": "code",
   "execution_count": null,
   "id": "97ae061d",
   "metadata": {},
   "outputs": [],
   "source": [
    "sns.heatmap(df_1960.corr())"
   ]
  },
  {
   "cell_type": "code",
   "execution_count": null,
   "id": "b1705c62",
   "metadata": {},
   "outputs": [],
   "source": [
    "sns.heatmap(df_1970.corr())"
   ]
  },
  {
   "cell_type": "code",
   "execution_count": null,
   "id": "fa3c1be5",
   "metadata": {},
   "outputs": [],
   "source": [
    "sns.heatmap(df_1980.corr())"
   ]
  },
  {
   "cell_type": "code",
   "execution_count": null,
   "id": "68eb9347",
   "metadata": {},
   "outputs": [],
   "source": [
    "sns.heatmap(df_1990.corr())"
   ]
  },
  {
   "cell_type": "code",
   "execution_count": null,
   "id": "0f783a13",
   "metadata": {},
   "outputs": [],
   "source": [
    "sns.heatmap(df_2000.corr())"
   ]
  },
  {
   "cell_type": "code",
   "execution_count": null,
   "id": "3fd7f4f7",
   "metadata": {},
   "outputs": [],
   "source": [
    "sns.heatmap(df_2010.corr())"
   ]
  },
  {
   "cell_type": "code",
   "execution_count": null,
   "id": "7a445581",
   "metadata": {},
   "outputs": [],
   "source": [
    "sns.heatmap(df_top10.corr())"
   ]
  },
  {
   "cell_type": "markdown",
   "id": "1be2ceca",
   "metadata": {},
   "source": [
    "Hanya energy, dB, dan acoustic saja yang dapat mendeskripsikan sebuah lagu\n"
   ]
  },
  {
   "cell_type": "code",
   "execution_count": null,
   "id": "c2a46c87",
   "metadata": {},
   "outputs": [],
   "source": [
    "attribute_spotify_high_corr = [\"nrgy\",\"dB\",\"acous\"]"
   ]
  },
  {
   "cell_type": "code",
   "execution_count": null,
   "id": "30563be2",
   "metadata": {},
   "outputs": [],
   "source": [
    "# buat scaler\n",
    "def scaler_spotify(df, attribute_spotify):\n",
    "    sc = MinMaxScaler()\n",
    "    data_scaled = sc.fit_transform(df.loc[:,attribute_spotify])\n",
    "    return data_scaled\n",
    "\n",
    "def scaler_spotify_with_PCA(df, attribute_spotify):\n",
    "    sc = MinMaxScaler()\n",
    "    data_scaled = sc.fit_transform(df.loc[:,attribute_spotify])\n",
    "    pca = PCA(n_components=0.95)\n",
    "    pca.fit(data_scaled)\n",
    "    data_scaled = pca.transform(data_scaled)\n",
    "    return data_scaled"
   ]
  },
  {
   "cell_type": "markdown",
   "id": "651c21f5",
   "metadata": {},
   "source": [
    "Clustering"
   ]
  },
  {
   "cell_type": "code",
   "execution_count": null,
   "id": "cc868702",
   "metadata": {},
   "outputs": [],
   "source": [
    "# menggunakan clustering kmeans\n",
    "# mencari nilai optimal dari k\n",
    "def optimal_kmeans(scaled_data):\n",
    "    sil = []\n",
    "    k = range(2,25)\n",
    "    for i in k:\n",
    "        cluster_data = KMeans(n_clusters=i)\\\n",
    "            .fit(scaled_data)\n",
    "        sil.append(silhouette_score(scaled_data\\\n",
    "            ,cluster_data.labels_,metric='euclidean'))\n",
    "    plt.plot(k,sil, \"bx-\")\n",
    "    plt.xlabel(\"K\")\n",
    "    plt.ylabel(\"sil\")\n",
    "    plt.show()\n",
    "    return sil.index(max(sil))+2"
   ]
  },
  {
   "cell_type": "code",
   "execution_count": null,
   "id": "e6616c1c",
   "metadata": {},
   "outputs": [],
   "source": [
    "attribute_spotify = [\"bpm\",\"nrgy\",\"dnce\",\"dB\",\"live\",\"val\",\"dur\",\"acous\",\"spch\",\"popularity\",\"has_win_award\"]"
   ]
  },
  {
   "cell_type": "code",
   "execution_count": null,
   "id": "dd9d6920",
   "metadata": {},
   "outputs": [],
   "source": [
    "df_1950_std = scaler_spotify_with_PCA(df_1950, attribute_spotify_high_corr)\n",
    "k = optimal_kmeans(df_1950_std)\n",
    "df_1950_cd = KMeans(n_clusters=k)\\\n",
    "    .fit_predict(df_1950_std)\n",
    "df_1950_cluster = df_1950.copy()\n",
    "df_1950_cluster['cluster'] = df_1950_cd\n",
    "print(k)"
   ]
  },
  {
   "cell_type": "code",
   "execution_count": null,
   "id": "a4d11c22",
   "metadata": {},
   "outputs": [],
   "source": [
    "df_1960_std = scaler_spotify(df_1960, attribute_spotify_high_corr)\n",
    "k = optimal_kmeans(df_1960_std)\n",
    "df_1960_cd = KMeans(n_clusters=k).fit_predict(df_1960_std)\n",
    "df_1960_cluster = df_1960.copy()\n",
    "df_1960_cluster['cluster'] = df_1960_cd\n",
    "print(k)"
   ]
  },
  {
   "cell_type": "code",
   "execution_count": null,
   "id": "fe48f30c",
   "metadata": {},
   "outputs": [],
   "source": [
    "df_1970_std = scaler_spotify(df_1970, attribute_spotify_high_corr)\n",
    "k = optimal_kmeans(df_1970_std)\n",
    "df_1970_cd = KMeans(n_clusters=k).fit_predict(df_1970_std)\n",
    "df_1970_cluster = df_1970.copy()\n",
    "df_1970_cluster['cluster'] = df_1970_cd\n",
    "print(k)"
   ]
  },
  {
   "cell_type": "code",
   "execution_count": null,
   "id": "2683c57b",
   "metadata": {},
   "outputs": [],
   "source": [
    "df_1980_std = scaler_spotify(df_1980, attribute_spotify_high_corr)\n",
    "k = optimal_kmeans(df_1980_std)\n",
    "df_1980_cd = KMeans(n_clusters=k).fit_predict(df_1980_std)\n",
    "df_1980_cluster = df_1980.copy()\n",
    "df_1980_cluster['cluster'] = df_1980_cd\n",
    "print(k)"
   ]
  },
  {
   "cell_type": "code",
   "execution_count": null,
   "id": "28604e21",
   "metadata": {},
   "outputs": [],
   "source": [
    "df_1990_std = scaler_spotify(df_1990, attribute_spotify_high_corr)\n",
    "k = optimal_kmeans(df_1990_std)\n",
    "df_1990_cd = KMeans(n_clusters=k).fit_predict(df_1990_std)\n",
    "df_1990_cluster = df_1990.copy()\n",
    "df_1990_cluster['cluster'] = df_1990_cd\n",
    "print(k)"
   ]
  },
  {
   "cell_type": "code",
   "execution_count": null,
   "id": "9eb54b52",
   "metadata": {},
   "outputs": [],
   "source": [
    "df_2000_std = scaler_spotify(df_2000, attribute_spotify_high_corr)\n",
    "k = optimal_kmeans(df_2000_std)\n",
    "df_2000_cd = KMeans(n_clusters=k).fit_predict(df_2000_std)\n",
    "df_2000_cluster = df_2000.copy()\n",
    "df_2000_cluster['cluster'] = df_2000_cd\n",
    "print(k)"
   ]
  },
  {
   "cell_type": "code",
   "execution_count": null,
   "id": "0e325aeb",
   "metadata": {},
   "outputs": [],
   "source": [
    "df_2010_std = scaler_spotify(df_2010, attribute_spotify_high_corr)\n",
    "k = optimal_kmeans(df_2010_std)\n",
    "df_2010_cd = KMeans(n_clusters=k).fit_predict(df_2010_std)\n",
    "df_2010_cluster = df_2010.copy()\n",
    "df_2010_cluster['cluster'] = df_2010_cd\n",
    "print(k)"
   ]
  },
  {
   "cell_type": "code",
   "execution_count": null,
   "id": "d095f124",
   "metadata": {},
   "outputs": [],
   "source": [
    "df_top10_std = scaler_spotify(df=df_top10\\\n",
    "    ,attribute_spotify=attribute_spotify_high_corr)\n",
    "k = optimal_kmeans(df_top10_std)\n",
    "df_top10_cd = KMeans(n_clusters=k).fit_predict(df_top10_std)\n",
    "df_top10_cluster = df_top10.copy()\n",
    "df_top10_cluster['cluster'] = df_top10_cd\n",
    "print(k)"
   ]
  },
  {
   "cell_type": "code",
   "execution_count": null,
   "id": "f84b1ef9",
   "metadata": {},
   "outputs": [],
   "source": [
    "df_all_std = scaler_spotify(df_all, attribute_spotify_high_corr)\n",
    "k = optimal_kmeans(df_all_std)\n",
    "df_all_cd = KMeans(n_clusters=k).fit_predict(df_all_std)\n",
    "df_all_cluster = df_all.copy()\n",
    "df_all_cluster['cluster'] = df_all_cd\n",
    "print(k)"
   ]
  },
  {
   "cell_type": "code",
   "execution_count": null,
   "id": "83707501",
   "metadata": {},
   "outputs": [],
   "source": [
    "from sklearn.metrics import silhouette_score\n",
    "silhouette_score(df_all.loc[:,attribute_spotify_high_corr], df_all_cd, metric='euclidean')"
   ]
  },
  {
   "cell_type": "markdown",
   "id": "c74cf4a4",
   "metadata": {},
   "source": [
    "Analisa"
   ]
  },
  {
   "cell_type": "markdown",
   "id": "4a521b50",
   "metadata": {},
   "source": [
    "Artis yang populer"
   ]
  },
  {
   "cell_type": "code",
   "execution_count": null,
   "id": "a7e392b1",
   "metadata": {},
   "outputs": [],
   "source": [
    "sum(df_top10.duplicated())"
   ]
  },
  {
   "cell_type": "code",
   "execution_count": null,
   "id": "db1df95e",
   "metadata": {},
   "outputs": [],
   "source": [
    "artist_total = pd.unique(df_all.loc[:,'artist'])\n",
    "print(\"Total Artist : %d\" % (len(artist_total)))"
   ]
  },
  {
   "cell_type": "code",
   "execution_count": null,
   "id": "e81dc669",
   "metadata": {},
   "outputs": [],
   "source": [
    "genre_total = pd.unique(df_all.loc[:,'genre'])\n",
    "print(\"Total Genre : %d\" % (len(genre_total)))"
   ]
  },
  {
   "cell_type": "code",
   "execution_count": null,
   "id": "082cdf0e",
   "metadata": {},
   "outputs": [],
   "source": [
    "df_all['artist'].value_counts()"
   ]
  },
  {
   "cell_type": "markdown",
   "id": "78b163ea",
   "metadata": {},
   "source": [
    "Artis yang paling populer dapat dihitung dari jumlah nilai lagu yang populer"
   ]
  },
  {
   "cell_type": "code",
   "execution_count": null,
   "id": "945bf001",
   "metadata": {},
   "outputs": [],
   "source": [
    "def dict_artist_popularity(df):\n",
    "    artist_popularity = dict()\n",
    "    for i in df.index:\n",
    "        artist = df['artist'][i]\n",
    "        popularity = df['popularity'][i]\n",
    "        artist_popularity[artist] = artist_popularity.setdefault(artist,0)\\\n",
    "            + popularity\n",
    "    return artist_popularity"
   ]
  },
  {
   "cell_type": "code",
   "execution_count": null,
   "id": "5b48b9da",
   "metadata": {},
   "outputs": [],
   "source": [
    "artis_populer = dict_artist_popularity(df_all.loc[df_all['year'] == 2010])\n",
    "max(artis_populer, key=artis_populer.get)"
   ]
  },
  {
   "cell_type": "markdown",
   "id": "7ad27eff",
   "metadata": {},
   "source": [
    "Mencari genre lagu yang populer dapat menggunakan hal yang sama saat mencari artis yang paling populer"
   ]
  },
  {
   "cell_type": "code",
   "execution_count": null,
   "id": "f69d4ab8",
   "metadata": {},
   "outputs": [],
   "source": [
    "def dict_genre_popularity(df):\n",
    "    genre_popularity = dict()\n",
    "    for i in df.index:\n",
    "        genre = df['genre'][i]\n",
    "        popularity = df['popularity'][i]\n",
    "        genre_popularity[genre] = genre_popularity.setdefault(genre,0)\\\n",
    "            + popularity\n",
    "    return genre_popularity"
   ]
  },
  {
   "cell_type": "code",
   "execution_count": null,
   "id": "06b6ee55",
   "metadata": {},
   "outputs": [],
   "source": [
    "genre_populer = dict_genre_popularity(df_top10[df_top10['year'] == 2010])\n",
    "max(genre_populer, key=genre_populer.get)"
   ]
  },
  {
   "cell_type": "markdown",
   "id": "d5a7dfff",
   "metadata": {},
   "source": [
    "Untuk melakukan list genre musik dari artis dapat dilakukan dengan melakukan list setiap artis"
   ]
  },
  {
   "cell_type": "code",
   "execution_count": null,
   "id": "a9e93c04",
   "metadata": {},
   "outputs": [],
   "source": [
    "def dict_artist_genre(df):\n",
    "    artist_genre = dict()\n",
    "    for i in df.index:\n",
    "        artist = df['artist'][i]\n",
    "        genre = df['genre'][i]\n",
    "        if isNaN(genre):\n",
    "            artist_genre.setdefault(artist,set())\n",
    "            continue\n",
    "        artist_genre.setdefault(artist,set()).add(genre)\n",
    "    return artist_genre"
   ]
  },
  {
   "cell_type": "code",
   "execution_count": null,
   "id": "2cfe4f32",
   "metadata": {},
   "outputs": [],
   "source": [
    "def dict_artist_music(df):\n",
    "    artist_music = dict()\n",
    "    for i in df.index:\n",
    "        artist = df['artist'][i]\n",
    "        music = df['title'][i]\n",
    "        if isNaN(music):\n",
    "            artist_music.setdefault(artist,set())\n",
    "            continue\n",
    "        artist_music.setdefault(artist,set()).add(music)\n",
    "    return artist_music"
   ]
  },
  {
   "cell_type": "code",
   "execution_count": null,
   "id": "28fcee52",
   "metadata": {},
   "outputs": [],
   "source": [
    "def dict_genre_music(df):\n",
    "    genre_music = dict()\n",
    "    for i in df.index:\n",
    "        genre = df['genre'][i]\n",
    "        music = df['title'][i]\n",
    "        if isNaN(music):\n",
    "            genre_music.setdefault(genre,set())\n",
    "            continue\n",
    "        genre_music.setdefault(genre,set()).add(music)\n",
    "    return genre_music"
   ]
  },
  {
   "cell_type": "code",
   "execution_count": null,
   "id": "090c9c48",
   "metadata": {},
   "outputs": [],
   "source": [
    "artist_genre = dict_artist_genre(df_all)\n",
    "\n",
    "for i in artist_genre.keys():\n",
    "    artist_genre[i] = len(artist_genre[i])\n",
    "\n",
    "genre_max = max(artist_genre.values())\n",
    "genre_max"
   ]
  },
  {
   "cell_type": "code",
   "execution_count": null,
   "id": "ca25580e",
   "metadata": {},
   "outputs": [],
   "source": [
    "music = dict_artist_music(df_all)\n",
    "df_all.loc[df_all['artist'] == 'Taylor Swift']"
   ]
  },
  {
   "cell_type": "markdown",
   "id": "641ce641",
   "metadata": {},
   "source": [
    "Pengaruh durasi waktu dengan popularitas lagu"
   ]
  },
  {
   "cell_type": "code",
   "execution_count": null,
   "id": "75046915",
   "metadata": {},
   "outputs": [],
   "source": [
    "attribute_spotify_durration_popularity = [\"dur\",\"popularity\"]"
   ]
  },
  {
   "cell_type": "code",
   "execution_count": null,
   "id": "c753d6bc",
   "metadata": {},
   "outputs": [],
   "source": [
    "df_durr_popularity = df_all.loc[:,attribute_spotify_durration_popularity]\n",
    "df_durr_popularity.corr()"
   ]
  },
  {
   "cell_type": "markdown",
   "id": "373f77dc",
   "metadata": {},
   "source": [
    "Klasifikasi Genre Lagu"
   ]
  },
  {
   "cell_type": "code",
   "execution_count": null,
   "id": "49a22685",
   "metadata": {},
   "outputs": [],
   "source": [
    "df_all_clear.head()"
   ]
  },
  {
   "cell_type": "code",
   "execution_count": null,
   "id": "349a4e18",
   "metadata": {},
   "outputs": [],
   "source": [
    "X = df_all_clear.loc[:,attribute_spotify_high_corr]\n",
    "y = df_all_clear['genre']\n",
    "X_train, X_test, y_train, y_test = train_test_split(X, y, test_size=0.20)\n",
    "\n",
    "X_train = scaler_spotify(X_train, attribute_spotify_high_corr)\n",
    "X_test = scaler_spotify(X_test, attribute_spotify_high_corr)"
   ]
  },
  {
   "cell_type": "code",
   "execution_count": null,
   "id": "54d359ea",
   "metadata": {},
   "outputs": [],
   "source": [
    "knn_genre = KNeighborsClassifier(n_neighbors=3)\n",
    "knn_genre.fit(X_train, y_train)\n",
    "\n",
    "y_pred = knn_genre.predict(X_test)\n",
    "\n",
    "print(confusion_matrix(y_test, y_pred))\n",
    "print(classification_report(y_test, y_pred))"
   ]
  },
  {
   "cell_type": "markdown",
   "id": "f0229406",
   "metadata": {},
   "source": [
    "Prediksi popularitas\n",
    "<br>\n",
    "Jika dilihat dari nilai korelasi yang dimiliki, maka fitur dnce, dB, dan acous miliki nilai yang tinggi"
   ]
  },
  {
   "cell_type": "code",
   "execution_count": null,
   "id": "1a74411b",
   "metadata": {},
   "outputs": [],
   "source": [
    "attribute_spotify_popularity = ['dnce','dB','acous']\n",
    "X = np.array(df_all.loc[:,attribute_spotify_popularity])\n",
    "y = np.array(df_all.loc[:,'popularity'])\n",
    "\n",
    "lr_popularity = LinearRegression().fit(X,y)"
   ]
  },
  {
   "cell_type": "code",
   "execution_count": null,
   "id": "9be8e520",
   "metadata": {},
   "outputs": [],
   "source": [
    "lr_popularity.score(X,y)"
   ]
  },
  {
   "cell_type": "code",
   "execution_count": null,
   "id": "4bdc739b",
   "metadata": {},
   "outputs": [],
   "source": [
    "lr_popularity.coef_"
   ]
  },
  {
   "cell_type": "code",
   "execution_count": null,
   "id": "ef6abbbf",
   "metadata": {},
   "outputs": [],
   "source": [
    "lr_popularity.intercept_"
   ]
  },
  {
   "cell_type": "code",
   "execution_count": null,
   "id": "1d665488",
   "metadata": {},
   "outputs": [],
   "source": [
    "label_0 = df_all_cluster.loc[df_all_cluster['cluster'] == 0]\n",
    "label_1 = df_all_cluster.loc[df_all_cluster['cluster'] == 1]\n",
    "label_2 = df_all_cluster.loc[df_all_cluster['cluster'] == 2]"
   ]
  },
  {
   "cell_type": "code",
   "execution_count": null,
   "id": "581d2109",
   "metadata": {},
   "outputs": [],
   "source": [
    "plot3d = plt.axes(projection='3d')\n",
    "plot3d.set_xlabel('nrgy', fontweight ='bold')\n",
    "plot3d.set_ylabel('acous', fontweight ='bold')\n",
    "plot3d.set_zlabel('dB', fontweight ='bold')\n",
    "plot3d.scatter3D(label_0['nrgy'], label_0['acous'], label_0['dB'], color='red')\n",
    "plot3d.scatter3D(label_1['nrgy'], label_1['acous'], label_1['dB'], color='blue')\n",
    "plot3d.scatter3D(label_2['nrgy'], label_2['acous'], label_2['dB'], color='green')\n",
    "plt.show"
   ]
  }
 ],
 "metadata": {
  "interpreter": {
   "hash": "0ea1a0a1fad637c718fa0bb3cab8be98724de0be60da5412705bddc55923f09f"
  },
  "kernelspec": {
   "display_name": "Python 3.10.4 ('env': venv)",
   "language": "python",
   "name": "python3"
  },
  "language_info": {
   "codemirror_mode": {
    "name": "ipython",
    "version": 3
   },
   "file_extension": ".py",
   "mimetype": "text/x-python",
   "name": "python",
   "nbconvert_exporter": "python",
   "pygments_lexer": "ipython3",
   "version": "3.10.4"
  }
 },
 "nbformat": 4,
 "nbformat_minor": 5
}
