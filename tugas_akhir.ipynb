{
 "cells": [
  {
   "cell_type": "code",
   "execution_count": 198,
   "id": "10249130",
   "metadata": {},
   "outputs": [],
   "source": [
    "import pandas as pd\n",
    "import numpy as np\n",
    "import matplotlib.pyplot as plt\n",
    "import matplotlib.image as img\n",
    "from sklearn.preprocessing import StandardScaler, MinMaxScaler\n",
    "from sklearn.cluster import KMeans\n",
    "from sklearn.metrics import silhouette_score\n",
    "from sklearn.decomposition import PCA\n",
    "from collections import Counter"
   ]
  },
  {
   "cell_type": "markdown",
   "id": "ddc357a1",
   "metadata": {},
   "source": [
    "<h2>Penjelasan Atribut</h2>\n",
    "\n",
    "<table>\n",
    "  <tr>\n",
    "    <th>Num</th>\n",
    "    <th>Attribute Name</th>\n",
    "    <th>Description</th>\n",
    "  </tr>\n",
    "  <tr>\n",
    "    <td>1</td>\n",
    "    <td>title</td>\n",
    "    <td>Title</td>\n",
    "  </tr>\n",
    "  <tr>\n",
    "    <td>2</td>\n",
    "    <td>artist</td>\n",
    "    <td>Artist</td>\n",
    "  </tr>\n",
    "  <tr>\n",
    "    <td>3</td>\n",
    "    <td>genre</td>\n",
    "    <td>Genre of the song</td>\n",
    "  </tr>\n",
    "  <tr>\n",
    "    <td>4</td>\n",
    "    <td>year</td>\n",
    "    <td>Year of the song (due to re-releases, the year might not correspond to the release year of the original song)</td>\n",
    "  </tr>\n",
    "  <tr>\n",
    "    <td>5</td>\n",
    "    <td>bpm</td>\n",
    "    <td>Beats per minute</td>\n",
    "  </tr>\n",
    "  <tr>\n",
    "    <td>6</td>\n",
    "    <td>nrgy</td>\n",
    "    <td>Energy of a song, the higher the value the more energetic the song is</td>\n",
    "  </tr>\n",
    "  <tr>\n",
    "    <td>7</td>\n",
    "    <td>dnce</td>\n",
    "    <td>The higher the value, the easier it is to dance to this song.</td>\n",
    "  </tr>\n",
    "  <tr>\n",
    "    <td>8</td>\n",
    "    <td>dB</td>\n",
    "    <td>The higher the value, the louder the song</td>\n",
    "  </tr>\n",
    "  <tr>\n",
    "    <td>9</td>\n",
    "    <td>live</td>\n",
    "    <td>The higher the value, the more likely the song is a live recording.</td>\n",
    "  </tr>\n",
    "  <tr>\n",
    "    <td>10</td>\n",
    "    <td>val</td>\n",
    "    <td>The higher the value, the more positive the mood for the song.</td></tr>\n",
    "  <tr>\n",
    "    <td>11</td>\n",
    "    <td>dur</td>\n",
    "    <td>The duration of the song</td>\n",
    "  </tr>\n",
    "  <tr>\n",
    "    <td>12</td>\n",
    "    <td>acous</td>\n",
    "    <td>The higher the value the more acoustic the song is.</td>\n",
    "  </tr>\n",
    "  <tr>\n",
    "    <td>13</td>\n",
    "    <td>spch</td>\n",
    "    <td>The higher the value the more spoken words the song contains.</td>\n",
    "  </tr>\n",
    "  <tr>\n",
    "    <td>14</td>\n",
    "    <td>popularity</td>\n",
    "    <td>The higher the value the more popular the song is.</td>\n",
    "  </tr>\n",
    "  <tr>\n",
    "    <td>15</td>\n",
    "    <td>has_win_award</td>\n",
    "    <td>Boolean value to indicate if the song has won an award or not. Value of 1 if the song has already won one or more awards otherwise 0 if the song hasn’t won any awards.</td>\n",
    "  </tr>\n",
    "</table>"
   ]
  },
  {
   "cell_type": "markdown",
   "id": "85ebfd68",
   "metadata": {},
   "source": [
    "load semua csv"
   ]
  },
  {
   "cell_type": "code",
   "execution_count": null,
   "id": "07afebf8",
   "metadata": {},
   "outputs": [],
   "source": [
    "df_1950 = pd.read_csv(\"1950.csv\")\n",
    "df_1960 = pd.read_csv(\"1960.csv\")\n",
    "df_1970 = pd.read_csv(\"1970.csv\")\n",
    "df_1980 = pd.read_csv(\"1980.csv\")\n",
    "df_1990 = pd.read_csv(\"1990.csv\")\n",
    "df_2000 = pd.read_csv(\"2000.csv\")\n",
    "df_2010 = pd.read_csv(\"2010.csv\")\n",
    "df_top10 = pd.read_csv(\"top10s.csv\")"
   ]
  },
  {
   "cell_type": "markdown",
   "id": "48c22057",
   "metadata": {},
   "source": [
    "Preprocessing"
   ]
  },
  {
   "cell_type": "code",
   "execution_count": null,
   "id": "d5b50987",
   "metadata": {},
   "outputs": [],
   "source": [
    "# ubah data has_win_award dari float ke boolean\n",
    "df_1950 = df_1950.astype({\"has_win_award\":bool})\n",
    "df_1960 = df_1960.astype({\"has_win_award\":bool})\n",
    "df_1970 = df_1970.astype({\"has_win_award\":bool})\n",
    "df_1980 = df_1980.astype({\"has_win_award\":bool})\n",
    "df_1990 = df_1990.astype({\"has_win_award\":bool})\n",
    "df_2000 = df_2000.astype({\"has_win_award\":bool})\n",
    "df_2010 = df_2010.astype({\"has_win_award\":bool})\n",
    "df_top10 = df_top10.astype({\"has_win_award\":bool})"
   ]
  },
  {
   "cell_type": "code",
   "execution_count": null,
   "id": "f6762d48",
   "metadata": {},
   "outputs": [],
   "source": [
    "# cek duplikasi\n",
    "print(sum(df_1950.duplicated()))\n",
    "print(sum(df_1960.duplicated()))\n",
    "print(sum(df_1970.duplicated()))\n",
    "print(sum(df_1980.duplicated()))\n",
    "print(sum(df_1990.duplicated()))\n",
    "print(sum(df_2000.duplicated()))\n",
    "print(sum(df_2010.duplicated()))\n",
    "print(sum(df_top10.duplicated()))"
   ]
  },
  {
   "cell_type": "code",
   "execution_count": null,
   "id": "f10bf644",
   "metadata": {},
   "outputs": [],
   "source": [
    "# cek null di kolom yang mana\n",
    "def cek_apakah_ada_null(data_frame):\n",
    "    cek = data_frame.isnull()\n",
    "    columns = list(cek.columns)\n",
    "    c_null = []\n",
    "    for i in columns:\n",
    "        if sum(cek[i]) != 0:\n",
    "            c_null.append(i)\n",
    "    return c_null"
   ]
  },
  {
   "cell_type": "code",
   "execution_count": null,
   "id": "9c607e5c",
   "metadata": {},
   "outputs": [],
   "source": [
    "print(cek_apakah_ada_null(df_1950))\n",
    "print(cek_apakah_ada_null(df_1960))\n",
    "print(cek_apakah_ada_null(df_1970))\n",
    "print(cek_apakah_ada_null(df_1980))\n",
    "print(cek_apakah_ada_null(df_1990))\n",
    "print(cek_apakah_ada_null(df_2000))\n",
    "print(cek_apakah_ada_null(df_2010))\n",
    "print(cek_apakah_ada_null(df_top10))"
   ]
  },
  {
   "cell_type": "markdown",
   "id": "38b07d33",
   "metadata": {},
   "source": [
    "Karena nilai null pada genre tidak mempengaruhi klaster maka tidak perlu dilakukan penambahan atau pengurangan. Jika dilakukan penambahan, belum tentu sesuai dengan genre musik sesungguhnya. Nilai genre hanya akan berpengaruh dalam visualisasi data."
   ]
  },
  {
   "cell_type": "code",
   "execution_count": 196,
   "id": "30563be2",
   "metadata": {},
   "outputs": [],
   "source": [
    "# buat scaler dan pca\n",
    "def scaler_spotify(df, attribute_spotify):\n",
    "    sc = MinMaxScaler()\n",
    "    data_scaled = sc.fit_transform(df.loc[:,attribute_spotify])\n",
    "    pca = PCA(n_components=0.95)\n",
    "    pca.fit(data_scaled)\n",
    "    data_scaled = pca.transform(data_scaled)\n",
    "    return data_scaled"
   ]
  },
  {
   "cell_type": "markdown",
   "id": "651c21f5",
   "metadata": {},
   "source": [
    "Clustering"
   ]
  },
  {
   "cell_type": "code",
   "execution_count": null,
   "id": "cc868702",
   "metadata": {},
   "outputs": [],
   "source": [
    "# menggunakan clustering kmeans\n",
    "# mencari nilai optimal dari k\n",
    "def optimal_kmeans(scaled_data):\n",
    "    sil = []\n",
    "    k = range(2,25)\n",
    "    for i in k:\n",
    "        cluster_data = KMeans(n_clusters=i).fit(scaled_data)\n",
    "        sil.append(silhouette_score(scaled_data,cluster_data.labels_,metric='euclidean'))\n",
    "    plt.plot(k,sil, \"bx-\")\n",
    "    plt.xlabel(\"K\")\n",
    "    plt.ylabel(\"sil\")\n",
    "    plt.show()\n",
    "    return sil.index(max(sil))+2"
   ]
  },
  {
   "cell_type": "code",
   "execution_count": null,
   "id": "e6616c1c",
   "metadata": {},
   "outputs": [],
   "source": [
    "attribute_spotify = [\"bpm\",\"nrgy\",\"dnce\",\"dB\",\"live\",\"val\",\"dur\",\"acous\",\"spch\",\"popularity\",\"has_win_award\"]"
   ]
  },
  {
   "cell_type": "code",
   "execution_count": null,
   "id": "dd9d6920",
   "metadata": {},
   "outputs": [],
   "source": [
    "# k=2\n",
    "df_1950_std = scaler_spotify(df=df_1950,attribute_spotify=attribute_spotify)\n",
    "k = optimal_kmeans(df_1950_std)\n",
    "df_1950_cd = KMeans(n_clusters=k).fit(df_1950_std)"
   ]
  },
  {
   "cell_type": "code",
   "execution_count": null,
   "id": "a4d11c22",
   "metadata": {},
   "outputs": [],
   "source": [
    "# k=2\n",
    "df_1960_std = scaler_spotify(df=df_1960,attribute_spotify=attribute_spotify)\n",
    "k = optimal_kmeans(df_1960_std)\n",
    "df_1960_cd = KMeans(n_clusters=k).fit(df_1960_std)"
   ]
  },
  {
   "cell_type": "code",
   "execution_count": null,
   "id": "fe48f30c",
   "metadata": {},
   "outputs": [],
   "source": [
    "# k=2\n",
    "df_1970_std = scaler_spotify(df=df_1970,attribute_spotify=attribute_spotify)\n",
    "k = optimal_kmeans(df_1970_std)\n",
    "df_1970_cd = KMeans(n_clusters=k).fit(df_1970_std)"
   ]
  },
  {
   "cell_type": "code",
   "execution_count": null,
   "id": "2683c57b",
   "metadata": {},
   "outputs": [],
   "source": [
    "# k=3\n",
    "df_1980_std = scaler_spotify(df=df_1980,attribute_spotify=attribute_spotify)\n",
    "k = optimal_kmeans(df_1980_std)\n",
    "df_1980_cd = KMeans(n_clusters=k).fit(df_1980_std)"
   ]
  },
  {
   "cell_type": "code",
   "execution_count": null,
   "id": "28604e21",
   "metadata": {},
   "outputs": [],
   "source": [
    "# k=2\n",
    "df_1990_std = scaler_spotify(df=df_1990,attribute_spotify=attribute_spotify)\n",
    "k = optimal_kmeans(df_1990_std)\n",
    "df_1990_cd = KMeans(n_clusters=k).fit(df_1990_std)"
   ]
  },
  {
   "cell_type": "code",
   "execution_count": null,
   "id": "9eb54b52",
   "metadata": {},
   "outputs": [],
   "source": [
    "# k=2\n",
    "df_2000_std = scaler_spotify(df=df_2000,attribute_spotify=attribute_spotify)\n",
    "k = optimal_kmeans(df_2000_std)\n",
    "df_2000_cd = KMeans(n_clusters=k).fit(df_2000_std)"
   ]
  },
  {
   "cell_type": "code",
   "execution_count": null,
   "id": "0e325aeb",
   "metadata": {},
   "outputs": [],
   "source": [
    "# k=2\n",
    "df_2010_std = scaler_spotify(df=df_2010,attribute_spotify=attribute_spotify)\n",
    "k = optimal_kmeans(df_2010_std)\n",
    "df_2010_cd = KMeans(n_clusters=k).fit(df_2010_std)"
   ]
  },
  {
   "cell_type": "code",
   "execution_count": null,
   "id": "d095f124",
   "metadata": {},
   "outputs": [],
   "source": [
    "# k=2\n",
    "df_top10_std = scaler_spotify(df=df_top10,attribute_spotify=attribute_spotify)\n",
    "k = optimal_kmeans(df_top10_std)\n",
    "df_top10_cd = KMeans(n_clusters=k).fit(df_top10_std)"
   ]
  },
  {
   "cell_type": "markdown",
   "id": "c74cf4a4",
   "metadata": {},
   "source": [
    "Analisa"
   ]
  },
  {
   "cell_type": "markdown",
   "id": "4a521b50",
   "metadata": {},
   "source": [
    "Artis yang populer"
   ]
  },
  {
   "cell_type": "code",
   "execution_count": null,
   "id": "a7e392b1",
   "metadata": {},
   "outputs": [],
   "source": [
    "sum(df_top10.duplicated())"
   ]
  },
  {
   "cell_type": "code",
   "execution_count": null,
   "id": "db1df95e",
   "metadata": {},
   "outputs": [],
   "source": [
    "artist_total = pd.unique(df_1950.loc[:,'artist'])\n",
    "artist_total = pd.unique(np.append(artist_total, pd.unique(df_1960.loc[:,'artist'])))\n",
    "artist_total = pd.unique(np.append(artist_total, pd.unique(df_1970.loc[:,'artist'])))\n",
    "artist_total = pd.unique(np.append(artist_total, pd.unique(df_1980.loc[:,'artist'])))\n",
    "artist_total = pd.unique(np.append(artist_total, pd.unique(df_1990.loc[:,'artist'])))\n",
    "artist_total = pd.unique(np.append(artist_total, pd.unique(df_2000.loc[:,'artist'])))\n",
    "artist_total = pd.unique(np.append(artist_total, pd.unique(df_2010.loc[:,'artist'])))\n",
    "print(\"Total Artist : %d\" % (len(artist_total)))"
   ]
  },
  {
   "cell_type": "code",
   "execution_count": null,
   "id": "e81dc669",
   "metadata": {},
   "outputs": [],
   "source": [
    "genre_total = pd.unique(df_1950.loc[:,'genre'])\n",
    "genre_total = pd.unique(np.append(genre_total, pd.unique(df_1960.loc[:,'genre'])))\n",
    "genre_total = pd.unique(np.append(genre_total, pd.unique(df_1970.loc[:,'genre'])))\n",
    "genre_total = pd.unique(np.append(genre_total, pd.unique(df_1980.loc[:,'genre'])))\n",
    "genre_total = pd.unique(np.append(genre_total, pd.unique(df_1990.loc[:,'genre'])))\n",
    "genre_total = pd.unique(np.append(genre_total, pd.unique(df_2000.loc[:,'genre'])))\n",
    "genre_total = pd.unique(np.append(genre_total, pd.unique(df_2010.loc[:,'genre'])))\n",
    "print(\"Total Genre : %d\" % (len(genre_total)))"
   ]
  },
  {
   "cell_type": "code",
   "execution_count": 204,
   "id": "082cdf0e",
   "metadata": {},
   "outputs": [
    {
     "data": {
      "text/plain": [
       "pandas.core.series.Series"
      ]
     },
     "execution_count": 204,
     "metadata": {},
     "output_type": "execute_result"
    }
   ],
   "source": [
    "type(df_1950['artist'].value_counts())"
   ]
  }
 ],
 "metadata": {
  "kernelspec": {
   "display_name": "Python 3 (ipykernel)",
   "language": "python",
   "name": "python3"
  },
  "language_info": {
   "codemirror_mode": {
    "name": "ipython",
    "version": 3
   },
   "file_extension": ".py",
   "mimetype": "text/x-python",
   "name": "python",
   "nbconvert_exporter": "python",
   "pygments_lexer": "ipython3",
   "version": "3.9.7"
  }
 },
 "nbformat": 4,
 "nbformat_minor": 5
}
