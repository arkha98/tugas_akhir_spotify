{
 "cells": [
  {
   "cell_type": "markdown",
   "id": "93a5953b",
   "metadata": {},
   "source": [
    "# Library"
   ]
  },
  {
   "cell_type": "code",
   "execution_count": 50,
   "id": "10249130",
   "metadata": {},
   "outputs": [],
   "source": [
    "import tqdm\n",
    "import pandas as pd\n",
    "import numpy as np\n",
    "import matplotlib.pyplot as plt\n",
    "import matplotlib.image as img\n",
    "from sklearn.preprocessing import StandardScaler, MinMaxScaler\n",
    "from sklearn.cluster import KMeans\n",
    "from sklearn.metrics import silhouette_score, classification_report, confusion_matrix\n",
    "from sklearn.decomposition import PCA\n",
    "from sklearn import svm\n",
    "from sklearn.linear_model import LinearRegression, LogisticRegression\n",
    "from sklearn.tree import DecisionTreeClassifier\n",
    "from sklearn.model_selection import train_test_split, RepeatedStratifiedKFold, RepeatedKFold\n",
    "from sklearn.neighbors import KNeighborsClassifier\n",
    "from imblearn.over_sampling import SMOTE, RandomOverSampler, ADASYN\n",
    "from imblearn.pipeline import pipeline\n",
    "from collections import Counter\n",
    "import seaborn as sns"
   ]
  },
  {
   "cell_type": "code",
   "execution_count": 2,
   "id": "6cdc55e7",
   "metadata": {},
   "outputs": [],
   "source": [
    "# fungsi membantu\n",
    "def isNaN(value) :\n",
    "    try:\n",
    "        import math\n",
    "        return math.isnan(float(value))\n",
    "    except:\n",
    "        return False"
   ]
  },
  {
   "cell_type": "markdown",
   "id": "ddc357a1",
   "metadata": {},
   "source": [
    "# Penjelasan Atribut\n",
    "\n",
    "<table>\n",
    "  <tr>\n",
    "    <th>Num</th>\n",
    "    <th>Attribute Name</th>\n",
    "    <th>Description</th>\n",
    "  </tr>\n",
    "  <tr>\n",
    "    <td>1</td>\n",
    "    <td>title</td>\n",
    "    <td>Title</td>\n",
    "  </tr>\n",
    "  <tr>\n",
    "    <td>2</td>\n",
    "    <td>artist</td>\n",
    "    <td>Artist</td>\n",
    "  </tr>\n",
    "  <tr>\n",
    "    <td>3</td>\n",
    "    <td>genre</td>\n",
    "    <td>Genre of the song</td>\n",
    "  </tr>\n",
    "  <tr>\n",
    "    <td>4</td>\n",
    "    <td>year</td>\n",
    "    <td>Year of the song (due to re-releases, the year might not correspond to the release year of the original song)</td>\n",
    "  </tr>\n",
    "  <tr>\n",
    "    <td>5</td>\n",
    "    <td>bpm</td>\n",
    "    <td>Beats per minute</td>\n",
    "  </tr>\n",
    "  <tr>\n",
    "    <td>6</td>\n",
    "    <td>nrgy</td>\n",
    "    <td>Energy of a song, the higher the value the more energetic the song is</td>\n",
    "  </tr>\n",
    "  <tr>\n",
    "    <td>7</td>\n",
    "    <td>dnce</td>\n",
    "    <td>The higher the value, the easier it is to dance to this song.</td>\n",
    "  </tr>\n",
    "  <tr>\n",
    "    <td>8</td>\n",
    "    <td>dB</td>\n",
    "    <td>The higher the value, the louder the song</td>\n",
    "  </tr>\n",
    "  <tr>\n",
    "    <td>9</td>\n",
    "    <td>live</td>\n",
    "    <td>The higher the value, the more likely the song is a live recording.</td>\n",
    "  </tr>\n",
    "  <tr>\n",
    "    <td>10</td>\n",
    "    <td>val</td>\n",
    "    <td>The higher the value, the more positive the mood for the song.</td></tr>\n",
    "  <tr>\n",
    "    <td>11</td>\n",
    "    <td>dur</td>\n",
    "    <td>The duration of the song</td>\n",
    "  </tr>\n",
    "  <tr>\n",
    "    <td>12</td>\n",
    "    <td>acous</td>\n",
    "    <td>The higher the value the more acoustic the song is.</td>\n",
    "  </tr>\n",
    "  <tr>\n",
    "    <td>13</td>\n",
    "    <td>spch</td>\n",
    "    <td>The higher the value the more spoken words the song contains.</td>\n",
    "  </tr>\n",
    "  <tr>\n",
    "    <td>14</td>\n",
    "    <td>popularity</td>\n",
    "    <td>The higher the value the more popular the song is.</td>\n",
    "  </tr>\n",
    "  <tr>\n",
    "    <td>15</td>\n",
    "    <td>has_win_award</td>\n",
    "    <td>Boolean value to indicate if the song has won an award or not. Value of 1 if the song has already won one or more awards otherwise 0 if the song hasn’t won any awards.</td>\n",
    "  </tr>\n",
    "</table>"
   ]
  },
  {
   "cell_type": "markdown",
   "id": "85ebfd68",
   "metadata": {},
   "source": [
    "# load all csv"
   ]
  },
  {
   "cell_type": "code",
   "execution_count": 3,
   "id": "07afebf8",
   "metadata": {},
   "outputs": [],
   "source": [
    "df_1950 = pd.read_csv('1950.csv')\n",
    "df_1960 = pd.read_csv('1960.csv')\n",
    "df_1970 = pd.read_csv('1970.csv')\n",
    "df_1980 = pd.read_csv('1980.csv')\n",
    "df_1990 = pd.read_csv('1990.csv')\n",
    "df_2000 = pd.read_csv('2000.csv')\n",
    "df_2010 = pd.read_csv('2010.csv')\n",
    "df_top10 = pd.read_csv('top10s.csv')\n",
    "df_all = pd.read_csv('all_no_duplicates.csv')\n",
    "df_all_super_genre = pd.read_csv('all_super_genre.csv')"
   ]
  },
  {
   "cell_type": "markdown",
   "id": "efce82b5",
   "metadata": {},
   "source": [
    "# Preprocessing (done)"
   ]
  },
  {
   "cell_type": "code",
   "execution_count": 4,
   "id": "dd6c8d38",
   "metadata": {},
   "outputs": [],
   "source": [
    "# Penggabungan seluruh data frame\n",
    "df_all = pd.concat(\\\n",
    "    [df_1950,df_1960\\\n",
    "        ,df_1970,df_1980\\\n",
    "        ,df_1990,df_2000\\\n",
    "        ,df_2010,df_top10],ignore_index=True, sort=False)\n",
    "\n",
    "df_all.to_csv('all_sort_from_1950_to_top10.csv',index=False)\n",
    "\n",
    "# drop duplicate\n",
    "df_all = df_all.drop_duplicates()\n",
    "# drop all nan\n",
    "df_all_clear = df_all.dropna()\n",
    "# ubah data has_win_award dari float ke boolean\n",
    "df_all = df_all.astype({\"has_win_award\":bool})\n",
    "df_all_clear = df_all_clear.astype({\"has_win_award\":bool})\n",
    "\n",
    "df_all.to_csv('all_no_duplicates.csv',index=False)"
   ]
  },
  {
   "cell_type": "code",
   "execution_count": 5,
   "id": "3d9e9297",
   "metadata": {},
   "outputs": [],
   "source": [
    "def super_genre_helper(genre):\n",
    "    genre_dict = {'blues': ['blues','african blues','blues rock','blues shouter','british blues','canadian blues','chicago blues','classic female blues','contemporary r&b','country blues','delta blues','detroit blues','electric blues','gospel blues','hill country blues','hokum blues','jump blues','kansas city blues','louisiana blues','memphis blues','new orleans blues','piedmont blues','punk blues','rhythm and blues','doo-wop','soul blues','st. louis blues','swamp blues','texas blues','west coast blues','acoustic blues','boy band'],\n",
    "        'country': ['country','alternative country','cowpunk','americana','australian country','bakersfield sound','bluegrass','progressive bluegrass','reactionary bluegrass','country blues','country pop','country rap','country rock','cajun','cajun fiddle','christian country','close harmony','dansband','hokum','honky tonk','instrumental country','nashville sound','neotraditional country','new mexico music','outlaw country','progressive country','red dirt','rockabilly','hellbilly','psychobilly','sertanejo','tejano','texas country','traditional country music','truck-driving country','western (cowboy)','cowboy pop','new mexico','texas country','tejano','western swing','zydeco','cowboy western','contemporary country','classic country pop','alaska indie'],\n",
    "        'easy listening': ['easy listening','background music','elevator music (muzak)','barococo','beautiful music','chill-out','furniture music','light music','lounge music','middle of the road','new-age music'],\n",
    "        'electronic': ['electronic','ambient','ambient dub','dark ambient','ambient industrial','dungeon synth','isolationism','drone','illbient','new-age','andean new-age','neoclassical new-age','space music','reductionism','lowercase','onkyokei','bass music','footwork','future bass','kawaii future bass','jungle terror','uk bass','wave','hardwave','breakbeat','acid breaks','baltimore club','jersey club','philly club','big beat','breakbeat hardcore','4-beat','darkcore','hardcore breaks','broken beat','florida breaks','nu skool breaks','progressive breaks','psychedelic breakbeat','chill-out','downtempo','psybient','psydub','trip hop','trip rock','chopped and screwed','disco','afro/cosmic music','electro-disco','hi-nrg','eurobeat','eurodance','italo dance','italo disco','spacesynth','space disco','eurodisco','nu-disco','post-disco','boogie','city pop','disco edits','drum and bass','darkstep','drumfunk','drumstep','hardstep','intelligent drum and bass','atmospheric drum and bass','jazzstep','jump-up','liquid funk','neurofunk','sambass','techstep','dub','dub poetry','dubtronica','electroacoustic music','acousmatic music','electroacoustic improvisation','live electronics','musique concrète','soundscape','electronic rock','dance-rock','alternative dance','madchester','baggy','new rave','dance-punk','krautrock','new wave','cold wave','dark wave','neoclassical dark wave','neue deutsche todeskunst','ethereal wave','nu-gaze','minimal wave','neue deutsche welle','new romantic','sophisti-pop','synth-pop','dance-pop','disco polo','electroclash','electropop','hyperpop','indietronica','post-rock','space rock','synth-metal','electrogrind','electronicore','synth-punk','electronica','folktronica','jazztronica','laptronica','livetronica','progressive electronic','kosmische musik','ethnic electronica / regional edm','asian underground','african electronic dance music','afrobeats','azonto','coupé-décalé','kuduro','mahraganat','shangaan electro','budots','changa tuki','dancehall pop','funk carioca','funk ostentação','melodic funk','proibidão','rasteirinha','merenhouse','nortec','rabòday','rara tech','russ music','shamstep','tribal guarachero','worldbeat','manila sound','funk fusion genres','acid jazz','funktronica','synth-funk','jungle','ragga jungle','hardcore','bouncy techno','breakcore','raggacore','digital hardcore','doomcore','frenchcore','gabber','early hardcore','mainstream hardcore','happy hardcore','uk hardcore','industrial hardcore','j-core','lento violento','mákina','speedcore','extratone','flashcore','hypertone','splittercore','hardstyle','dubstyle','euphoric frenchcore','euphoric hardstyle','jumpstyle','rawstyle','trapstyle','hauntology','chillwave','hypnagogic pop','synthwave','darksynth','sovietwave','vaporwave','dreampunk','future funk','hardvapour','mallsoft','hip hop fusion genres','afroswing','alternative hip hop','hipster hop','cloud rap','crunk','crunkcore','snap music','electro','latin freestyle','emo rap','instrumental hip hop','lofi hip hop','miami bass','mumble rap','trap','afro trap','drill','uk drill','latin trap','phonk','trap (edm)','uk trap','house music','acid house','afro house','amapiano','gqom','kidandali','kwaito','ambient house','balearic beat','ballroom','bass house','blog house','brazilian bass','slap house','chicago hard house','chicago house','deep house','disco house','diva house','hardbag','electro house','big room house','complextro','dutch house','fidget house','melbourne bounce','electro swing','eurohouse','french house','funky house','future house','garage house','ghetto house','ghettotech','juke house','hip house','italo house','jazz house','latin house','melodic house','microhouse','moombahcore','moombahton','moombahsoul','new jersey sound','outsider house','progressive house','soulful house','tech house','tribal house','tropical house','uk hard house','hard nrg','pumping house','hardbass','scouse house','industrial / post-industrial','deconstructed club','electro-industrial','dark electro','aggrotech','electronic body music (ebm)','futurepop','new beat','industrial hip hop','industrial metal','cyber metal','neue deutsche härte','industrial rock','martial industrial','witch house','intelligent dance music (idm)',\"drill 'n' bass\",'glitch','glitch hop','neo soul','nightcore','noise music','danger music','harsh noise','harsh noise wall','japanoise','power electronics','death industrial','power noise','plunderphonics','sampledelia','techno','acid techno','ambient techno','birmingham sound','bleep techno','detroit techno','dub techno','hardtechno','free tekno','jungletek','raggatek','industrial techno','minimal techno','schaffel','toytown techno','tecno brega','trance music','acid trance','balearic trance','dream trance','eurotrance','hands up','goa trance','nitzhonot','hard trance','progressive trance','psychedelic trance','dark psytrance','full-on','minimal psytrance','progressive psytrance','suomisaundi','zenonesque','tech trance','uplifting trance','vocal trance','uk garage','2-step garage','bassline','breakstep','dubstep','brostep','post-dubstep','reggaestep','riddim','future garage','grime','grindie','speed garage','uk funky','funkstep','wonky','video game music','chiptune','bitpop','nintendocore','skweee','fm synthesis','sequencer music','afrobeat','german dance','big room','bubble trance','house','australian dance','belgian dance','belgian edm','aussietronica','brit funk','new wave pop','electronic trap','edm','metropopolis','bubblegum dance'],\n",
    "        'contemporary folk': ['contemporary folk','american folk revival','americana','anti-folk','british folk revival','celtic music','chalga','corrido','filk','folk rock','celtic rock','freak folk','indie folk','industrial folk','mariachi','ranchera','neofolk','progressive folk','protest song','psychedelic folk','singer-songwriter','nueva canción','skiffle','sung poetry','yodeling','canadian folk','appalachian folk','drone folk','british folk','irish singer-songwriter','hollywood','native american','alaska indie'],\n",
    "        'hip hop': ['hip hop','alternative hip hop','hipster hop','boom bap','bounce','british hip hop','road rap','chopped and screwed','chopper','cloud rap','comedy hip hop','crunk','crunkcore','country rap','east coast hip hop','emo rap','freestyle rap','g-funk','hardcore hip hop','dirty rap','gangsta rap','mafioso rap','horrorcore','memphis rap','hip hop soul','hyphy',\"jerkin'\",'industrial hip hop','instrumental hip hop','jazz rap','latin hip hop','chicano rap','lofi hip hop','miami bass','mumble rap','nerdcore','chap hop','new jack swing','political hip hop','conscious hip hop','pop rap','progressive rap','punk rap','ragga hip hop','rap opera','rap rock','rap metal','trap metal','rapcore','religious hip hop','christian hip hop','jewish hip hop','snap','southern hip hop','trap','drill','brooklyn drill','uk drill','latin trap','phonk','tread','turntablism','underground hip hop','west coast hip hop','bronx hip hop','g funk','dirty south rap','dfw rap','atl hip hop','chicago rap','australian hip hop','detroit hip hop','canadian hip hop','latin','canadian latin'],\n",
    "        'jazz': ['jazz','acid jazz','afro-cuban jazz','alt-jazz','avant-garde jazz','bebop','boogie-woogie','bossa nova','brazilian jazz','british dance band','cape jazz','chamber jazz','continental jazz','cool jazz','crossover jazz','dixieland','ethno jazz','european free jazz','free funk','free improvisation','free jazz','gypsy jazz','hard bop','jazz blues','jazz-funk','jazz fusion','jazz rap','jazz rock','kansas city jazz','latin jazz','livetronica','m-base','mainstream jazz','modal jazz','neo-bop jazz','neo-swing','novelty ragtime','nu jazz','orchestral jazz','post-bop','progressive jazz','punk jazz','ragtime','samba-jazz','shibuya-kei','ska jazz','smooth jazz','soul jazz','straight-ahead jazz','stride jazz','swing','trad jazz','third stream','vocal jazz','west coast jazz'],\n",
    "        'pop': ['pop','adult album alternative','adult contemporary','ambient pop','arabic pop','art pop','baroque pop','bedroom pop','brill building','britpop','bubblegum pop','c-pop','cantopop','hokkien pop','mandopop','canción','canzone','chalga','chamber pop','chanson','christian pop','classic hits','classical crossover','country pop','cringe pop','dance-pop','disco polo','electropop','europop','austropop','eurobeat','french pop','italo dance','italo disco','laïkó','nederpop','neomelodic music','russian pop','fado','folk pop','hyperpop','indie pop','twee pop','indian pop','iranian pop','j-pop','city pop','shibuya-kei','jangle pop','jazz pop','k-pop','korean hip hop','korean rock',\"t'ong guitar\",'trot','latin ballad','latin pop','mexican pop','new romantic','oldies','operatic pop','opm','pinoy pop','pop rap','pop rock','pop punk','emo pop','neon pop','power pop','soft rock','surf pop','yacht rock','pop soul','progressive pop','psychedelic pop','rebetiko','schlager','sophisti-pop','space age pop','sunshine pop','swamp pop','synthpop','teen pop','traditional pop','turbo-folk','turkish pop','vispop','wonky pop','worldbeat','yé-yé','adult standards','brill building pop','deep adult standards','british comedy','classic uk pop','afropop','classic danish pop','neo mellow','barbadian pop','bow pop','moroccan pop','indie poptimism','danish pop','belgian pop','italian pop','irish pop','colombian pop','acoustic pop','candy pop','folk-pop','dance pop','canadian pop','australian pop','australian talent show','french indie pop','classic country pop','latin','canadian latin'],\n",
    "        'r&b and soul': ['r&b and soul','alternative r&b','contemporary r&b','disco','freestyle','go-go','funk','deep funk','minneapolis sound','psychedelic funk','gospel music','new jack swing','post-disco','boogie','rhythm and blues','doo-wop','soul','blue-eyed soul','hip hop soul','neo soul','northern soul','psychedelic soul','southern soul','classic soul','beach music','boogaloo','canadian contemporary r&b','british soul','chicago soul','r&b','classic girl group','escape room','hip pop','boy band'],\n",
    "        'rock': ['rock','afro rock','alternative rock','alternative dance','britpop','post-britpop','dream pop','goth rock','shoegaze','blackgaze','grunge','post-grunge','indie rock','dunedin sound','math rock','post-punk revival','madchester','baggy','noise pop','sadcore','slowcore','beat','british invasion','freakbeat','nederbeat','blues rock','boogie rock','british rhythm and blues','chamber pop','christian rock','classic rock','comedy rock','country rock','dark cabaret','electronic rock','electronicore','new wave','cold wave','dark wave','ethereal wave','experimental rock','art rock','industrial rock','post-punk','dance-punk','gothic rock','no wave','noise rock','post-rock','post-metal','folk rock','british folk rock','celtic rock','medieval folk rock','funk rock','garage rock','glam rock','hard rock','heartland rock','instrumental rock','jazz fusion','jazz rock','latin rock','mangue bit','metal','paisley underground','desert rock','pop rock','jangle pop','power pop','soft rock','yacht rock','progressive rock','art rock','avant-prog','rock in opposition','canterbury scene','flamenco rock','krautrock','neo-progressive rock','new prog','post-progressive','space rock','symphonic rock','psychedelic rock','acid rock','neo-psychedelia','raga rock','pub rock (australia)','pub rock (united kingdom)','punk rock','rap rock','rapcore','reggae rock','rock and roll','rockabilly','rock opera','roots rock','southern rock','stoner rock','swamp rock','sufi rock','surf rock','tropical rock','visual kei','nagoya kei','wizard rock','worldbeat','world fusion','merseybeat','album rock','rock-and-roll','australian rock','dance rock','glam punk','german alternative rock','modern rock','mellow gold','permanent wave'],\n",
    "        'metal': ['metal','alternative metal','funk metal','nu metal','rap metal','avant-garde metal','black metal','blackened death metal','atmospheric black metal','blackgaze','melodic black metal','national socialist black metal','symphonic black metal','viking metal','war metal','christian metal','unblack metal','death metal',\"death 'n' roll\",'deathgrind','melodic death metal','technical death metal','doom metal','death-doom','drone metal','folk metal','celtic metal','medieval metal','pagan metal','glam metal','gothic metal','heavy metal','industrial metal','kawaii metal','latin metal','metalcore','deathcore','mathcore','melodic metalcore','neoclassical metal','neue deutsche härte','nintendocore','pirate metal','post-metal','power metal','progressive metal','djent','sludge metal','speed metal','symphonic metal','thrash metal','crossover thrash','groove metal'],\n",
    "        'punk': ['punk','anarcho punk','crust punk','d-beat','art punk','christian punk','deathrock','digital hardcore','folk punk','celtic punk','cowpunk','gypsy punk','garage punk','grindcore','crustgrind','goregrind','noisegrind','pornogrind','hardcore punk','crossover thrash','melodic hardcore','post-hardcore','emo','emo pop','screamo','powerviolence','street punk','thrashcore','horror punk','nazi punk','oi!','pop punk','easycore','neon pop','psychobilly','punk pathetique','riot grrrl','ska punk','skate punk']}\n",
    "    genre_list = ''\n",
    "    found = False\n",
    "    for k,v in genre_dict.items():\n",
    "        if genre in v:\n",
    "            if genre_list == '': genre_list+=k\n",
    "            else: genre_list += '|'+k\n",
    "            found = True\n",
    "    if not found: return genre\n",
    "    return genre_list\n",
    "\n",
    "def super_genre(df):\n",
    "    df_tmp = df.copy()\n",
    "    for i in tqdm.tqdm(df_tmp.index):\n",
    "        df_tmp.loc[i,'genre'] = super_genre_helper(df_tmp.loc[i,'genre'])\n",
    "    return df_tmp\n",
    "\n",
    "genre_all = ['blues','country','easy listening','electronic','contemporary folk','hip hop','jazz','pop','r&b and soul','rock','metal','punk']"
   ]
  },
  {
   "cell_type": "code",
   "execution_count": 6,
   "id": "222df70d",
   "metadata": {},
   "outputs": [
    {
     "name": "stderr",
     "output_type": "stream",
     "text": [
      "100%|██████████| 1265/1265 [00:01<00:00, 1247.39it/s]\n",
      "0it [00:00, ?it/s]/tmp/ipykernel_52376/1018044090.py:12: FutureWarning: The frame.append method is deprecated and will be removed from pandas in a future version. Use pandas.concat instead.\n",
      "  df_all_super_genre = df_all_super_genre.append(new_row, ignore_index=True)\n",
      "/tmp/ipykernel_52376/1018044090.py:12: FutureWarning: The frame.append method is deprecated and will be removed from pandas in a future version. Use pandas.concat instead.\n",
      "  df_all_super_genre = df_all_super_genre.append(new_row, ignore_index=True)\n",
      "1it [00:00,  1.85it/s]/tmp/ipykernel_52376/1018044090.py:12: FutureWarning: The frame.append method is deprecated and will be removed from pandas in a future version. Use pandas.concat instead.\n",
      "  df_all_super_genre = df_all_super_genre.append(new_row, ignore_index=True)\n",
      "/tmp/ipykernel_52376/1018044090.py:12: FutureWarning: The frame.append method is deprecated and will be removed from pandas in a future version. Use pandas.concat instead.\n",
      "  df_all_super_genre = df_all_super_genre.append(new_row, ignore_index=True)\n",
      "/tmp/ipykernel_52376/1018044090.py:12: FutureWarning: The frame.append method is deprecated and will be removed from pandas in a future version. Use pandas.concat instead.\n",
      "  df_all_super_genre = df_all_super_genre.append(new_row, ignore_index=True)\n",
      "/tmp/ipykernel_52376/1018044090.py:12: FutureWarning: The frame.append method is deprecated and will be removed from pandas in a future version. Use pandas.concat instead.\n",
      "  df_all_super_genre = df_all_super_genre.append(new_row, ignore_index=True)\n",
      "3it [00:00,  5.20it/s]/tmp/ipykernel_52376/1018044090.py:12: FutureWarning: The frame.append method is deprecated and will be removed from pandas in a future version. Use pandas.concat instead.\n",
      "  df_all_super_genre = df_all_super_genre.append(new_row, ignore_index=True)\n",
      "/tmp/ipykernel_52376/1018044090.py:12: FutureWarning: The frame.append method is deprecated and will be removed from pandas in a future version. Use pandas.concat instead.\n",
      "  df_all_super_genre = df_all_super_genre.append(new_row, ignore_index=True)\n",
      "/tmp/ipykernel_52376/1018044090.py:12: FutureWarning: The frame.append method is deprecated and will be removed from pandas in a future version. Use pandas.concat instead.\n",
      "  df_all_super_genre = df_all_super_genre.append(new_row, ignore_index=True)\n",
      "/tmp/ipykernel_52376/1018044090.py:12: FutureWarning: The frame.append method is deprecated and will be removed from pandas in a future version. Use pandas.concat instead.\n",
      "  df_all_super_genre = df_all_super_genre.append(new_row, ignore_index=True)\n",
      "5it [00:00,  7.27it/s]/tmp/ipykernel_52376/1018044090.py:12: FutureWarning: The frame.append method is deprecated and will be removed from pandas in a future version. Use pandas.concat instead.\n",
      "  df_all_super_genre = df_all_super_genre.append(new_row, ignore_index=True)\n",
      "/tmp/ipykernel_52376/1018044090.py:12: FutureWarning: The frame.append method is deprecated and will be removed from pandas in a future version. Use pandas.concat instead.\n",
      "  df_all_super_genre = df_all_super_genre.append(new_row, ignore_index=True)\n",
      "/tmp/ipykernel_52376/1018044090.py:12: FutureWarning: The frame.append method is deprecated and will be removed from pandas in a future version. Use pandas.concat instead.\n",
      "  df_all_super_genre = df_all_super_genre.append(new_row, ignore_index=True)\n",
      "/tmp/ipykernel_52376/1018044090.py:12: FutureWarning: The frame.append method is deprecated and will be removed from pandas in a future version. Use pandas.concat instead.\n",
      "  df_all_super_genre = df_all_super_genre.append(new_row, ignore_index=True)\n",
      "7it [00:01,  7.96it/s]/tmp/ipykernel_52376/1018044090.py:12: FutureWarning: The frame.append method is deprecated and will be removed from pandas in a future version. Use pandas.concat instead.\n",
      "  df_all_super_genre = df_all_super_genre.append(new_row, ignore_index=True)\n",
      "/tmp/ipykernel_52376/1018044090.py:12: FutureWarning: The frame.append method is deprecated and will be removed from pandas in a future version. Use pandas.concat instead.\n",
      "  df_all_super_genre = df_all_super_genre.append(new_row, ignore_index=True)\n",
      "/tmp/ipykernel_52376/1018044090.py:12: FutureWarning: The frame.append method is deprecated and will be removed from pandas in a future version. Use pandas.concat instead.\n",
      "  df_all_super_genre = df_all_super_genre.append(new_row, ignore_index=True)\n",
      "/tmp/ipykernel_52376/1018044090.py:12: FutureWarning: The frame.append method is deprecated and will be removed from pandas in a future version. Use pandas.concat instead.\n",
      "  df_all_super_genre = df_all_super_genre.append(new_row, ignore_index=True)\n",
      "9it [00:01,  8.56it/s]/tmp/ipykernel_52376/1018044090.py:12: FutureWarning: The frame.append method is deprecated and will be removed from pandas in a future version. Use pandas.concat instead.\n",
      "  df_all_super_genre = df_all_super_genre.append(new_row, ignore_index=True)\n",
      "/tmp/ipykernel_52376/1018044090.py:12: FutureWarning: The frame.append method is deprecated and will be removed from pandas in a future version. Use pandas.concat instead.\n",
      "  df_all_super_genre = df_all_super_genre.append(new_row, ignore_index=True)\n",
      "10it [00:01,  8.51it/s]/tmp/ipykernel_52376/1018044090.py:12: FutureWarning: The frame.append method is deprecated and will be removed from pandas in a future version. Use pandas.concat instead.\n",
      "  df_all_super_genre = df_all_super_genre.append(new_row, ignore_index=True)\n",
      "/tmp/ipykernel_52376/1018044090.py:12: FutureWarning: The frame.append method is deprecated and will be removed from pandas in a future version. Use pandas.concat instead.\n",
      "  df_all_super_genre = df_all_super_genre.append(new_row, ignore_index=True)\n",
      "/tmp/ipykernel_52376/1018044090.py:12: FutureWarning: The frame.append method is deprecated and will be removed from pandas in a future version. Use pandas.concat instead.\n",
      "  df_all_super_genre = df_all_super_genre.append(new_row, ignore_index=True)\n",
      "/tmp/ipykernel_52376/1018044090.py:12: FutureWarning: The frame.append method is deprecated and will be removed from pandas in a future version. Use pandas.concat instead.\n",
      "  df_all_super_genre = df_all_super_genre.append(new_row, ignore_index=True)\n",
      "12it [00:01,  9.57it/s]/tmp/ipykernel_52376/1018044090.py:12: FutureWarning: The frame.append method is deprecated and will be removed from pandas in a future version. Use pandas.concat instead.\n",
      "  df_all_super_genre = df_all_super_genre.append(new_row, ignore_index=True)\n",
      "/tmp/ipykernel_52376/1018044090.py:12: FutureWarning: The frame.append method is deprecated and will be removed from pandas in a future version. Use pandas.concat instead.\n",
      "  df_all_super_genre = df_all_super_genre.append(new_row, ignore_index=True)\n",
      "/tmp/ipykernel_52376/1018044090.py:12: FutureWarning: The frame.append method is deprecated and will be removed from pandas in a future version. Use pandas.concat instead.\n",
      "  df_all_super_genre = df_all_super_genre.append(new_row, ignore_index=True)\n",
      "/tmp/ipykernel_52376/1018044090.py:12: FutureWarning: The frame.append method is deprecated and will be removed from pandas in a future version. Use pandas.concat instead.\n",
      "  df_all_super_genre = df_all_super_genre.append(new_row, ignore_index=True)\n",
      "14it [00:01,  9.59it/s]/tmp/ipykernel_52376/1018044090.py:12: FutureWarning: The frame.append method is deprecated and will be removed from pandas in a future version. Use pandas.concat instead.\n",
      "  df_all_super_genre = df_all_super_genre.append(new_row, ignore_index=True)\n",
      "/tmp/ipykernel_52376/1018044090.py:12: FutureWarning: The frame.append method is deprecated and will be removed from pandas in a future version. Use pandas.concat instead.\n",
      "  df_all_super_genre = df_all_super_genre.append(new_row, ignore_index=True)\n",
      "/tmp/ipykernel_52376/1018044090.py:12: FutureWarning: The frame.append method is deprecated and will be removed from pandas in a future version. Use pandas.concat instead.\n",
      "  df_all_super_genre = df_all_super_genre.append(new_row, ignore_index=True)\n",
      "/tmp/ipykernel_52376/1018044090.py:12: FutureWarning: The frame.append method is deprecated and will be removed from pandas in a future version. Use pandas.concat instead.\n",
      "  df_all_super_genre = df_all_super_genre.append(new_row, ignore_index=True)\n",
      "16it [00:01, 10.54it/s]/tmp/ipykernel_52376/1018044090.py:12: FutureWarning: The frame.append method is deprecated and will be removed from pandas in a future version. Use pandas.concat instead.\n",
      "  df_all_super_genre = df_all_super_genre.append(new_row, ignore_index=True)\n",
      "/tmp/ipykernel_52376/1018044090.py:12: FutureWarning: The frame.append method is deprecated and will be removed from pandas in a future version. Use pandas.concat instead.\n",
      "  df_all_super_genre = df_all_super_genre.append(new_row, ignore_index=True)\n",
      "/tmp/ipykernel_52376/1018044090.py:12: FutureWarning: The frame.append method is deprecated and will be removed from pandas in a future version. Use pandas.concat instead.\n",
      "  df_all_super_genre = df_all_super_genre.append(new_row, ignore_index=True)\n",
      "/tmp/ipykernel_52376/1018044090.py:12: FutureWarning: The frame.append method is deprecated and will be removed from pandas in a future version. Use pandas.concat instead.\n",
      "  df_all_super_genre = df_all_super_genre.append(new_row, ignore_index=True)\n",
      "18it [00:02, 11.39it/s]/tmp/ipykernel_52376/1018044090.py:12: FutureWarning: The frame.append method is deprecated and will be removed from pandas in a future version. Use pandas.concat instead.\n",
      "  df_all_super_genre = df_all_super_genre.append(new_row, ignore_index=True)\n",
      "/tmp/ipykernel_52376/1018044090.py:12: FutureWarning: The frame.append method is deprecated and will be removed from pandas in a future version. Use pandas.concat instead.\n",
      "  df_all_super_genre = df_all_super_genre.append(new_row, ignore_index=True)\n",
      "/tmp/ipykernel_52376/1018044090.py:12: FutureWarning: The frame.append method is deprecated and will be removed from pandas in a future version. Use pandas.concat instead.\n",
      "  df_all_super_genre = df_all_super_genre.append(new_row, ignore_index=True)\n",
      "/tmp/ipykernel_52376/1018044090.py:12: FutureWarning: The frame.append method is deprecated and will be removed from pandas in a future version. Use pandas.concat instead.\n",
      "  df_all_super_genre = df_all_super_genre.append(new_row, ignore_index=True)\n",
      "20it [00:02,  8.22it/s]/tmp/ipykernel_52376/1018044090.py:12: FutureWarning: The frame.append method is deprecated and will be removed from pandas in a future version. Use pandas.concat instead.\n",
      "  df_all_super_genre = df_all_super_genre.append(new_row, ignore_index=True)\n",
      "/tmp/ipykernel_52376/1018044090.py:12: FutureWarning: The frame.append method is deprecated and will be removed from pandas in a future version. Use pandas.concat instead.\n",
      "  df_all_super_genre = df_all_super_genre.append(new_row, ignore_index=True)\n",
      "21it [00:02,  7.21it/s]/tmp/ipykernel_52376/1018044090.py:12: FutureWarning: The frame.append method is deprecated and will be removed from pandas in a future version. Use pandas.concat instead.\n",
      "  df_all_super_genre = df_all_super_genre.append(new_row, ignore_index=True)\n",
      "/tmp/ipykernel_52376/1018044090.py:12: FutureWarning: The frame.append method is deprecated and will be removed from pandas in a future version. Use pandas.concat instead.\n",
      "  df_all_super_genre = df_all_super_genre.append(new_row, ignore_index=True)\n",
      "22it [00:02,  7.50it/s]/tmp/ipykernel_52376/1018044090.py:12: FutureWarning: The frame.append method is deprecated and will be removed from pandas in a future version. Use pandas.concat instead.\n",
      "  df_all_super_genre = df_all_super_genre.append(new_row, ignore_index=True)\n",
      "/tmp/ipykernel_52376/1018044090.py:12: FutureWarning: The frame.append method is deprecated and will be removed from pandas in a future version. Use pandas.concat instead.\n",
      "  df_all_super_genre = df_all_super_genre.append(new_row, ignore_index=True)\n",
      "/tmp/ipykernel_52376/1018044090.py:12: FutureWarning: The frame.append method is deprecated and will be removed from pandas in a future version. Use pandas.concat instead.\n",
      "  df_all_super_genre = df_all_super_genre.append(new_row, ignore_index=True)\n",
      "/tmp/ipykernel_52376/1018044090.py:12: FutureWarning: The frame.append method is deprecated and will be removed from pandas in a future version. Use pandas.concat instead.\n",
      "  df_all_super_genre = df_all_super_genre.append(new_row, ignore_index=True)\n",
      "24it [00:02,  8.64it/s]/tmp/ipykernel_52376/1018044090.py:12: FutureWarning: The frame.append method is deprecated and will be removed from pandas in a future version. Use pandas.concat instead.\n",
      "  df_all_super_genre = df_all_super_genre.append(new_row, ignore_index=True)\n",
      "/tmp/ipykernel_52376/1018044090.py:12: FutureWarning: The frame.append method is deprecated and will be removed from pandas in a future version. Use pandas.concat instead.\n",
      "  df_all_super_genre = df_all_super_genre.append(new_row, ignore_index=True)\n",
      "25it [00:03,  8.56it/s]/tmp/ipykernel_52376/1018044090.py:12: FutureWarning: The frame.append method is deprecated and will be removed from pandas in a future version. Use pandas.concat instead.\n",
      "  df_all_super_genre = df_all_super_genre.append(new_row, ignore_index=True)\n",
      "/tmp/ipykernel_52376/1018044090.py:12: FutureWarning: The frame.append method is deprecated and will be removed from pandas in a future version. Use pandas.concat instead.\n",
      "  df_all_super_genre = df_all_super_genre.append(new_row, ignore_index=True)\n",
      "/tmp/ipykernel_52376/1018044090.py:12: FutureWarning: The frame.append method is deprecated and will be removed from pandas in a future version. Use pandas.concat instead.\n",
      "  df_all_super_genre = df_all_super_genre.append(new_row, ignore_index=True)\n",
      "/tmp/ipykernel_52376/1018044090.py:12: FutureWarning: The frame.append method is deprecated and will be removed from pandas in a future version. Use pandas.concat instead.\n",
      "  df_all_super_genre = df_all_super_genre.append(new_row, ignore_index=True)\n",
      "27it [00:03,  8.11it/s]/tmp/ipykernel_52376/1018044090.py:12: FutureWarning: The frame.append method is deprecated and will be removed from pandas in a future version. Use pandas.concat instead.\n",
      "  df_all_super_genre = df_all_super_genre.append(new_row, ignore_index=True)\n",
      "/tmp/ipykernel_52376/1018044090.py:12: FutureWarning: The frame.append method is deprecated and will be removed from pandas in a future version. Use pandas.concat instead.\n",
      "  df_all_super_genre = df_all_super_genre.append(new_row, ignore_index=True)\n",
      "28it [00:03,  8.38it/s]/tmp/ipykernel_52376/1018044090.py:12: FutureWarning: The frame.append method is deprecated and will be removed from pandas in a future version. Use pandas.concat instead.\n",
      "  df_all_super_genre = df_all_super_genre.append(new_row, ignore_index=True)\n",
      "/tmp/ipykernel_52376/1018044090.py:12: FutureWarning: The frame.append method is deprecated and will be removed from pandas in a future version. Use pandas.concat instead.\n",
      "  df_all_super_genre = df_all_super_genre.append(new_row, ignore_index=True)\n",
      "29it [00:03,  8.54it/s]/tmp/ipykernel_52376/1018044090.py:12: FutureWarning: The frame.append method is deprecated and will be removed from pandas in a future version. Use pandas.concat instead.\n",
      "  df_all_super_genre = df_all_super_genre.append(new_row, ignore_index=True)\n",
      "/tmp/ipykernel_52376/1018044090.py:12: FutureWarning: The frame.append method is deprecated and will be removed from pandas in a future version. Use pandas.concat instead.\n",
      "  df_all_super_genre = df_all_super_genre.append(new_row, ignore_index=True)\n",
      "30it [00:03,  8.67it/s]/tmp/ipykernel_52376/1018044090.py:12: FutureWarning: The frame.append method is deprecated and will be removed from pandas in a future version. Use pandas.concat instead.\n",
      "  df_all_super_genre = df_all_super_genre.append(new_row, ignore_index=True)\n",
      "/tmp/ipykernel_52376/1018044090.py:12: FutureWarning: The frame.append method is deprecated and will be removed from pandas in a future version. Use pandas.concat instead.\n",
      "  df_all_super_genre = df_all_super_genre.append(new_row, ignore_index=True)\n",
      "31it [00:03,  8.64it/s]/tmp/ipykernel_52376/1018044090.py:12: FutureWarning: The frame.append method is deprecated and will be removed from pandas in a future version. Use pandas.concat instead.\n",
      "  df_all_super_genre = df_all_super_genre.append(new_row, ignore_index=True)\n",
      "/tmp/ipykernel_52376/1018044090.py:12: FutureWarning: The frame.append method is deprecated and will be removed from pandas in a future version. Use pandas.concat instead.\n",
      "  df_all_super_genre = df_all_super_genre.append(new_row, ignore_index=True)\n",
      "/tmp/ipykernel_52376/1018044090.py:12: FutureWarning: The frame.append method is deprecated and will be removed from pandas in a future version. Use pandas.concat instead.\n",
      "  df_all_super_genre = df_all_super_genre.append(new_row, ignore_index=True)\n",
      "/tmp/ipykernel_52376/1018044090.py:12: FutureWarning: The frame.append method is deprecated and will be removed from pandas in a future version. Use pandas.concat instead.\n",
      "  df_all_super_genre = df_all_super_genre.append(new_row, ignore_index=True)\n",
      "33it [00:03,  9.63it/s]/tmp/ipykernel_52376/1018044090.py:12: FutureWarning: The frame.append method is deprecated and will be removed from pandas in a future version. Use pandas.concat instead.\n",
      "  df_all_super_genre = df_all_super_genre.append(new_row, ignore_index=True)\n",
      "/tmp/ipykernel_52376/1018044090.py:12: FutureWarning: The frame.append method is deprecated and will be removed from pandas in a future version. Use pandas.concat instead.\n",
      "  df_all_super_genre = df_all_super_genre.append(new_row, ignore_index=True)\n",
      "/tmp/ipykernel_52376/1018044090.py:12: FutureWarning: The frame.append method is deprecated and will be removed from pandas in a future version. Use pandas.concat instead.\n",
      "  df_all_super_genre = df_all_super_genre.append(new_row, ignore_index=True)\n",
      "/tmp/ipykernel_52376/1018044090.py:12: FutureWarning: The frame.append method is deprecated and will be removed from pandas in a future version. Use pandas.concat instead.\n",
      "  df_all_super_genre = df_all_super_genre.append(new_row, ignore_index=True)\n",
      "35it [00:04, 10.68it/s]/tmp/ipykernel_52376/1018044090.py:12: FutureWarning: The frame.append method is deprecated and will be removed from pandas in a future version. Use pandas.concat instead.\n",
      "  df_all_super_genre = df_all_super_genre.append(new_row, ignore_index=True)\n",
      "/tmp/ipykernel_52376/1018044090.py:12: FutureWarning: The frame.append method is deprecated and will be removed from pandas in a future version. Use pandas.concat instead.\n",
      "  df_all_super_genre = df_all_super_genre.append(new_row, ignore_index=True)\n",
      "/tmp/ipykernel_52376/1018044090.py:12: FutureWarning: The frame.append method is deprecated and will be removed from pandas in a future version. Use pandas.concat instead.\n",
      "  df_all_super_genre = df_all_super_genre.append(new_row, ignore_index=True)\n",
      "/tmp/ipykernel_52376/1018044090.py:12: FutureWarning: The frame.append method is deprecated and will be removed from pandas in a future version. Use pandas.concat instead.\n",
      "  df_all_super_genre = df_all_super_genre.append(new_row, ignore_index=True)\n",
      "37it [00:04, 11.01it/s]/tmp/ipykernel_52376/1018044090.py:12: FutureWarning: The frame.append method is deprecated and will be removed from pandas in a future version. Use pandas.concat instead.\n",
      "  df_all_super_genre = df_all_super_genre.append(new_row, ignore_index=True)\n",
      "/tmp/ipykernel_52376/1018044090.py:12: FutureWarning: The frame.append method is deprecated and will be removed from pandas in a future version. Use pandas.concat instead.\n",
      "  df_all_super_genre = df_all_super_genre.append(new_row, ignore_index=True)\n",
      "/tmp/ipykernel_52376/1018044090.py:12: FutureWarning: The frame.append method is deprecated and will be removed from pandas in a future version. Use pandas.concat instead.\n",
      "  df_all_super_genre = df_all_super_genre.append(new_row, ignore_index=True)\n",
      "/tmp/ipykernel_52376/1018044090.py:12: FutureWarning: The frame.append method is deprecated and will be removed from pandas in a future version. Use pandas.concat instead.\n",
      "  df_all_super_genre = df_all_super_genre.append(new_row, ignore_index=True)\n",
      "39it [00:04,  9.07it/s]/tmp/ipykernel_52376/1018044090.py:12: FutureWarning: The frame.append method is deprecated and will be removed from pandas in a future version. Use pandas.concat instead.\n",
      "  df_all_super_genre = df_all_super_genre.append(new_row, ignore_index=True)\n",
      "/tmp/ipykernel_52376/1018044090.py:12: FutureWarning: The frame.append method is deprecated and will be removed from pandas in a future version. Use pandas.concat instead.\n",
      "  df_all_super_genre = df_all_super_genre.append(new_row, ignore_index=True)\n",
      "/tmp/ipykernel_52376/1018044090.py:12: FutureWarning: The frame.append method is deprecated and will be removed from pandas in a future version. Use pandas.concat instead.\n",
      "  df_all_super_genre = df_all_super_genre.append(new_row, ignore_index=True)\n",
      "/tmp/ipykernel_52376/1018044090.py:12: FutureWarning: The frame.append method is deprecated and will be removed from pandas in a future version. Use pandas.concat instead.\n",
      "  df_all_super_genre = df_all_super_genre.append(new_row, ignore_index=True)\n",
      "41it [00:04,  9.49it/s]/tmp/ipykernel_52376/1018044090.py:12: FutureWarning: The frame.append method is deprecated and will be removed from pandas in a future version. Use pandas.concat instead.\n",
      "  df_all_super_genre = df_all_super_genre.append(new_row, ignore_index=True)\n",
      "/tmp/ipykernel_52376/1018044090.py:12: FutureWarning: The frame.append method is deprecated and will be removed from pandas in a future version. Use pandas.concat instead.\n",
      "  df_all_super_genre = df_all_super_genre.append(new_row, ignore_index=True)\n",
      "42it [00:04,  8.85it/s]/tmp/ipykernel_52376/1018044090.py:12: FutureWarning: The frame.append method is deprecated and will be removed from pandas in a future version. Use pandas.concat instead.\n",
      "  df_all_super_genre = df_all_super_genre.append(new_row, ignore_index=True)\n",
      "/tmp/ipykernel_52376/1018044090.py:12: FutureWarning: The frame.append method is deprecated and will be removed from pandas in a future version. Use pandas.concat instead.\n",
      "  df_all_super_genre = df_all_super_genre.append(new_row, ignore_index=True)\n",
      "43it [00:05,  8.55it/s]/tmp/ipykernel_52376/1018044090.py:12: FutureWarning: The frame.append method is deprecated and will be removed from pandas in a future version. Use pandas.concat instead.\n",
      "  df_all_super_genre = df_all_super_genre.append(new_row, ignore_index=True)\n",
      "/tmp/ipykernel_52376/1018044090.py:12: FutureWarning: The frame.append method is deprecated and will be removed from pandas in a future version. Use pandas.concat instead.\n",
      "  df_all_super_genre = df_all_super_genre.append(new_row, ignore_index=True)\n",
      "44it [00:05,  8.84it/s]/tmp/ipykernel_52376/1018044090.py:12: FutureWarning: The frame.append method is deprecated and will be removed from pandas in a future version. Use pandas.concat instead.\n",
      "  df_all_super_genre = df_all_super_genre.append(new_row, ignore_index=True)\n",
      "/tmp/ipykernel_52376/1018044090.py:12: FutureWarning: The frame.append method is deprecated and will be removed from pandas in a future version. Use pandas.concat instead.\n",
      "  df_all_super_genre = df_all_super_genre.append(new_row, ignore_index=True)\n",
      "/tmp/ipykernel_52376/1018044090.py:12: FutureWarning: The frame.append method is deprecated and will be removed from pandas in a future version. Use pandas.concat instead.\n",
      "  df_all_super_genre = df_all_super_genre.append(new_row, ignore_index=True)\n",
      "/tmp/ipykernel_52376/1018044090.py:12: FutureWarning: The frame.append method is deprecated and will be removed from pandas in a future version. Use pandas.concat instead.\n",
      "  df_all_super_genre = df_all_super_genre.append(new_row, ignore_index=True)\n",
      "46it [00:05,  9.81it/s]/tmp/ipykernel_52376/1018044090.py:12: FutureWarning: The frame.append method is deprecated and will be removed from pandas in a future version. Use pandas.concat instead.\n",
      "  df_all_super_genre = df_all_super_genre.append(new_row, ignore_index=True)\n",
      "/tmp/ipykernel_52376/1018044090.py:12: FutureWarning: The frame.append method is deprecated and will be removed from pandas in a future version. Use pandas.concat instead.\n",
      "  df_all_super_genre = df_all_super_genre.append(new_row, ignore_index=True)\n",
      "47it [00:05,  9.54it/s]/tmp/ipykernel_52376/1018044090.py:12: FutureWarning: The frame.append method is deprecated and will be removed from pandas in a future version. Use pandas.concat instead.\n",
      "  df_all_super_genre = df_all_super_genre.append(new_row, ignore_index=True)\n",
      "/tmp/ipykernel_52376/1018044090.py:12: FutureWarning: The frame.append method is deprecated and will be removed from pandas in a future version. Use pandas.concat instead.\n",
      "  df_all_super_genre = df_all_super_genre.append(new_row, ignore_index=True)\n",
      "48it [00:05,  9.55it/s]/tmp/ipykernel_52376/1018044090.py:12: FutureWarning: The frame.append method is deprecated and will be removed from pandas in a future version. Use pandas.concat instead.\n",
      "  df_all_super_genre = df_all_super_genre.append(new_row, ignore_index=True)\n",
      "/tmp/ipykernel_52376/1018044090.py:12: FutureWarning: The frame.append method is deprecated and will be removed from pandas in a future version. Use pandas.concat instead.\n",
      "  df_all_super_genre = df_all_super_genre.append(new_row, ignore_index=True)\n",
      "/tmp/ipykernel_52376/1018044090.py:12: FutureWarning: The frame.append method is deprecated and will be removed from pandas in a future version. Use pandas.concat instead.\n",
      "  df_all_super_genre = df_all_super_genre.append(new_row, ignore_index=True)\n",
      "/tmp/ipykernel_52376/1018044090.py:12: FutureWarning: The frame.append method is deprecated and will be removed from pandas in a future version. Use pandas.concat instead.\n",
      "  df_all_super_genre = df_all_super_genre.append(new_row, ignore_index=True)\n",
      "50it [00:05, 10.76it/s]/tmp/ipykernel_52376/1018044090.py:12: FutureWarning: The frame.append method is deprecated and will be removed from pandas in a future version. Use pandas.concat instead.\n",
      "  df_all_super_genre = df_all_super_genre.append(new_row, ignore_index=True)\n",
      "/tmp/ipykernel_52376/1018044090.py:12: FutureWarning: The frame.append method is deprecated and will be removed from pandas in a future version. Use pandas.concat instead.\n",
      "  df_all_super_genre = df_all_super_genre.append(new_row, ignore_index=True)\n",
      "/tmp/ipykernel_52376/1018044090.py:12: FutureWarning: The frame.append method is deprecated and will be removed from pandas in a future version. Use pandas.concat instead.\n",
      "  df_all_super_genre = df_all_super_genre.append(new_row, ignore_index=True)\n",
      "/tmp/ipykernel_52376/1018044090.py:12: FutureWarning: The frame.append method is deprecated and will be removed from pandas in a future version. Use pandas.concat instead.\n",
      "  df_all_super_genre = df_all_super_genre.append(new_row, ignore_index=True)\n",
      "52it [00:05, 11.31it/s]/tmp/ipykernel_52376/1018044090.py:12: FutureWarning: The frame.append method is deprecated and will be removed from pandas in a future version. Use pandas.concat instead.\n",
      "  df_all_super_genre = df_all_super_genre.append(new_row, ignore_index=True)\n",
      "/tmp/ipykernel_52376/1018044090.py:12: FutureWarning: The frame.append method is deprecated and will be removed from pandas in a future version. Use pandas.concat instead.\n",
      "  df_all_super_genre = df_all_super_genre.append(new_row, ignore_index=True)\n",
      "/tmp/ipykernel_52376/1018044090.py:12: FutureWarning: The frame.append method is deprecated and will be removed from pandas in a future version. Use pandas.concat instead.\n",
      "  df_all_super_genre = df_all_super_genre.append(new_row, ignore_index=True)\n",
      "/tmp/ipykernel_52376/1018044090.py:12: FutureWarning: The frame.append method is deprecated and will be removed from pandas in a future version. Use pandas.concat instead.\n",
      "  df_all_super_genre = df_all_super_genre.append(new_row, ignore_index=True)\n",
      "54it [00:06, 10.92it/s]/tmp/ipykernel_52376/1018044090.py:12: FutureWarning: The frame.append method is deprecated and will be removed from pandas in a future version. Use pandas.concat instead.\n",
      "  df_all_super_genre = df_all_super_genre.append(new_row, ignore_index=True)\n",
      "/tmp/ipykernel_52376/1018044090.py:12: FutureWarning: The frame.append method is deprecated and will be removed from pandas in a future version. Use pandas.concat instead.\n",
      "  df_all_super_genre = df_all_super_genre.append(new_row, ignore_index=True)\n",
      "/tmp/ipykernel_52376/1018044090.py:12: FutureWarning: The frame.append method is deprecated and will be removed from pandas in a future version. Use pandas.concat instead.\n",
      "  df_all_super_genre = df_all_super_genre.append(new_row, ignore_index=True)\n",
      "/tmp/ipykernel_52376/1018044090.py:12: FutureWarning: The frame.append method is deprecated and will be removed from pandas in a future version. Use pandas.concat instead.\n",
      "  df_all_super_genre = df_all_super_genre.append(new_row, ignore_index=True)\n",
      "56it [00:06, 10.64it/s]/tmp/ipykernel_52376/1018044090.py:12: FutureWarning: The frame.append method is deprecated and will be removed from pandas in a future version. Use pandas.concat instead.\n",
      "  df_all_super_genre = df_all_super_genre.append(new_row, ignore_index=True)\n",
      "/tmp/ipykernel_52376/1018044090.py:12: FutureWarning: The frame.append method is deprecated and will be removed from pandas in a future version. Use pandas.concat instead.\n",
      "  df_all_super_genre = df_all_super_genre.append(new_row, ignore_index=True)\n",
      "/tmp/ipykernel_52376/1018044090.py:12: FutureWarning: The frame.append method is deprecated and will be removed from pandas in a future version. Use pandas.concat instead.\n",
      "  df_all_super_genre = df_all_super_genre.append(new_row, ignore_index=True)\n",
      "/tmp/ipykernel_52376/1018044090.py:12: FutureWarning: The frame.append method is deprecated and will be removed from pandas in a future version. Use pandas.concat instead.\n",
      "  df_all_super_genre = df_all_super_genre.append(new_row, ignore_index=True)\n",
      "58it [00:06,  9.90it/s]/tmp/ipykernel_52376/1018044090.py:12: FutureWarning: The frame.append method is deprecated and will be removed from pandas in a future version. Use pandas.concat instead.\n",
      "  df_all_super_genre = df_all_super_genre.append(new_row, ignore_index=True)\n",
      "/tmp/ipykernel_52376/1018044090.py:12: FutureWarning: The frame.append method is deprecated and will be removed from pandas in a future version. Use pandas.concat instead.\n",
      "  df_all_super_genre = df_all_super_genre.append(new_row, ignore_index=True)\n",
      "/tmp/ipykernel_52376/1018044090.py:12: FutureWarning: The frame.append method is deprecated and will be removed from pandas in a future version. Use pandas.concat instead.\n",
      "  df_all_super_genre = df_all_super_genre.append(new_row, ignore_index=True)\n",
      "/tmp/ipykernel_52376/1018044090.py:12: FutureWarning: The frame.append method is deprecated and will be removed from pandas in a future version. Use pandas.concat instead.\n",
      "  df_all_super_genre = df_all_super_genre.append(new_row, ignore_index=True)\n",
      "60it [00:06, 10.16it/s]/tmp/ipykernel_52376/1018044090.py:12: FutureWarning: The frame.append method is deprecated and will be removed from pandas in a future version. Use pandas.concat instead.\n",
      "  df_all_super_genre = df_all_super_genre.append(new_row, ignore_index=True)\n",
      "/tmp/ipykernel_52376/1018044090.py:12: FutureWarning: The frame.append method is deprecated and will be removed from pandas in a future version. Use pandas.concat instead.\n",
      "  df_all_super_genre = df_all_super_genre.append(new_row, ignore_index=True)\n",
      "/tmp/ipykernel_52376/1018044090.py:12: FutureWarning: The frame.append method is deprecated and will be removed from pandas in a future version. Use pandas.concat instead.\n",
      "  df_all_super_genre = df_all_super_genre.append(new_row, ignore_index=True)\n",
      "/tmp/ipykernel_52376/1018044090.py:12: FutureWarning: The frame.append method is deprecated and will be removed from pandas in a future version. Use pandas.concat instead.\n",
      "  df_all_super_genre = df_all_super_genre.append(new_row, ignore_index=True)\n",
      "62it [00:06, 10.85it/s]/tmp/ipykernel_52376/1018044090.py:12: FutureWarning: The frame.append method is deprecated and will be removed from pandas in a future version. Use pandas.concat instead.\n",
      "  df_all_super_genre = df_all_super_genre.append(new_row, ignore_index=True)\n",
      "/tmp/ipykernel_52376/1018044090.py:12: FutureWarning: The frame.append method is deprecated and will be removed from pandas in a future version. Use pandas.concat instead.\n",
      "  df_all_super_genre = df_all_super_genre.append(new_row, ignore_index=True)\n",
      "/tmp/ipykernel_52376/1018044090.py:12: FutureWarning: The frame.append method is deprecated and will be removed from pandas in a future version. Use pandas.concat instead.\n",
      "  df_all_super_genre = df_all_super_genre.append(new_row, ignore_index=True)\n",
      "/tmp/ipykernel_52376/1018044090.py:12: FutureWarning: The frame.append method is deprecated and will be removed from pandas in a future version. Use pandas.concat instead.\n",
      "  df_all_super_genre = df_all_super_genre.append(new_row, ignore_index=True)\n",
      "64it [00:06, 11.88it/s]/tmp/ipykernel_52376/1018044090.py:12: FutureWarning: The frame.append method is deprecated and will be removed from pandas in a future version. Use pandas.concat instead.\n",
      "  df_all_super_genre = df_all_super_genre.append(new_row, ignore_index=True)\n",
      "/tmp/ipykernel_52376/1018044090.py:12: FutureWarning: The frame.append method is deprecated and will be removed from pandas in a future version. Use pandas.concat instead.\n",
      "  df_all_super_genre = df_all_super_genre.append(new_row, ignore_index=True)\n",
      "/tmp/ipykernel_52376/1018044090.py:12: FutureWarning: The frame.append method is deprecated and will be removed from pandas in a future version. Use pandas.concat instead.\n",
      "  df_all_super_genre = df_all_super_genre.append(new_row, ignore_index=True)\n",
      "/tmp/ipykernel_52376/1018044090.py:12: FutureWarning: The frame.append method is deprecated and will be removed from pandas in a future version. Use pandas.concat instead.\n",
      "  df_all_super_genre = df_all_super_genre.append(new_row, ignore_index=True)\n",
      "66it [00:07, 11.58it/s]/tmp/ipykernel_52376/1018044090.py:12: FutureWarning: The frame.append method is deprecated and will be removed from pandas in a future version. Use pandas.concat instead.\n",
      "  df_all_super_genre = df_all_super_genre.append(new_row, ignore_index=True)\n",
      "/tmp/ipykernel_52376/1018044090.py:12: FutureWarning: The frame.append method is deprecated and will be removed from pandas in a future version. Use pandas.concat instead.\n",
      "  df_all_super_genre = df_all_super_genre.append(new_row, ignore_index=True)\n",
      "/tmp/ipykernel_52376/1018044090.py:12: FutureWarning: The frame.append method is deprecated and will be removed from pandas in a future version. Use pandas.concat instead.\n",
      "  df_all_super_genre = df_all_super_genre.append(new_row, ignore_index=True)\n",
      "/tmp/ipykernel_52376/1018044090.py:12: FutureWarning: The frame.append method is deprecated and will be removed from pandas in a future version. Use pandas.concat instead.\n",
      "  df_all_super_genre = df_all_super_genre.append(new_row, ignore_index=True)\n",
      "68it [00:07, 10.48it/s]/tmp/ipykernel_52376/1018044090.py:12: FutureWarning: The frame.append method is deprecated and will be removed from pandas in a future version. Use pandas.concat instead.\n",
      "  df_all_super_genre = df_all_super_genre.append(new_row, ignore_index=True)\n",
      "/tmp/ipykernel_52376/1018044090.py:12: FutureWarning: The frame.append method is deprecated and will be removed from pandas in a future version. Use pandas.concat instead.\n",
      "  df_all_super_genre = df_all_super_genre.append(new_row, ignore_index=True)\n",
      "/tmp/ipykernel_52376/1018044090.py:12: FutureWarning: The frame.append method is deprecated and will be removed from pandas in a future version. Use pandas.concat instead.\n",
      "  df_all_super_genre = df_all_super_genre.append(new_row, ignore_index=True)\n",
      "/tmp/ipykernel_52376/1018044090.py:12: FutureWarning: The frame.append method is deprecated and will be removed from pandas in a future version. Use pandas.concat instead.\n",
      "  df_all_super_genre = df_all_super_genre.append(new_row, ignore_index=True)\n",
      "70it [00:07, 11.29it/s]/tmp/ipykernel_52376/1018044090.py:12: FutureWarning: The frame.append method is deprecated and will be removed from pandas in a future version. Use pandas.concat instead.\n",
      "  df_all_super_genre = df_all_super_genre.append(new_row, ignore_index=True)\n",
      "/tmp/ipykernel_52376/1018044090.py:12: FutureWarning: The frame.append method is deprecated and will be removed from pandas in a future version. Use pandas.concat instead.\n",
      "  df_all_super_genre = df_all_super_genre.append(new_row, ignore_index=True)\n",
      "/tmp/ipykernel_52376/1018044090.py:12: FutureWarning: The frame.append method is deprecated and will be removed from pandas in a future version. Use pandas.concat instead.\n",
      "  df_all_super_genre = df_all_super_genre.append(new_row, ignore_index=True)\n",
      "/tmp/ipykernel_52376/1018044090.py:12: FutureWarning: The frame.append method is deprecated and will be removed from pandas in a future version. Use pandas.concat instead.\n",
      "  df_all_super_genre = df_all_super_genre.append(new_row, ignore_index=True)\n",
      "72it [00:07, 11.77it/s]/tmp/ipykernel_52376/1018044090.py:12: FutureWarning: The frame.append method is deprecated and will be removed from pandas in a future version. Use pandas.concat instead.\n",
      "  df_all_super_genre = df_all_super_genre.append(new_row, ignore_index=True)\n",
      "/tmp/ipykernel_52376/1018044090.py:12: FutureWarning: The frame.append method is deprecated and will be removed from pandas in a future version. Use pandas.concat instead.\n",
      "  df_all_super_genre = df_all_super_genre.append(new_row, ignore_index=True)\n",
      "/tmp/ipykernel_52376/1018044090.py:12: FutureWarning: The frame.append method is deprecated and will be removed from pandas in a future version. Use pandas.concat instead.\n",
      "  df_all_super_genre = df_all_super_genre.append(new_row, ignore_index=True)\n",
      "/tmp/ipykernel_52376/1018044090.py:12: FutureWarning: The frame.append method is deprecated and will be removed from pandas in a future version. Use pandas.concat instead.\n",
      "  df_all_super_genre = df_all_super_genre.append(new_row, ignore_index=True)\n",
      "74it [00:07, 12.26it/s]/tmp/ipykernel_52376/1018044090.py:12: FutureWarning: The frame.append method is deprecated and will be removed from pandas in a future version. Use pandas.concat instead.\n",
      "  df_all_super_genre = df_all_super_genre.append(new_row, ignore_index=True)\n",
      "/tmp/ipykernel_52376/1018044090.py:12: FutureWarning: The frame.append method is deprecated and will be removed from pandas in a future version. Use pandas.concat instead.\n",
      "  df_all_super_genre = df_all_super_genre.append(new_row, ignore_index=True)\n",
      "/tmp/ipykernel_52376/1018044090.py:12: FutureWarning: The frame.append method is deprecated and will be removed from pandas in a future version. Use pandas.concat instead.\n",
      "  df_all_super_genre = df_all_super_genre.append(new_row, ignore_index=True)\n",
      "/tmp/ipykernel_52376/1018044090.py:12: FutureWarning: The frame.append method is deprecated and will be removed from pandas in a future version. Use pandas.concat instead.\n",
      "  df_all_super_genre = df_all_super_genre.append(new_row, ignore_index=True)\n",
      "76it [00:07, 12.19it/s]/tmp/ipykernel_52376/1018044090.py:12: FutureWarning: The frame.append method is deprecated and will be removed from pandas in a future version. Use pandas.concat instead.\n",
      "  df_all_super_genre = df_all_super_genre.append(new_row, ignore_index=True)\n",
      "/tmp/ipykernel_52376/1018044090.py:12: FutureWarning: The frame.append method is deprecated and will be removed from pandas in a future version. Use pandas.concat instead.\n",
      "  df_all_super_genre = df_all_super_genre.append(new_row, ignore_index=True)\n",
      "/tmp/ipykernel_52376/1018044090.py:12: FutureWarning: The frame.append method is deprecated and will be removed from pandas in a future version. Use pandas.concat instead.\n",
      "  df_all_super_genre = df_all_super_genre.append(new_row, ignore_index=True)\n",
      "/tmp/ipykernel_52376/1018044090.py:12: FutureWarning: The frame.append method is deprecated and will be removed from pandas in a future version. Use pandas.concat instead.\n",
      "  df_all_super_genre = df_all_super_genre.append(new_row, ignore_index=True)\n",
      "78it [00:08, 10.93it/s]/tmp/ipykernel_52376/1018044090.py:12: FutureWarning: The frame.append method is deprecated and will be removed from pandas in a future version. Use pandas.concat instead.\n",
      "  df_all_super_genre = df_all_super_genre.append(new_row, ignore_index=True)\n",
      "/tmp/ipykernel_52376/1018044090.py:12: FutureWarning: The frame.append method is deprecated and will be removed from pandas in a future version. Use pandas.concat instead.\n",
      "  df_all_super_genre = df_all_super_genre.append(new_row, ignore_index=True)\n",
      "/tmp/ipykernel_52376/1018044090.py:12: FutureWarning: The frame.append method is deprecated and will be removed from pandas in a future version. Use pandas.concat instead.\n",
      "  df_all_super_genre = df_all_super_genre.append(new_row, ignore_index=True)\n",
      "/tmp/ipykernel_52376/1018044090.py:12: FutureWarning: The frame.append method is deprecated and will be removed from pandas in a future version. Use pandas.concat instead.\n",
      "  df_all_super_genre = df_all_super_genre.append(new_row, ignore_index=True)\n",
      "80it [00:08, 11.17it/s]/tmp/ipykernel_52376/1018044090.py:12: FutureWarning: The frame.append method is deprecated and will be removed from pandas in a future version. Use pandas.concat instead.\n",
      "  df_all_super_genre = df_all_super_genre.append(new_row, ignore_index=True)\n",
      "/tmp/ipykernel_52376/1018044090.py:12: FutureWarning: The frame.append method is deprecated and will be removed from pandas in a future version. Use pandas.concat instead.\n",
      "  df_all_super_genre = df_all_super_genre.append(new_row, ignore_index=True)\n",
      "/tmp/ipykernel_52376/1018044090.py:12: FutureWarning: The frame.append method is deprecated and will be removed from pandas in a future version. Use pandas.concat instead.\n",
      "  df_all_super_genre = df_all_super_genre.append(new_row, ignore_index=True)\n",
      "/tmp/ipykernel_52376/1018044090.py:12: FutureWarning: The frame.append method is deprecated and will be removed from pandas in a future version. Use pandas.concat instead.\n",
      "  df_all_super_genre = df_all_super_genre.append(new_row, ignore_index=True)\n",
      "82it [00:08, 10.81it/s]/tmp/ipykernel_52376/1018044090.py:12: FutureWarning: The frame.append method is deprecated and will be removed from pandas in a future version. Use pandas.concat instead.\n",
      "  df_all_super_genre = df_all_super_genre.append(new_row, ignore_index=True)\n",
      "/tmp/ipykernel_52376/1018044090.py:12: FutureWarning: The frame.append method is deprecated and will be removed from pandas in a future version. Use pandas.concat instead.\n",
      "  df_all_super_genre = df_all_super_genre.append(new_row, ignore_index=True)\n",
      "/tmp/ipykernel_52376/1018044090.py:12: FutureWarning: The frame.append method is deprecated and will be removed from pandas in a future version. Use pandas.concat instead.\n",
      "  df_all_super_genre = df_all_super_genre.append(new_row, ignore_index=True)\n",
      "/tmp/ipykernel_52376/1018044090.py:12: FutureWarning: The frame.append method is deprecated and will be removed from pandas in a future version. Use pandas.concat instead.\n",
      "  df_all_super_genre = df_all_super_genre.append(new_row, ignore_index=True)\n",
      "84it [00:08, 10.92it/s]/tmp/ipykernel_52376/1018044090.py:12: FutureWarning: The frame.append method is deprecated and will be removed from pandas in a future version. Use pandas.concat instead.\n",
      "  df_all_super_genre = df_all_super_genre.append(new_row, ignore_index=True)\n",
      "/tmp/ipykernel_52376/1018044090.py:12: FutureWarning: The frame.append method is deprecated and will be removed from pandas in a future version. Use pandas.concat instead.\n",
      "  df_all_super_genre = df_all_super_genre.append(new_row, ignore_index=True)\n",
      "/tmp/ipykernel_52376/1018044090.py:12: FutureWarning: The frame.append method is deprecated and will be removed from pandas in a future version. Use pandas.concat instead.\n",
      "  df_all_super_genre = df_all_super_genre.append(new_row, ignore_index=True)\n",
      "/tmp/ipykernel_52376/1018044090.py:12: FutureWarning: The frame.append method is deprecated and will be removed from pandas in a future version. Use pandas.concat instead.\n",
      "  df_all_super_genre = df_all_super_genre.append(new_row, ignore_index=True)\n",
      "86it [00:08, 11.39it/s]/tmp/ipykernel_52376/1018044090.py:12: FutureWarning: The frame.append method is deprecated and will be removed from pandas in a future version. Use pandas.concat instead.\n",
      "  df_all_super_genre = df_all_super_genre.append(new_row, ignore_index=True)\n",
      "/tmp/ipykernel_52376/1018044090.py:12: FutureWarning: The frame.append method is deprecated and will be removed from pandas in a future version. Use pandas.concat instead.\n",
      "  df_all_super_genre = df_all_super_genre.append(new_row, ignore_index=True)\n",
      "87it [00:09,  9.66it/s]\n"
     ]
    }
   ],
   "source": [
    "df_all_super_genre = super_genre(df_all)\n",
    "df_all_super_genre = df_all_super_genre.dropna()\n",
    "\n",
    "multi_genre = df_all_super_genre.loc[df_all_super_genre['genre'].str.contains('\\|', case=False)]\n",
    "df_all_super_genre = df_all_super_genre[df_all_super_genre[\"genre\"].str.contains('\\|') == False]\n",
    "\n",
    "for i, r in tqdm.tqdm(multi_genre.iterrows()):\n",
    "    genre_list = r['genre'].split('|')\n",
    "    new_row = r.to_dict()\n",
    "    for g in genre_list:\n",
    "        new_row['genre'] = g\n",
    "        df_all_super_genre = df_all_super_genre.append(new_row, ignore_index=True)"
   ]
  },
  {
   "cell_type": "code",
   "execution_count": 7,
   "id": "fafd88d8",
   "metadata": {},
   "outputs": [
    {
     "data": {
      "text/plain": [
       "array(['pop', 'r&b and soul', 'blues', 'jazz', 'rock',\n",
       "       'contemporary folk', 'country', 'electronic', 'metal', 'hip hop'],\n",
       "      dtype=object)"
      ]
     },
     "execution_count": 7,
     "metadata": {},
     "output_type": "execute_result"
    }
   ],
   "source": [
    "df_all_super_genre.to_csv('all_super_genre.csv',index=False)\n",
    "df_all_super_genre['genre'].unique()"
   ]
  },
  {
   "cell_type": "code",
   "execution_count": 8,
   "id": "d5b50987",
   "metadata": {},
   "outputs": [],
   "source": [
    "# ubah data has_win_award dari float ke boolean\n",
    "df_1950 = df_1950.astype({\"has_win_award\":bool})\n",
    "df_1960 = df_1960.astype({\"has_win_award\":bool})\n",
    "df_1970 = df_1970.astype({\"has_win_award\":bool})\n",
    "df_1980 = df_1980.astype({\"has_win_award\":bool})\n",
    "df_1990 = df_1990.astype({\"has_win_award\":bool})\n",
    "df_2000 = df_2000.astype({\"has_win_award\":bool})\n",
    "df_2010 = df_2010.astype({\"has_win_award\":bool})\n",
    "df_top10 = df_top10.astype({\"has_win_award\":bool})"
   ]
  },
  {
   "cell_type": "code",
   "execution_count": 9,
   "id": "f6762d48",
   "metadata": {},
   "outputs": [
    {
     "name": "stdout",
     "output_type": "stream",
     "text": [
      "0\n"
     ]
    }
   ],
   "source": [
    "# cek duplikasi\n",
    "print(sum(df_all.duplicated()))"
   ]
  },
  {
   "cell_type": "code",
   "execution_count": 10,
   "id": "f10bf644",
   "metadata": {},
   "outputs": [],
   "source": [
    "# cek null di kolom yang mana\n",
    "def cek_apakah_ada_null(data_frame):\n",
    "    cek = data_frame.isnull()\n",
    "    columns = list(cek.columns)\n",
    "    c_null = []\n",
    "    for i in columns:\n",
    "        if sum(cek[i]) != 0:\n",
    "            c_null.append(i)\n",
    "    return c_null"
   ]
  },
  {
   "cell_type": "code",
   "execution_count": 11,
   "id": "9c607e5c",
   "metadata": {},
   "outputs": [
    {
     "name": "stdout",
     "output_type": "stream",
     "text": [
      "['genre']\n"
     ]
    }
   ],
   "source": [
    "print(cek_apakah_ada_null(df_all))"
   ]
  },
  {
   "cell_type": "code",
   "execution_count": 12,
   "id": "38b07d33",
   "metadata": {},
   "outputs": [
    {
     "data": {
      "text/plain": [
       "<AxesSubplot:>"
      ]
     },
     "execution_count": 12,
     "metadata": {},
     "output_type": "execute_result"
    },
    {
     "data": {
      "image/png": "[encoded data removed]",
      "text/plain": [
       "<Figure size 432x288 with 2 Axes>"
      ]
     },
     "metadata": {
      "needs_background": "light"
     },
     "output_type": "display_data"
    }
   ],
   "source": [
    "sns.heatmap(df_all.corr())"
   ]
  },
  {
   "cell_type": "markdown",
   "id": "1be2ceca",
   "metadata": {},
   "source": [
    "Hanya energy, dB, dan acoustic saja yang dapat mendeskripsikan sebuah lagu"
   ]
  },
  {
   "cell_type": "code",
   "execution_count": 13,
   "id": "c2a46c87",
   "metadata": {},
   "outputs": [],
   "source": [
    "attribute_spotify_high_corr = [\"nrgy\",\"dB\",\"acous\"]"
   ]
  },
  {
   "cell_type": "markdown",
   "id": "651c21f5",
   "metadata": {},
   "source": [
    "# Clustering"
   ]
  },
  {
   "cell_type": "markdown",
   "id": "9ac50a05",
   "metadata": {},
   "source": [
    "# scaler"
   ]
  },
  {
   "cell_type": "code",
   "execution_count": 14,
   "id": "30563be2",
   "metadata": {},
   "outputs": [],
   "source": [
    "# buat scaler\n",
    "def scaler_spotify(df, attribute_spotify):\n",
    "    sc = MinMaxScaler()\n",
    "    data_scaled = sc.fit_transform(df.loc[:,attribute_spotify])\n",
    "    return data_scaled\n",
    "\n",
    "def scaler_spotify_with_PCA(df, attribute_spotify):\n",
    "    sc = MinMaxScaler()\n",
    "    data_scaled = sc.fit_transform(df.loc[:,attribute_spotify])\n",
    "    pca = PCA(n_components=0.95)\n",
    "    pca.fit(data_scaled)\n",
    "    data_scaled = pca.transform(data_scaled)\n",
    "    return data_scaled"
   ]
  },
  {
   "cell_type": "code",
   "execution_count": 15,
   "id": "cc868702",
   "metadata": {},
   "outputs": [],
   "source": [
    "# menggunakan clustering kmeans\n",
    "# mencari nilai optimal dari k\n",
    "def optimal_kmeans(scaled_data):\n",
    "    sil = []\n",
    "    k = range(2,25)\n",
    "    for i in k:\n",
    "        cluster_data = KMeans(n_clusters=i)\\\n",
    "            .fit(scaled_data)\n",
    "        sil.append(silhouette_score(scaled_data\\\n",
    "            ,cluster_data.labels_,metric='euclidean'))\n",
    "    plt.plot(k,sil, \"bx-\")\n",
    "    plt.xlabel(\"K\")\n",
    "    plt.ylabel(\"sil\")\n",
    "    plt.show()\n",
    "    return sil.index(max(sil))+2"
   ]
  },
  {
   "cell_type": "code",
   "execution_count": 16,
   "id": "e6616c1c",
   "metadata": {},
   "outputs": [],
   "source": [
    "attribute_spotify = [\"bpm\",\"nrgy\",\"dnce\",\"dB\",\"live\",\"val\",\"dur\",\"acous\",\"spch\",\"popularity\",\"has_win_award\"]"
   ]
  },
  {
   "cell_type": "code",
   "execution_count": 17,
   "id": "f84b1ef9",
   "metadata": {},
   "outputs": [
    {
     "data": {
      "image/png": "[encoded data removed]",
      "text/plain": [
       "<Figure size 432x288 with 1 Axes>"
      ]
     },
     "metadata": {
      "needs_background": "light"
     },
     "output_type": "display_data"
    },
    {
     "name": "stdout",
     "output_type": "stream",
     "text": [
      "2\n"
     ]
    }
   ],
   "source": [
    "df_all_std = scaler_spotify(df_all, attribute_spotify_high_corr)\n",
    "k = optimal_kmeans(df_all_std)\n",
    "df_all_cd = KMeans(n_clusters=k).fit_predict(df_all_std)\n",
    "df_all_cluster = df_all.copy()\n",
    "df_all_cluster['cluster'] = df_all_cd\n",
    "print(k)"
   ]
  },
  {
   "cell_type": "code",
   "execution_count": 18,
   "id": "83707501",
   "metadata": {},
   "outputs": [
    {
     "data": {
      "text/plain": [
       "0.6203765854379533"
      ]
     },
     "execution_count": 18,
     "metadata": {},
     "output_type": "execute_result"
    }
   ],
   "source": [
    "from sklearn.metrics import silhouette_score\n",
    "silhouette_score(df_all.loc[:,attribute_spotify_high_corr], df_all_cd, metric='euclidean')"
   ]
  },
  {
   "cell_type": "markdown",
   "id": "35431a08",
   "metadata": {},
   "source": [
    "## Plot clustering"
   ]
  },
  {
   "cell_type": "code",
   "execution_count": 19,
   "id": "1d665488",
   "metadata": {},
   "outputs": [],
   "source": [
    "label_0 = df_all_cluster.loc[df_all_cluster['cluster'] == 0]\n",
    "label_1 = df_all_cluster.loc[df_all_cluster['cluster'] == 1]\n",
    "label_2 = df_all_cluster.loc[df_all_cluster['cluster'] == 2]"
   ]
  },
  {
   "cell_type": "code",
   "execution_count": 20,
   "id": "581d2109",
   "metadata": {},
   "outputs": [
    {
     "data": {
      "text/plain": [
       "<function matplotlib.pyplot.show(close=None, block=None)>"
      ]
     },
     "execution_count": 20,
     "metadata": {},
     "output_type": "execute_result"
    },
    {
     "data": {
      "image/png": "[encoded data removed]",
      "text/plain": [
       "<Figure size 432x288 with 1 Axes>"
      ]
     },
     "metadata": {
      "needs_background": "light"
     },
     "output_type": "display_data"
    }
   ],
   "source": [
    "plot3d = plt.axes(projection='3d')\n",
    "plot3d.set_xlabel('nrgy', fontweight ='bold')\n",
    "plot3d.set_ylabel('acous', fontweight ='bold')\n",
    "plot3d.set_zlabel('dB', fontweight ='bold')\n",
    "plot3d.scatter3D(label_0['nrgy'], label_0['acous'], label_0['dB'], color='red')\n",
    "plot3d.scatter3D(label_1['nrgy'], label_1['acous'], label_1['dB'], color='blue')\n",
    "plot3d.scatter3D(label_2['nrgy'], label_2['acous'], label_2['dB'], color='green')\n",
    "plt.show"
   ]
  },
  {
   "cell_type": "markdown",
   "id": "c74cf4a4",
   "metadata": {},
   "source": [
    "# Kajian isi data"
   ]
  },
  {
   "cell_type": "markdown",
   "id": "4a521b50",
   "metadata": {},
   "source": [
    "Artis yang populer"
   ]
  },
  {
   "cell_type": "code",
   "execution_count": 21,
   "id": "a7e392b1",
   "metadata": {},
   "outputs": [
    {
     "data": {
      "text/plain": [
       "0"
      ]
     },
     "execution_count": 21,
     "metadata": {},
     "output_type": "execute_result"
    }
   ],
   "source": [
    "sum(df_top10.duplicated())"
   ]
  },
  {
   "cell_type": "code",
   "execution_count": 22,
   "id": "db1df95e",
   "metadata": {},
   "outputs": [
    {
     "name": "stdout",
     "output_type": "stream",
     "text": [
      "Total Artist : 589\n"
     ]
    }
   ],
   "source": [
    "artist_total = pd.unique(df_all.loc[:,'artist'])\n",
    "print(\"Total Artist : %d\" % (len(artist_total)))"
   ]
  },
  {
   "cell_type": "code",
   "execution_count": 23,
   "id": "e81dc669",
   "metadata": {},
   "outputs": [
    {
     "name": "stdout",
     "output_type": "stream",
     "text": [
      "Total Genre : 137\n"
     ]
    }
   ],
   "source": [
    "genre_total = pd.unique(df_all.loc[:,'genre'])\n",
    "print(\"Total Genre : %d\" % (len(genre_total)))"
   ]
  },
  {
   "cell_type": "code",
   "execution_count": 24,
   "id": "082cdf0e",
   "metadata": {},
   "outputs": [
    {
     "data": {
      "text/plain": [
       "Rihanna              21\n",
       "Katy Perry           20\n",
       "Justin Bieber        18\n",
       "Maroon 5             16\n",
       "Bruno Mars           15\n",
       "                     ..\n",
       "Van Halen             1\n",
       "Eric Carmen           1\n",
       "Michael Sembello      1\n",
       "Bruce Springsteen     1\n",
       "R3HAB                 1\n",
       "Name: artist, Length: 589, dtype: int64"
      ]
     },
     "execution_count": 24,
     "metadata": {},
     "output_type": "execute_result"
    }
   ],
   "source": [
    "df_all['artist'].value_counts()"
   ]
  },
  {
   "cell_type": "markdown",
   "id": "78b163ea",
   "metadata": {},
   "source": [
    "Artis yang paling populer dapat dihitung dari jumlah nilai lagu yang populer"
   ]
  },
  {
   "cell_type": "code",
   "execution_count": 25,
   "id": "945bf001",
   "metadata": {},
   "outputs": [],
   "source": [
    "def dict_artist_popularity(df):\n",
    "    artist_popularity = dict()\n",
    "    for i in df.index:\n",
    "        artist = df['artist'][i]\n",
    "        popularity = df['popularity'][i]\n",
    "        artist_popularity[artist] = artist_popularity.setdefault(artist,0)\\\n",
    "            + popularity\n",
    "    return artist_popularity"
   ]
  },
  {
   "cell_type": "code",
   "execution_count": 26,
   "id": "5b48b9da",
   "metadata": {},
   "outputs": [
    {
     "data": {
      "text/plain": [
       "'Bruno Mars'"
      ]
     },
     "execution_count": 26,
     "metadata": {},
     "output_type": "execute_result"
    }
   ],
   "source": [
    "artis_populer = dict_artist_popularity(df_all.loc[df_all['year'] == 2010])\n",
    "max(artis_populer, key=artis_populer.get)"
   ]
  },
  {
   "cell_type": "markdown",
   "id": "7ad27eff",
   "metadata": {},
   "source": [
    "Mencari genre lagu yang populer dapat menggunakan hal yang sama saat mencari artis yang paling populer"
   ]
  },
  {
   "cell_type": "code",
   "execution_count": 27,
   "id": "f69d4ab8",
   "metadata": {},
   "outputs": [],
   "source": [
    "def dict_genre_popularity(df):\n",
    "    genre_popularity = dict()\n",
    "    for i in df.index:\n",
    "        genre = df['genre'][i]\n",
    "        popularity = df['popularity'][i]\n",
    "        genre_popularity[genre] = genre_popularity.setdefault(genre,0)\\\n",
    "            + popularity\n",
    "    return genre_popularity"
   ]
  },
  {
   "cell_type": "code",
   "execution_count": 28,
   "id": "06b6ee55",
   "metadata": {},
   "outputs": [
    {
     "data": {
      "text/plain": [
       "'dance pop'"
      ]
     },
     "execution_count": 28,
     "metadata": {},
     "output_type": "execute_result"
    }
   ],
   "source": [
    "genre_populer = dict_genre_popularity(df_top10[df_top10['year'] == 2010])\n",
    "max(genre_populer, key=genre_populer.get)"
   ]
  },
  {
   "cell_type": "markdown",
   "id": "d5a7dfff",
   "metadata": {},
   "source": [
    "Untuk melakukan list genre musik dari artis dapat dilakukan dengan melakukan list setiap artis"
   ]
  },
  {
   "cell_type": "code",
   "execution_count": 29,
   "id": "a9e93c04",
   "metadata": {},
   "outputs": [],
   "source": [
    "def dict_artist_genre(df):\n",
    "    artist_genre = dict()\n",
    "    for i in df.index:\n",
    "        artist = df['artist'][i]\n",
    "        genre = df['genre'][i]\n",
    "        if isNaN(genre):\n",
    "            artist_genre.setdefault(artist,set())\n",
    "            continue\n",
    "        artist_genre.setdefault(artist,set()).add(genre)\n",
    "    return artist_genre"
   ]
  },
  {
   "cell_type": "code",
   "execution_count": 30,
   "id": "2cfe4f32",
   "metadata": {},
   "outputs": [],
   "source": [
    "def dict_artist_music(df):\n",
    "    artist_music = dict()\n",
    "    for i in df.index:\n",
    "        artist = df['artist'][i]\n",
    "        music = df['title'][i]\n",
    "        if isNaN(music):\n",
    "            artist_music.setdefault(artist,set())\n",
    "            continue\n",
    "        artist_music.setdefault(artist,set()).add(music)\n",
    "    return artist_music"
   ]
  },
  {
   "cell_type": "code",
   "execution_count": 31,
   "id": "28fcee52",
   "metadata": {},
   "outputs": [],
   "source": [
    "def dict_genre_music(df):\n",
    "    genre_music = dict()\n",
    "    for i in df.index:\n",
    "        genre = df['genre'][i]\n",
    "        music = df['title'][i]\n",
    "        if isNaN(music):\n",
    "            genre_music.setdefault(genre,set())\n",
    "            continue\n",
    "        genre_music.setdefault(genre,set()).add(music)\n",
    "    return genre_music"
   ]
  },
  {
   "cell_type": "code",
   "execution_count": 32,
   "id": "090c9c48",
   "metadata": {},
   "outputs": [
    {
     "data": {
      "text/plain": [
       "2"
      ]
     },
     "execution_count": 32,
     "metadata": {},
     "output_type": "execute_result"
    }
   ],
   "source": [
    "artist_genre = dict_artist_genre(df_all)\n",
    "\n",
    "for i in artist_genre.keys():\n",
    "    artist_genre[i] = len(artist_genre[i])\n",
    "\n",
    "genre_max = max(artist_genre.values())\n",
    "genre_max"
   ]
  },
  {
   "cell_type": "code",
   "execution_count": 33,
   "id": "ca25580e",
   "metadata": {},
   "outputs": [
    {
     "data": {
      "text/html": [
       "<div>\n",
       "<style scoped>\n",
       "    .dataframe tbody tr th:only-of-type {\n",
       "        vertical-align: middle;\n",
       "    }\n",
       "\n",
       "    .dataframe tbody tr th {\n",
       "        vertical-align: top;\n",
       "    }\n",
       "\n",
       "    .dataframe thead th {\n",
       "        text-align: right;\n",
       "    }\n",
       "</style>\n",
       "<table border=\"1\" class=\"dataframe\">\n",
       "  <thead>\n",
       "    <tr style=\"text-align: right;\">\n",
       "      <th></th>\n",
       "      <th>title</th>\n",
       "      <th>artist</th>\n",
       "      <th>genre</th>\n",
       "      <th>year</th>\n",
       "      <th>bpm</th>\n",
       "      <th>nrgy</th>\n",
       "      <th>dnce</th>\n",
       "      <th>dB</th>\n",
       "      <th>live</th>\n",
       "      <th>val</th>\n",
       "      <th>dur</th>\n",
       "      <th>acous</th>\n",
       "      <th>spch</th>\n",
       "      <th>popularity</th>\n",
       "      <th>has_win_award</th>\n",
       "    </tr>\n",
       "  </thead>\n",
       "  <tbody>\n",
       "    <tr>\n",
       "      <th>494</th>\n",
       "      <td>I Knew You Were Trouble.</td>\n",
       "      <td>Taylor Swift</td>\n",
       "      <td>dance pop</td>\n",
       "      <td>2012</td>\n",
       "      <td>77</td>\n",
       "      <td>47</td>\n",
       "      <td>62</td>\n",
       "      <td>-7</td>\n",
       "      <td>3</td>\n",
       "      <td>68</td>\n",
       "      <td>220</td>\n",
       "      <td>0</td>\n",
       "      <td>4</td>\n",
       "      <td>75</td>\n",
       "      <td>False</td>\n",
       "    </tr>\n",
       "    <tr>\n",
       "      <th>508</th>\n",
       "      <td>We Are Never Ever Getting Back Together</td>\n",
       "      <td>Taylor Swift</td>\n",
       "      <td>dance pop</td>\n",
       "      <td>2012</td>\n",
       "      <td>86</td>\n",
       "      <td>68</td>\n",
       "      <td>63</td>\n",
       "      <td>-6</td>\n",
       "      <td>12</td>\n",
       "      <td>75</td>\n",
       "      <td>193</td>\n",
       "      <td>1</td>\n",
       "      <td>9</td>\n",
       "      <td>73</td>\n",
       "      <td>False</td>\n",
       "    </tr>\n",
       "    <tr>\n",
       "      <th>509</th>\n",
       "      <td>Love Story</td>\n",
       "      <td>Taylor Swift</td>\n",
       "      <td>dance pop</td>\n",
       "      <td>2008</td>\n",
       "      <td>119</td>\n",
       "      <td>74</td>\n",
       "      <td>62</td>\n",
       "      <td>-4</td>\n",
       "      <td>8</td>\n",
       "      <td>31</td>\n",
       "      <td>236</td>\n",
       "      <td>13</td>\n",
       "      <td>3</td>\n",
       "      <td>73</td>\n",
       "      <td>False</td>\n",
       "    </tr>\n",
       "    <tr>\n",
       "      <th>552</th>\n",
       "      <td>Teardrops On My Guitar - Radio Single Remix</td>\n",
       "      <td>Taylor Swift</td>\n",
       "      <td>dance pop</td>\n",
       "      <td>2006</td>\n",
       "      <td>100</td>\n",
       "      <td>42</td>\n",
       "      <td>62</td>\n",
       "      <td>-7</td>\n",
       "      <td>12</td>\n",
       "      <td>29</td>\n",
       "      <td>203</td>\n",
       "      <td>29</td>\n",
       "      <td>2</td>\n",
       "      <td>61</td>\n",
       "      <td>False</td>\n",
       "    </tr>\n",
       "    <tr>\n",
       "      <th>645</th>\n",
       "      <td>Wildest Dreams</td>\n",
       "      <td>Taylor Swift</td>\n",
       "      <td>dance pop</td>\n",
       "      <td>2014</td>\n",
       "      <td>140</td>\n",
       "      <td>66</td>\n",
       "      <td>55</td>\n",
       "      <td>-7</td>\n",
       "      <td>11</td>\n",
       "      <td>47</td>\n",
       "      <td>220</td>\n",
       "      <td>7</td>\n",
       "      <td>7</td>\n",
       "      <td>71</td>\n",
       "      <td>False</td>\n",
       "    </tr>\n",
       "    <tr>\n",
       "      <th>776</th>\n",
       "      <td>I Knew You Were Trouble.</td>\n",
       "      <td>Taylor Swift</td>\n",
       "      <td>pop</td>\n",
       "      <td>2012</td>\n",
       "      <td>77</td>\n",
       "      <td>47</td>\n",
       "      <td>62</td>\n",
       "      <td>-7</td>\n",
       "      <td>3</td>\n",
       "      <td>68</td>\n",
       "      <td>220</td>\n",
       "      <td>0</td>\n",
       "      <td>4</td>\n",
       "      <td>77</td>\n",
       "      <td>False</td>\n",
       "    </tr>\n",
       "    <tr>\n",
       "      <th>780</th>\n",
       "      <td>We Are Never Ever Getting Back Together</td>\n",
       "      <td>Taylor Swift</td>\n",
       "      <td>pop</td>\n",
       "      <td>2012</td>\n",
       "      <td>86</td>\n",
       "      <td>68</td>\n",
       "      <td>63</td>\n",
       "      <td>-6</td>\n",
       "      <td>12</td>\n",
       "      <td>75</td>\n",
       "      <td>193</td>\n",
       "      <td>1</td>\n",
       "      <td>9</td>\n",
       "      <td>75</td>\n",
       "      <td>False</td>\n",
       "    </tr>\n",
       "    <tr>\n",
       "      <th>819</th>\n",
       "      <td>We Are Never Ever Getting Back Together</td>\n",
       "      <td>Taylor Swift</td>\n",
       "      <td>pop</td>\n",
       "      <td>2013</td>\n",
       "      <td>86</td>\n",
       "      <td>68</td>\n",
       "      <td>63</td>\n",
       "      <td>-6</td>\n",
       "      <td>12</td>\n",
       "      <td>75</td>\n",
       "      <td>193</td>\n",
       "      <td>1</td>\n",
       "      <td>9</td>\n",
       "      <td>75</td>\n",
       "      <td>False</td>\n",
       "    </tr>\n",
       "    <tr>\n",
       "      <th>882</th>\n",
       "      <td>Shake It Off</td>\n",
       "      <td>Taylor Swift</td>\n",
       "      <td>pop</td>\n",
       "      <td>2014</td>\n",
       "      <td>160</td>\n",
       "      <td>80</td>\n",
       "      <td>65</td>\n",
       "      <td>-5</td>\n",
       "      <td>33</td>\n",
       "      <td>94</td>\n",
       "      <td>219</td>\n",
       "      <td>6</td>\n",
       "      <td>17</td>\n",
       "      <td>78</td>\n",
       "      <td>False</td>\n",
       "    </tr>\n",
       "    <tr>\n",
       "      <th>1074</th>\n",
       "      <td>Out Of The Woods</td>\n",
       "      <td>Taylor Swift</td>\n",
       "      <td>pop</td>\n",
       "      <td>2016</td>\n",
       "      <td>92</td>\n",
       "      <td>84</td>\n",
       "      <td>55</td>\n",
       "      <td>-7</td>\n",
       "      <td>34</td>\n",
       "      <td>34</td>\n",
       "      <td>236</td>\n",
       "      <td>0</td>\n",
       "      <td>4</td>\n",
       "      <td>66</td>\n",
       "      <td>False</td>\n",
       "    </tr>\n",
       "    <tr>\n",
       "      <th>1204</th>\n",
       "      <td>Look What You Made Me Do</td>\n",
       "      <td>Taylor Swift</td>\n",
       "      <td>pop</td>\n",
       "      <td>2018</td>\n",
       "      <td>128</td>\n",
       "      <td>71</td>\n",
       "      <td>77</td>\n",
       "      <td>-6</td>\n",
       "      <td>13</td>\n",
       "      <td>51</td>\n",
       "      <td>212</td>\n",
       "      <td>20</td>\n",
       "      <td>12</td>\n",
       "      <td>75</td>\n",
       "      <td>False</td>\n",
       "    </tr>\n",
       "    <tr>\n",
       "      <th>1216</th>\n",
       "      <td>End Game</td>\n",
       "      <td>Taylor Swift</td>\n",
       "      <td>pop</td>\n",
       "      <td>2018</td>\n",
       "      <td>159</td>\n",
       "      <td>59</td>\n",
       "      <td>65</td>\n",
       "      <td>-6</td>\n",
       "      <td>11</td>\n",
       "      <td>15</td>\n",
       "      <td>245</td>\n",
       "      <td>1</td>\n",
       "      <td>6</td>\n",
       "      <td>70</td>\n",
       "      <td>False</td>\n",
       "    </tr>\n",
       "    <tr>\n",
       "      <th>1236</th>\n",
       "      <td>...Ready For It? - BloodPop® Remix</td>\n",
       "      <td>Taylor Swift</td>\n",
       "      <td>pop</td>\n",
       "      <td>2018</td>\n",
       "      <td>160</td>\n",
       "      <td>84</td>\n",
       "      <td>58</td>\n",
       "      <td>-5</td>\n",
       "      <td>10</td>\n",
       "      <td>50</td>\n",
       "      <td>190</td>\n",
       "      <td>13</td>\n",
       "      <td>22</td>\n",
       "      <td>52</td>\n",
       "      <td>False</td>\n",
       "    </tr>\n",
       "  </tbody>\n",
       "</table>\n",
       "</div>"
      ],
      "text/plain": [
       "                                            title        artist      genre  \\\n",
       "494                      I Knew You Were Trouble.  Taylor Swift  dance pop   \n",
       "508       We Are Never Ever Getting Back Together  Taylor Swift  dance pop   \n",
       "509                                    Love Story  Taylor Swift  dance pop   \n",
       "552   Teardrops On My Guitar - Radio Single Remix  Taylor Swift  dance pop   \n",
       "645                                Wildest Dreams  Taylor Swift  dance pop   \n",
       "776                      I Knew You Were Trouble.  Taylor Swift        pop   \n",
       "780       We Are Never Ever Getting Back Together  Taylor Swift        pop   \n",
       "819       We Are Never Ever Getting Back Together  Taylor Swift        pop   \n",
       "882                                  Shake It Off  Taylor Swift        pop   \n",
       "1074                             Out Of The Woods  Taylor Swift        pop   \n",
       "1204                     Look What You Made Me Do  Taylor Swift        pop   \n",
       "1216                                     End Game  Taylor Swift        pop   \n",
       "1236           ...Ready For It? - BloodPop® Remix  Taylor Swift        pop   \n",
       "\n",
       "      year  bpm  nrgy  dnce  dB  live  val  dur  acous  spch  popularity  \\\n",
       "494   2012   77    47    62  -7     3   68  220      0     4          75   \n",
       "508   2012   86    68    63  -6    12   75  193      1     9          73   \n",
       "509   2008  119    74    62  -4     8   31  236     13     3          73   \n",
       "552   2006  100    42    62  -7    12   29  203     29     2          61   \n",
       "645   2014  140    66    55  -7    11   47  220      7     7          71   \n",
       "776   2012   77    47    62  -7     3   68  220      0     4          77   \n",
       "780   2012   86    68    63  -6    12   75  193      1     9          75   \n",
       "819   2013   86    68    63  -6    12   75  193      1     9          75   \n",
       "882   2014  160    80    65  -5    33   94  219      6    17          78   \n",
       "1074  2016   92    84    55  -7    34   34  236      0     4          66   \n",
       "1204  2018  128    71    77  -6    13   51  212     20    12          75   \n",
       "1216  2018  159    59    65  -6    11   15  245      1     6          70   \n",
       "1236  2018  160    84    58  -5    10   50  190     13    22          52   \n",
       "\n",
       "      has_win_award  \n",
       "494           False  \n",
       "508           False  \n",
       "509           False  \n",
       "552           False  \n",
       "645           False  \n",
       "776           False  \n",
       "780           False  \n",
       "819           False  \n",
       "882           False  \n",
       "1074          False  \n",
       "1204          False  \n",
       "1216          False  \n",
       "1236          False  "
      ]
     },
     "execution_count": 33,
     "metadata": {},
     "output_type": "execute_result"
    }
   ],
   "source": [
    "music = dict_artist_music(df_all)\n",
    "df_all.loc[df_all['artist'] == 'Taylor Swift']"
   ]
  },
  {
   "cell_type": "markdown",
   "id": "641ce641",
   "metadata": {},
   "source": [
    "Pengaruh durasi waktu dengan popularitas lagu"
   ]
  },
  {
   "cell_type": "code",
   "execution_count": 34,
   "id": "75046915",
   "metadata": {},
   "outputs": [],
   "source": [
    "attribute_spotify_durration_popularity = [\"dur\",\"popularity\"]"
   ]
  },
  {
   "cell_type": "code",
   "execution_count": 35,
   "id": "c753d6bc",
   "metadata": {},
   "outputs": [
    {
     "data": {
      "text/html": [
       "<div>\n",
       "<style scoped>\n",
       "    .dataframe tbody tr th:only-of-type {\n",
       "        vertical-align: middle;\n",
       "    }\n",
       "\n",
       "    .dataframe tbody tr th {\n",
       "        vertical-align: top;\n",
       "    }\n",
       "\n",
       "    .dataframe thead th {\n",
       "        text-align: right;\n",
       "    }\n",
       "</style>\n",
       "<table border=\"1\" class=\"dataframe\">\n",
       "  <thead>\n",
       "    <tr style=\"text-align: right;\">\n",
       "      <th></th>\n",
       "      <th>dur</th>\n",
       "      <th>popularity</th>\n",
       "    </tr>\n",
       "  </thead>\n",
       "  <tbody>\n",
       "    <tr>\n",
       "      <th>dur</th>\n",
       "      <td>1.00000</td>\n",
       "      <td>0.13945</td>\n",
       "    </tr>\n",
       "    <tr>\n",
       "      <th>popularity</th>\n",
       "      <td>0.13945</td>\n",
       "      <td>1.00000</td>\n",
       "    </tr>\n",
       "  </tbody>\n",
       "</table>\n",
       "</div>"
      ],
      "text/plain": [
       "                dur  popularity\n",
       "dur         1.00000     0.13945\n",
       "popularity  0.13945     1.00000"
      ]
     },
     "execution_count": 35,
     "metadata": {},
     "output_type": "execute_result"
    }
   ],
   "source": [
    "df_durr_popularity = df_all.loc[:,attribute_spotify_durration_popularity]\n",
    "df_durr_popularity.corr()"
   ]
  },
  {
   "cell_type": "markdown",
   "id": "373f77dc",
   "metadata": {},
   "source": [
    "# Klasifikasi Genre Lagu"
   ]
  },
  {
   "cell_type": "code",
   "execution_count": 36,
   "id": "49a22685",
   "metadata": {},
   "outputs": [
    {
     "data": {
      "text/html": [
       "<div>\n",
       "<style scoped>\n",
       "    .dataframe tbody tr th:only-of-type {\n",
       "        vertical-align: middle;\n",
       "    }\n",
       "\n",
       "    .dataframe tbody tr th {\n",
       "        vertical-align: top;\n",
       "    }\n",
       "\n",
       "    .dataframe thead th {\n",
       "        text-align: right;\n",
       "    }\n",
       "</style>\n",
       "<table border=\"1\" class=\"dataframe\">\n",
       "  <thead>\n",
       "    <tr style=\"text-align: right;\">\n",
       "      <th></th>\n",
       "      <th>title</th>\n",
       "      <th>artist</th>\n",
       "      <th>genre</th>\n",
       "      <th>year</th>\n",
       "      <th>bpm</th>\n",
       "      <th>nrgy</th>\n",
       "      <th>dnce</th>\n",
       "      <th>dB</th>\n",
       "      <th>live</th>\n",
       "      <th>val</th>\n",
       "      <th>dur</th>\n",
       "      <th>acous</th>\n",
       "      <th>spch</th>\n",
       "      <th>popularity</th>\n",
       "      <th>has_win_award</th>\n",
       "    </tr>\n",
       "  </thead>\n",
       "  <tbody>\n",
       "    <tr>\n",
       "      <th>0</th>\n",
       "      <td>Put Your Head On My Shoulder</td>\n",
       "      <td>Paul Anka</td>\n",
       "      <td>adult standards</td>\n",
       "      <td>2000</td>\n",
       "      <td>116</td>\n",
       "      <td>34</td>\n",
       "      <td>55</td>\n",
       "      <td>-9</td>\n",
       "      <td>10</td>\n",
       "      <td>47</td>\n",
       "      <td>155</td>\n",
       "      <td>75</td>\n",
       "      <td>3</td>\n",
       "      <td>72</td>\n",
       "      <td>False</td>\n",
       "    </tr>\n",
       "    <tr>\n",
       "      <th>1</th>\n",
       "      <td>Whatever Will Be Will Be (Que Sera Sera) (with...</td>\n",
       "      <td>Doris Day</td>\n",
       "      <td>adult standards</td>\n",
       "      <td>1948</td>\n",
       "      <td>177</td>\n",
       "      <td>34</td>\n",
       "      <td>42</td>\n",
       "      <td>-11</td>\n",
       "      <td>72</td>\n",
       "      <td>78</td>\n",
       "      <td>123</td>\n",
       "      <td>86</td>\n",
       "      <td>4</td>\n",
       "      <td>62</td>\n",
       "      <td>False</td>\n",
       "    </tr>\n",
       "    <tr>\n",
       "      <th>2</th>\n",
       "      <td>Everybody Loves Somebody</td>\n",
       "      <td>Dean Martin</td>\n",
       "      <td>adult standards</td>\n",
       "      <td>2013</td>\n",
       "      <td>81</td>\n",
       "      <td>49</td>\n",
       "      <td>26</td>\n",
       "      <td>-9</td>\n",
       "      <td>34</td>\n",
       "      <td>40</td>\n",
       "      <td>162</td>\n",
       "      <td>81</td>\n",
       "      <td>4</td>\n",
       "      <td>61</td>\n",
       "      <td>False</td>\n",
       "    </tr>\n",
       "    <tr>\n",
       "      <th>3</th>\n",
       "      <td>Take Good Care Of My Baby - 1990 Remastered</td>\n",
       "      <td>Bobby Vee</td>\n",
       "      <td>adult standards</td>\n",
       "      <td>2011</td>\n",
       "      <td>82</td>\n",
       "      <td>43</td>\n",
       "      <td>49</td>\n",
       "      <td>-12</td>\n",
       "      <td>12</td>\n",
       "      <td>66</td>\n",
       "      <td>151</td>\n",
       "      <td>70</td>\n",
       "      <td>6</td>\n",
       "      <td>60</td>\n",
       "      <td>False</td>\n",
       "    </tr>\n",
       "    <tr>\n",
       "      <th>4</th>\n",
       "      <td>A Teenager In Love</td>\n",
       "      <td>Dion &amp; The Belmonts</td>\n",
       "      <td>adult standards</td>\n",
       "      <td>1959</td>\n",
       "      <td>79</td>\n",
       "      <td>38</td>\n",
       "      <td>56</td>\n",
       "      <td>-9</td>\n",
       "      <td>13</td>\n",
       "      <td>62</td>\n",
       "      <td>158</td>\n",
       "      <td>67</td>\n",
       "      <td>3</td>\n",
       "      <td>60</td>\n",
       "      <td>False</td>\n",
       "    </tr>\n",
       "  </tbody>\n",
       "</table>\n",
       "</div>"
      ],
      "text/plain": [
       "                                               title               artist  \\\n",
       "0                       Put Your Head On My Shoulder            Paul Anka   \n",
       "1  Whatever Will Be Will Be (Que Sera Sera) (with...            Doris Day   \n",
       "2                           Everybody Loves Somebody          Dean Martin   \n",
       "3        Take Good Care Of My Baby - 1990 Remastered            Bobby Vee   \n",
       "4                                 A Teenager In Love  Dion & The Belmonts   \n",
       "\n",
       "             genre  year  bpm  nrgy  dnce  dB  live  val  dur  acous  spch  \\\n",
       "0  adult standards  2000  116    34    55  -9    10   47  155     75     3   \n",
       "1  adult standards  1948  177    34    42 -11    72   78  123     86     4   \n",
       "2  adult standards  2013   81    49    26  -9    34   40  162     81     4   \n",
       "3  adult standards  2011   82    43    49 -12    12   66  151     70     6   \n",
       "4  adult standards  1959   79    38    56  -9    13   62  158     67     3   \n",
       "\n",
       "   popularity  has_win_award  \n",
       "0          72          False  \n",
       "1          62          False  \n",
       "2          61          False  \n",
       "3          60          False  \n",
       "4          60          False  "
      ]
     },
     "execution_count": 36,
     "metadata": {},
     "output_type": "execute_result"
    }
   ],
   "source": [
    "df_all_clear.head()"
   ]
  },
  {
   "cell_type": "code",
   "execution_count": 52,
   "id": "349a4e18",
   "metadata": {},
   "outputs": [],
   "source": [
    "X = df_all_super_genre.loc[:,attribute_spotify_high_corr]\n",
    "y = df_all_super_genre['genre']\n",
    "sm = SMOTE()\n",
    "ad = ADASYN()\n",
    "random_over = RandomOverSampler(sampling_strategy='minority')\n",
    "X, y = ad.fit_resample(X, y)\n",
    "X_train, X_test, y_train, y_test = train_test_split(X, y, test_size=0.20)\n",
    "\n",
    "X_train = scaler_spotify(X_train, attribute_spotify_high_corr)\n",
    "X_test = scaler_spotify(X_test, attribute_spotify_high_corr)"
   ]
  },
  {
   "cell_type": "code",
   "execution_count": 54,
   "id": "004e83e9",
   "metadata": {},
   "outputs": [
    {
     "name": "stdout",
     "output_type": "stream",
     "text": [
      "[[ 1  0  0  4  0  0  0  3  3  1]\n",
      " [ 1  0  0  0  0  0  0  1  1  0]\n",
      " [ 0  0  0  0  0  0  0  0  0  1]\n",
      " [ 0  2  1 14  0  0  0  2  3  3]\n",
      " [ 1  1  0  3  1  0  0  1  0  2]\n",
      " [ 0  0  0  0  0  0  0  0  0  0]\n",
      " [ 0  0  0  1  0  0  0  0  1  0]\n",
      " [11  4  4 61  1  4  0 30 14 39]\n",
      " [ 0  0  0  4  0  0  0  6  1  3]\n",
      " [ 5  0  0 13  0  0  0  5  1 10]]\n",
      "                   precision    recall  f1-score   support\n",
      "\n",
      "            blues       0.05      0.08      0.06        12\n",
      "contemporary folk       0.00      0.00      0.00         3\n",
      "          country       0.00      0.00      0.00         1\n",
      "       electronic       0.14      0.56      0.22        25\n",
      "          hip hop       0.50      0.11      0.18         9\n",
      "             jazz       0.00      0.00      0.00         0\n",
      "            metal       0.00      0.00      0.00         2\n",
      "              pop       0.62      0.18      0.28       168\n",
      "     r&b and soul       0.04      0.07      0.05        14\n",
      "             rock       0.17      0.29      0.22        34\n",
      "\n",
      "         accuracy                           0.21       268\n",
      "        macro avg       0.15      0.13      0.10       268\n",
      "     weighted avg       0.45      0.21      0.23       268\n",
      "\n"
     ]
    },
    {
     "name": "stderr",
     "output_type": "stream",
     "text": [
      "/home/sebelum_masehi/Documents/Ilmu Komputer UI/Data Science and Analytics/tugas_akhir/tugas_akhir_spotify/env/lib/python3.10/site-packages/sklearn/metrics/_classification.py:1327: UndefinedMetricWarning: Precision and F-score are ill-defined and being set to 0.0 in labels with no predicted samples. Use `zero_division` parameter to control this behavior.\n",
      "  _warn_prf(average, modifier, msg_start, len(result))\n",
      "/home/sebelum_masehi/Documents/Ilmu Komputer UI/Data Science and Analytics/tugas_akhir/tugas_akhir_spotify/env/lib/python3.10/site-packages/sklearn/metrics/_classification.py:1327: UndefinedMetricWarning: Recall and F-score are ill-defined and being set to 0.0 in labels with no true samples. Use `zero_division` parameter to control this behavior.\n",
      "  _warn_prf(average, modifier, msg_start, len(result))\n",
      "/home/sebelum_masehi/Documents/Ilmu Komputer UI/Data Science and Analytics/tugas_akhir/tugas_akhir_spotify/env/lib/python3.10/site-packages/sklearn/metrics/_classification.py:1327: UndefinedMetricWarning: Precision and F-score are ill-defined and being set to 0.0 in labels with no predicted samples. Use `zero_division` parameter to control this behavior.\n",
      "  _warn_prf(average, modifier, msg_start, len(result))\n",
      "/home/sebelum_masehi/Documents/Ilmu Komputer UI/Data Science and Analytics/tugas_akhir/tugas_akhir_spotify/env/lib/python3.10/site-packages/sklearn/metrics/_classification.py:1327: UndefinedMetricWarning: Recall and F-score are ill-defined and being set to 0.0 in labels with no true samples. Use `zero_division` parameter to control this behavior.\n",
      "  _warn_prf(average, modifier, msg_start, len(result))\n",
      "/home/sebelum_masehi/Documents/Ilmu Komputer UI/Data Science and Analytics/tugas_akhir/tugas_akhir_spotify/env/lib/python3.10/site-packages/sklearn/metrics/_classification.py:1327: UndefinedMetricWarning: Precision and F-score are ill-defined and being set to 0.0 in labels with no predicted samples. Use `zero_division` parameter to control this behavior.\n",
      "  _warn_prf(average, modifier, msg_start, len(result))\n",
      "/home/sebelum_masehi/Documents/Ilmu Komputer UI/Data Science and Analytics/tugas_akhir/tugas_akhir_spotify/env/lib/python3.10/site-packages/sklearn/metrics/_classification.py:1327: UndefinedMetricWarning: Recall and F-score are ill-defined and being set to 0.0 in labels with no true samples. Use `zero_division` parameter to control this behavior.\n",
      "  _warn_prf(average, modifier, msg_start, len(result))\n"
     ]
    }
   ],
   "source": [
    "dt = DecisionTreeClassifier()\n",
    "dt.fit(X_train, y_train)\n",
    "\n",
    "y_pred = dt.predict(X_test)\n",
    "\n",
    "print(confusion_matrix(y_test, y_pred))\n",
    "print(classification_report(y_test, y_pred))"
   ]
  },
  {
   "cell_type": "code",
   "execution_count": 53,
   "id": "54d359ea",
   "metadata": {},
   "outputs": [
    {
     "name": "stdout",
     "output_type": "stream",
     "text": [
      "[[ 1  0  1  3  0  0  0  5  0  2]\n",
      " [ 0  0  0  1  0  0  0  1  0  1]\n",
      " [ 0  0  1  0  0  0  0  0  0  0]\n",
      " [ 0  0  3 10  0  1  0  5  1  5]\n",
      " [ 0  1  2  2  1  0  0  1  1  1]\n",
      " [ 0  0  0  0  0  0  0  0  0  0]\n",
      " [ 0  0  0  2  0  0  0  0  0  0]\n",
      " [ 6  3 13 44  1  3  0 45  1 52]\n",
      " [ 2  0  1  2  0  0  0  4  0  5]\n",
      " [ 2  0  4  8  0  0  0  4  0 16]]\n",
      "                   precision    recall  f1-score   support\n",
      "\n",
      "            blues       0.09      0.08      0.09        12\n",
      "contemporary folk       0.00      0.00      0.00         3\n",
      "          country       0.04      1.00      0.08         1\n",
      "       electronic       0.14      0.40      0.21        25\n",
      "          hip hop       0.50      0.11      0.18         9\n",
      "             jazz       0.00      0.00      0.00         0\n",
      "            metal       0.00      0.00      0.00         2\n",
      "              pop       0.69      0.27      0.39       168\n",
      "     r&b and soul       0.00      0.00      0.00        14\n",
      "             rock       0.20      0.47      0.28        34\n",
      "\n",
      "         accuracy                           0.28       268\n",
      "        macro avg       0.17      0.23      0.12       268\n",
      "     weighted avg       0.49      0.28      0.31       268\n",
      "\n"
     ]
    },
    {
     "name": "stderr",
     "output_type": "stream",
     "text": [
      "/home/sebelum_masehi/Documents/Ilmu Komputer UI/Data Science and Analytics/tugas_akhir/tugas_akhir_spotify/env/lib/python3.10/site-packages/sklearn/metrics/_classification.py:1327: UndefinedMetricWarning: Precision and F-score are ill-defined and being set to 0.0 in labels with no predicted samples. Use `zero_division` parameter to control this behavior.\n",
      "  _warn_prf(average, modifier, msg_start, len(result))\n",
      "/home/sebelum_masehi/Documents/Ilmu Komputer UI/Data Science and Analytics/tugas_akhir/tugas_akhir_spotify/env/lib/python3.10/site-packages/sklearn/metrics/_classification.py:1327: UndefinedMetricWarning: Recall and F-score are ill-defined and being set to 0.0 in labels with no true samples. Use `zero_division` parameter to control this behavior.\n",
      "  _warn_prf(average, modifier, msg_start, len(result))\n",
      "/home/sebelum_masehi/Documents/Ilmu Komputer UI/Data Science and Analytics/tugas_akhir/tugas_akhir_spotify/env/lib/python3.10/site-packages/sklearn/metrics/_classification.py:1327: UndefinedMetricWarning: Precision and F-score are ill-defined and being set to 0.0 in labels with no predicted samples. Use `zero_division` parameter to control this behavior.\n",
      "  _warn_prf(average, modifier, msg_start, len(result))\n",
      "/home/sebelum_masehi/Documents/Ilmu Komputer UI/Data Science and Analytics/tugas_akhir/tugas_akhir_spotify/env/lib/python3.10/site-packages/sklearn/metrics/_classification.py:1327: UndefinedMetricWarning: Recall and F-score are ill-defined and being set to 0.0 in labels with no true samples. Use `zero_division` parameter to control this behavior.\n",
      "  _warn_prf(average, modifier, msg_start, len(result))\n",
      "/home/sebelum_masehi/Documents/Ilmu Komputer UI/Data Science and Analytics/tugas_akhir/tugas_akhir_spotify/env/lib/python3.10/site-packages/sklearn/metrics/_classification.py:1327: UndefinedMetricWarning: Precision and F-score are ill-defined and being set to 0.0 in labels with no predicted samples. Use `zero_division` parameter to control this behavior.\n",
      "  _warn_prf(average, modifier, msg_start, len(result))\n",
      "/home/sebelum_masehi/Documents/Ilmu Komputer UI/Data Science and Analytics/tugas_akhir/tugas_akhir_spotify/env/lib/python3.10/site-packages/sklearn/metrics/_classification.py:1327: UndefinedMetricWarning: Recall and F-score are ill-defined and being set to 0.0 in labels with no true samples. Use `zero_division` parameter to control this behavior.\n",
      "  _warn_prf(average, modifier, msg_start, len(result))\n"
     ]
    }
   ],
   "source": [
    "knn_genre = KNeighborsClassifier(n_neighbors=3)\n",
    "knn_genre.fit(X_train, y_train)\n",
    "\n",
    "y_pred = knn_genre.predict(X_test)\n",
    "\n",
    "print(confusion_matrix(y_test, y_pred))\n",
    "print(classification_report(y_test, y_pred))"
   ]
  },
  {
   "cell_type": "markdown",
   "id": "f0229406",
   "metadata": {},
   "source": [
    "# Prediksi popularitas"
   ]
  },
  {
   "cell_type": "markdown",
   "id": "d5840d89",
   "metadata": {},
   "source": [
    "Jika dilihat dari nilai korelasi yang dimiliki, maka fitur dnce, dB, dan acous miliki nilai yang tinggi"
   ]
  },
  {
   "cell_type": "code",
   "execution_count": null,
   "id": "1a74411b",
   "metadata": {},
   "outputs": [],
   "source": [
    "attribute_spotify_popularity = ['dnce','dB','acous']\n",
    "X = np.array(df_all.loc[:,attribute_spotify_popularity])\n",
    "y = np.array(df_all.loc[:,'popularity'])\n",
    "\n",
    "lr_popularity = LinearRegression().fit(X,y)"
   ]
  },
  {
   "cell_type": "code",
   "execution_count": null,
   "id": "9be8e520",
   "metadata": {},
   "outputs": [],
   "source": [
    "lr_popularity.score(X,y)"
   ]
  },
  {
   "cell_type": "code",
   "execution_count": null,
   "id": "4bdc739b",
   "metadata": {},
   "outputs": [],
   "source": [
    "lr_popularity.coef_"
   ]
  },
  {
   "cell_type": "code",
   "execution_count": null,
   "id": "ef6abbbf",
   "metadata": {},
   "outputs": [],
   "source": [
    "lr_popularity.intercept_"
   ]
  }
 ],
 "metadata": {
  "interpreter": {
   "hash": "0ea1a0a1fad637c718fa0bb3cab8be98724de0be60da5412705bddc55923f09f"
  },
  "kernelspec": {
   "display_name": "Python 3.10.4 ('env': venv)",
   "language": "python",
   "name": "python3"
  },
  "language_info": {
   "codemirror_mode": {
    "name": "ipython",
    "version": 3
   },
   "file_extension": ".py",
   "mimetype": "text/x-python",
   "name": "python",
   "nbconvert_exporter": "python",
   "pygments_lexer": "ipython3",
   "version": "3.10.5"
  }
 },
 "nbformat": 4,
 "nbformat_minor": 5
}
