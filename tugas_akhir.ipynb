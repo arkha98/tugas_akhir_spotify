{
 "cells": [
  {
   "cell_type": "code",
   "execution_count": 1,
   "id": "10249130",
   "metadata": {},
   "outputs": [],
   "source": [
    "import pandas as pd\n",
    "import numpy as np\n",
    "import matplotlib.pyplot as plt\n",
    "import matplotlib.image as img\n",
    "from sklearn.preprocessing import StandardScaler\n",
    "from sklearn.cluster import KMeans"
   ]
  },
  {
   "cell_type": "markdown",
   "id": "ddc357a1",
   "metadata": {},
   "source": [
    "<h2>Penjelasan Atribut</h2>\n",
    "\n",
    "<table>\n",
    "  <tr>\n",
    "    <th>Num</th>\n",
    "    <th>Attribute Name</th>\n",
    "    <th>Description</th>\n",
    "  </tr>\n",
    "  <tr>\n",
    "    <td>1</td>\n",
    "    <td>title</td>\n",
    "    <td>Title</td>\n",
    "  </tr>\n",
    "  <tr>\n",
    "    <td>2</td>\n",
    "    <td>artist</td>\n",
    "    <td>Artist</td>\n",
    "  </tr>\n",
    "  <tr>\n",
    "    <td>3</td>\n",
    "    <td>genre</td>\n",
    "    <td>Genre of the song</td>\n",
    "  </tr>\n",
    "  <tr>\n",
    "    <td>4</td>\n",
    "    <td>year</td>\n",
    "    <td>Year of the song (due to re-releases, the year might not correspond to the release year of the original song)</td>\n",
    "  </tr>\n",
    "  <tr>\n",
    "    <td>5</td>\n",
    "    <td>bpm</td>\n",
    "    <td>Beats per minute</td>\n",
    "  </tr>\n",
    "  <tr>\n",
    "    <td>6</td>\n",
    "    <td>nrgy</td>\n",
    "    <td>Energy of a song, the higher the value the more energetic the song is</td>\n",
    "  </tr>\n",
    "  <tr>\n",
    "    <td>7</td>\n",
    "    <td>dnce</td>\n",
    "    <td>The higher the value, the easier it is to dance to this song.</td>\n",
    "  </tr>\n",
    "  <tr>\n",
    "    <td>8</td>\n",
    "    <td>dB</td>\n",
    "    <td>The higher the value, the louder the song</td>\n",
    "  </tr>\n",
    "  <tr>\n",
    "    <td>9</td>\n",
    "    <td>live</td>\n",
    "    <td>The higher the value, the more likely the song is a live recording.</td>\n",
    "  </tr>\n",
    "  <tr>\n",
    "    <td>10</td>\n",
    "    <td>val</td>\n",
    "    <td>The higher the value, the more positive the mood for the song.</td></tr>\n",
    "  <tr>\n",
    "    <td>11</td>\n",
    "    <td>dur</td>\n",
    "    <td>The duration of the song</td>\n",
    "  </tr>\n",
    "  <tr>\n",
    "    <td>12</td>\n",
    "    <td>acous</td>\n",
    "    <td>The higher the value the more acoustic the song is.</td>\n",
    "  </tr>\n",
    "  <tr>\n",
    "    <td>13</td>\n",
    "    <td>spch</td>\n",
    "    <td>The higher the value the more spoken words the song contains.</td>\n",
    "  </tr>\n",
    "  <tr>\n",
    "    <td>14</td>\n",
    "    <td>popularity</td>\n",
    "    <td>The higher the value the more popular the song is.</td>\n",
    "  </tr>\n",
    "  <tr>\n",
    "    <td>15</td>\n",
    "    <td>has_win_award</td>\n",
    "    <td>Boolean value to indicate if the song has won an award or not. Value of 1 if the song has already won one or more awards otherwise 0 if the song hasn’t won any awards.</td>\n",
    "  </tr>\n",
    "</table>"
   ]
  },
  {
   "cell_type": "markdown",
   "id": "85ebfd68",
   "metadata": {},
   "source": [
    "load semua csv"
   ]
  },
  {
   "cell_type": "code",
   "execution_count": 2,
   "id": "07afebf8",
   "metadata": {},
   "outputs": [
    {
     "name": "stdout",
     "output_type": "stream",
     "text": [
      "<class 'pandas.core.frame.DataFrame'>\n",
      "RangeIndex: 602 entries, 0 to 601\n",
      "Data columns (total 15 columns):\n",
      " #   Column         Non-Null Count  Dtype  \n",
      "---  ------         --------------  -----  \n",
      " 0   title          602 non-null    object \n",
      " 1   artist         602 non-null    object \n",
      " 2   genre          602 non-null    object \n",
      " 3   year           602 non-null    int64  \n",
      " 4   bpm            602 non-null    int64  \n",
      " 5   nrgy           602 non-null    int64  \n",
      " 6   dnce           602 non-null    int64  \n",
      " 7   dB             602 non-null    int64  \n",
      " 8   live           602 non-null    int64  \n",
      " 9   val            602 non-null    int64  \n",
      " 10  dur            602 non-null    int64  \n",
      " 11  acous          602 non-null    int64  \n",
      " 12  spch           602 non-null    int64  \n",
      " 13  popularity     602 non-null    int64  \n",
      " 14  has_win_award  602 non-null    float64\n",
      "dtypes: float64(1), int64(11), object(3)\n",
      "memory usage: 70.7+ KB\n"
     ]
    }
   ],
   "source": [
    "df_1950 = pd.read_csv(\"1950.csv\")\n",
    "df_1960 = pd.read_csv(\"1960.csv\")\n",
    "df_1970 = pd.read_csv(\"1970.csv\")\n",
    "df_1980 = pd.read_csv(\"1980.csv\")\n",
    "df_1990 = pd.read_csv(\"1990.csv\")\n",
    "df_2000 = pd.read_csv(\"2000.csv\")\n",
    "df_2010 = pd.read_csv(\"2010.csv\")\n",
    "df_top10 = pd.read_csv(\"top10s.csv\")\n",
    "df_top10.info()"
   ]
  },
  {
   "cell_type": "markdown",
   "id": "48c22057",
   "metadata": {},
   "source": [
    "Preprocessing"
   ]
  },
  {
   "cell_type": "code",
   "execution_count": 3,
   "id": "d5b50987",
   "metadata": {},
   "outputs": [],
   "source": [
    "# ubah data has_win_award dari float ke boolean\n",
    "df_1950 = df_1950.astype({\"has_win_award\":bool})\n",
    "df_1960 = df_1960.astype({\"has_win_award\":bool})\n",
    "df_1970 = df_1970.astype({\"has_win_award\":bool})\n",
    "df_1980 = df_1980.astype({\"has_win_award\":bool})\n",
    "df_1990 = df_1990.astype({\"has_win_award\":bool})\n",
    "df_2000 = df_2000.astype({\"has_win_award\":bool})\n",
    "df_2010 = df_2010.astype({\"has_win_award\":bool})\n",
    "df_top10 = df_top10.astype({\"has_win_award\":bool})"
   ]
  },
  {
   "cell_type": "code",
   "execution_count": 4,
   "id": "e81dc669",
   "metadata": {},
   "outputs": [],
   "source": [
    "genre_total = pd.unique(df_1950.loc[:,'genre'])\n",
    "genre_total = pd.unique(np.append(genre_total, pd.unique(df_1960.loc[:,'genre'])))\n",
    "genre_total = pd.unique(np.append(genre_total, pd.unique(df_1970.loc[:,'genre'])))\n",
    "genre_total = pd.unique(np.append(genre_total, pd.unique(df_1980.loc[:,'genre'])))\n",
    "genre_total = pd.unique(np.append(genre_total, pd.unique(df_1990.loc[:,'genre'])))\n",
    "genre_total = pd.unique(np.append(genre_total, pd.unique(df_2000.loc[:,'genre'])))\n",
    "genre_total = pd.unique(np.append(genre_total, pd.unique(df_2010.loc[:,'genre'])))"
   ]
  },
  {
   "cell_type": "code",
   "execution_count": 5,
   "id": "cfb3b630",
   "metadata": {},
   "outputs": [
    {
     "data": {
      "text/plain": [
       "<generator object DataFrame.items at 0x7f1956a9f510>"
      ]
     },
     "execution_count": 5,
     "metadata": {},
     "output_type": "execute_result"
    }
   ],
   "source": [
    "df_1950.items()"
   ]
  },
  {
   "cell_type": "code",
   "execution_count": 6,
   "id": "1c9225f9",
   "metadata": {},
   "outputs": [
    {
     "data": {
      "image/png": "[encoded data removed]",
      "text/plain": [
       "<Figure size 432x288 with 1 Axes>"
      ]
     },
     "metadata": {
      "needs_background": "light"
     },
     "output_type": "display_data"
    }
   ],
   "source": [
    "data = {'a': np.arange(50),\n",
    "        'c': np.random.randint(0, 50, 50),\n",
    "        'd': np.random.randn(50)}\n",
    "data['b'] = data['a'] + 10 * np.random.randn(50)\n",
    "data['d'] = np.abs(data['d']) * 100\n",
    "\n",
    "plt.scatter('a', 'b', c='c', s='d', data=data)\n",
    "plt.xlabel('entry a')\n",
    "plt.ylabel('entry b')\n",
    "plt.show()"
   ]
  },
  {
   "cell_type": "markdown",
   "id": "651c21f5",
   "metadata": {},
   "source": [
    "Clustering"
   ]
  },
  {
   "cell_type": "code",
   "execution_count": 7,
   "id": "30563be2",
   "metadata": {},
   "outputs": [],
   "source": [
    "# make scaler first\n",
    "attribute_spotify_tmp = [\"bpm\",\"nrgy\",\"dnce\",\"dB\",\"live\",\"val\",\"dur\",\"acous\",\"spch\",\"popularity\",\"has_win_award\"]\n",
    "attribute_spotify = [\"bpm\",\"nrgy\",\"dnce\",\"dB\",\"live\",\"val\",\"acous\",\"spch\",\"popularity\"]\n",
    "\n",
    "sc = StandardScaler()\n",
    "df_top10_std = sc.fit_transform(df_top10.loc[:,attribute_spotify])\n",
    "df_top10_std = pd.DataFrame(df_top10_std, columns=attribute_spotify)\n"
   ]
  },
  {
   "cell_type": "code",
   "execution_count": 10,
   "id": "cc868702",
   "metadata": {},
   "outputs": [],
   "source": [
    "# menggunakan clustering kmeans\n",
    "# mencari nilai optimal dari k\n",
    "sum_of_squared_distance = []\n",
    "k = range(1,25)\n",
    "for i in k:\n",
    "    cluster_data = KMeans(n_clusters=i)\n",
    "    cluster_data = cluster_data.fit(df_top10_std)\n",
    "    sum_of_squared_distance.append(cluster_data.inertia_)"
   ]
  },
  {
   "cell_type": "code",
   "execution_count": 11,
   "metadata": {},
   "outputs": [
    {
     "data": {
      "image/png": "[encoded data removed]",
      "text/plain": [
       "<Figure size 432x288 with 1 Axes>"
      ]
     },
     "metadata": {
      "needs_background": "light"
     },
     "output_type": "display_data"
    }
   ],
   "source": [
    "plt.plot(k,sum_of_squared_distance, \"bx-\")\n",
    "plt.xlabel=\"K\"\n",
    "plt.ylabel=\"sum of squared distance\"\n",
    "plt.title=\"optimal of k\"\n",
    "plt.show()"
   ]
  },
  {
   "cell_type": "code",
   "execution_count": null,
   "id": "195ce9cd",
   "metadata": {},
   "outputs": [],
   "source": []
  }
 ],
 "metadata": {
  "kernelspec": {
   "display_name": "Python 3 (ipykernel)",
   "language": "python",
   "name": "python3"
  },
  "language_info": {
   "codemirror_mode": {
    "name": "ipython",
    "version": 3
   },
   "file_extension": ".py",
   "mimetype": "text/x-python",
   "name": "python",
   "nbconvert_exporter": "python",
   "pygments_lexer": "ipython3",
   "version": "3.9.7"
  }
 },
 "nbformat": 4,
 "nbformat_minor": 5
}
