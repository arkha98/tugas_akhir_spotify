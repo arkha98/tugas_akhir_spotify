{
 "cells": [
  {
   "cell_type": "code",
   "execution_count": 1,
   "id": "10249130",
   "metadata": {},
   "outputs": [],
   "source": [
    "import pandas as pd\n",
    "import numpy as np\n",
    "import matplotlib.pyplot as plt\n",
    "import matplotlib.image as img\n",
    "from sklearn.preprocessing import StandardScaler, MinMaxScaler\n",
    "from sklearn.cluster import KMeans\n",
    "from sklearn.metrics import silhouette_score, classification_report, confusion_matrix\n",
    "from sklearn.decomposition import PCA\n",
    "from sklearn import svm\n",
    "from sklearn.linear_model import LinearRegression, LogisticRegression\n",
    "from sklearn.model_selection import train_test_split\n",
    "from sklearn.neighbors import KNeighborsClassifier\n",
    "from collections import Counter\n",
    "import seaborn as sns"
   ]
  },
  {
   "cell_type": "code",
   "execution_count": 2,
   "id": "6cdc55e7",
   "metadata": {},
   "outputs": [],
   "source": [
    "# fungsi membantu\n",
    "def isNaN(value) :\n",
    "    try:\n",
    "        import math\n",
    "        return math.isnan(float(value))\n",
    "    except:\n",
    "        return False"
   ]
  },
  {
   "cell_type": "markdown",
   "id": "ddc357a1",
   "metadata": {},
   "source": [
    "<h2>Penjelasan Atribut</h2>\n",
    "\n",
    "<table>\n",
    "  <tr>\n",
    "    <th>Num</th>\n",
    "    <th>Attribute Name</th>\n",
    "    <th>Description</th>\n",
    "  </tr>\n",
    "  <tr>\n",
    "    <td>1</td>\n",
    "    <td>title</td>\n",
    "    <td>Title</td>\n",
    "  </tr>\n",
    "  <tr>\n",
    "    <td>2</td>\n",
    "    <td>artist</td>\n",
    "    <td>Artist</td>\n",
    "  </tr>\n",
    "  <tr>\n",
    "    <td>3</td>\n",
    "    <td>genre</td>\n",
    "    <td>Genre of the song</td>\n",
    "  </tr>\n",
    "  <tr>\n",
    "    <td>4</td>\n",
    "    <td>year</td>\n",
    "    <td>Year of the song (due to re-releases, the year might not correspond to the release year of the original song)</td>\n",
    "  </tr>\n",
    "  <tr>\n",
    "    <td>5</td>\n",
    "    <td>bpm</td>\n",
    "    <td>Beats per minute</td>\n",
    "  </tr>\n",
    "  <tr>\n",
    "    <td>6</td>\n",
    "    <td>nrgy</td>\n",
    "    <td>Energy of a song, the higher the value the more energetic the song is</td>\n",
    "  </tr>\n",
    "  <tr>\n",
    "    <td>7</td>\n",
    "    <td>dnce</td>\n",
    "    <td>The higher the value, the easier it is to dance to this song.</td>\n",
    "  </tr>\n",
    "  <tr>\n",
    "    <td>8</td>\n",
    "    <td>dB</td>\n",
    "    <td>The higher the value, the louder the song</td>\n",
    "  </tr>\n",
    "  <tr>\n",
    "    <td>9</td>\n",
    "    <td>live</td>\n",
    "    <td>The higher the value, the more likely the song is a live recording.</td>\n",
    "  </tr>\n",
    "  <tr>\n",
    "    <td>10</td>\n",
    "    <td>val</td>\n",
    "    <td>The higher the value, the more positive the mood for the song.</td></tr>\n",
    "  <tr>\n",
    "    <td>11</td>\n",
    "    <td>dur</td>\n",
    "    <td>The duration of the song</td>\n",
    "  </tr>\n",
    "  <tr>\n",
    "    <td>12</td>\n",
    "    <td>acous</td>\n",
    "    <td>The higher the value the more acoustic the song is.</td>\n",
    "  </tr>\n",
    "  <tr>\n",
    "    <td>13</td>\n",
    "    <td>spch</td>\n",
    "    <td>The higher the value the more spoken words the song contains.</td>\n",
    "  </tr>\n",
    "  <tr>\n",
    "    <td>14</td>\n",
    "    <td>popularity</td>\n",
    "    <td>The higher the value the more popular the song is.</td>\n",
    "  </tr>\n",
    "  <tr>\n",
    "    <td>15</td>\n",
    "    <td>has_win_award</td>\n",
    "    <td>Boolean value to indicate if the song has won an award or not. Value of 1 if the song has already won one or more awards otherwise 0 if the song hasn’t won any awards.</td>\n",
    "  </tr>\n",
    "</table>"
   ]
  },
  {
   "cell_type": "markdown",
   "id": "85ebfd68",
   "metadata": {},
   "source": [
    "load semua csv"
   ]
  },
  {
   "cell_type": "code",
   "execution_count": 3,
   "id": "07afebf8",
   "metadata": {},
   "outputs": [],
   "source": [
    "df_1950 = pd.read_csv(\"1950.csv\")\n",
    "df_1960 = pd.read_csv(\"1960.csv\")\n",
    "df_1970 = pd.read_csv(\"1970.csv\")\n",
    "df_1980 = pd.read_csv(\"1980.csv\")\n",
    "df_1990 = pd.read_csv(\"1990.csv\")\n",
    "df_2000 = pd.read_csv(\"2000.csv\")\n",
    "df_2010 = pd.read_csv(\"2010.csv\")\n",
    "df_top10 = pd.read_csv(\"top10s.csv\")"
   ]
  },
  {
   "cell_type": "code",
   "execution_count": 4,
   "id": "dd6c8d38",
   "metadata": {},
   "outputs": [],
   "source": [
    "# Penggabungan seluruh data frame\n",
    "df_all = pd.concat(\\\n",
    "    [df_1950,df_1960\\\n",
    "        ,df_1970,df_1980\\\n",
    "        ,df_1990,df_2000\\\n",
    "        ,df_2010,df_top10],ignore_index=True, sort=False)\n",
    "\n",
    "df_all.to_csv('all_sort_from_1950_to_top10.csv',index=False)\n",
    "\n",
    "# drop duplicate\n",
    "df_all = df_all.drop_duplicates()\n",
    "# drop all nan\n",
    "df_all_clear = df_all.dropna()\n",
    "# ubah data has_win_award dari float ke boolean\n",
    "df_all = df_all.astype({\"has_win_award\":bool})\n",
    "df_all_clear = df_all_clear.astype({\"has_win_award\":bool})\n",
    "\n",
    "df_all.to_csv('all_no_duplicates.csv',index=False)"
   ]
  },
  {
   "cell_type": "markdown",
   "id": "48c22057",
   "metadata": {},
   "source": [
    "Preprocessing"
   ]
  },
  {
   "cell_type": "code",
   "execution_count": 5,
   "id": "5774e81b",
   "metadata": {},
   "outputs": [
    {
     "name": "stdout",
     "output_type": "stream",
     "text": [
      "<class 'pandas.core.frame.DataFrame'>\n",
      "RangeIndex: 602 entries, 0 to 601\n",
      "Data columns (total 15 columns):\n",
      " #   Column         Non-Null Count  Dtype  \n",
      "---  ------         --------------  -----  \n",
      " 0   title          602 non-null    object \n",
      " 1   artist         602 non-null    object \n",
      " 2   genre          602 non-null    object \n",
      " 3   year           602 non-null    int64  \n",
      " 4   bpm            602 non-null    int64  \n",
      " 5   nrgy           602 non-null    int64  \n",
      " 6   dnce           602 non-null    int64  \n",
      " 7   dB             602 non-null    int64  \n",
      " 8   live           602 non-null    int64  \n",
      " 9   val            602 non-null    int64  \n",
      " 10  dur            602 non-null    int64  \n",
      " 11  acous          602 non-null    int64  \n",
      " 12  spch           602 non-null    int64  \n",
      " 13  popularity     602 non-null    int64  \n",
      " 14  has_win_award  602 non-null    float64\n",
      "dtypes: float64(1), int64(11), object(3)\n",
      "memory usage: 70.7+ KB\n"
     ]
    }
   ],
   "source": [
    "df_top10.info()"
   ]
  },
  {
   "cell_type": "code",
   "execution_count": 6,
   "id": "d5b50987",
   "metadata": {},
   "outputs": [],
   "source": [
    "# ubah data has_win_award dari float ke boolean\n",
    "df_1950 = df_1950.astype({\"has_win_award\":bool})\n",
    "df_1960 = df_1960.astype({\"has_win_award\":bool})\n",
    "df_1970 = df_1970.astype({\"has_win_award\":bool})\n",
    "df_1980 = df_1980.astype({\"has_win_award\":bool})\n",
    "df_1990 = df_1990.astype({\"has_win_award\":bool})\n",
    "df_2000 = df_2000.astype({\"has_win_award\":bool})\n",
    "df_2010 = df_2010.astype({\"has_win_award\":bool})\n",
    "df_top10 = df_top10.astype({\"has_win_award\":bool})"
   ]
  },
  {
   "cell_type": "code",
   "execution_count": 7,
   "id": "f6762d48",
   "metadata": {},
   "outputs": [
    {
     "name": "stdout",
     "output_type": "stream",
     "text": [
      "0\n",
      "0\n",
      "0\n",
      "0\n",
      "0\n",
      "0\n",
      "0\n",
      "0\n"
     ]
    }
   ],
   "source": [
    "# cek duplikasi\n",
    "print(sum(df_1950.duplicated()))\n",
    "print(sum(df_1960.duplicated()))\n",
    "print(sum(df_1970.duplicated()))\n",
    "print(sum(df_1980.duplicated()))\n",
    "print(sum(df_1990.duplicated()))\n",
    "print(sum(df_2000.duplicated()))\n",
    "print(sum(df_2010.duplicated()))\n",
    "print(sum(df_top10.duplicated()))"
   ]
  },
  {
   "cell_type": "code",
   "execution_count": 8,
   "id": "f10bf644",
   "metadata": {},
   "outputs": [],
   "source": [
    "# cek null di kolom yang mana\n",
    "def cek_apakah_ada_null(data_frame):\n",
    "    cek = data_frame.isnull()\n",
    "    columns = list(cek.columns)\n",
    "    c_null = []\n",
    "    for i in columns:\n",
    "        if sum(cek[i]) != 0:\n",
    "            c_null.append(i)\n",
    "    return c_null"
   ]
  },
  {
   "cell_type": "code",
   "execution_count": 9,
   "id": "9c607e5c",
   "metadata": {},
   "outputs": [
    {
     "name": "stdout",
     "output_type": "stream",
     "text": [
      "['genre']\n",
      "[]\n",
      "[]\n",
      "['genre']\n",
      "['genre']\n",
      "[]\n",
      "[]\n",
      "[]\n"
     ]
    }
   ],
   "source": [
    "print(cek_apakah_ada_null(df_1950))\n",
    "print(cek_apakah_ada_null(df_1960))\n",
    "print(cek_apakah_ada_null(df_1970))\n",
    "print(cek_apakah_ada_null(df_1980))\n",
    "print(cek_apakah_ada_null(df_1990))\n",
    "print(cek_apakah_ada_null(df_2000))\n",
    "print(cek_apakah_ada_null(df_2010))\n",
    "print(cek_apakah_ada_null(df_top10))"
   ]
  },
  {
   "cell_type": "code",
   "execution_count": 10,
   "id": "38b07d33",
   "metadata": {},
   "outputs": [
    {
     "data": {
      "text/plain": [
       "<AxesSubplot:>"
      ]
     },
     "execution_count": 10,
     "metadata": {},
     "output_type": "execute_result"
    },
    {
     "data": {
      "image/png": "[encoded data removed]",
      "text/plain": [
       "<Figure size 432x288 with 2 Axes>"
      ]
     },
     "metadata": {
      "needs_background": "light"
     },
     "output_type": "display_data"
    }
   ],
   "source": [
    "sns.heatmap(df_all.corr())"
   ]
  },
  {
   "cell_type": "code",
   "execution_count": 11,
   "id": "5ac1bf1c",
   "metadata": {},
   "outputs": [
    {
     "data": {
      "text/plain": [
       "<AxesSubplot:>"
      ]
     },
     "execution_count": 11,
     "metadata": {},
     "output_type": "execute_result"
    },
    {
     "data": {
      "image/png": "[encoded data removed]",
      "text/plain": [
       "<Figure size 432x288 with 2 Axes>"
      ]
     },
     "metadata": {
      "needs_background": "light"
     },
     "output_type": "display_data"
    }
   ],
   "source": [
    "sns.heatmap(df_1950.corr())"
   ]
  },
  {
   "cell_type": "code",
   "execution_count": 12,
   "id": "97ae061d",
   "metadata": {},
   "outputs": [
    {
     "data": {
      "text/plain": [
       "<AxesSubplot:>"
      ]
     },
     "execution_count": 12,
     "metadata": {},
     "output_type": "execute_result"
    },
    {
     "data": {
      "image/png": "[encoded data removed]",
      "text/plain": [
       "<Figure size 432x288 with 2 Axes>"
      ]
     },
     "metadata": {
      "needs_background": "light"
     },
     "output_type": "display_data"
    }
   ],
   "source": [
    "sns.heatmap(df_1960.corr())"
   ]
  },
  {
   "cell_type": "code",
   "execution_count": 13,
   "id": "b1705c62",
   "metadata": {},
   "outputs": [
    {
     "data": {
      "text/plain": [
       "<AxesSubplot:>"
      ]
     },
     "execution_count": 13,
     "metadata": {},
     "output_type": "execute_result"
    },
    {
     "data": {
      "image/png": "[encoded data removed]",
      "text/plain": [
       "<Figure size 432x288 with 2 Axes>"
      ]
     },
     "metadata": {
      "needs_background": "light"
     },
     "output_type": "display_data"
    }
   ],
   "source": [
    "sns.heatmap(df_1970.corr())"
   ]
  },
  {
   "cell_type": "code",
   "execution_count": 14,
   "id": "fa3c1be5",
   "metadata": {},
   "outputs": [
    {
     "data": {
      "text/plain": [
       "<AxesSubplot:>"
      ]
     },
     "execution_count": 14,
     "metadata": {},
     "output_type": "execute_result"
    },
    {
     "data": {
      "image/png": "[encoded data removed]",
      "text/plain": [
       "<Figure size 432x288 with 2 Axes>"
      ]
     },
     "metadata": {
      "needs_background": "light"
     },
     "output_type": "display_data"
    }
   ],
   "source": [
    "sns.heatmap(df_1980.corr())"
   ]
  },
  {
   "cell_type": "code",
   "execution_count": 15,
   "id": "68eb9347",
   "metadata": {},
   "outputs": [
    {
     "data": {
      "text/plain": [
       "<AxesSubplot:>"
      ]
     },
     "execution_count": 15,
     "metadata": {},
     "output_type": "execute_result"
    },
    {
     "data": {
      "image/png": "[encoded data removed]",
      "text/plain": [
       "<Figure size 432x288 with 2 Axes>"
      ]
     },
     "metadata": {
      "needs_background": "light"
     },
     "output_type": "display_data"
    }
   ],
   "source": [
    "sns.heatmap(df_1990.corr())"
   ]
  },
  {
   "cell_type": "code",
   "execution_count": 16,
   "id": "0f783a13",
   "metadata": {},
   "outputs": [
    {
     "data": {
      "text/plain": [
       "<AxesSubplot:>"
      ]
     },
     "execution_count": 16,
     "metadata": {},
     "output_type": "execute_result"
    },
    {
     "data": {
      "image/png": "[encoded data removed]",
      "text/plain": [
       "<Figure size 432x288 with 2 Axes>"
      ]
     },
     "metadata": {
      "needs_background": "light"
     },
     "output_type": "display_data"
    }
   ],
   "source": [
    "sns.heatmap(df_2000.corr())"
   ]
  },
  {
   "cell_type": "code",
   "execution_count": 17,
   "id": "3fd7f4f7",
   "metadata": {},
   "outputs": [
    {
     "data": {
      "text/plain": [
       "<AxesSubplot:>"
      ]
     },
     "execution_count": 17,
     "metadata": {},
     "output_type": "execute_result"
    },
    {
     "data": {
      "image/png": "[encoded data removed]",
      "text/plain": [
       "<Figure size 432x288 with 2 Axes>"
      ]
     },
     "metadata": {
      "needs_background": "light"
     },
     "output_type": "display_data"
    }
   ],
   "source": [
    "sns.heatmap(df_2010.corr())"
   ]
  },
  {
   "cell_type": "code",
   "execution_count": 18,
   "id": "7a445581",
   "metadata": {},
   "outputs": [
    {
     "data": {
      "text/plain": [
       "<AxesSubplot:>"
      ]
     },
     "execution_count": 18,
     "metadata": {},
     "output_type": "execute_result"
    },
    {
     "data": {
      "image/png": "[encoded data removed]",
      "text/plain": [
       "<Figure size 432x288 with 2 Axes>"
      ]
     },
     "metadata": {
      "needs_background": "light"
     },
     "output_type": "display_data"
    }
   ],
   "source": [
    "sns.heatmap(df_top10.corr())"
   ]
  },
  {
   "cell_type": "markdown",
   "id": "1be2ceca",
   "metadata": {},
   "source": [
    "Hanya energy, dB, dan acoustic saja yang dapat mendeskripsikan sebuah lagu\n"
   ]
  },
  {
   "cell_type": "code",
   "execution_count": 19,
   "id": "c2a46c87",
   "metadata": {},
   "outputs": [],
   "source": [
    "attribute_spotify_high_corr = [\"nrgy\",\"dB\",\"acous\"]"
   ]
  },
  {
   "cell_type": "code",
   "execution_count": 20,
   "id": "30563be2",
   "metadata": {},
   "outputs": [],
   "source": [
    "# buat scaler\n",
    "def scaler_spotify(df, attribute_spotify):\n",
    "    sc = MinMaxScaler()\n",
    "    data_scaled = sc.fit_transform(df.loc[:,attribute_spotify])\n",
    "    return data_scaled\n",
    "\n",
    "def scaler_spotify_with_PCA(df, attribute_spotify):\n",
    "    sc = MinMaxScaler()\n",
    "    data_scaled = sc.fit_transform(df.loc[:,attribute_spotify])\n",
    "    pca = PCA(n_components=0.95)\n",
    "    pca.fit(data_scaled)\n",
    "    data_scaled = pca.transform(data_scaled)\n",
    "    return data_scaled"
   ]
  },
  {
   "cell_type": "markdown",
   "id": "651c21f5",
   "metadata": {},
   "source": [
    "Clustering"
   ]
  },
  {
   "cell_type": "code",
   "execution_count": 21,
   "id": "cc868702",
   "metadata": {},
   "outputs": [],
   "source": [
    "# menggunakan clustering kmeans\n",
    "# mencari nilai optimal dari k\n",
    "def optimal_kmeans(scaled_data):\n",
    "    sil = []\n",
    "    k = range(2,25)\n",
    "    for i in k:\n",
    "        cluster_data = KMeans(n_clusters=i)\\\n",
    "            .fit(scaled_data)\n",
    "        sil.append(silhouette_score(scaled_data\\\n",
    "            ,cluster_data.labels_,metric='euclidean'))\n",
    "    plt.plot(k,sil, \"bx-\")\n",
    "    plt.xlabel(\"K\")\n",
    "    plt.ylabel(\"sil\")\n",
    "    plt.show()\n",
    "    return sil.index(max(sil))+2"
   ]
  },
  {
   "cell_type": "code",
   "execution_count": 22,
   "id": "e6616c1c",
   "metadata": {},
   "outputs": [],
   "source": [
    "attribute_spotify = [\"bpm\",\"nrgy\",\"dnce\",\"dB\",\"live\",\"val\",\"dur\",\"acous\",\"spch\",\"popularity\",\"has_win_award\"]"
   ]
  },
  {
   "cell_type": "code",
   "execution_count": 23,
   "id": "dd9d6920",
   "metadata": {},
   "outputs": [
    {
     "data": {
      "image/png": "[encoded data removed]",
      "text/plain": [
       "<Figure size 432x288 with 1 Axes>"
      ]
     },
     "metadata": {
      "needs_background": "light"
     },
     "output_type": "display_data"
    },
    {
     "name": "stdout",
     "output_type": "stream",
     "text": [
      "2\n"
     ]
    }
   ],
   "source": [
    "df_1950_std = scaler_spotify(df_1950, attribute_spotify)\n",
    "k = optimal_kmeans(df_1950_std)\n",
    "df_1950_cd = KMeans(n_clusters=k)\\\n",
    "    .fit_predict(df_1950_std)\n",
    "df_1950_cluster = df_1950.copy()\n",
    "df_1950_cluster['cluster'] = df_1950_cd\n",
    "print(k)"
   ]
  },
  {
   "cell_type": "code",
   "execution_count": 24,
   "id": "a4d11c22",
   "metadata": {},
   "outputs": [
    {
     "data": {
      "image/png": "[encoded data removed]",
      "text/plain": [
       "<Figure size 432x288 with 1 Axes>"
      ]
     },
     "metadata": {
      "needs_background": "light"
     },
     "output_type": "display_data"
    },
    {
     "name": "stdout",
     "output_type": "stream",
     "text": [
      "2\n"
     ]
    }
   ],
   "source": [
    "df_1960_std = scaler_spotify(df_1960, attribute_spotify)\n",
    "k = optimal_kmeans(df_1960_std)\n",
    "df_1960_cd = KMeans(n_clusters=k).fit_predict(df_1960_std)\n",
    "df_1960_cluster = df_1960.copy()\n",
    "df_1960_cluster['cluster'] = df_1960_cd\n",
    "print(k)"
   ]
  },
  {
   "cell_type": "code",
   "execution_count": 25,
   "id": "fe48f30c",
   "metadata": {},
   "outputs": [
    {
     "data": {
      "image/png": "[encoded data removed]",
      "text/plain": [
       "<Figure size 432x288 with 1 Axes>"
      ]
     },
     "metadata": {
      "needs_background": "light"
     },
     "output_type": "display_data"
    },
    {
     "name": "stdout",
     "output_type": "stream",
     "text": [
      "2\n"
     ]
    }
   ],
   "source": [
    "df_1970_std = scaler_spotify(df_1970, attribute_spotify)\n",
    "k = optimal_kmeans(df_1970_std)\n",
    "df_1970_cd = KMeans(n_clusters=k).fit_predict(df_1970_std)\n",
    "df_1970_cluster = df_1970.copy()\n",
    "df_1970_cluster['cluster'] = df_1970_cd\n",
    "print(k)"
   ]
  },
  {
   "cell_type": "code",
   "execution_count": null,
   "id": "11389556",
   "metadata": {},
   "outputs": [],
   "source": []
  },
  {
   "cell_type": "code",
   "execution_count": 26,
   "id": "2683c57b",
   "metadata": {},
   "outputs": [
    {
     "data": {
      "image/png": "[encoded data removed]",
      "text/plain": [
       "<Figure size 432x288 with 1 Axes>"
      ]
     },
     "metadata": {
      "needs_background": "light"
     },
     "output_type": "display_data"
    },
    {
     "name": "stdout",
     "output_type": "stream",
     "text": [
      "3\n"
     ]
    }
   ],
   "source": [
    "df_1980_std = scaler_spotify(df_1980, attribute_spotify)\n",
    "k = optimal_kmeans(df_1980_std)\n",
    "df_1980_cd = KMeans(n_clusters=k).fit_predict(df_1980_std)\n",
    "df_1980_cluster = df_1980.copy()\n",
    "df_1980_cluster['cluster'] = df_1980_cd\n",
    "print(k)"
   ]
  },
  {
   "cell_type": "code",
   "execution_count": 27,
   "id": "28604e21",
   "metadata": {},
   "outputs": [
    {
     "data": {
      "image/png": "[encoded data removed]",
      "text/plain": [
       "<Figure size 432x288 with 1 Axes>"
      ]
     },
     "metadata": {
      "needs_background": "light"
     },
     "output_type": "display_data"
    },
    {
     "name": "stdout",
     "output_type": "stream",
     "text": [
      "2\n"
     ]
    }
   ],
   "source": [
    "df_1990_std = scaler_spotify(df_1990, attribute_spotify)\n",
    "k = optimal_kmeans(df_1990_std)\n",
    "df_1990_cd = KMeans(n_clusters=k).fit_predict(df_1990_std)\n",
    "df_1990_cluster = df_1990.copy()\n",
    "df_1990_cluster['cluster'] = df_1990_cd\n",
    "print(k)"
   ]
  },
  {
   "cell_type": "code",
   "execution_count": 28,
   "id": "9eb54b52",
   "metadata": {},
   "outputs": [
    {
     "data": {
      "image/png": "[encoded data removed]",
      "text/plain": [
       "<Figure size 432x288 with 1 Axes>"
      ]
     },
     "metadata": {
      "needs_background": "light"
     },
     "output_type": "display_data"
    },
    {
     "name": "stdout",
     "output_type": "stream",
     "text": [
      "15\n"
     ]
    }
   ],
   "source": [
    "df_2000_std = scaler_spotify(df_2000, attribute_spotify)\n",
    "k = optimal_kmeans(df_2000_std)\n",
    "df_2000_cd = KMeans(n_clusters=k).fit_predict(df_2000_std)\n",
    "df_2000_cluster = df_2000.copy()\n",
    "df_2000_cluster['cluster'] = df_2000_cd\n",
    "print(k)"
   ]
  },
  {
   "cell_type": "code",
   "execution_count": 29,
   "id": "0e325aeb",
   "metadata": {},
   "outputs": [
    {
     "data": {
      "image/png": "[encoded data removed]",
      "text/plain": [
       "<Figure size 432x288 with 1 Axes>"
      ]
     },
     "metadata": {
      "needs_background": "light"
     },
     "output_type": "display_data"
    },
    {
     "name": "stdout",
     "output_type": "stream",
     "text": [
      "2\n"
     ]
    }
   ],
   "source": [
    "df_2010_std = scaler_spotify(df_2010, attribute_spotify)\n",
    "k = optimal_kmeans(df_2010_std)\n",
    "df_2010_cd = KMeans(n_clusters=k).fit_predict(df_2010_std)\n",
    "df_2010_cluster = df_2010.copy()\n",
    "df_2010_cluster['cluster'] = df_2010_cd\n",
    "print(k)"
   ]
  },
  {
   "cell_type": "code",
   "execution_count": 30,
   "id": "d095f124",
   "metadata": {},
   "outputs": [
    {
     "data": {
      "image/png": "[encoded data removed]",
      "text/plain": [
       "<Figure size 432x288 with 1 Axes>"
      ]
     },
     "metadata": {
      "needs_background": "light"
     },
     "output_type": "display_data"
    },
    {
     "name": "stdout",
     "output_type": "stream",
     "text": [
      "2\n"
     ]
    }
   ],
   "source": [
    "df_top10_std = scaler_spotify(df=df_top10\\\n",
    "    ,attribute_spotify=attribute_spotify_high_corr)\n",
    "k = optimal_kmeans(df_top10_std)\n",
    "df_top10_cd = KMeans(n_clusters=k).fit_predict(df_top10_std)\n",
    "df_top10_cluster = df_top10.copy()\n",
    "df_top10_cluster['cluster'] = df_top10_cd\n",
    "print(k)"
   ]
  },
  {
   "cell_type": "code",
   "execution_count": 58,
   "id": "f84b1ef9",
   "metadata": {},
   "outputs": [
    {
     "data": {
      "image/png": "[encoded data removed]",
      "text/plain": [
       "<Figure size 432x288 with 1 Axes>"
      ]
     },
     "metadata": {
      "needs_background": "light"
     },
     "output_type": "display_data"
    },
    {
     "name": "stdout",
     "output_type": "stream",
     "text": [
      "2\n"
     ]
    }
   ],
   "source": [
    "df_all_std = scaler_spotify(df_all, attribute_spotify_high_corr)\n",
    "k = optimal_kmeans(df_all_std)\n",
    "df_all_cd = KMeans(n_clusters=k).fit_predict(df_all_std)\n",
    "df_all_cluster = df_all.copy()\n",
    "df_all_cluster['cluster'] = df_all_cd\n",
    "print(k)"
   ]
  },
  {
   "cell_type": "code",
   "execution_count": 59,
   "id": "83707501",
   "metadata": {},
   "outputs": [
    {
     "data": {
      "text/plain": [
       "0.6203765854379533"
      ]
     },
     "execution_count": 59,
     "metadata": {},
     "output_type": "execute_result"
    }
   ],
   "source": [
    "from sklearn.metrics import silhouette_score\n",
    "silhouette_score(df_all.loc[:,attribute_spotify_high_corr], df_all_cd, metric='euclidean')"
   ]
  },
  {
   "cell_type": "markdown",
   "id": "c74cf4a4",
   "metadata": {},
   "source": [
    "Analisa"
   ]
  },
  {
   "cell_type": "markdown",
   "id": "4a521b50",
   "metadata": {},
   "source": [
    "Artis yang populer"
   ]
  },
  {
   "cell_type": "code",
   "execution_count": 32,
   "id": "a7e392b1",
   "metadata": {},
   "outputs": [
    {
     "data": {
      "text/plain": [
       "0"
      ]
     },
     "execution_count": 32,
     "metadata": {},
     "output_type": "execute_result"
    }
   ],
   "source": [
    "sum(df_top10.duplicated())"
   ]
  },
  {
   "cell_type": "code",
   "execution_count": 33,
   "id": "db1df95e",
   "metadata": {},
   "outputs": [
    {
     "name": "stdout",
     "output_type": "stream",
     "text": [
      "Total Artist : 589\n"
     ]
    }
   ],
   "source": [
    "artist_total = pd.unique(df_all.loc[:,'artist'])\n",
    "print(\"Total Artist : %d\" % (len(artist_total)))"
   ]
  },
  {
   "cell_type": "code",
   "execution_count": 34,
   "id": "e81dc669",
   "metadata": {},
   "outputs": [
    {
     "name": "stdout",
     "output_type": "stream",
     "text": [
      "Total Genre : 137\n"
     ]
    }
   ],
   "source": [
    "genre_total = pd.unique(df_all.loc[:,'genre'])\n",
    "print(\"Total Genre : %d\" % (len(genre_total)))"
   ]
  },
  {
   "cell_type": "code",
   "execution_count": 35,
   "id": "082cdf0e",
   "metadata": {},
   "outputs": [
    {
     "data": {
      "text/plain": [
       "Rihanna              21\n",
       "Katy Perry           20\n",
       "Justin Bieber        18\n",
       "Maroon 5             16\n",
       "Bruno Mars           15\n",
       "                     ..\n",
       "Van Halen             1\n",
       "Eric Carmen           1\n",
       "Michael Sembello      1\n",
       "Bruce Springsteen     1\n",
       "R3HAB                 1\n",
       "Name: artist, Length: 589, dtype: int64"
      ]
     },
     "execution_count": 35,
     "metadata": {},
     "output_type": "execute_result"
    }
   ],
   "source": [
    "df_all['artist'].value_counts()"
   ]
  },
  {
   "cell_type": "markdown",
   "id": "78b163ea",
   "metadata": {},
   "source": [
    "Artis yang paling populer dapat dihitung dari jumlah nilai lagu yang populer"
   ]
  },
  {
   "cell_type": "code",
   "execution_count": 36,
   "id": "945bf001",
   "metadata": {},
   "outputs": [],
   "source": [
    "def dict_artist_popularity(df):\n",
    "    artist_popularity = dict()\n",
    "    for i in df.index:\n",
    "        artist = df['artist'][i]\n",
    "        popularity = df['popularity'][i]\n",
    "        artist_popularity[artist] = artist_popularity.setdefault(artist,0)\\\n",
    "            + popularity\n",
    "    return artist_popularity"
   ]
  },
  {
   "cell_type": "code",
   "execution_count": 37,
   "id": "5b48b9da",
   "metadata": {},
   "outputs": [
    {
     "data": {
      "text/plain": [
       "'Kesha'"
      ]
     },
     "execution_count": 37,
     "metadata": {},
     "output_type": "execute_result"
    }
   ],
   "source": [
    "artis_populer = dict_artist_popularity(df_top10.loc[df_top10['year'] == 2010])\n",
    "max(artis_populer, key=artis_populer.get)"
   ]
  },
  {
   "cell_type": "markdown",
   "id": "7ad27eff",
   "metadata": {},
   "source": [
    "Mencari genre lagu yang populer dapat menggunakan hal yang sama saat mencari artis yang paling populer"
   ]
  },
  {
   "cell_type": "code",
   "execution_count": 38,
   "id": "f69d4ab8",
   "metadata": {},
   "outputs": [],
   "source": [
    "def dict_genre_popularity(df):\n",
    "    genre_popularity = dict()\n",
    "    for i in df.index:\n",
    "        genre = df['genre'][i]\n",
    "        popularity = df['popularity'][i]\n",
    "        genre_popularity[genre] = genre_popularity.setdefault(genre,0)\\\n",
    "            + popularity\n",
    "    return genre_popularity"
   ]
  },
  {
   "cell_type": "code",
   "execution_count": 39,
   "id": "06b6ee55",
   "metadata": {},
   "outputs": [
    {
     "data": {
      "text/plain": [
       "'dance pop'"
      ]
     },
     "execution_count": 39,
     "metadata": {},
     "output_type": "execute_result"
    }
   ],
   "source": [
    "genre_populer = dict_genre_popularity(df_top10[df_top10['year'] == 2010])\n",
    "max(genre_populer, key=genre_populer.get)"
   ]
  },
  {
   "cell_type": "markdown",
   "id": "d5a7dfff",
   "metadata": {},
   "source": [
    "Untuk melakukan list genre musik dari artis dapat dilakukan dengan melakukan list setiap artis"
   ]
  },
  {
   "cell_type": "code",
   "execution_count": 40,
   "id": "a9e93c04",
   "metadata": {},
   "outputs": [],
   "source": [
    "def dict_artist_genre(df):\n",
    "    artist_genre = dict()\n",
    "    for i in df.index:\n",
    "        artist = df['artist'][i]\n",
    "        genre = df['genre'][i]\n",
    "        if isNaN(genre):\n",
    "            artist_genre.setdefault(artist,set())\n",
    "            continue\n",
    "        artist_genre.setdefault(artist,set()).add(genre)\n",
    "    return artist_genre"
   ]
  },
  {
   "cell_type": "code",
   "execution_count": 41,
   "id": "2cfe4f32",
   "metadata": {},
   "outputs": [],
   "source": [
    "def dict_artist_music(df):\n",
    "    artist_music = dict()\n",
    "    for i in df.index:\n",
    "        artist = df['artist'][i]\n",
    "        music = df['title'][i]\n",
    "        if isNaN(music):\n",
    "            artist_music.setdefault(artist,set())\n",
    "            continue\n",
    "        artist_music.setdefault(artist,set()).add(music)\n",
    "    return artist_music"
   ]
  },
  {
   "cell_type": "code",
   "execution_count": 42,
   "id": "28fcee52",
   "metadata": {},
   "outputs": [],
   "source": [
    "def dict_genre_music(df):\n",
    "    genre_music = dict()\n",
    "    for i in df.index:\n",
    "        genre = df['genre'][i]\n",
    "        music = df['title'][i]\n",
    "        if isNaN(music):\n",
    "            genre_music.setdefault(genre,set())\n",
    "            continue\n",
    "        genre_music.setdefault(genre,set()).add(music)\n",
    "    return genre_music"
   ]
  },
  {
   "cell_type": "code",
   "execution_count": 43,
   "id": "090c9c48",
   "metadata": {},
   "outputs": [
    {
     "data": {
      "text/plain": [
       "2"
      ]
     },
     "execution_count": 43,
     "metadata": {},
     "output_type": "execute_result"
    }
   ],
   "source": [
    "artist_genre = dict_artist_genre(df_all)\n",
    "\n",
    "for i in artist_genre.keys():\n",
    "    artist_genre[i] = len(artist_genre[i])\n",
    "\n",
    "genre_max = max(artist_genre.values())\n",
    "genre_max"
   ]
  },
  {
   "cell_type": "code",
   "execution_count": 44,
   "id": "ca25580e",
   "metadata": {},
   "outputs": [
    {
     "data": {
      "text/html": [
       "<div>\n",
       "<style scoped>\n",
       "    .dataframe tbody tr th:only-of-type {\n",
       "        vertical-align: middle;\n",
       "    }\n",
       "\n",
       "    .dataframe tbody tr th {\n",
       "        vertical-align: top;\n",
       "    }\n",
       "\n",
       "    .dataframe thead th {\n",
       "        text-align: right;\n",
       "    }\n",
       "</style>\n",
       "<table border=\"1\" class=\"dataframe\">\n",
       "  <thead>\n",
       "    <tr style=\"text-align: right;\">\n",
       "      <th></th>\n",
       "      <th>title</th>\n",
       "      <th>artist</th>\n",
       "      <th>genre</th>\n",
       "      <th>year</th>\n",
       "      <th>bpm</th>\n",
       "      <th>nrgy</th>\n",
       "      <th>dnce</th>\n",
       "      <th>dB</th>\n",
       "      <th>live</th>\n",
       "      <th>val</th>\n",
       "      <th>dur</th>\n",
       "      <th>acous</th>\n",
       "      <th>spch</th>\n",
       "      <th>popularity</th>\n",
       "      <th>has_win_award</th>\n",
       "    </tr>\n",
       "  </thead>\n",
       "  <tbody>\n",
       "    <tr>\n",
       "      <th>494</th>\n",
       "      <td>I Knew You Were Trouble.</td>\n",
       "      <td>Taylor Swift</td>\n",
       "      <td>dance pop</td>\n",
       "      <td>2012</td>\n",
       "      <td>77</td>\n",
       "      <td>47</td>\n",
       "      <td>62</td>\n",
       "      <td>-7</td>\n",
       "      <td>3</td>\n",
       "      <td>68</td>\n",
       "      <td>220</td>\n",
       "      <td>0</td>\n",
       "      <td>4</td>\n",
       "      <td>75</td>\n",
       "      <td>False</td>\n",
       "    </tr>\n",
       "    <tr>\n",
       "      <th>508</th>\n",
       "      <td>We Are Never Ever Getting Back Together</td>\n",
       "      <td>Taylor Swift</td>\n",
       "      <td>dance pop</td>\n",
       "      <td>2012</td>\n",
       "      <td>86</td>\n",
       "      <td>68</td>\n",
       "      <td>63</td>\n",
       "      <td>-6</td>\n",
       "      <td>12</td>\n",
       "      <td>75</td>\n",
       "      <td>193</td>\n",
       "      <td>1</td>\n",
       "      <td>9</td>\n",
       "      <td>73</td>\n",
       "      <td>False</td>\n",
       "    </tr>\n",
       "    <tr>\n",
       "      <th>509</th>\n",
       "      <td>Love Story</td>\n",
       "      <td>Taylor Swift</td>\n",
       "      <td>dance pop</td>\n",
       "      <td>2008</td>\n",
       "      <td>119</td>\n",
       "      <td>74</td>\n",
       "      <td>62</td>\n",
       "      <td>-4</td>\n",
       "      <td>8</td>\n",
       "      <td>31</td>\n",
       "      <td>236</td>\n",
       "      <td>13</td>\n",
       "      <td>3</td>\n",
       "      <td>73</td>\n",
       "      <td>False</td>\n",
       "    </tr>\n",
       "    <tr>\n",
       "      <th>552</th>\n",
       "      <td>Teardrops On My Guitar - Radio Single Remix</td>\n",
       "      <td>Taylor Swift</td>\n",
       "      <td>dance pop</td>\n",
       "      <td>2006</td>\n",
       "      <td>100</td>\n",
       "      <td>42</td>\n",
       "      <td>62</td>\n",
       "      <td>-7</td>\n",
       "      <td>12</td>\n",
       "      <td>29</td>\n",
       "      <td>203</td>\n",
       "      <td>29</td>\n",
       "      <td>2</td>\n",
       "      <td>61</td>\n",
       "      <td>False</td>\n",
       "    </tr>\n",
       "    <tr>\n",
       "      <th>645</th>\n",
       "      <td>Wildest Dreams</td>\n",
       "      <td>Taylor Swift</td>\n",
       "      <td>dance pop</td>\n",
       "      <td>2014</td>\n",
       "      <td>140</td>\n",
       "      <td>66</td>\n",
       "      <td>55</td>\n",
       "      <td>-7</td>\n",
       "      <td>11</td>\n",
       "      <td>47</td>\n",
       "      <td>220</td>\n",
       "      <td>7</td>\n",
       "      <td>7</td>\n",
       "      <td>71</td>\n",
       "      <td>False</td>\n",
       "    </tr>\n",
       "    <tr>\n",
       "      <th>776</th>\n",
       "      <td>I Knew You Were Trouble.</td>\n",
       "      <td>Taylor Swift</td>\n",
       "      <td>pop</td>\n",
       "      <td>2012</td>\n",
       "      <td>77</td>\n",
       "      <td>47</td>\n",
       "      <td>62</td>\n",
       "      <td>-7</td>\n",
       "      <td>3</td>\n",
       "      <td>68</td>\n",
       "      <td>220</td>\n",
       "      <td>0</td>\n",
       "      <td>4</td>\n",
       "      <td>77</td>\n",
       "      <td>False</td>\n",
       "    </tr>\n",
       "    <tr>\n",
       "      <th>780</th>\n",
       "      <td>We Are Never Ever Getting Back Together</td>\n",
       "      <td>Taylor Swift</td>\n",
       "      <td>pop</td>\n",
       "      <td>2012</td>\n",
       "      <td>86</td>\n",
       "      <td>68</td>\n",
       "      <td>63</td>\n",
       "      <td>-6</td>\n",
       "      <td>12</td>\n",
       "      <td>75</td>\n",
       "      <td>193</td>\n",
       "      <td>1</td>\n",
       "      <td>9</td>\n",
       "      <td>75</td>\n",
       "      <td>False</td>\n",
       "    </tr>\n",
       "    <tr>\n",
       "      <th>819</th>\n",
       "      <td>We Are Never Ever Getting Back Together</td>\n",
       "      <td>Taylor Swift</td>\n",
       "      <td>pop</td>\n",
       "      <td>2013</td>\n",
       "      <td>86</td>\n",
       "      <td>68</td>\n",
       "      <td>63</td>\n",
       "      <td>-6</td>\n",
       "      <td>12</td>\n",
       "      <td>75</td>\n",
       "      <td>193</td>\n",
       "      <td>1</td>\n",
       "      <td>9</td>\n",
       "      <td>75</td>\n",
       "      <td>False</td>\n",
       "    </tr>\n",
       "    <tr>\n",
       "      <th>882</th>\n",
       "      <td>Shake It Off</td>\n",
       "      <td>Taylor Swift</td>\n",
       "      <td>pop</td>\n",
       "      <td>2014</td>\n",
       "      <td>160</td>\n",
       "      <td>80</td>\n",
       "      <td>65</td>\n",
       "      <td>-5</td>\n",
       "      <td>33</td>\n",
       "      <td>94</td>\n",
       "      <td>219</td>\n",
       "      <td>6</td>\n",
       "      <td>17</td>\n",
       "      <td>78</td>\n",
       "      <td>False</td>\n",
       "    </tr>\n",
       "    <tr>\n",
       "      <th>1074</th>\n",
       "      <td>Out Of The Woods</td>\n",
       "      <td>Taylor Swift</td>\n",
       "      <td>pop</td>\n",
       "      <td>2016</td>\n",
       "      <td>92</td>\n",
       "      <td>84</td>\n",
       "      <td>55</td>\n",
       "      <td>-7</td>\n",
       "      <td>34</td>\n",
       "      <td>34</td>\n",
       "      <td>236</td>\n",
       "      <td>0</td>\n",
       "      <td>4</td>\n",
       "      <td>66</td>\n",
       "      <td>False</td>\n",
       "    </tr>\n",
       "    <tr>\n",
       "      <th>1204</th>\n",
       "      <td>Look What You Made Me Do</td>\n",
       "      <td>Taylor Swift</td>\n",
       "      <td>pop</td>\n",
       "      <td>2018</td>\n",
       "      <td>128</td>\n",
       "      <td>71</td>\n",
       "      <td>77</td>\n",
       "      <td>-6</td>\n",
       "      <td>13</td>\n",
       "      <td>51</td>\n",
       "      <td>212</td>\n",
       "      <td>20</td>\n",
       "      <td>12</td>\n",
       "      <td>75</td>\n",
       "      <td>False</td>\n",
       "    </tr>\n",
       "    <tr>\n",
       "      <th>1216</th>\n",
       "      <td>End Game</td>\n",
       "      <td>Taylor Swift</td>\n",
       "      <td>pop</td>\n",
       "      <td>2018</td>\n",
       "      <td>159</td>\n",
       "      <td>59</td>\n",
       "      <td>65</td>\n",
       "      <td>-6</td>\n",
       "      <td>11</td>\n",
       "      <td>15</td>\n",
       "      <td>245</td>\n",
       "      <td>1</td>\n",
       "      <td>6</td>\n",
       "      <td>70</td>\n",
       "      <td>False</td>\n",
       "    </tr>\n",
       "    <tr>\n",
       "      <th>1236</th>\n",
       "      <td>...Ready For It? - BloodPop® Remix</td>\n",
       "      <td>Taylor Swift</td>\n",
       "      <td>pop</td>\n",
       "      <td>2018</td>\n",
       "      <td>160</td>\n",
       "      <td>84</td>\n",
       "      <td>58</td>\n",
       "      <td>-5</td>\n",
       "      <td>10</td>\n",
       "      <td>50</td>\n",
       "      <td>190</td>\n",
       "      <td>13</td>\n",
       "      <td>22</td>\n",
       "      <td>52</td>\n",
       "      <td>False</td>\n",
       "    </tr>\n",
       "  </tbody>\n",
       "</table>\n",
       "</div>"
      ],
      "text/plain": [
       "                                            title        artist      genre  \\\n",
       "494                      I Knew You Were Trouble.  Taylor Swift  dance pop   \n",
       "508       We Are Never Ever Getting Back Together  Taylor Swift  dance pop   \n",
       "509                                    Love Story  Taylor Swift  dance pop   \n",
       "552   Teardrops On My Guitar - Radio Single Remix  Taylor Swift  dance pop   \n",
       "645                                Wildest Dreams  Taylor Swift  dance pop   \n",
       "776                      I Knew You Were Trouble.  Taylor Swift        pop   \n",
       "780       We Are Never Ever Getting Back Together  Taylor Swift        pop   \n",
       "819       We Are Never Ever Getting Back Together  Taylor Swift        pop   \n",
       "882                                  Shake It Off  Taylor Swift        pop   \n",
       "1074                             Out Of The Woods  Taylor Swift        pop   \n",
       "1204                     Look What You Made Me Do  Taylor Swift        pop   \n",
       "1216                                     End Game  Taylor Swift        pop   \n",
       "1236           ...Ready For It? - BloodPop® Remix  Taylor Swift        pop   \n",
       "\n",
       "      year  bpm  nrgy  dnce  dB  live  val  dur  acous  spch  popularity  \\\n",
       "494   2012   77    47    62  -7     3   68  220      0     4          75   \n",
       "508   2012   86    68    63  -6    12   75  193      1     9          73   \n",
       "509   2008  119    74    62  -4     8   31  236     13     3          73   \n",
       "552   2006  100    42    62  -7    12   29  203     29     2          61   \n",
       "645   2014  140    66    55  -7    11   47  220      7     7          71   \n",
       "776   2012   77    47    62  -7     3   68  220      0     4          77   \n",
       "780   2012   86    68    63  -6    12   75  193      1     9          75   \n",
       "819   2013   86    68    63  -6    12   75  193      1     9          75   \n",
       "882   2014  160    80    65  -5    33   94  219      6    17          78   \n",
       "1074  2016   92    84    55  -7    34   34  236      0     4          66   \n",
       "1204  2018  128    71    77  -6    13   51  212     20    12          75   \n",
       "1216  2018  159    59    65  -6    11   15  245      1     6          70   \n",
       "1236  2018  160    84    58  -5    10   50  190     13    22          52   \n",
       "\n",
       "      has_win_award  \n",
       "494           False  \n",
       "508           False  \n",
       "509           False  \n",
       "552           False  \n",
       "645           False  \n",
       "776           False  \n",
       "780           False  \n",
       "819           False  \n",
       "882           False  \n",
       "1074          False  \n",
       "1204          False  \n",
       "1216          False  \n",
       "1236          False  "
      ]
     },
     "execution_count": 44,
     "metadata": {},
     "output_type": "execute_result"
    }
   ],
   "source": [
    "music = dict_artist_music(df_all)\n",
    "df_all.loc[df_all['artist'] == 'Taylor Swift']"
   ]
  },
  {
   "cell_type": "markdown",
   "id": "641ce641",
   "metadata": {},
   "source": [
    "Pengaruh durasi waktu dengan popularitas lagu"
   ]
  },
  {
   "cell_type": "code",
   "execution_count": 45,
   "id": "75046915",
   "metadata": {},
   "outputs": [],
   "source": [
    "attribute_spotify_durration_popularity = [\"dur\",\"popularity\"]"
   ]
  },
  {
   "cell_type": "code",
   "execution_count": 46,
   "id": "c753d6bc",
   "metadata": {},
   "outputs": [
    {
     "data": {
      "text/html": [
       "<div>\n",
       "<style scoped>\n",
       "    .dataframe tbody tr th:only-of-type {\n",
       "        vertical-align: middle;\n",
       "    }\n",
       "\n",
       "    .dataframe tbody tr th {\n",
       "        vertical-align: top;\n",
       "    }\n",
       "\n",
       "    .dataframe thead th {\n",
       "        text-align: right;\n",
       "    }\n",
       "</style>\n",
       "<table border=\"1\" class=\"dataframe\">\n",
       "  <thead>\n",
       "    <tr style=\"text-align: right;\">\n",
       "      <th></th>\n",
       "      <th>dur</th>\n",
       "      <th>popularity</th>\n",
       "    </tr>\n",
       "  </thead>\n",
       "  <tbody>\n",
       "    <tr>\n",
       "      <th>dur</th>\n",
       "      <td>1.00000</td>\n",
       "      <td>0.13945</td>\n",
       "    </tr>\n",
       "    <tr>\n",
       "      <th>popularity</th>\n",
       "      <td>0.13945</td>\n",
       "      <td>1.00000</td>\n",
       "    </tr>\n",
       "  </tbody>\n",
       "</table>\n",
       "</div>"
      ],
      "text/plain": [
       "                dur  popularity\n",
       "dur         1.00000     0.13945\n",
       "popularity  0.13945     1.00000"
      ]
     },
     "execution_count": 46,
     "metadata": {},
     "output_type": "execute_result"
    }
   ],
   "source": [
    "df_durr_popularity = df_all.loc[:,attribute_spotify_durration_popularity]\n",
    "df_durr_popularity.corr()"
   ]
  },
  {
   "cell_type": "markdown",
   "id": "373f77dc",
   "metadata": {},
   "source": [
    "Klasifikasi Genre Lagu"
   ]
  },
  {
   "cell_type": "code",
   "execution_count": 47,
   "id": "49a22685",
   "metadata": {},
   "outputs": [
    {
     "data": {
      "text/html": [
       "<div>\n",
       "<style scoped>\n",
       "    .dataframe tbody tr th:only-of-type {\n",
       "        vertical-align: middle;\n",
       "    }\n",
       "\n",
       "    .dataframe tbody tr th {\n",
       "        vertical-align: top;\n",
       "    }\n",
       "\n",
       "    .dataframe thead th {\n",
       "        text-align: right;\n",
       "    }\n",
       "</style>\n",
       "<table border=\"1\" class=\"dataframe\">\n",
       "  <thead>\n",
       "    <tr style=\"text-align: right;\">\n",
       "      <th></th>\n",
       "      <th>title</th>\n",
       "      <th>artist</th>\n",
       "      <th>genre</th>\n",
       "      <th>year</th>\n",
       "      <th>bpm</th>\n",
       "      <th>nrgy</th>\n",
       "      <th>dnce</th>\n",
       "      <th>dB</th>\n",
       "      <th>live</th>\n",
       "      <th>val</th>\n",
       "      <th>dur</th>\n",
       "      <th>acous</th>\n",
       "      <th>spch</th>\n",
       "      <th>popularity</th>\n",
       "      <th>has_win_award</th>\n",
       "    </tr>\n",
       "  </thead>\n",
       "  <tbody>\n",
       "    <tr>\n",
       "      <th>0</th>\n",
       "      <td>Put Your Head On My Shoulder</td>\n",
       "      <td>Paul Anka</td>\n",
       "      <td>adult standards</td>\n",
       "      <td>2000</td>\n",
       "      <td>116</td>\n",
       "      <td>34</td>\n",
       "      <td>55</td>\n",
       "      <td>-9</td>\n",
       "      <td>10</td>\n",
       "      <td>47</td>\n",
       "      <td>155</td>\n",
       "      <td>75</td>\n",
       "      <td>3</td>\n",
       "      <td>72</td>\n",
       "      <td>False</td>\n",
       "    </tr>\n",
       "    <tr>\n",
       "      <th>1</th>\n",
       "      <td>Whatever Will Be Will Be (Que Sera Sera) (with...</td>\n",
       "      <td>Doris Day</td>\n",
       "      <td>adult standards</td>\n",
       "      <td>1948</td>\n",
       "      <td>177</td>\n",
       "      <td>34</td>\n",
       "      <td>42</td>\n",
       "      <td>-11</td>\n",
       "      <td>72</td>\n",
       "      <td>78</td>\n",
       "      <td>123</td>\n",
       "      <td>86</td>\n",
       "      <td>4</td>\n",
       "      <td>62</td>\n",
       "      <td>False</td>\n",
       "    </tr>\n",
       "    <tr>\n",
       "      <th>2</th>\n",
       "      <td>Everybody Loves Somebody</td>\n",
       "      <td>Dean Martin</td>\n",
       "      <td>adult standards</td>\n",
       "      <td>2013</td>\n",
       "      <td>81</td>\n",
       "      <td>49</td>\n",
       "      <td>26</td>\n",
       "      <td>-9</td>\n",
       "      <td>34</td>\n",
       "      <td>40</td>\n",
       "      <td>162</td>\n",
       "      <td>81</td>\n",
       "      <td>4</td>\n",
       "      <td>61</td>\n",
       "      <td>False</td>\n",
       "    </tr>\n",
       "    <tr>\n",
       "      <th>3</th>\n",
       "      <td>Take Good Care Of My Baby - 1990 Remastered</td>\n",
       "      <td>Bobby Vee</td>\n",
       "      <td>adult standards</td>\n",
       "      <td>2011</td>\n",
       "      <td>82</td>\n",
       "      <td>43</td>\n",
       "      <td>49</td>\n",
       "      <td>-12</td>\n",
       "      <td>12</td>\n",
       "      <td>66</td>\n",
       "      <td>151</td>\n",
       "      <td>70</td>\n",
       "      <td>6</td>\n",
       "      <td>60</td>\n",
       "      <td>False</td>\n",
       "    </tr>\n",
       "    <tr>\n",
       "      <th>4</th>\n",
       "      <td>A Teenager In Love</td>\n",
       "      <td>Dion &amp; The Belmonts</td>\n",
       "      <td>adult standards</td>\n",
       "      <td>1959</td>\n",
       "      <td>79</td>\n",
       "      <td>38</td>\n",
       "      <td>56</td>\n",
       "      <td>-9</td>\n",
       "      <td>13</td>\n",
       "      <td>62</td>\n",
       "      <td>158</td>\n",
       "      <td>67</td>\n",
       "      <td>3</td>\n",
       "      <td>60</td>\n",
       "      <td>False</td>\n",
       "    </tr>\n",
       "  </tbody>\n",
       "</table>\n",
       "</div>"
      ],
      "text/plain": [
       "                                               title               artist  \\\n",
       "0                       Put Your Head On My Shoulder            Paul Anka   \n",
       "1  Whatever Will Be Will Be (Que Sera Sera) (with...            Doris Day   \n",
       "2                           Everybody Loves Somebody          Dean Martin   \n",
       "3        Take Good Care Of My Baby - 1990 Remastered            Bobby Vee   \n",
       "4                                 A Teenager In Love  Dion & The Belmonts   \n",
       "\n",
       "             genre  year  bpm  nrgy  dnce  dB  live  val  dur  acous  spch  \\\n",
       "0  adult standards  2000  116    34    55  -9    10   47  155     75     3   \n",
       "1  adult standards  1948  177    34    42 -11    72   78  123     86     4   \n",
       "2  adult standards  2013   81    49    26  -9    34   40  162     81     4   \n",
       "3  adult standards  2011   82    43    49 -12    12   66  151     70     6   \n",
       "4  adult standards  1959   79    38    56  -9    13   62  158     67     3   \n",
       "\n",
       "   popularity  has_win_award  \n",
       "0          72          False  \n",
       "1          62          False  \n",
       "2          61          False  \n",
       "3          60          False  \n",
       "4          60          False  "
      ]
     },
     "execution_count": 47,
     "metadata": {},
     "output_type": "execute_result"
    }
   ],
   "source": [
    "df_all_clear.head()"
   ]
  },
  {
   "cell_type": "code",
   "execution_count": 48,
   "id": "349a4e18",
   "metadata": {},
   "outputs": [],
   "source": [
    "X = df_all_clear.loc[:,attribute_spotify_high_corr]\n",
    "y = df_all_clear['genre']\n",
    "X_train, X_test, y_train, y_test = train_test_split(X, y, test_size=0.20)\n",
    "\n",
    "X_train = scaler_spotify(X_train, attribute_spotify_high_corr)\n",
    "X_test = scaler_spotify(X_test, attribute_spotify_high_corr)"
   ]
  },
  {
   "cell_type": "code",
   "execution_count": 49,
   "id": "54d359ea",
   "metadata": {},
   "outputs": [
    {
     "name": "stdout",
     "output_type": "stream",
     "text": [
      "[[12  0  0 ...  0  0  0]\n",
      " [ 0  0  0 ...  0  0  0]\n",
      " [ 0  0  0 ...  0  0  0]\n",
      " ...\n",
      " [ 0  0  0 ...  0  0  0]\n",
      " [ 0  0  0 ...  0  0  0]\n",
      " [ 1  0  0 ...  0  0  0]]\n",
      "                     precision    recall  f1-score   support\n",
      "\n",
      "    adult standards       0.29      0.67      0.41        18\n",
      "           afrobeat       0.00      0.00      0.00         1\n",
      "            afropop       0.00      0.00      0.00         0\n",
      "         album rock       0.06      0.67      0.12        12\n",
      "alternative country       0.00      0.00      0.00         1\n",
      "  alternative metal       0.00      0.00      0.00         2\n",
      "    alternative r&b       0.00      0.00      0.00         1\n",
      "   alternative rock       0.00      0.00      0.00         0\n",
      "   appalachian folk       0.00      0.00      0.00         1\n",
      "            art pop       0.00      0.00      0.00         2\n",
      "           art rock       0.00      0.00      0.00         0\n",
      "        atl hip hop       0.00      0.00      0.00         3\n",
      "   australian dance       0.00      0.00      0.00         1\n",
      "    australian rock       0.00      0.00      0.00         1\n",
      "      barbadian pop       0.00      0.00      0.00         2\n",
      "        baroque pop       0.00      0.00      0.00         0\n",
      "        belgian pop       0.00      0.00      0.00         1\n",
      "           big room       0.00      0.00      0.00         3\n",
      "              blues       0.00      0.00      0.00         0\n",
      "         blues rock       0.00      0.00      0.00         1\n",
      "           boogaloo       0.00      0.00      0.00         1\n",
      "           boy band       0.00      0.00      0.00         8\n",
      " brill building pop       0.00      0.00      0.00         4\n",
      "   british invasion       0.00      0.00      0.00         1\n",
      "       british soul       0.00      0.00      0.00         4\n",
      "      bubble trance       0.00      0.00      0.00         0\n",
      "    bubblegum dance       0.00      0.00      0.00         3\n",
      "      bubblegum pop       0.00      0.00      0.00         1\n",
      "     canadian latin       0.00      0.00      0.00         1\n",
      "       canadian pop       0.00      0.00      0.00        10\n",
      "          candy pop       0.00      0.00      0.00         1\n",
      "        chicago rap       0.00      0.00      0.00         1\n",
      "       chicago soul       0.00      0.00      0.00         0\n",
      "classic country pop       0.00      0.00      0.00         1\n",
      " classic danish pop       0.00      0.00      0.00         1\n",
      "       classic soul       0.00      0.00      0.00         2\n",
      "     classic uk pop       0.00      0.00      0.00         0\n",
      "         complextro       0.00      0.00      0.00         3\n",
      "     cowboy western       0.00      0.00      0.00         0\n",
      "          dance pop       0.30      0.04      0.07        76\n",
      "         dance rock       0.00      0.00      0.00         7\n",
      "    detroit hip hop       0.00      0.00      0.00         2\n",
      "            dfw rap       0.00      0.00      0.00         3\n",
      "    dirty south rap       0.00      0.00      0.00         1\n",
      "              disco       0.00      0.00      0.00         2\n",
      " east coast hip hop       0.00      0.00      0.00         2\n",
      "                edm       0.00      0.00      0.00         2\n",
      "            electro       0.00      0.00      0.00         1\n",
      "         electropop       0.00      0.00      0.00         5\n",
      "          eurodance       0.00      0.00      0.00         2\n",
      "            europop       0.00      0.00      0.00         3\n",
      "           folk-pop       0.00      0.00      0.00         1\n",
      "             g funk       0.00      0.00      0.00         2\n",
      "         glam metal       0.00      0.00      0.00         1\n",
      "          glam rock       0.00      0.00      0.00         7\n",
      "            hip hop       0.00      0.00      0.00         1\n",
      "            hip pop       0.00      0.00      0.00         1\n",
      "          indie pop       0.00      0.00      0.00         1\n",
      "              latin       0.00      0.00      0.00         2\n",
      "        mellow gold       0.00      0.00      0.00         2\n",
      "         merseybeat       0.00      0.00      0.00         2\n",
      "       moroccan pop       0.00      0.00      0.00         1\n",
      "         neo mellow       0.00      0.00      0.00         2\n",
      "       new wave pop       0.00      0.00      0.00         2\n",
      "     permanent wave       0.00      0.00      0.00         3\n",
      "                pop       0.00      0.00      0.00        21\n",
      "          soft rock       0.00      0.00      0.00         1\n",
      "          uk garage       0.00      0.00      0.00         1\n",
      "           yodeling       0.00      0.00      0.00         1\n",
      "\n",
      "           accuracy                           0.09       250\n",
      "          macro avg       0.01      0.02      0.01       250\n",
      "       weighted avg       0.12      0.09      0.06       250\n",
      "\n"
     ]
    },
    {
     "name": "stderr",
     "output_type": "stream",
     "text": [
      "/home/sebelum_masehi/Documents/Ilmu Komputer UI/Data Science and Analytics/tugas_akhir/tugas_akhir_spotify/env/lib/python3.9/site-packages/sklearn/metrics/_classification.py:1308: UndefinedMetricWarning: Precision and F-score are ill-defined and being set to 0.0 in labels with no predicted samples. Use `zero_division` parameter to control this behavior.\n",
      "  _warn_prf(average, modifier, msg_start, len(result))\n",
      "/home/sebelum_masehi/Documents/Ilmu Komputer UI/Data Science and Analytics/tugas_akhir/tugas_akhir_spotify/env/lib/python3.9/site-packages/sklearn/metrics/_classification.py:1308: UndefinedMetricWarning: Recall and F-score are ill-defined and being set to 0.0 in labels with no true samples. Use `zero_division` parameter to control this behavior.\n",
      "  _warn_prf(average, modifier, msg_start, len(result))\n",
      "/home/sebelum_masehi/Documents/Ilmu Komputer UI/Data Science and Analytics/tugas_akhir/tugas_akhir_spotify/env/lib/python3.9/site-packages/sklearn/metrics/_classification.py:1308: UndefinedMetricWarning: Precision and F-score are ill-defined and being set to 0.0 in labels with no predicted samples. Use `zero_division` parameter to control this behavior.\n",
      "  _warn_prf(average, modifier, msg_start, len(result))\n",
      "/home/sebelum_masehi/Documents/Ilmu Komputer UI/Data Science and Analytics/tugas_akhir/tugas_akhir_spotify/env/lib/python3.9/site-packages/sklearn/metrics/_classification.py:1308: UndefinedMetricWarning: Recall and F-score are ill-defined and being set to 0.0 in labels with no true samples. Use `zero_division` parameter to control this behavior.\n",
      "  _warn_prf(average, modifier, msg_start, len(result))\n",
      "/home/sebelum_masehi/Documents/Ilmu Komputer UI/Data Science and Analytics/tugas_akhir/tugas_akhir_spotify/env/lib/python3.9/site-packages/sklearn/metrics/_classification.py:1308: UndefinedMetricWarning: Precision and F-score are ill-defined and being set to 0.0 in labels with no predicted samples. Use `zero_division` parameter to control this behavior.\n",
      "  _warn_prf(average, modifier, msg_start, len(result))\n",
      "/home/sebelum_masehi/Documents/Ilmu Komputer UI/Data Science and Analytics/tugas_akhir/tugas_akhir_spotify/env/lib/python3.9/site-packages/sklearn/metrics/_classification.py:1308: UndefinedMetricWarning: Recall and F-score are ill-defined and being set to 0.0 in labels with no true samples. Use `zero_division` parameter to control this behavior.\n",
      "  _warn_prf(average, modifier, msg_start, len(result))\n"
     ]
    }
   ],
   "source": [
    "knn_genre = KNeighborsClassifier(n_neighbors=3)\n",
    "knn_genre.fit(X_train, y_train)\n",
    "\n",
    "y_pred = knn_genre.predict(X_test)\n",
    "\n",
    "print(confusion_matrix(y_test, y_pred))\n",
    "print(classification_report(y_test, y_pred))"
   ]
  },
  {
   "cell_type": "markdown",
   "id": "f0229406",
   "metadata": {},
   "source": [
    "Prediksi popularitas\n",
    "<br>\n",
    "Jika dilihat dari nilai korelasi yang dimiliki, maka fitur dnce, dB, dan acous miliki nilai yang tinggi"
   ]
  },
  {
   "cell_type": "code",
   "execution_count": 50,
   "id": "1a74411b",
   "metadata": {},
   "outputs": [],
   "source": [
    "attribute_spotify_popularity = ['dnce','dB','acous']\n",
    "X = np.array(df_all.loc[:,attribute_spotify_popularity])\n",
    "y = np.array(df_all.loc[:,'popularity'])\n",
    "\n",
    "lr_popularity = LinearRegression().fit(X,y)"
   ]
  },
  {
   "cell_type": "code",
   "execution_count": 51,
   "id": "9be8e520",
   "metadata": {},
   "outputs": [
    {
     "data": {
      "text/plain": [
       "0.11735633001472667"
      ]
     },
     "execution_count": 51,
     "metadata": {},
     "output_type": "execute_result"
    }
   ],
   "source": [
    "lr_popularity.score(X,y)"
   ]
  },
  {
   "cell_type": "code",
   "execution_count": 52,
   "id": "4bdc739b",
   "metadata": {},
   "outputs": [
    {
     "data": {
      "text/plain": [
       "array([ 0.08645302,  0.78733199, -0.08162317])"
      ]
     },
     "execution_count": 52,
     "metadata": {},
     "output_type": "execute_result"
    }
   ],
   "source": [
    "lr_popularity.coef_"
   ]
  },
  {
   "cell_type": "code",
   "execution_count": 53,
   "id": "ef6abbbf",
   "metadata": {},
   "outputs": [
    {
     "data": {
      "text/plain": [
       "66.81671290264777"
      ]
     },
     "execution_count": 53,
     "metadata": {},
     "output_type": "execute_result"
    }
   ],
   "source": [
    "lr_popularity.intercept_"
   ]
  },
  {
   "cell_type": "code",
   "execution_count": 54,
   "id": "1d665488",
   "metadata": {},
   "outputs": [],
   "source": [
    "label_0 = df_1980_cluster.loc[df_1980_cluster['cluster'] == 0]\n",
    "label_1 = df_1980_cluster.loc[df_1980_cluster['cluster'] == 1]\n",
    "label_2 = df_1980_cluster.loc[df_1980_cluster['cluster'] == 2]"
   ]
  },
  {
   "cell_type": "code",
   "execution_count": 55,
   "id": "581d2109",
   "metadata": {},
   "outputs": [
    {
     "data": {
      "text/plain": [
       "<function matplotlib.pyplot.show(close=None, block=None)>"
      ]
     },
     "execution_count": 55,
     "metadata": {},
     "output_type": "execute_result"
    },
    {
     "data": {
      "image/png": "[encoded data removed]",
      "text/plain": [
       "<Figure size 432x288 with 1 Axes>"
      ]
     },
     "metadata": {
      "needs_background": "light"
     },
     "output_type": "display_data"
    }
   ],
   "source": [
    "plt.scatter(label_0['nrgy'], label_0['acous'], color='red')\n",
    "plt.scatter(label_1['nrgy'], label_1['acous'], color='blue')\n",
    "plt.scatter(label_2['nrgy'], label_2['acous'], color='green')\n",
    "plt.show"
   ]
  }
 ],
 "metadata": {
  "kernelspec": {
   "display_name": "Python 3 (ipykernel)",
   "language": "python",
   "name": "python3"
  },
  "language_info": {
   "codemirror_mode": {
    "name": "ipython",
    "version": 3
   },
   "file_extension": ".py",
   "mimetype": "text/x-python",
   "name": "python",
   "nbconvert_exporter": "python",
   "pygments_lexer": "ipython3",
   "version": "3.9.7"
  }
 },
 "nbformat": 4,
 "nbformat_minor": 5
}
